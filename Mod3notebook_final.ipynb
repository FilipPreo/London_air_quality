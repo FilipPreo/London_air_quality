{
 "cells": [
  {
   "cell_type": "markdown",
   "metadata": {},
   "source": [
    "# Module 3 Project - London Air Quality analysis\n",
    "\n",
    "1. [Introduction](#intro)\n",
    "2. [Exploratory Data Analysis](#EDA)\n",
    "3. [Cleaning](#Cleaning)\n",
    "4. [Statistical Analysis](#stats)\n",
    "5. [Discussion](#disc)\n",
    "\n"
   ]
  },
  {
   "cell_type": "markdown",
   "metadata": {},
   "source": [
    "<a id='intro'></a>\n",
    "\n",
    "1. Introduction\n",
    "\n",
    "    - background about project\n",
    "    - motivation\n",
    "    - hypotheses"
   ]
  },
  {
   "cell_type": "code",
   "execution_count": 1,
   "metadata": {},
   "outputs": [],
   "source": [
    "import pandas as pd\n",
    "import numpy as np\n",
    "import statsmodels.stats as sms\n",
    "from functions import APICaller\n",
    "import seaborn as sns\n",
    "import matplotlib.pyplot as plt\n",
    "import requests as req\n",
    "import time\n",
    "import scipy.stats as stats\n",
    "sns.set_style('darkgrid')\n",
    "\n",
    "import data_cleaning"
   ]
  },
  {
   "cell_type": "code",
   "execution_count": 2,
   "metadata": {},
   "outputs": [
    {
     "data": {
      "text/plain": [
       "{'DailyAirQualityIndex': {'@MonitoringIndexDate': '2008-06-01',\n",
       "  '@TimeToLive': '22',\n",
       "  'LocalAuthority': {'@LocalAuthorityCode': '17',\n",
       "   '@LocalAuthorityName': 'Hillingdon',\n",
       "   '@LaCentreLatitude': '51.533411',\n",
       "   '@LaCentreLongitude': '-0.452568',\n",
       "   '@LaCentreLatitudeWGS84': '6716195.906043',\n",
       "   '@LaCentreLongitudeWGS84': '-50379.639309',\n",
       "   'Site': {'@BulletinDate': '2008-06-01 00:00:00',\n",
       "    '@SiteCode': 'LH0',\n",
       "    '@SiteName': 'Hillingdon - Harlington',\n",
       "    '@SiteType': 'Urban Background',\n",
       "    '@Latitude': '51.48878',\n",
       "    '@Longitude': '-0.441627',\n",
       "    '@LatitudeWGS84': '6708212.94408',\n",
       "    '@LongitudeWGS84': '-49161.6927606',\n",
       "    'Species': [{'@SpeciesCode': 'NO2',\n",
       "      '@SpeciesDescription': 'Nitrogen Dioxide',\n",
       "      '@AirQualityIndex': '1',\n",
       "      '@AirQualityBand': 'Low',\n",
       "      '@IndexSource': 'Measurement'},\n",
       "     {'@SpeciesCode': 'O3',\n",
       "      '@SpeciesDescription': 'Ozone',\n",
       "      '@AirQualityIndex': '3',\n",
       "      '@AirQualityBand': 'Low',\n",
       "      '@IndexSource': 'Measurement'}]}}}}"
      ]
     },
     "execution_count": 2,
     "metadata": {},
     "output_type": "execute_result"
    }
   ],
   "source": [
    "# first testing of data retrieval from 1st API\n",
    "location1 = 'LH0'\n",
    "date = '2008-06-01'\n",
    "url_extension = '/Daily/MonitoringIndex/SiteCode='\n",
    "openaq_caller = APICaller(base_url='http://api.erg.kcl.ac.uk/AirQuality', ignore_token=True)\n",
    "\n",
    "test_resp = openaq_caller.retrieve_one(url_extension,location=location1, date=date)\n",
    "\n",
    "test_resp"
   ]
  },
  {
   "cell_type": "code",
   "execution_count": 4,
   "metadata": {},
   "outputs": [
    {
     "name": "stdout",
     "output_type": "stream",
     "text": [
      "http://api.erg.kcl.ac.uk/AirQuality/Information/Species/Json\n"
     ]
    },
    {
     "data": {
      "text/plain": [
       "{'AirQualitySpecies': {'Species': [{'@SpeciesCode': 'CO',\n",
       "    '@SpeciesName': 'Carbon Monoxide',\n",
       "    '@Description': \"Carbon Monoxide is a colourless, odourless poisonous gas produced by incomplete, or inefficient, combustion of fuel including 'cold' or badly tuned engines.\",\n",
       "    '@HealthEffect': 'The gas affects the transport of oxygen around the body by the blood. At very high levels, this can lead to a significant reduction in the supply of oxygen to the heart, particularly in people suffering from heart disease.',\n",
       "    '@Link': 'http://www.londonair.org.uk/LondonAir/guide/WhatIsCO.aspx'},\n",
       "   {'@SpeciesCode': 'NO2',\n",
       "    '@SpeciesName': 'Nitrogen Dioxide',\n",
       "    '@Description': 'Nitrogen oxides are formed during high temperature combustion processes from the oxidation of nitrogen in the air or fuel.',\n",
       "    '@HealthEffect': 'Nitrogen Dioxide has several health impacts and includes general irritation to the eyes, irritation of the respiratory system and shortness of breath.',\n",
       "    '@Link': 'http://www.londonair.org.uk/LondonAir/guide/WhatIsNO2.aspx'},\n",
       "   {'@SpeciesCode': 'O3',\n",
       "    '@SpeciesName': 'Ozone',\n",
       "    '@Description': 'Ozone is not directly emitted, but is formed by a complex set of reactions involving nitrogen oxides and hydrocarbons in the presence of sunlight.',\n",
       "    '@HealthEffect': 'Like nitrogen dioxide, high levels of ozone can irritate and inflame the lungs. It can also cause eye irritation, migraine and coughing.',\n",
       "    '@Link': 'http://www.londonair.org.uk/LondonAir/guide/WhatIsO3.aspx'},\n",
       "   {'@SpeciesCode': 'PM10',\n",
       "    '@SpeciesName': 'PM10 Particulate',\n",
       "    '@Description': 'Larger particles in the atmosphere are generally filtered in the nose and throat and do not cause problems, but particulate matter smaller than about 10 micrometers, referred to as PM10, can settle in the bronchi and lungs and cause health problems.',\n",
       "    '@HealthEffect': 'The effects of inhaling particulate matter have been widely studied in humans and animals and include asthma, respiratory problems and cardiovascular issues.',\n",
       "    '@Link': 'http://www.londonair.org.uk/LondonAir/guide/WhatIsPM.aspx'},\n",
       "   {'@SpeciesCode': 'PM25',\n",
       "    '@SpeciesName': 'PM2.5 Particulate',\n",
       "    '@Description': 'These are particles which are less than 2.5 micrometers (a thousandth of a millimetre) in diameter. Particles are made up of many different chemicals, including toxic metals and organic compounds, some of which are highly chemically reactive and researchers consider these to be involved in the toxicological effects of particles.',\n",
       "    '@HealthEffect': 'They are thought to have a greater effect on health than larger particles as they can be carried deeper into the lungs where they can cause inflammation and worsen heart and lung diseases.',\n",
       "    '@Link': 'http://www.londonair.org.uk/LondonAir/guide/WhatIsPM.aspx'},\n",
       "   {'@SpeciesCode': 'SO2',\n",
       "    '@SpeciesName': 'Sulphur Dioxide',\n",
       "    '@Description': 'Sulphur Dioxide is produced when a material or fuel containing sulphur is burned. Pollution episodes only generally occur where there is widespread domestic use of coal or in the vicinity of coal or oil-fired power stations.',\n",
       "    '@HealthEffect': 'Short-term exposure to high levels of sulphur dioxide may cause coughing, tightening of the chest and irritation of the lungs.',\n",
       "    '@Link': 'http://www.londonair.org.uk/LondonAir/guide/WhatIsSO2.aspx'}]}}"
      ]
     },
     "execution_count": 4,
     "metadata": {},
     "output_type": "execute_result"
    }
   ],
   "source": [
    "#  retrieve name of species (pollutants);\n",
    "url_for_species = '/Information/Species/Json'\n",
    "# species_list = openaq_caller.retrieve_one(url_extension=url_for_species)\n",
    "#  http://api.erg.kcl.ac.uk/AirQuality/Information/Species/Json\n",
    "base_url='http://api.erg.kcl.ac.uk/AirQuality'\n",
    "def retrieve_one(main_url,url_extension,location=None, date=None, date1=None):  \n",
    "        if date1!=None:\n",
    "            response = req.get(main_url+url_extension+f'{location}/StartDate={date}/EndDate={date1}/Json').json()\n",
    "        elif (date!=None and date1==None):\n",
    "            response = req.get(main_url+url_extension+f'{location}/Date={date}/Json').json()\n",
    "        else:\n",
    "            print(base_url+url_extension)\n",
    "            response = req.get(main_url+url_extension).json()\n",
    "        return response\n",
    "    \n",
    "    \n",
    "retrieve_one(main_url=base_url, url_extension=url_for_species)"
   ]
  },
  {
   "cell_type": "code",
   "execution_count": 5,
   "metadata": {},
   "outputs": [
    {
     "name": "stdout",
     "output_type": "stream",
     "text": [
      "<Response [404]>\n"
     ]
    }
   ],
   "source": [
    "url_for_sites = '/MonitoringIndex/GroupName={GroupName}/Json'\n",
    "url_for_daily_1_date = '/Daily/MonitoringIndex/GroupName={GroupName}/Date=2018/06/03/Json'\n",
    "# retrieve_one(main_url=base_url, url_extension=url_for_daily_1_date, )\n",
    "\n",
    "print(req.get(base_url + url_for_sites))"
   ]
  },
  {
   "cell_type": "code",
   "execution_count": 6,
   "metadata": {},
   "outputs": [],
   "source": [
    "def retrieve_many(main_url,url_ext,location_list,species, start_date_list, end_date_list):\n",
    "        data = []\n",
    "        counter=0\n",
    "        for i in range(len(start_date_list)):\n",
    "            for location in location_list:\n",
    "                response = req.get(f'{main_url}{url_ext}/SiteCode={location}/SpeciesCode={species}/StartDate={start_date_list[i]}/EndDate={end_date_list[i]}/Json').json()\n",
    "                data.append(response)\n",
    "                counter+=1\n",
    "            data_df = pd.read_json(data)    \n",
    "            return data_df"
   ]
  },
  {
   "cell_type": "code",
   "execution_count": 7,
   "metadata": {},
   "outputs": [
    {
     "name": "stdout",
     "output_type": "stream",
     "text": [
      "<Response [404]>\n"
     ]
    }
   ],
   "source": [
    "response = req.get('http://api.erg.kcl.ac.uk/AirQuality/Data/SiteSpecies/SiteCode=CT3/SpeciesCode=NO2/StartDate=2006/05/01/EndDate=2006/05/02/csv')\n",
    "\n",
    "print(response)"
   ]
  },
  {
   "cell_type": "code",
   "execution_count": 8,
   "metadata": {
    "scrolled": true
   },
   "outputs": [
    {
     "ename": "JSONDecodeError",
     "evalue": "Unexpected UTF-8 BOM (decode using utf-8-sig): line 1 column 1 (char 0)",
     "output_type": "error",
     "traceback": [
      "\u001b[0;31m---------------------------------------------------------------------------\u001b[0m",
      "\u001b[0;31mJSONDecodeError\u001b[0m                           Traceback (most recent call last)",
      "\u001b[0;32m<ipython-input-8-51c2380484b4>\u001b[0m in \u001b[0;36m<module>\u001b[0;34m\u001b[0m\n\u001b[1;32m      7\u001b[0m \u001b[0mend_dates\u001b[0m \u001b[0;34m=\u001b[0m \u001b[0;34m[\u001b[0m\u001b[0;34m'2006/06/01'\u001b[0m\u001b[0;34m,\u001b[0m \u001b[0;34m'2006/11/01'\u001b[0m\u001b[0;34m]\u001b[0m\u001b[0;34m\u001b[0m\u001b[0;34m\u001b[0m\u001b[0m\n\u001b[1;32m      8\u001b[0m \u001b[0;34m\u001b[0m\u001b[0m\n\u001b[0;32m----> 9\u001b[0;31m \u001b[0mNO2_LEZ\u001b[0m \u001b[0;34m=\u001b[0m \u001b[0mretrieve_many\u001b[0m\u001b[0;34m(\u001b[0m\u001b[0mmain_url\u001b[0m\u001b[0;34m=\u001b[0m\u001b[0mbase_url\u001b[0m\u001b[0;34m,\u001b[0m \u001b[0murl_ext\u001b[0m \u001b[0;34m=\u001b[0m \u001b[0murl_data\u001b[0m\u001b[0;34m,\u001b[0m \u001b[0mlocation_list\u001b[0m\u001b[0;34m=\u001b[0m\u001b[0mlocation_list0\u001b[0m\u001b[0;34m,\u001b[0m \u001b[0mspecies\u001b[0m\u001b[0;34m=\u001b[0m\u001b[0mspecies_code\u001b[0m\u001b[0;34m,\u001b[0m \u001b[0mstart_date_list\u001b[0m \u001b[0;34m=\u001b[0m \u001b[0mstart_dates\u001b[0m\u001b[0;34m,\u001b[0m \u001b[0mend_date_list\u001b[0m \u001b[0;34m=\u001b[0m \u001b[0mend_dates\u001b[0m\u001b[0;34m)\u001b[0m\u001b[0;34m\u001b[0m\u001b[0;34m\u001b[0m\u001b[0m\n\u001b[0m",
      "\u001b[0;32m<ipython-input-6-063205b0da44>\u001b[0m in \u001b[0;36mretrieve_many\u001b[0;34m(main_url, url_ext, location_list, species, start_date_list, end_date_list)\u001b[0m\n\u001b[1;32m      4\u001b[0m         \u001b[0;32mfor\u001b[0m \u001b[0mi\u001b[0m \u001b[0;32min\u001b[0m \u001b[0mrange\u001b[0m\u001b[0;34m(\u001b[0m\u001b[0mlen\u001b[0m\u001b[0;34m(\u001b[0m\u001b[0mstart_date_list\u001b[0m\u001b[0;34m)\u001b[0m\u001b[0;34m)\u001b[0m\u001b[0;34m:\u001b[0m\u001b[0;34m\u001b[0m\u001b[0;34m\u001b[0m\u001b[0m\n\u001b[1;32m      5\u001b[0m             \u001b[0;32mfor\u001b[0m \u001b[0mlocation\u001b[0m \u001b[0;32min\u001b[0m \u001b[0mlocation_list\u001b[0m\u001b[0;34m:\u001b[0m\u001b[0;34m\u001b[0m\u001b[0;34m\u001b[0m\u001b[0m\n\u001b[0;32m----> 6\u001b[0;31m                 \u001b[0mresponse\u001b[0m \u001b[0;34m=\u001b[0m \u001b[0mreq\u001b[0m\u001b[0;34m.\u001b[0m\u001b[0mget\u001b[0m\u001b[0;34m(\u001b[0m\u001b[0;34mf'{main_url}{url_ext}/SiteCode={location}/SpeciesCode={species}/StartDate={start_date_list[i]}/EndDate={end_date_list[i]}/Json'\u001b[0m\u001b[0;34m)\u001b[0m\u001b[0;34m.\u001b[0m\u001b[0mjson\u001b[0m\u001b[0;34m(\u001b[0m\u001b[0;34m)\u001b[0m\u001b[0;34m\u001b[0m\u001b[0;34m\u001b[0m\u001b[0m\n\u001b[0m\u001b[1;32m      7\u001b[0m                 \u001b[0mdata\u001b[0m\u001b[0;34m.\u001b[0m\u001b[0mappend\u001b[0m\u001b[0;34m(\u001b[0m\u001b[0mresponse\u001b[0m\u001b[0;34m)\u001b[0m\u001b[0;34m\u001b[0m\u001b[0;34m\u001b[0m\u001b[0m\n\u001b[1;32m      8\u001b[0m                 \u001b[0mcounter\u001b[0m\u001b[0;34m+=\u001b[0m\u001b[0;36m1\u001b[0m\u001b[0;34m\u001b[0m\u001b[0;34m\u001b[0m\u001b[0m\n",
      "\u001b[0;32m/anaconda3/envs/learn-env/lib/python3.6/site-packages/requests/models.py\u001b[0m in \u001b[0;36mjson\u001b[0;34m(self, **kwargs)\u001b[0m\n\u001b[1;32m    895\u001b[0m                     \u001b[0;31m# used.\u001b[0m\u001b[0;34m\u001b[0m\u001b[0;34m\u001b[0m\u001b[0;34m\u001b[0m\u001b[0m\n\u001b[1;32m    896\u001b[0m                     \u001b[0;32mpass\u001b[0m\u001b[0;34m\u001b[0m\u001b[0;34m\u001b[0m\u001b[0m\n\u001b[0;32m--> 897\u001b[0;31m         \u001b[0;32mreturn\u001b[0m \u001b[0mcomplexjson\u001b[0m\u001b[0;34m.\u001b[0m\u001b[0mloads\u001b[0m\u001b[0;34m(\u001b[0m\u001b[0mself\u001b[0m\u001b[0;34m.\u001b[0m\u001b[0mtext\u001b[0m\u001b[0;34m,\u001b[0m \u001b[0;34m**\u001b[0m\u001b[0mkwargs\u001b[0m\u001b[0;34m)\u001b[0m\u001b[0;34m\u001b[0m\u001b[0;34m\u001b[0m\u001b[0m\n\u001b[0m\u001b[1;32m    898\u001b[0m \u001b[0;34m\u001b[0m\u001b[0m\n\u001b[1;32m    899\u001b[0m     \u001b[0;34m@\u001b[0m\u001b[0mproperty\u001b[0m\u001b[0;34m\u001b[0m\u001b[0;34m\u001b[0m\u001b[0m\n",
      "\u001b[0;32m/anaconda3/envs/learn-env/lib/python3.6/json/__init__.py\u001b[0m in \u001b[0;36mloads\u001b[0;34m(s, encoding, cls, object_hook, parse_float, parse_int, parse_constant, object_pairs_hook, **kw)\u001b[0m\n\u001b[1;32m    342\u001b[0m         \u001b[0;32mif\u001b[0m \u001b[0ms\u001b[0m\u001b[0;34m.\u001b[0m\u001b[0mstartswith\u001b[0m\u001b[0;34m(\u001b[0m\u001b[0;34m'\\ufeff'\u001b[0m\u001b[0;34m)\u001b[0m\u001b[0;34m:\u001b[0m\u001b[0;34m\u001b[0m\u001b[0;34m\u001b[0m\u001b[0m\n\u001b[1;32m    343\u001b[0m             raise JSONDecodeError(\"Unexpected UTF-8 BOM (decode using utf-8-sig)\",\n\u001b[0;32m--> 344\u001b[0;31m                                   s, 0)\n\u001b[0m\u001b[1;32m    345\u001b[0m     \u001b[0;32melse\u001b[0m\u001b[0;34m:\u001b[0m\u001b[0;34m\u001b[0m\u001b[0;34m\u001b[0m\u001b[0m\n\u001b[1;32m    346\u001b[0m         \u001b[0;32mif\u001b[0m \u001b[0;32mnot\u001b[0m \u001b[0misinstance\u001b[0m\u001b[0;34m(\u001b[0m\u001b[0ms\u001b[0m\u001b[0;34m,\u001b[0m \u001b[0;34m(\u001b[0m\u001b[0mbytes\u001b[0m\u001b[0;34m,\u001b[0m \u001b[0mbytearray\u001b[0m\u001b[0;34m)\u001b[0m\u001b[0;34m)\u001b[0m\u001b[0;34m:\u001b[0m\u001b[0;34m\u001b[0m\u001b[0;34m\u001b[0m\u001b[0m\n",
      "\u001b[0;31mJSONDecodeError\u001b[0m: Unexpected UTF-8 BOM (decode using utf-8-sig): line 1 column 1 (char 0)"
     ]
    }
   ],
   "source": [
    "# will set loop to run over multiple dates\n",
    "base_url='http://api.erg.kcl.ac.uk/AirQuality'\n",
    "location_list0 = ['LH0','ZR2', 'BL0', 'EN4', 'CT3', 'RI1']\n",
    "species_code='NO2'\n",
    "url_data = '/Data/SiteSpecies'\n",
    "start_dates = ['2006/05/01', '2006/10/01']\n",
    "end_dates = ['2006/06/01', '2006/11/01']\n",
    "\n",
    "NO2_LEZ = retrieve_many(main_url=base_url, url_ext = url_data, location_list=location_list0, species=species_code, start_date_list = start_dates, end_date_list = end_dates)"
   ]
  },
  {
   "cell_type": "code",
   "execution_count": 9,
   "metadata": {},
   "outputs": [],
   "source": [
    "# API failed to work after many attempts. Might go back to this. Will just use CSV downloaded data for now. "
   ]
  },
  {
   "cell_type": "markdown",
   "metadata": {},
   "source": [
    "### Data cleaning\n",
    "\n",
    "We've downloaded and have processed our data. We've initially selected data for six sites across Inner London for the LEZ testing (hypotheses 2 and 4). "
   ]
  },
  {
   "cell_type": "code",
   "execution_count": 10,
   "metadata": {},
   "outputs": [
    {
     "name": "stdout",
     "output_type": "stream",
     "text": [
      "(25260, 6)\n"
     ]
    },
    {
     "data": {
      "text/html": [
       "<div>\n",
       "<style scoped>\n",
       "    .dataframe tbody tr th:only-of-type {\n",
       "        vertical-align: middle;\n",
       "    }\n",
       "\n",
       "    .dataframe tbody tr th {\n",
       "        vertical-align: top;\n",
       "    }\n",
       "\n",
       "    .dataframe thead th {\n",
       "        text-align: right;\n",
       "    }\n",
       "</style>\n",
       "<table border=\"1\" class=\"dataframe\">\n",
       "  <thead>\n",
       "    <tr style=\"text-align: right;\">\n",
       "      <th></th>\n",
       "      <th>Site</th>\n",
       "      <th>Species</th>\n",
       "      <th>ReadingDateTime</th>\n",
       "      <th>Value</th>\n",
       "      <th>Units</th>\n",
       "      <th>Provisional or Ratified</th>\n",
       "    </tr>\n",
       "  </thead>\n",
       "  <tbody>\n",
       "    <tr>\n",
       "      <td>0</td>\n",
       "      <td>CT3</td>\n",
       "      <td>NO2</td>\n",
       "      <td>01/01/2006 00:00</td>\n",
       "      <td>37.4</td>\n",
       "      <td>ug m-3</td>\n",
       "      <td>R</td>\n",
       "    </tr>\n",
       "    <tr>\n",
       "      <td>1</td>\n",
       "      <td>CT3</td>\n",
       "      <td>NO2</td>\n",
       "      <td>02/01/2006 00:00</td>\n",
       "      <td>39.8</td>\n",
       "      <td>ug m-3</td>\n",
       "      <td>R</td>\n",
       "    </tr>\n",
       "    <tr>\n",
       "      <td>2</td>\n",
       "      <td>CT3</td>\n",
       "      <td>NO2</td>\n",
       "      <td>03/01/2006 00:00</td>\n",
       "      <td>57.5</td>\n",
       "      <td>ug m-3</td>\n",
       "      <td>R</td>\n",
       "    </tr>\n",
       "    <tr>\n",
       "      <td>3</td>\n",
       "      <td>CT3</td>\n",
       "      <td>NO2</td>\n",
       "      <td>04/01/2006 00:00</td>\n",
       "      <td>51.0</td>\n",
       "      <td>ug m-3</td>\n",
       "      <td>R</td>\n",
       "    </tr>\n",
       "    <tr>\n",
       "      <td>4</td>\n",
       "      <td>CT3</td>\n",
       "      <td>NO2</td>\n",
       "      <td>05/01/2006 00:00</td>\n",
       "      <td>50.7</td>\n",
       "      <td>ug m-3</td>\n",
       "      <td>R</td>\n",
       "    </tr>\n",
       "  </tbody>\n",
       "</table>\n",
       "</div>"
      ],
      "text/plain": [
       "  Site Species   ReadingDateTime  Value   Units Provisional or Ratified\n",
       "0  CT3     NO2  01/01/2006 00:00   37.4  ug m-3                       R\n",
       "1  CT3     NO2  02/01/2006 00:00   39.8  ug m-3                       R\n",
       "2  CT3     NO2  03/01/2006 00:00   57.5  ug m-3                       R\n",
       "3  CT3     NO2  04/01/2006 00:00   51.0  ug m-3                       R\n",
       "4  CT3     NO2  05/01/2006 00:00   50.7  ug m-3                       R"
      ]
     },
     "execution_count": 10,
     "metadata": {},
     "output_type": "execute_result"
    }
   ],
   "source": [
    "# check our original retrieved csv for NO2 \n",
    "\n",
    "df_no2 = pd.read_csv('city_no2.csv')\n",
    "print(df_no2.shape)\n",
    "df_no2.head()"
   ]
  },
  {
   "cell_type": "code",
   "execution_count": 11,
   "metadata": {},
   "outputs": [
    {
     "name": "stdout",
     "output_type": "stream",
     "text": [
      "(25260, 6)\n"
     ]
    },
    {
     "data": {
      "text/html": [
       "<div>\n",
       "<style scoped>\n",
       "    .dataframe tbody tr th:only-of-type {\n",
       "        vertical-align: middle;\n",
       "    }\n",
       "\n",
       "    .dataframe tbody tr th {\n",
       "        vertical-align: top;\n",
       "    }\n",
       "\n",
       "    .dataframe thead th {\n",
       "        text-align: right;\n",
       "    }\n",
       "</style>\n",
       "<table border=\"1\" class=\"dataframe\">\n",
       "  <thead>\n",
       "    <tr style=\"text-align: right;\">\n",
       "      <th></th>\n",
       "      <th>Site</th>\n",
       "      <th>Species</th>\n",
       "      <th>ReadingDateTime</th>\n",
       "      <th>Value</th>\n",
       "      <th>Units</th>\n",
       "      <th>Provisional or Ratified</th>\n",
       "    </tr>\n",
       "  </thead>\n",
       "  <tbody>\n",
       "    <tr>\n",
       "      <td>25255</td>\n",
       "      <td>WM6</td>\n",
       "      <td>PM10</td>\n",
       "      <td>27/10/2019 00:00</td>\n",
       "      <td>20.0</td>\n",
       "      <td>ug/m3</td>\n",
       "      <td>P</td>\n",
       "    </tr>\n",
       "    <tr>\n",
       "      <td>25256</td>\n",
       "      <td>WM6</td>\n",
       "      <td>PM10</td>\n",
       "      <td>28/10/2019 00:00</td>\n",
       "      <td>27.0</td>\n",
       "      <td>ug/m3</td>\n",
       "      <td>P</td>\n",
       "    </tr>\n",
       "    <tr>\n",
       "      <td>25257</td>\n",
       "      <td>WM6</td>\n",
       "      <td>PM10</td>\n",
       "      <td>29/10/2019 00:00</td>\n",
       "      <td>18.0</td>\n",
       "      <td>ug/m3</td>\n",
       "      <td>P</td>\n",
       "    </tr>\n",
       "    <tr>\n",
       "      <td>25258</td>\n",
       "      <td>WM6</td>\n",
       "      <td>PM10</td>\n",
       "      <td>30/10/2019 00:00</td>\n",
       "      <td>30.0</td>\n",
       "      <td>ug/m3</td>\n",
       "      <td>P</td>\n",
       "    </tr>\n",
       "    <tr>\n",
       "      <td>25259</td>\n",
       "      <td>WM6</td>\n",
       "      <td>PM10</td>\n",
       "      <td>31/10/2019 00:00</td>\n",
       "      <td>41.0</td>\n",
       "      <td>ug/m3</td>\n",
       "      <td>P</td>\n",
       "    </tr>\n",
       "  </tbody>\n",
       "</table>\n",
       "</div>"
      ],
      "text/plain": [
       "      Site Species   ReadingDateTime  Value  Units Provisional or Ratified\n",
       "25255  WM6    PM10  27/10/2019 00:00   20.0  ug/m3                       P\n",
       "25256  WM6    PM10  28/10/2019 00:00   27.0  ug/m3                       P\n",
       "25257  WM6    PM10  29/10/2019 00:00   18.0  ug/m3                       P\n",
       "25258  WM6    PM10  30/10/2019 00:00   30.0  ug/m3                       P\n",
       "25259  WM6    PM10  31/10/2019 00:00   41.0  ug/m3                       P"
      ]
     },
     "execution_count": 11,
     "metadata": {},
     "output_type": "execute_result"
    }
   ],
   "source": [
    "# check our original retrieved csv for PM10\n",
    "\n",
    "df_pm10 = pd.read_csv('city_pm10.csv')\n",
    "print(df_no2.shape)\n",
    "df_pm10.tail()"
   ]
  },
  {
   "cell_type": "code",
   "execution_count": 13,
   "metadata": {},
   "outputs": [
    {
     "data": {
      "text/html": [
       "<div>\n",
       "<style scoped>\n",
       "    .dataframe tbody tr th:only-of-type {\n",
       "        vertical-align: middle;\n",
       "    }\n",
       "\n",
       "    .dataframe tbody tr th {\n",
       "        vertical-align: top;\n",
       "    }\n",
       "\n",
       "    .dataframe thead th {\n",
       "        text-align: right;\n",
       "    }\n",
       "</style>\n",
       "<table border=\"1\" class=\"dataframe\">\n",
       "  <thead>\n",
       "    <tr style=\"text-align: right;\">\n",
       "      <th></th>\n",
       "      <th>Site</th>\n",
       "      <th>Species</th>\n",
       "      <th>ReadingDateTime</th>\n",
       "      <th>Value</th>\n",
       "      <th>Units</th>\n",
       "      <th>Year</th>\n",
       "      <th>Month</th>\n",
       "    </tr>\n",
       "  </thead>\n",
       "  <tbody>\n",
       "    <tr>\n",
       "      <td>4018</td>\n",
       "      <td>CT3</td>\n",
       "      <td>NO2</td>\n",
       "      <td>2017-01-01</td>\n",
       "      <td>26.1</td>\n",
       "      <td>ug m-3</td>\n",
       "      <td>2017</td>\n",
       "      <td>1</td>\n",
       "    </tr>\n",
       "    <tr>\n",
       "      <td>4019</td>\n",
       "      <td>CT3</td>\n",
       "      <td>NO2</td>\n",
       "      <td>2017-02-01</td>\n",
       "      <td>36.0</td>\n",
       "      <td>ug m-3</td>\n",
       "      <td>2017</td>\n",
       "      <td>2</td>\n",
       "    </tr>\n",
       "    <tr>\n",
       "      <td>4020</td>\n",
       "      <td>CT3</td>\n",
       "      <td>NO2</td>\n",
       "      <td>2017-03-01</td>\n",
       "      <td>66.3</td>\n",
       "      <td>ug m-3</td>\n",
       "      <td>2017</td>\n",
       "      <td>3</td>\n",
       "    </tr>\n",
       "    <tr>\n",
       "      <td>4021</td>\n",
       "      <td>CT3</td>\n",
       "      <td>NO2</td>\n",
       "      <td>2017-04-01</td>\n",
       "      <td>54.7</td>\n",
       "      <td>ug m-3</td>\n",
       "      <td>2017</td>\n",
       "      <td>4</td>\n",
       "    </tr>\n",
       "    <tr>\n",
       "      <td>4022</td>\n",
       "      <td>CT3</td>\n",
       "      <td>NO2</td>\n",
       "      <td>2017-05-01</td>\n",
       "      <td>72.6</td>\n",
       "      <td>ug m-3</td>\n",
       "      <td>2017</td>\n",
       "      <td>5</td>\n",
       "    </tr>\n",
       "  </tbody>\n",
       "</table>\n",
       "</div>"
      ],
      "text/plain": [
       "     Site Species ReadingDateTime  Value   Units  Year  Month\n",
       "4018  CT3     NO2      2017-01-01   26.1  ug m-3  2017      1\n",
       "4019  CT3     NO2      2017-02-01   36.0  ug m-3  2017      2\n",
       "4020  CT3     NO2      2017-03-01   66.3  ug m-3  2017      3\n",
       "4021  CT3     NO2      2017-04-01   54.7  ug m-3  2017      4\n",
       "4022  CT3     NO2      2017-05-01   72.6  ug m-3  2017      5"
      ]
     },
     "execution_count": 13,
     "metadata": {},
     "output_type": "execute_result"
    }
   ],
   "source": [
    "df_no2_clean = data_cleaning.full_clean(input_data = 'city_no2.csv',\n",
    "                                            date_column = 'ReadingDateTime', \n",
    "                                            columns_of_interest = ['Value'],\n",
    "                                            column_to_drop = 'Provisional or Ratified', \n",
    "                                            target_col = ['Year', 'Year'],\n",
    "                                            values_of_interest = [2017, 2009],\n",
    "                                            output_file_name = 'clean_data_for_testing')\n",
    "\n",
    "df_no2_clean.head()"
   ]
  },
  {
   "cell_type": "code",
   "execution_count": 14,
   "metadata": {},
   "outputs": [
    {
     "data": {
      "text/html": [
       "<div>\n",
       "<style scoped>\n",
       "    .dataframe tbody tr th:only-of-type {\n",
       "        vertical-align: middle;\n",
       "    }\n",
       "\n",
       "    .dataframe tbody tr th {\n",
       "        vertical-align: top;\n",
       "    }\n",
       "\n",
       "    .dataframe thead th {\n",
       "        text-align: right;\n",
       "    }\n",
       "</style>\n",
       "<table border=\"1\" class=\"dataframe\">\n",
       "  <thead>\n",
       "    <tr style=\"text-align: right;\">\n",
       "      <th></th>\n",
       "      <th>Site</th>\n",
       "      <th>Species</th>\n",
       "      <th>ReadingDateTime</th>\n",
       "      <th>Value</th>\n",
       "      <th>Units</th>\n",
       "      <th>Year</th>\n",
       "      <th>Month</th>\n",
       "    </tr>\n",
       "  </thead>\n",
       "  <tbody>\n",
       "    <tr>\n",
       "      <td>16612</td>\n",
       "      <td>HK6</td>\n",
       "      <td>PM10</td>\n",
       "      <td>2009-12-27</td>\n",
       "      <td>11.6</td>\n",
       "      <td>ug m-3 reference equiv by VCM</td>\n",
       "      <td>2009</td>\n",
       "      <td>12</td>\n",
       "    </tr>\n",
       "    <tr>\n",
       "      <td>16613</td>\n",
       "      <td>HK6</td>\n",
       "      <td>PM10</td>\n",
       "      <td>2009-12-28</td>\n",
       "      <td>23.4</td>\n",
       "      <td>ug m-3 reference equiv by VCM</td>\n",
       "      <td>2009</td>\n",
       "      <td>12</td>\n",
       "    </tr>\n",
       "    <tr>\n",
       "      <td>16614</td>\n",
       "      <td>HK6</td>\n",
       "      <td>PM10</td>\n",
       "      <td>2009-12-29</td>\n",
       "      <td>20.1</td>\n",
       "      <td>ug m-3 reference equiv by VCM</td>\n",
       "      <td>2009</td>\n",
       "      <td>12</td>\n",
       "    </tr>\n",
       "    <tr>\n",
       "      <td>16615</td>\n",
       "      <td>HK6</td>\n",
       "      <td>PM10</td>\n",
       "      <td>2009-12-30</td>\n",
       "      <td>14.8</td>\n",
       "      <td>ug m-3 reference equiv by VCM</td>\n",
       "      <td>2009</td>\n",
       "      <td>12</td>\n",
       "    </tr>\n",
       "    <tr>\n",
       "      <td>16616</td>\n",
       "      <td>HK6</td>\n",
       "      <td>PM10</td>\n",
       "      <td>2009-12-31</td>\n",
       "      <td>14.1</td>\n",
       "      <td>ug m-3 reference equiv by VCM</td>\n",
       "      <td>2009</td>\n",
       "      <td>12</td>\n",
       "    </tr>\n",
       "  </tbody>\n",
       "</table>\n",
       "</div>"
      ],
      "text/plain": [
       "      Site Species ReadingDateTime  Value                          Units  \\\n",
       "16612  HK6    PM10      2009-12-27   11.6  ug m-3 reference equiv by VCM   \n",
       "16613  HK6    PM10      2009-12-28   23.4  ug m-3 reference equiv by VCM   \n",
       "16614  HK6    PM10      2009-12-29   20.1  ug m-3 reference equiv by VCM   \n",
       "16615  HK6    PM10      2009-12-30   14.8  ug m-3 reference equiv by VCM   \n",
       "16616  HK6    PM10      2009-12-31   14.1  ug m-3 reference equiv by VCM   \n",
       "\n",
       "       Year  Month  \n",
       "16612  2009     12  \n",
       "16613  2009     12  \n",
       "16614  2009     12  \n",
       "16615  2009     12  \n",
       "16616  2009     12  "
      ]
     },
     "execution_count": 14,
     "metadata": {},
     "output_type": "execute_result"
    }
   ],
   "source": [
    "df_pm10_clean = data_cleaning.full_clean(input_data = 'city_pm10.csv',\n",
    "                                            date_column = 'ReadingDateTime', \n",
    "                                            columns_of_interest = ['Value'],\n",
    "                                            column_to_drop = 'Provisional or Ratified', \n",
    "                                            target_col = ['Year', 'Year'],\n",
    "                                            values_of_interest = [2017, 2009],\n",
    "                                            output_file_name = 'clean_data_for_testing')\n",
    "\n",
    "df_pm10_clean.tail()"
   ]
  },
  {
   "cell_type": "code",
   "execution_count": 15,
   "metadata": {},
   "outputs": [
    {
     "data": {
      "image/png": "[encoded data removed]",
      "text/plain": [
       "<Figure size 432x288 with 1 Axes>"
      ]
     },
     "metadata": {
      "needs_background": "light"
     },
     "output_type": "display_data"
    }
   ],
   "source": [
    "# make a frequency barplot for NO2 for year 2009 and 2017 \n",
    "\n",
    "df_no2_clean.Value.plot.hist(range=(1, 200), bins=25, color='grey')\n",
    "plt.title('NO2 Values', color = 'grey')\n",
    "plt.show()"
   ]
  },
  {
   "cell_type": "code",
   "execution_count": 16,
   "metadata": {},
   "outputs": [
    {
     "data": {
      "image/png": "[encoded data removed]",
      "text/plain": [
       "<Figure size 432x288 with 1 Axes>"
      ]
     },
     "metadata": {
      "needs_background": "light"
     },
     "output_type": "display_data"
    }
   ],
   "source": [
    "# make a frequency barplot for PM10 for year 2009 and 2017 \n",
    "\n",
    "df_pm10_clean.Value.plot.hist(range=(1, 200), bins=25, color='grey')\n",
    "plt.title('PM10 Values', color = 'grey')\n",
    "plt.show()"
   ]
  },
  {
   "cell_type": "code",
   "execution_count": 17,
   "metadata": {},
   "outputs": [
    {
     "data": {
      "text/plain": [
       "<matplotlib.legend.Legend at 0x1a2301fa90>"
      ]
     },
     "execution_count": 17,
     "metadata": {},
     "output_type": "execute_result"
    },
    {
     "data": {
      "image/png": "[encoded data removed]",
      "text/plain": [
       "<Figure size 720x504 with 1 Axes>"
      ]
     },
     "metadata": {},
     "output_type": "display_data"
    }
   ],
   "source": [
    "sns.set_color_codes('dark')\n",
    "sns.set(rc={'figure.figsize':(10,7)})\n",
    "sns.distplot(df_no2_clean.loc[df_no2_clean['Year']==2009]['Value'], color='magenta')\n",
    "sns.distplot(df_no2_clean.loc[df_no2_clean['Year']==2017]['Value'], color='cyan')\n",
    "# sns.distplot(df_pm10_new.loc[df_pm10_new['Year']==2018]['Value'], color='grey')\n",
    "plt.legend(labels=['2009', '2017'])"
   ]
  },
  {
   "cell_type": "code",
   "execution_count": 18,
   "metadata": {},
   "outputs": [
    {
     "data": {
      "text/plain": [
       "<matplotlib.legend.Legend at 0x1a231e0940>"
      ]
     },
     "execution_count": 18,
     "metadata": {},
     "output_type": "execute_result"
    },
    {
     "data": {
      "image/png": "[encoded data removed]",
      "text/plain": [
       "<Figure size 720x504 with 1 Axes>"
      ]
     },
     "metadata": {},
     "output_type": "display_data"
    }
   ],
   "source": [
    "sns.set_color_codes('dark')\n",
    "sns.set(rc={'figure.figsize':(10,7)})\n",
    "sns.distplot(df_pm10_clean.loc[df_pm10_clean['Year']==2009]['Value'], color='magenta')\n",
    "sns.distplot(df_pm10_clean.loc[df_pm10_clean['Year']==2017]['Value'], color='cyan')\n",
    "# sns.distplot(df_pm10_new.loc[df_pm10_new['Year']==2018]['Value'], color='grey')\n",
    "plt.legend(labels=['2009', '2017'])"
   ]
  },
  {
   "cell_type": "code",
   "execution_count": null,
   "metadata": {},
   "outputs": [],
   "source": [
    "# Now we make our testing samples below, for May and Oct 2006, 2009, for both the PM10 and the NO2 values. \n",
    "pre_lez_no2 = test_df_no2.loc[test_df_no2['Year']==2006]\n",
    "post_lez_no2 = test_df_no2.loc[test_df_no2['Year']==2009]\n",
    "\n",
    "pre_lez_pm10 = test_df_pm10.loc[test_df_pm10['Year']==2006]\n",
    "post_lez_pm10 = test_df_pm10.loc[test_df_pm10['Year']==2009]"
   ]
  },
  {
   "cell_type": "code",
   "execution_count": null,
   "metadata": {},
   "outputs": [],
   "source": [
    "sns.distplot(pre_lez_no2.Value,bins=20)"
   ]
  },
  {
   "cell_type": "code",
   "execution_count": null,
   "metadata": {},
   "outputs": [],
   "source": [
    "sns.distplot(pre_lez_pm10.Value,bins=20)"
   ]
  },
  {
   "cell_type": "markdown",
   "metadata": {},
   "source": [
    "## Statistical Testing"
   ]
  },
  {
   "cell_type": "markdown",
   "metadata": {},
   "source": [
    "(Mina)\n",
    "\n",
    "1. The introducton of ULEZ (8th April 2019) decreased the amount of NOx in Zone 1 of Central London by at least 42%. \n",
    "[H0] - ULEZ reduced the amount of NOx in Zone 1 by less than 42%.\n",
    "2. The introduction of ULEZ was at least 25% more effective than the introduction of LEZ (4th February 2008) in reducing NOx levels in Central London.\n",
    "[H0] - The effect of ULEZ on NOx levels was less than 25% more than the impact of LEZ. \n",
    "\n",
    "(Ioana) \n",
    "3. The introducton of ULEZ decreased the amount of PM10 in Zone 1 of Central London by at least 33%. \n",
    "[H0] - ULEZ reduced the amount of PM10 in Zone 1 by less than 33%.\n",
    "4. The introduction of ULEZ was at least 25% more effective than the introduction of LEZ in reducing PM10 levels in Central London. \n",
    "[H0] - The effect of ULEZ on PM10 levels was less than 25% more than the impact of LEZ. \n",
    "\n",
    "Our alpha values are set at 0.05."
   ]
  },
  {
   "cell_type": "code",
   "execution_count": null,
   "metadata": {},
   "outputs": [],
   "source": [
    "def sample_variance(sample):\n",
    "    return np.sum([(x - np.mean(sample))**2 for x in sample])/(len(sample)-1)\n",
    "\n",
    "def pooled_variance(sample1, sample2):\n",
    "    return ((len(sample1)-1)*sample_variance(sample1) + (len(sample2)-1)*sample_variance(sample2))/(len(sample1) + len(sample2) - 2)\n",
    "\n",
    "\n",
    "def visualize_t(t_stat, n_control, n_experimental):\n",
    "    df = len(n_experimental)-1\n",
    "    # initialize a matplotlib \"figure\"\n",
    "    fig = plt.figure(figsize=(15,10))\n",
    "    ax = fig.gca()\n",
    "    # generate points on the x axis between -4 and 4:\n",
    "    xs = np.linspace(-4,4,200)\n",
    "    # use stats.t.pdf to get values on the probability density function for the t-distribution\n",
    "    ys = stats.t.pdf(xs, df, 0, 1)\n",
    "    ax.plot(xs, ys, linewidth=3, color='darkblue')\n",
    "\n",
    "    # Draw two sided boundary for critical-t\n",
    "    ax.axvline(x=+t_stat, color='red', linestyle='--', lw=3,label='t-statistic_lower_bound')\n",
    "    ax.axvline(x=-t_stat, color='purple', linestyle='--', lw=3,label='t-statistic_upper_bound')\n",
    "    ax.legend()\n",
    "    plt.show()\n",
    "    return \n",
    "\n",
    "def Cohen_d(group1, group2):\n",
    "\n",
    "    diff = group1.mean() - group2.mean()\n",
    "    # Calculate the pooled threshold as shown earlier\n",
    "    pooled_var = pooled_variance(group1, group2)\n",
    "    \n",
    "    # Calculate Cohen's d statistic\n",
    "    d = diff / np.sqrt(pooled_var)\n",
    "    \n",
    "    return d\n",
    "\n",
    "\n",
    "def welch_t_test(sample1,sample2):\n",
    "    num = np.mean(sample1)-np.mean(sample2)\n",
    "    denom = np.sqrt((sample_variance(sample1)**2/len(sample1)) + (sample_variance(sample2)**2/len(sample2)))\n",
    "    return num/denom\n",
    " \n",
    "def welch_t(sample1, sample2):\n",
    "    numerator = np.mean(sample1) - np.mean(sample2)   \n",
    "    denominator = np.sqrt(np.var(sample1)/len(sample1) + np.var(sample2)/len(sample2))\n",
    "    return np.abs(numerator/denominator)    \n",
    "\n",
    "def welch_dof(sample1,sample2):\n",
    "    s1 = np.var(sample1)\n",
    "    s2 = np.var(sample2)\n",
    "    n1 = len(sample1)\n",
    "    n2 = len(sample2)\n",
    "    \n",
    "    num = (s1/n1 + s2/n2)**2\n",
    "    denom = (s1/n1)**2/(n1-1) + (s2/n2)**2/(n2-1)\n",
    "    return num/denom\n",
    "              \n",
    "def p_val(t_stat, df):\n",
    "    return 1-stats.t.cdf(t_stat,df)"
   ]
  },
  {
   "cell_type": "code",
   "execution_count": null,
   "metadata": {},
   "outputs": [],
   "source": [
    "p_val(welch_t(pre_lez_no2.Value, post_lez_no2.Value), welch_dof(pre_lez_no2.Value, post_lez_no2.Value))"
   ]
  },
  {
   "cell_type": "code",
   "execution_count": null,
   "metadata": {},
   "outputs": [],
   "source": [
    "p_val(welch_t(pre_lez_pm10.Value, post_lez_pm10.Value), welch_dof(pre_lez_pm10.Value, post_lez_pm10.Value))"
   ]
  },
  {
   "cell_type": "code",
   "execution_count": null,
   "metadata": {},
   "outputs": [],
   "source": [
    "stats.ttest_ind(pre_lez_no2.Value, post_lez_no2.Value, equal_var=False)"
   ]
  },
  {
   "cell_type": "code",
   "execution_count": null,
   "metadata": {},
   "outputs": [],
   "source": [
    "stats.ttest_ind(pre_lez_pm10.Value, post_lez_pm10.Value, equal_var=False)"
   ]
  },
  {
   "cell_type": "code",
   "execution_count": null,
   "metadata": {},
   "outputs": [],
   "source": [
    "lez_d_no2 = Cohen_d(pre_lez_no2.Value, post_lez_no2.Value)\n",
    "print(\"The effect of LEZ on the levels of NO2 in the Central London: \", lez_d_no2)"
   ]
  },
  {
   "cell_type": "code",
   "execution_count": null,
   "metadata": {},
   "outputs": [],
   "source": [
    "lez_d_pm10 = Cohen_d(pre_lez_pm10.Value, post_lez_pm10.Value)\n",
    "print(\"The effect of LEZ on the levels of PM10 in the Central London: \", lez_d_pm10)"
   ]
  },
  {
   "cell_type": "markdown",
   "metadata": {},
   "source": [
    "Having conducted our statistical significance test for LEZ, we conclude that there was a significant impact on NO2 levels due to LEZ, but our p-value for the PM10 levels was so large that we cannot reject the null hypothesis that LEZ had no impact on PM10. Given that we're trying to compare ULEZ to LEZ impact, we will return to the PM10 levels once we have conducted our tests on the ULEZ dates"
   ]
  },
  {
   "cell_type": "code",
   "execution_count": null,
   "metadata": {},
   "outputs": [],
   "source": []
  },
  {
   "cell_type": "code",
   "execution_count": null,
   "metadata": {},
   "outputs": [],
   "source": [
    "len(pre_ulez_no2)"
   ]
  },
  {
   "cell_type": "code",
   "execution_count": null,
   "metadata": {},
   "outputs": [],
   "source": [
    "len(post_ulez_no2)"
   ]
  },
  {
   "cell_type": "code",
   "execution_count": null,
   "metadata": {},
   "outputs": [],
   "source": [
    "len(pre_ulez_pm10)"
   ]
  },
  {
   "cell_type": "code",
   "execution_count": null,
   "metadata": {},
   "outputs": [],
   "source": [
    "len(post_ulez_pm10)"
   ]
  },
  {
   "cell_type": "code",
   "execution_count": null,
   "metadata": {},
   "outputs": [],
   "source": [
    "pre_ulez_no2.Site.value_counts()"
   ]
  },
  {
   "cell_type": "markdown",
   "metadata": {},
   "source": [
    "For our pre- and post-ULEZ comparisons we'll be using a different batch of data. "
   ]
  },
  {
   "cell_type": "code",
   "execution_count": null,
   "metadata": {},
   "outputs": [],
   "source": [
    "city_df_pm10 = pd.read_csv('city_pm10.csv')\n",
    "city_df_no2 = pd.read_csv('city_no2.csv')"
   ]
  },
  {
   "cell_type": "code",
   "execution_count": null,
   "metadata": {},
   "outputs": [],
   "source": [
    "city_df_pm10.Site.value_counts()"
   ]
  },
  {
   "cell_type": "code",
   "execution_count": null,
   "metadata": {},
   "outputs": [],
   "source": [
    "city_df_no2.Site.value_counts()"
   ]
  },
  {
   "cell_type": "code",
   "execution_count": null,
   "metadata": {},
   "outputs": [],
   "source": [
    "# cleaning the data as before\n",
    "city_df_pm10.tail()"
   ]
  },
  {
   "cell_type": "code",
   "execution_count": null,
   "metadata": {},
   "outputs": [],
   "source": [
    "len(city_df_pm10)"
   ]
  },
  {
   "cell_type": "code",
   "execution_count": null,
   "metadata": {},
   "outputs": [],
   "source": [
    "len(city_df_no2)"
   ]
  },
  {
   "cell_type": "code",
   "execution_count": null,
   "metadata": {},
   "outputs": [],
   "source": [
    "print(len(city_df_pm10.loc[city_df_pm10.Value.isna()]))\n",
    "print(len(city_df_no2.loc[city_df_no2.Value.isna()]))"
   ]
  },
  {
   "cell_type": "code",
   "execution_count": null,
   "metadata": {},
   "outputs": [],
   "source": [
    "city_df_pm10 = city_df_pm10.dropna()\n",
    "city_df_no2 = city_df_no2.dropna()\n",
    "\n",
    "# city_df_pm10 = city_df_pm10.\n",
    "\n",
    "city_df_pm10.ReadingDateTime = pd.to_datetime(city_df_pm10.ReadingDateTime)\n",
    "city_df_no2.ReadingDateTime = pd.to_datetime(city_df_no2.ReadingDateTime)\n",
    "\n",
    "city_df_pm10['Year'] = city_df_pm10.ReadingDateTime.dt.year\n",
    "city_df_no2['Year'] = city_df_no2.ReadingDateTime.dt.year\n",
    "\n",
    "city_df_pm10['Month'] = city_df_pm10.ReadingDateTime.dt.month\n",
    "city_df_no2['Month'] = city_df_no2.ReadingDateTime.dt.month\n"
   ]
  },
  {
   "cell_type": "code",
   "execution_count": null,
   "metadata": {},
   "outputs": [],
   "source": [
    "ulez_test_df_no2 = city_df_no2.loc[(city_df_no2.Month == 5)|(city_df_no2.Month == 10)].drop(columns=['ReadingDateTime','Provisional or Ratified'])\n",
    "ulez_test_df_pm10 = city_df_pm10.loc[(city_df_pm10.Month == 5)|(city_df_pm10.Month == 10)].drop(columns=['ReadingDateTime','Provisional or Ratified'])\n",
    "\n",
    "ulez_test_df_no2.tail()"
   ]
  },
  {
   "cell_type": "code",
   "execution_count": null,
   "metadata": {},
   "outputs": [],
   "source": [
    "pre_ulez_no2 = ulez_test_df_no2.loc[ulez_test_df_no2['Year']==2018]\n",
    "post_ulez_no2 = ulez_test_df_no2.loc[ulez_test_df_no2['Year']==2019]\n",
    "\n",
    "pre_ulez_pm10 = ulez_test_df_pm10.loc[ulez_test_df_pm10['Year']==2018]\n",
    "post_ulez_pm10 = ulez_test_df_pm10.loc[ulez_test_df_pm10['Year']==2019]"
   ]
  },
  {
   "cell_type": "code",
   "execution_count": null,
   "metadata": {},
   "outputs": [],
   "source": [
    "stats.ttest_ind(pre_ulez_no2.Value, post_ulez_no2.Value, equal_var=False)"
   ]
  },
  {
   "cell_type": "code",
   "execution_count": null,
   "metadata": {},
   "outputs": [],
   "source": [
    "stats.ttest_ind(pre_ulez_pm10.Value, post_ulez_pm10.Value, equal_var=False)"
   ]
  },
  {
   "cell_type": "code",
   "execution_count": null,
   "metadata": {},
   "outputs": [],
   "source": [
    "ulez_d_no2 = Cohen_d(post_ulez_no2.Value, pre_ulez_no2.Value)\n",
    "print(\"The effect of ULEZ on the levels of NO2 in the City of London: \", ulez_d_no2)"
   ]
  },
  {
   "cell_type": "code",
   "execution_count": null,
   "metadata": {},
   "outputs": [],
   "source": [
    "ulez_d_pm10 = Cohen_d(post_ulez_pm10.Value, pre_ulez_pm10.Value)\n",
    "print(\"The effect of ULEZ on the levels of PM10 in the City of London: \", ulez_d_pm10)"
   ]
  },
  {
   "cell_type": "code",
   "execution_count": null,
   "metadata": {},
   "outputs": [],
   "source": [
    "sns.distplot(pre_ulez_no2.Value,color='r')\n",
    "sns.distplot(post_ulez_no2.Value,color='b')"
   ]
  },
  {
   "cell_type": "code",
   "execution_count": null,
   "metadata": {},
   "outputs": [],
   "source": [
    "sns.distplot(pre_ulez_pm10.Value,color='r')\n",
    "sns.distplot(post_ulez_pm10.Value,color='b')"
   ]
  },
  {
   "cell_type": "code",
   "execution_count": null,
   "metadata": {},
   "outputs": [],
   "source": [
    "# Testing hypothesis nr 2:\n",
    "print('The impact of ULEZ on NO2 was ', round((ulez_d_no2/lez_d_no2)*100,1),'% more significant than LEZ.')"
   ]
  },
  {
   "cell_type": "code",
   "execution_count": null,
   "metadata": {},
   "outputs": [],
   "source": [
    "# Testing hypothesis nr 4:\n",
    "print('The impact of ULEZ on PM10 was ', round((ulez_d_pm10/lez_d_pm10)*100,1),'% more significant than LEZ.')"
   ]
  },
  {
   "cell_type": "markdown",
   "metadata": {},
   "source": [
    "Checkpoint: at the moment, given the data that we have used, we have managed to reject all four null hypotheses and go and to test the alternative hypotheses. \n",
    "HOWEVER, we have realized now that our data is not adequate for the Welch's T-test, so we will be re-running our sampling to achieve a more normal distribution."
   ]
  },
  {
   "cell_type": "code",
   "execution_count": null,
   "metadata": {},
   "outputs": [],
   "source": [
    "print(lez_d_no2)"
   ]
  },
  {
   "cell_type": "code",
   "execution_count": null,
   "metadata": {},
   "outputs": [],
   "source": [
    "print((post_lez_no2.Value.mean()-pre_lez_no2.Value.mean())/ pre_lez_no2.Value.mean())"
   ]
  },
  {
   "cell_type": "code",
   "execution_count": null,
   "metadata": {},
   "outputs": [],
   "source": [
    "print((post_lez_pm10.Value.mean()-pre_lez_pm10.Value.mean())/ pre_lez_pm10.Value.mean())"
   ]
  },
  {
   "cell_type": "code",
   "execution_count": null,
   "metadata": {},
   "outputs": [],
   "source": [
    "print((post_ulez_no2.Value.mean()-pre_ulez_no2.Value.mean())/ pre_ulez_no2.Value.mean())"
   ]
  },
  {
   "cell_type": "code",
   "execution_count": null,
   "metadata": {},
   "outputs": [],
   "source": [
    "print((post_ulez_pm10.Value.mean()-pre_ulez_pm10.Value.mean())/ pre_ulez_pm10.Value.mean())"
   ]
  },
  {
   "cell_type": "code",
   "execution_count": null,
   "metadata": {},
   "outputs": [],
   "source": [
    "len(post_ulez_no2.Value)"
   ]
  },
  {
   "cell_type": "code",
   "execution_count": null,
   "metadata": {},
   "outputs": [],
   "source": []
  }
 ],
 "metadata": {
  "kernelspec": {
   "display_name": "Python 3",
   "language": "python",
   "name": "python3"
  },
  "language_info": {
   "codemirror_mode": {
    "name": "ipython",
    "version": 3
   },
   "file_extension": ".py",
   "mimetype": "text/x-python",
   "name": "python",
   "nbconvert_exporter": "python",
   "pygments_lexer": "ipython3",
   "version": "3.6.9"
  }
 },
 "nbformat": 4,
 "nbformat_minor": 2
}
