{
 "cells": [
  {
   "cell_type": "markdown",
   "metadata": {},
   "source": [
    "# Module 3 Project - London Air Quality analysis\n",
    "\n",
    "1. [Introduction](#intro)\n",
    "2. [Exploratory Data Analysis](#EDA)\n",
    "3. [Cleaning](#Cleaning)\n",
    "4. [Statistical Analysis](#stats)\n",
    "5. [Discussion](#disc)\n",
    "\n"
   ]
  },
  {
   "cell_type": "markdown",
   "metadata": {},
   "source": [
    "<a id='intro'></a>\n",
    "\n",
    "1. Introduction\n",
    "\n",
    "    - background about project\n",
    "    - motivation\n",
    "    - hypotheses"
   ]
  },
  {
   "cell_type": "code",
   "execution_count": 1,
   "metadata": {},
   "outputs": [],
   "source": [
    "import pandas as pd\n",
    "import numpy as np\n",
    "import statsmodels.stats as sms\n",
    "# from functions import APICaller\n",
    "import seaborn as sns\n",
    "import matplotlib.pyplot as plt\n",
    "import requests as req\n",
    "import time\n",
    "import scipy.stats as stats\n",
    "sns.set_style('darkgrid')"
   ]
  },
  {
   "cell_type": "code",
   "execution_count": 2,
   "metadata": {},
   "outputs": [
    {
     "ename": "NameError",
     "evalue": "name 'APICaller' is not defined",
     "output_type": "error",
     "traceback": [
      "\u001b[0;31m---------------------------------------------------------------------------\u001b[0m",
      "\u001b[0;31mNameError\u001b[0m                                 Traceback (most recent call last)",
      "\u001b[0;32m<ipython-input-2-9327bdc6cc3d>\u001b[0m in \u001b[0;36m<module>\u001b[0;34m\u001b[0m\n\u001b[1;32m      3\u001b[0m \u001b[0mdate\u001b[0m \u001b[0;34m=\u001b[0m \u001b[0;34m'2008-06-01'\u001b[0m\u001b[0;34m\u001b[0m\u001b[0;34m\u001b[0m\u001b[0m\n\u001b[1;32m      4\u001b[0m \u001b[0murl_extension\u001b[0m \u001b[0;34m=\u001b[0m \u001b[0;34m'/Daily/MonitoringIndex/SiteCode='\u001b[0m\u001b[0;34m\u001b[0m\u001b[0;34m\u001b[0m\u001b[0m\n\u001b[0;32m----> 5\u001b[0;31m \u001b[0mopenaq_caller\u001b[0m \u001b[0;34m=\u001b[0m \u001b[0mAPICaller\u001b[0m\u001b[0;34m(\u001b[0m\u001b[0mbase_url\u001b[0m\u001b[0;34m=\u001b[0m\u001b[0;34m'http://api.erg.kcl.ac.uk/AirQuality'\u001b[0m\u001b[0;34m,\u001b[0m \u001b[0mignore_token\u001b[0m\u001b[0;34m=\u001b[0m\u001b[0;32mTrue\u001b[0m\u001b[0;34m)\u001b[0m\u001b[0;34m\u001b[0m\u001b[0;34m\u001b[0m\u001b[0m\n\u001b[0m\u001b[1;32m      6\u001b[0m \u001b[0;34m\u001b[0m\u001b[0m\n\u001b[1;32m      7\u001b[0m \u001b[0mtest_resp\u001b[0m \u001b[0;34m=\u001b[0m \u001b[0mopenaq_caller\u001b[0m\u001b[0;34m.\u001b[0m\u001b[0mretrieve_one\u001b[0m\u001b[0;34m(\u001b[0m\u001b[0murl_extension\u001b[0m\u001b[0;34m,\u001b[0m\u001b[0mlocation\u001b[0m\u001b[0;34m=\u001b[0m\u001b[0mlocation1\u001b[0m\u001b[0;34m,\u001b[0m \u001b[0mdate\u001b[0m\u001b[0;34m=\u001b[0m\u001b[0mdate\u001b[0m\u001b[0;34m)\u001b[0m\u001b[0;34m\u001b[0m\u001b[0;34m\u001b[0m\u001b[0m\n",
      "\u001b[0;31mNameError\u001b[0m: name 'APICaller' is not defined"
     ]
    }
   ],
   "source": [
    "# first testing of data retrieval from 1st API\n",
    "location1 = 'LH0'\n",
    "date = '2008-06-01'\n",
    "url_extension = '/Daily/MonitoringIndex/SiteCode='\n",
    "openaq_caller = APICaller(base_url='http://api.erg.kcl.ac.uk/AirQuality', ignore_token=True)\n",
    "\n",
    "test_resp = openaq_caller.retrieve_one(url_extension,location=location1, date=date)\n",
    "\n",
    "test_resp"
   ]
  },
  {
   "cell_type": "code",
   "execution_count": null,
   "metadata": {},
   "outputs": [],
   "source": [
    "#  retrieve name of species (pollutants);\n",
    "url_for_species = '/Information/Species/Json'\n",
    "# species_list = openaq_caller.retrieve_one(url_extension=url_for_species)\n",
    "#  http://api.erg.kcl.ac.uk/AirQuality/Information/Species/Json\n",
    "base_url='http://api.erg.kcl.ac.uk/AirQuality'\n",
    "def retrieve_one(main_url,url_extension,location=None, date=None, date1=None):  \n",
    "        if date1!=None:\n",
    "            response = req.get(main_url+url_extension+f'{location}/StartDate={date}/EndDate={date1}/Json').json()\n",
    "        elif (date!=None and date1==None):\n",
    "            response = req.get(main_url+url_extension+f'{location}/Date={date}/Json').json()\n",
    "        else:\n",
    "            print(base_url+url_extension)\n",
    "            response = req.get(main_url+url_extension).json()\n",
    "        return response\n",
    "    \n",
    "    \n",
    "retrieve_one(main_url=base_url, url_extension=url_for_species)"
   ]
  },
  {
   "cell_type": "code",
   "execution_count": null,
   "metadata": {},
   "outputs": [],
   "source": [
    "url_for_sites = '/MonitoringIndex/GroupName={GroupName}/Json'\n",
    "url_for_daily_1_date = '/Daily/MonitoringIndex/GroupName={GroupName}/Date=2018/06/03/Json'\n",
    "# retrieve_one(main_url=base_url, url_extension=url_for_daily_1_date, )\n",
    "\n",
    "print(req.get(base_url + url_for_sites))"
   ]
  },
  {
   "cell_type": "code",
   "execution_count": null,
   "metadata": {},
   "outputs": [],
   "source": [
    "def retrieve_many(main_url,url_ext,location_list,species, start_date_list, end_date_list):\n",
    "        data = []\n",
    "        counter=0\n",
    "        for i in range(len(start_date_list)):\n",
    "            for location in location_list:\n",
    "                response = req.get(f'{main_url}{url_ext}/SiteCode={location}/SpeciesCode={species}/StartDate={start_date_list[i]}/EndDate={end_date_list[i]}/Json').json()\n",
    "                data.append(response)\n",
    "                counter+=1\n",
    "            data_df = pd.read_json(data)    \n",
    "            return data_df\n",
    "    \n"
   ]
  },
  {
   "cell_type": "code",
   "execution_count": null,
   "metadata": {},
   "outputs": [],
   "source": [
    "response = req.get('http://api.erg.kcl.ac.uk/AirQuality/Data/SiteSpecies/SiteCode=CT3/SpeciesCode=NO2/StartDate=2006/05/01/EndDate=2006/05/02/csv')\n",
    "\n",
    "print(response)"
   ]
  },
  {
   "cell_type": "code",
   "execution_count": null,
   "metadata": {},
   "outputs": [],
   "source": [
    "# will set loop to run over multiple dates\n",
    "base_url='http://api.erg.kcl.ac.uk/AirQuality'\n",
    "location_list0 = ['LH0','ZR2', 'BL0', 'EN4', 'CT3', 'RI1']\n",
    "species_code='NO2'\n",
    "url_data = '/Data/SiteSpecies'\n",
    "start_dates = ['2006/05/01', '2006/10/01']\n",
    "end_dates = ['2006/06/01', '2006/11/01']\n",
    "\n",
    "NO2_LEZ = retrieve_many(main_url=base_url, url_ext = url_data, location_list=location_list0, species=species_code, start_date_list = start_dates, end_date_list = end_dates)"
   ]
  },
  {
   "cell_type": "code",
   "execution_count": null,
   "metadata": {},
   "outputs": [],
   "source": [
    "# API failed to work after many attempts. Might go back to this. Will just use CSV downloaded data for now. "
   ]
  },
  {
   "cell_type": "code",
   "execution_count": null,
   "metadata": {},
   "outputs": [],
   "source": []
  },
  {
   "cell_type": "code",
   "execution_count": 3,
   "metadata": {},
   "outputs": [
    {
     "name": "stdout",
     "output_type": "stream",
     "text": [
      "(30312, 6)\n"
     ]
    },
    {
     "data": {
      "text/html": [
       "<div>\n",
       "<style scoped>\n",
       "    .dataframe tbody tr th:only-of-type {\n",
       "        vertical-align: middle;\n",
       "    }\n",
       "\n",
       "    .dataframe tbody tr th {\n",
       "        vertical-align: top;\n",
       "    }\n",
       "\n",
       "    .dataframe thead th {\n",
       "        text-align: right;\n",
       "    }\n",
       "</style>\n",
       "<table border=\"1\" class=\"dataframe\">\n",
       "  <thead>\n",
       "    <tr style=\"text-align: right;\">\n",
       "      <th></th>\n",
       "      <th>Site</th>\n",
       "      <th>Species</th>\n",
       "      <th>ReadingDateTime</th>\n",
       "      <th>Value</th>\n",
       "      <th>Units</th>\n",
       "      <th>Provisional or Ratified</th>\n",
       "    </tr>\n",
       "  </thead>\n",
       "  <tbody>\n",
       "    <tr>\n",
       "      <td>0</td>\n",
       "      <td>CT3</td>\n",
       "      <td>NO2</td>\n",
       "      <td>01/01/2006 00:00</td>\n",
       "      <td>37.4</td>\n",
       "      <td>ug m-3</td>\n",
       "      <td>R</td>\n",
       "    </tr>\n",
       "    <tr>\n",
       "      <td>1</td>\n",
       "      <td>CT3</td>\n",
       "      <td>NO2</td>\n",
       "      <td>02/01/2006 00:00</td>\n",
       "      <td>39.8</td>\n",
       "      <td>ug m-3</td>\n",
       "      <td>R</td>\n",
       "    </tr>\n",
       "    <tr>\n",
       "      <td>2</td>\n",
       "      <td>CT3</td>\n",
       "      <td>NO2</td>\n",
       "      <td>03/01/2006 00:00</td>\n",
       "      <td>57.5</td>\n",
       "      <td>ug m-3</td>\n",
       "      <td>R</td>\n",
       "    </tr>\n",
       "    <tr>\n",
       "      <td>3</td>\n",
       "      <td>CT3</td>\n",
       "      <td>NO2</td>\n",
       "      <td>04/01/2006 00:00</td>\n",
       "      <td>51.0</td>\n",
       "      <td>ug m-3</td>\n",
       "      <td>R</td>\n",
       "    </tr>\n",
       "    <tr>\n",
       "      <td>4</td>\n",
       "      <td>CT3</td>\n",
       "      <td>NO2</td>\n",
       "      <td>05/01/2006 00:00</td>\n",
       "      <td>50.7</td>\n",
       "      <td>ug m-3</td>\n",
       "      <td>R</td>\n",
       "    </tr>\n",
       "  </tbody>\n",
       "</table>\n",
       "</div>"
      ],
      "text/plain": [
       "  Site Species   ReadingDateTime  Value   Units Provisional or Ratified\n",
       "0  CT3     NO2  01/01/2006 00:00   37.4  ug m-3                       R\n",
       "1  CT3     NO2  02/01/2006 00:00   39.8  ug m-3                       R\n",
       "2  CT3     NO2  03/01/2006 00:00   57.5  ug m-3                       R\n",
       "3  CT3     NO2  04/01/2006 00:00   51.0  ug m-3                       R\n",
       "4  CT3     NO2  05/01/2006 00:00   50.7  ug m-3                       R"
      ]
     },
     "execution_count": 3,
     "metadata": {},
     "output_type": "execute_result"
    }
   ],
   "source": [
    "df_no2 = pd.read_csv('LaqnData_no2.csv')\n",
    "print(df_no2.shape)\n",
    "df_no2.head()"
   ]
  },
  {
   "cell_type": "code",
   "execution_count": 4,
   "metadata": {},
   "outputs": [
    {
     "data": {
      "text/html": [
       "<div>\n",
       "<style scoped>\n",
       "    .dataframe tbody tr th:only-of-type {\n",
       "        vertical-align: middle;\n",
       "    }\n",
       "\n",
       "    .dataframe tbody tr th {\n",
       "        vertical-align: top;\n",
       "    }\n",
       "\n",
       "    .dataframe thead th {\n",
       "        text-align: right;\n",
       "    }\n",
       "</style>\n",
       "<table border=\"1\" class=\"dataframe\">\n",
       "  <thead>\n",
       "    <tr style=\"text-align: right;\">\n",
       "      <th></th>\n",
       "      <th>Value</th>\n",
       "    </tr>\n",
       "  </thead>\n",
       "  <tbody>\n",
       "    <tr>\n",
       "      <td>count</td>\n",
       "      <td>28078.000000</td>\n",
       "    </tr>\n",
       "    <tr>\n",
       "      <td>mean</td>\n",
       "      <td>42.255673</td>\n",
       "    </tr>\n",
       "    <tr>\n",
       "      <td>std</td>\n",
       "      <td>17.988358</td>\n",
       "    </tr>\n",
       "    <tr>\n",
       "      <td>min</td>\n",
       "      <td>3.500000</td>\n",
       "    </tr>\n",
       "    <tr>\n",
       "      <td>25%</td>\n",
       "      <td>28.900000</td>\n",
       "    </tr>\n",
       "    <tr>\n",
       "      <td>50%</td>\n",
       "      <td>40.500000</td>\n",
       "    </tr>\n",
       "    <tr>\n",
       "      <td>75%</td>\n",
       "      <td>53.300000</td>\n",
       "    </tr>\n",
       "    <tr>\n",
       "      <td>max</td>\n",
       "      <td>168.899990</td>\n",
       "    </tr>\n",
       "  </tbody>\n",
       "</table>\n",
       "</div>"
      ],
      "text/plain": [
       "              Value\n",
       "count  28078.000000\n",
       "mean      42.255673\n",
       "std       17.988358\n",
       "min        3.500000\n",
       "25%       28.900000\n",
       "50%       40.500000\n",
       "75%       53.300000\n",
       "max      168.899990"
      ]
     },
     "execution_count": 4,
     "metadata": {},
     "output_type": "execute_result"
    }
   ],
   "source": [
    "df_no2.describe()"
   ]
  },
  {
   "cell_type": "code",
   "execution_count": 5,
   "metadata": {},
   "outputs": [
    {
     "data": {
      "text/plain": [
       "CT3    5052\n",
       "RI1    5052\n",
       "BL0    5052\n",
       "EN4    5052\n",
       "LH0    5052\n",
       "ZR2    5052\n",
       "Name: Site, dtype: int64"
      ]
     },
     "execution_count": 5,
     "metadata": {},
     "output_type": "execute_result"
    }
   ],
   "source": [
    "df_no2.Site.value_counts(dropna=False)"
   ]
  },
  {
   "cell_type": "code",
   "execution_count": 6,
   "metadata": {},
   "outputs": [
    {
     "data": {
      "text/html": [
       "<div>\n",
       "<style scoped>\n",
       "    .dataframe tbody tr th:only-of-type {\n",
       "        vertical-align: middle;\n",
       "    }\n",
       "\n",
       "    .dataframe tbody tr th {\n",
       "        vertical-align: top;\n",
       "    }\n",
       "\n",
       "    .dataframe thead th {\n",
       "        text-align: right;\n",
       "    }\n",
       "</style>\n",
       "<table border=\"1\" class=\"dataframe\">\n",
       "  <thead>\n",
       "    <tr style=\"text-align: right;\">\n",
       "      <th></th>\n",
       "      <th>Site</th>\n",
       "      <th>Species</th>\n",
       "      <th>ReadingDateTime</th>\n",
       "      <th>Value</th>\n",
       "      <th>Units</th>\n",
       "      <th>Provisional or Ratified</th>\n",
       "    </tr>\n",
       "  </thead>\n",
       "  <tbody>\n",
       "    <tr>\n",
       "      <td>0</td>\n",
       "      <td>CT3</td>\n",
       "      <td>NO2</td>\n",
       "      <td>2006-01-01</td>\n",
       "      <td>37.4</td>\n",
       "      <td>ug m-3</td>\n",
       "      <td>R</td>\n",
       "    </tr>\n",
       "    <tr>\n",
       "      <td>1</td>\n",
       "      <td>CT3</td>\n",
       "      <td>NO2</td>\n",
       "      <td>2006-02-01</td>\n",
       "      <td>39.8</td>\n",
       "      <td>ug m-3</td>\n",
       "      <td>R</td>\n",
       "    </tr>\n",
       "    <tr>\n",
       "      <td>2</td>\n",
       "      <td>CT3</td>\n",
       "      <td>NO2</td>\n",
       "      <td>2006-03-01</td>\n",
       "      <td>57.5</td>\n",
       "      <td>ug m-3</td>\n",
       "      <td>R</td>\n",
       "    </tr>\n",
       "    <tr>\n",
       "      <td>3</td>\n",
       "      <td>CT3</td>\n",
       "      <td>NO2</td>\n",
       "      <td>2006-04-01</td>\n",
       "      <td>51.0</td>\n",
       "      <td>ug m-3</td>\n",
       "      <td>R</td>\n",
       "    </tr>\n",
       "    <tr>\n",
       "      <td>4</td>\n",
       "      <td>CT3</td>\n",
       "      <td>NO2</td>\n",
       "      <td>2006-05-01</td>\n",
       "      <td>50.7</td>\n",
       "      <td>ug m-3</td>\n",
       "      <td>R</td>\n",
       "    </tr>\n",
       "  </tbody>\n",
       "</table>\n",
       "</div>"
      ],
      "text/plain": [
       "  Site Species ReadingDateTime  Value   Units Provisional or Ratified\n",
       "0  CT3     NO2      2006-01-01   37.4  ug m-3                       R\n",
       "1  CT3     NO2      2006-02-01   39.8  ug m-3                       R\n",
       "2  CT3     NO2      2006-03-01   57.5  ug m-3                       R\n",
       "3  CT3     NO2      2006-04-01   51.0  ug m-3                       R\n",
       "4  CT3     NO2      2006-05-01   50.7  ug m-3                       R"
      ]
     },
     "execution_count": 6,
     "metadata": {},
     "output_type": "execute_result"
    }
   ],
   "source": [
    "# convert strings to datetime objects\n",
    "\n",
    "df_no2.ReadingDateTime = pd.to_datetime(df_no2.ReadingDateTime)\n",
    "df_no2.head()"
   ]
  },
  {
   "cell_type": "code",
   "execution_count": 7,
   "metadata": {},
   "outputs": [
    {
     "data": {
      "text/plain": [
       "Site                          0\n",
       "Species                       0\n",
       "ReadingDateTime               0\n",
       "Value                      2234\n",
       "Units                         0\n",
       "Provisional or Ratified       0\n",
       "dtype: int64"
      ]
     },
     "execution_count": 7,
     "metadata": {},
     "output_type": "execute_result"
    }
   ],
   "source": [
    "# check number of missing values\n",
    "\n",
    "df_no2.isna().sum()"
   ]
  },
  {
   "cell_type": "code",
   "execution_count": 8,
   "metadata": {},
   "outputs": [
    {
     "data": {
      "text/html": [
       "<div>\n",
       "<style scoped>\n",
       "    .dataframe tbody tr th:only-of-type {\n",
       "        vertical-align: middle;\n",
       "    }\n",
       "\n",
       "    .dataframe tbody tr th {\n",
       "        vertical-align: top;\n",
       "    }\n",
       "\n",
       "    .dataframe thead th {\n",
       "        text-align: right;\n",
       "    }\n",
       "</style>\n",
       "<table border=\"1\" class=\"dataframe\">\n",
       "  <thead>\n",
       "    <tr style=\"text-align: right;\">\n",
       "      <th></th>\n",
       "      <th>Site</th>\n",
       "      <th>Species</th>\n",
       "      <th>ReadingDateTime</th>\n",
       "      <th>Value</th>\n",
       "      <th>Units</th>\n",
       "      <th>Provisional or Ratified</th>\n",
       "    </tr>\n",
       "  </thead>\n",
       "  <tbody>\n",
       "    <tr>\n",
       "      <td>46</td>\n",
       "      <td>CT3</td>\n",
       "      <td>NO2</td>\n",
       "      <td>2006-02-16</td>\n",
       "      <td>NaN</td>\n",
       "      <td>ug m-3</td>\n",
       "      <td>R</td>\n",
       "    </tr>\n",
       "    <tr>\n",
       "      <td>47</td>\n",
       "      <td>CT3</td>\n",
       "      <td>NO2</td>\n",
       "      <td>2006-02-17</td>\n",
       "      <td>NaN</td>\n",
       "      <td>ug m-3</td>\n",
       "      <td>R</td>\n",
       "    </tr>\n",
       "    <tr>\n",
       "      <td>204</td>\n",
       "      <td>CT3</td>\n",
       "      <td>NO2</td>\n",
       "      <td>2006-07-24</td>\n",
       "      <td>NaN</td>\n",
       "      <td>ug m-3</td>\n",
       "      <td>R</td>\n",
       "    </tr>\n",
       "    <tr>\n",
       "      <td>205</td>\n",
       "      <td>CT3</td>\n",
       "      <td>NO2</td>\n",
       "      <td>2006-07-25</td>\n",
       "      <td>NaN</td>\n",
       "      <td>ug m-3</td>\n",
       "      <td>R</td>\n",
       "    </tr>\n",
       "    <tr>\n",
       "      <td>206</td>\n",
       "      <td>CT3</td>\n",
       "      <td>NO2</td>\n",
       "      <td>2006-07-26</td>\n",
       "      <td>NaN</td>\n",
       "      <td>ug m-3</td>\n",
       "      <td>R</td>\n",
       "    </tr>\n",
       "  </tbody>\n",
       "</table>\n",
       "</div>"
      ],
      "text/plain": [
       "    Site Species ReadingDateTime  Value   Units Provisional or Ratified\n",
       "46   CT3     NO2      2006-02-16    NaN  ug m-3                       R\n",
       "47   CT3     NO2      2006-02-17    NaN  ug m-3                       R\n",
       "204  CT3     NO2      2006-07-24    NaN  ug m-3                       R\n",
       "205  CT3     NO2      2006-07-25    NaN  ug m-3                       R\n",
       "206  CT3     NO2      2006-07-26    NaN  ug m-3                       R"
      ]
     },
     "execution_count": 8,
     "metadata": {},
     "output_type": "execute_result"
    }
   ],
   "source": [
    "df_no2.loc[(df_no2).Value.isnull()].head()"
   ]
  },
  {
   "cell_type": "code",
   "execution_count": 9,
   "metadata": {},
   "outputs": [
    {
     "name": "stdout",
     "output_type": "stream",
     "text": [
      "(28078, 6)\n"
     ]
    },
    {
     "data": {
      "text/html": [
       "<div>\n",
       "<style scoped>\n",
       "    .dataframe tbody tr th:only-of-type {\n",
       "        vertical-align: middle;\n",
       "    }\n",
       "\n",
       "    .dataframe tbody tr th {\n",
       "        vertical-align: top;\n",
       "    }\n",
       "\n",
       "    .dataframe thead th {\n",
       "        text-align: right;\n",
       "    }\n",
       "</style>\n",
       "<table border=\"1\" class=\"dataframe\">\n",
       "  <thead>\n",
       "    <tr style=\"text-align: right;\">\n",
       "      <th></th>\n",
       "      <th>Site</th>\n",
       "      <th>Species</th>\n",
       "      <th>ReadingDateTime</th>\n",
       "      <th>Value</th>\n",
       "      <th>Units</th>\n",
       "      <th>Provisional or Ratified</th>\n",
       "    </tr>\n",
       "  </thead>\n",
       "  <tbody>\n",
       "    <tr>\n",
       "      <td>30307</td>\n",
       "      <td>EN4</td>\n",
       "      <td>NO2</td>\n",
       "      <td>2019-10-27</td>\n",
       "      <td>31.7</td>\n",
       "      <td>ug m-3</td>\n",
       "      <td>P</td>\n",
       "    </tr>\n",
       "    <tr>\n",
       "      <td>30308</td>\n",
       "      <td>EN4</td>\n",
       "      <td>NO2</td>\n",
       "      <td>2019-10-28</td>\n",
       "      <td>41.1</td>\n",
       "      <td>ug m-3</td>\n",
       "      <td>P</td>\n",
       "    </tr>\n",
       "    <tr>\n",
       "      <td>30309</td>\n",
       "      <td>EN4</td>\n",
       "      <td>NO2</td>\n",
       "      <td>2019-10-29</td>\n",
       "      <td>39.8</td>\n",
       "      <td>ug m-3</td>\n",
       "      <td>P</td>\n",
       "    </tr>\n",
       "    <tr>\n",
       "      <td>30310</td>\n",
       "      <td>EN4</td>\n",
       "      <td>NO2</td>\n",
       "      <td>2019-10-30</td>\n",
       "      <td>38.3</td>\n",
       "      <td>ug m-3</td>\n",
       "      <td>P</td>\n",
       "    </tr>\n",
       "    <tr>\n",
       "      <td>30311</td>\n",
       "      <td>EN4</td>\n",
       "      <td>NO2</td>\n",
       "      <td>2019-10-31</td>\n",
       "      <td>38.9</td>\n",
       "      <td>ug m-3</td>\n",
       "      <td>P</td>\n",
       "    </tr>\n",
       "  </tbody>\n",
       "</table>\n",
       "</div>"
      ],
      "text/plain": [
       "      Site Species ReadingDateTime  Value   Units Provisional or Ratified\n",
       "30307  EN4     NO2      2019-10-27   31.7  ug m-3                       P\n",
       "30308  EN4     NO2      2019-10-28   41.1  ug m-3                       P\n",
       "30309  EN4     NO2      2019-10-29   39.8  ug m-3                       P\n",
       "30310  EN4     NO2      2019-10-30   38.3  ug m-3                       P\n",
       "30311  EN4     NO2      2019-10-31   38.9  ug m-3                       P"
      ]
     },
     "execution_count": 9,
     "metadata": {},
     "output_type": "execute_result"
    }
   ],
   "source": [
    "# delete the rows with Nan value for the df_no2 DataFrame\n",
    "\n",
    "df_no2.dropna(inplace=True)\n",
    "print(df_no2.shape)\n",
    "df_no2.tail()"
   ]
  },
  {
   "cell_type": "code",
   "execution_count": 10,
   "metadata": {},
   "outputs": [
    {
     "data": {
      "text/html": [
       "<div>\n",
       "<style scoped>\n",
       "    .dataframe tbody tr th:only-of-type {\n",
       "        vertical-align: middle;\n",
       "    }\n",
       "\n",
       "    .dataframe tbody tr th {\n",
       "        vertical-align: top;\n",
       "    }\n",
       "\n",
       "    .dataframe thead th {\n",
       "        text-align: right;\n",
       "    }\n",
       "</style>\n",
       "<table border=\"1\" class=\"dataframe\">\n",
       "  <thead>\n",
       "    <tr style=\"text-align: right;\">\n",
       "      <th></th>\n",
       "      <th>Site</th>\n",
       "      <th>Species</th>\n",
       "      <th>ReadingDateTime</th>\n",
       "      <th>Value</th>\n",
       "      <th>Units</th>\n",
       "      <th>Provisional or Ratified</th>\n",
       "      <th>Year</th>\n",
       "    </tr>\n",
       "  </thead>\n",
       "  <tbody>\n",
       "    <tr>\n",
       "      <td>0</td>\n",
       "      <td>CT3</td>\n",
       "      <td>NO2</td>\n",
       "      <td>2006-01-01</td>\n",
       "      <td>37.4</td>\n",
       "      <td>ug m-3</td>\n",
       "      <td>R</td>\n",
       "      <td>2006</td>\n",
       "    </tr>\n",
       "    <tr>\n",
       "      <td>1</td>\n",
       "      <td>CT3</td>\n",
       "      <td>NO2</td>\n",
       "      <td>2006-02-01</td>\n",
       "      <td>39.8</td>\n",
       "      <td>ug m-3</td>\n",
       "      <td>R</td>\n",
       "      <td>2006</td>\n",
       "    </tr>\n",
       "    <tr>\n",
       "      <td>2</td>\n",
       "      <td>CT3</td>\n",
       "      <td>NO2</td>\n",
       "      <td>2006-03-01</td>\n",
       "      <td>57.5</td>\n",
       "      <td>ug m-3</td>\n",
       "      <td>R</td>\n",
       "      <td>2006</td>\n",
       "    </tr>\n",
       "    <tr>\n",
       "      <td>3</td>\n",
       "      <td>CT3</td>\n",
       "      <td>NO2</td>\n",
       "      <td>2006-04-01</td>\n",
       "      <td>51.0</td>\n",
       "      <td>ug m-3</td>\n",
       "      <td>R</td>\n",
       "      <td>2006</td>\n",
       "    </tr>\n",
       "    <tr>\n",
       "      <td>4</td>\n",
       "      <td>CT3</td>\n",
       "      <td>NO2</td>\n",
       "      <td>2006-05-01</td>\n",
       "      <td>50.7</td>\n",
       "      <td>ug m-3</td>\n",
       "      <td>R</td>\n",
       "      <td>2006</td>\n",
       "    </tr>\n",
       "  </tbody>\n",
       "</table>\n",
       "</div>"
      ],
      "text/plain": [
       "  Site Species ReadingDateTime  Value   Units Provisional or Ratified  Year\n",
       "0  CT3     NO2      2006-01-01   37.4  ug m-3                       R  2006\n",
       "1  CT3     NO2      2006-02-01   39.8  ug m-3                       R  2006\n",
       "2  CT3     NO2      2006-03-01   57.5  ug m-3                       R  2006\n",
       "3  CT3     NO2      2006-04-01   51.0  ug m-3                       R  2006\n",
       "4  CT3     NO2      2006-05-01   50.7  ug m-3                       R  2006"
      ]
     },
     "execution_count": 10,
     "metadata": {},
     "output_type": "execute_result"
    }
   ],
   "source": [
    "# create year column\n",
    "\n",
    "df_no2['Year'] = df_no2.ReadingDateTime.dt.year\n",
    "df_no2.head()"
   ]
  },
  {
   "cell_type": "code",
   "execution_count": 11,
   "metadata": {},
   "outputs": [
    {
     "data": {
      "text/plain": [
       "R    26702\n",
       "P     1376\n",
       "Name: Provisional or Ratified, dtype: int64"
      ]
     },
     "execution_count": 11,
     "metadata": {},
     "output_type": "execute_result"
    }
   ],
   "source": [
    "df_no2['Provisional or Ratified'].value_counts()"
   ]
  },
  {
   "cell_type": "code",
   "execution_count": 12,
   "metadata": {},
   "outputs": [
    {
     "data": {
      "text/html": [
       "<div>\n",
       "<style scoped>\n",
       "    .dataframe tbody tr th:only-of-type {\n",
       "        vertical-align: middle;\n",
       "    }\n",
       "\n",
       "    .dataframe tbody tr th {\n",
       "        vertical-align: top;\n",
       "    }\n",
       "\n",
       "    .dataframe thead th {\n",
       "        text-align: right;\n",
       "    }\n",
       "</style>\n",
       "<table border=\"1\" class=\"dataframe\">\n",
       "  <thead>\n",
       "    <tr style=\"text-align: right;\">\n",
       "      <th></th>\n",
       "      <th>Value</th>\n",
       "      <th>Year</th>\n",
       "    </tr>\n",
       "  </thead>\n",
       "  <tbody>\n",
       "    <tr>\n",
       "      <td>0</td>\n",
       "      <td>37.4</td>\n",
       "      <td>2006</td>\n",
       "    </tr>\n",
       "    <tr>\n",
       "      <td>1</td>\n",
       "      <td>39.8</td>\n",
       "      <td>2006</td>\n",
       "    </tr>\n",
       "    <tr>\n",
       "      <td>2</td>\n",
       "      <td>57.5</td>\n",
       "      <td>2006</td>\n",
       "    </tr>\n",
       "    <tr>\n",
       "      <td>3</td>\n",
       "      <td>51.0</td>\n",
       "      <td>2006</td>\n",
       "    </tr>\n",
       "    <tr>\n",
       "      <td>4</td>\n",
       "      <td>50.7</td>\n",
       "      <td>2006</td>\n",
       "    </tr>\n",
       "  </tbody>\n",
       "</table>\n",
       "</div>"
      ],
      "text/plain": [
       "   Value  Year\n",
       "0   37.4  2006\n",
       "1   39.8  2006\n",
       "2   57.5  2006\n",
       "3   51.0  2006\n",
       "4   50.7  2006"
      ]
     },
     "execution_count": 12,
     "metadata": {},
     "output_type": "execute_result"
    }
   ],
   "source": [
    "# create new dataframe with only the value and year columns\n",
    "\n",
    "df_no2_new = df_no2.drop(['Site','Species','ReadingDateTime','Units','Provisional or Ratified'],axis=1)\n",
    "df_no2_new.head()"
   ]
  },
  {
   "cell_type": "code",
   "execution_count": 13,
   "metadata": {},
   "outputs": [
    {
     "data": {
      "image/png": "[encoded data removed]",
      "text/plain": [
       "<Figure size 432x288 with 1 Axes>"
      ]
     },
     "metadata": {
      "needs_background": "light"
     },
     "output_type": "display_data"
    }
   ],
   "source": [
    "# make a frequency barplot\n",
    "\n",
    "df_no2.Value.plot.hist(range=(1, 200), bins=25, color='grey')\n",
    "plt.title('NO2 Values', color = 'grey')\n",
    "plt.show()"
   ]
  },
  {
   "cell_type": "code",
   "execution_count": 14,
   "metadata": {},
   "outputs": [
    {
     "name": "stdout",
     "output_type": "stream",
     "text": [
      "(30312, 6)\n"
     ]
    },
    {
     "data": {
      "text/html": [
       "<div>\n",
       "<style scoped>\n",
       "    .dataframe tbody tr th:only-of-type {\n",
       "        vertical-align: middle;\n",
       "    }\n",
       "\n",
       "    .dataframe tbody tr th {\n",
       "        vertical-align: top;\n",
       "    }\n",
       "\n",
       "    .dataframe thead th {\n",
       "        text-align: right;\n",
       "    }\n",
       "</style>\n",
       "<table border=\"1\" class=\"dataframe\">\n",
       "  <thead>\n",
       "    <tr style=\"text-align: right;\">\n",
       "      <th></th>\n",
       "      <th>Site</th>\n",
       "      <th>Species</th>\n",
       "      <th>ReadingDateTime</th>\n",
       "      <th>Value</th>\n",
       "      <th>Units</th>\n",
       "      <th>Provisional or Ratified</th>\n",
       "    </tr>\n",
       "  </thead>\n",
       "  <tbody>\n",
       "    <tr>\n",
       "      <td>0</td>\n",
       "      <td>CT3</td>\n",
       "      <td>PM10</td>\n",
       "      <td>01/01/2006 00:00</td>\n",
       "      <td>7.0</td>\n",
       "      <td>ug/m3</td>\n",
       "      <td>R</td>\n",
       "    </tr>\n",
       "    <tr>\n",
       "      <td>1</td>\n",
       "      <td>CT3</td>\n",
       "      <td>PM10</td>\n",
       "      <td>02/01/2006 00:00</td>\n",
       "      <td>14.0</td>\n",
       "      <td>ug/m3</td>\n",
       "      <td>R</td>\n",
       "    </tr>\n",
       "    <tr>\n",
       "      <td>2</td>\n",
       "      <td>CT3</td>\n",
       "      <td>PM10</td>\n",
       "      <td>03/01/2006 00:00</td>\n",
       "      <td>19.0</td>\n",
       "      <td>ug/m3</td>\n",
       "      <td>R</td>\n",
       "    </tr>\n",
       "    <tr>\n",
       "      <td>3</td>\n",
       "      <td>CT3</td>\n",
       "      <td>PM10</td>\n",
       "      <td>04/01/2006 00:00</td>\n",
       "      <td>18.0</td>\n",
       "      <td>ug/m3</td>\n",
       "      <td>R</td>\n",
       "    </tr>\n",
       "    <tr>\n",
       "      <td>4</td>\n",
       "      <td>CT3</td>\n",
       "      <td>PM10</td>\n",
       "      <td>05/01/2006 00:00</td>\n",
       "      <td>20.0</td>\n",
       "      <td>ug/m3</td>\n",
       "      <td>R</td>\n",
       "    </tr>\n",
       "  </tbody>\n",
       "</table>\n",
       "</div>"
      ],
      "text/plain": [
       "  Site Species   ReadingDateTime  Value  Units Provisional or Ratified\n",
       "0  CT3    PM10  01/01/2006 00:00    7.0  ug/m3                       R\n",
       "1  CT3    PM10  02/01/2006 00:00   14.0  ug/m3                       R\n",
       "2  CT3    PM10  03/01/2006 00:00   19.0  ug/m3                       R\n",
       "3  CT3    PM10  04/01/2006 00:00   18.0  ug/m3                       R\n",
       "4  CT3    PM10  05/01/2006 00:00   20.0  ug/m3                       R"
      ]
     },
     "execution_count": 14,
     "metadata": {},
     "output_type": "execute_result"
    }
   ],
   "source": [
    "# create PM10 particulates DataFrame\n",
    "\n",
    "df_pm10 = pd.read_csv('LaqnData_pm10.csv')\n",
    "print(df_pm10.shape)\n",
    "df_pm10.head()"
   ]
  },
  {
   "cell_type": "code",
   "execution_count": 15,
   "metadata": {},
   "outputs": [
    {
     "data": {
      "text/plain": [
       "CT3    5052\n",
       "RI1    5052\n",
       "BL0    5052\n",
       "EN4    5052\n",
       "LH0    5052\n",
       "ZR2    5052\n",
       "Name: Site, dtype: int64"
      ]
     },
     "execution_count": 15,
     "metadata": {},
     "output_type": "execute_result"
    }
   ],
   "source": [
    "# check number of sites \n",
    "\n",
    "df_pm10.Site.value_counts(dropna=False)"
   ]
  },
  {
   "cell_type": "code",
   "execution_count": 16,
   "metadata": {},
   "outputs": [
    {
     "data": {
      "text/plain": [
       "30312"
      ]
     },
     "execution_count": 16,
     "metadata": {},
     "output_type": "execute_result"
    }
   ],
   "source": [
    "len(df_pm10)"
   ]
  },
  {
   "cell_type": "code",
   "execution_count": 17,
   "metadata": {},
   "outputs": [
    {
     "data": {
      "text/html": [
       "<div>\n",
       "<style scoped>\n",
       "    .dataframe tbody tr th:only-of-type {\n",
       "        vertical-align: middle;\n",
       "    }\n",
       "\n",
       "    .dataframe tbody tr th {\n",
       "        vertical-align: top;\n",
       "    }\n",
       "\n",
       "    .dataframe thead th {\n",
       "        text-align: right;\n",
       "    }\n",
       "</style>\n",
       "<table border=\"1\" class=\"dataframe\">\n",
       "  <thead>\n",
       "    <tr style=\"text-align: right;\">\n",
       "      <th></th>\n",
       "      <th>Site</th>\n",
       "      <th>Species</th>\n",
       "      <th>ReadingDateTime</th>\n",
       "      <th>Value</th>\n",
       "      <th>Units</th>\n",
       "      <th>Provisional or Ratified</th>\n",
       "    </tr>\n",
       "  </thead>\n",
       "  <tbody>\n",
       "    <tr>\n",
       "      <td>46</td>\n",
       "      <td>CT3</td>\n",
       "      <td>PM10</td>\n",
       "      <td>16/02/2006 00:00</td>\n",
       "      <td>NaN</td>\n",
       "      <td>ug/m3</td>\n",
       "      <td>R</td>\n",
       "    </tr>\n",
       "    <tr>\n",
       "      <td>47</td>\n",
       "      <td>CT3</td>\n",
       "      <td>PM10</td>\n",
       "      <td>17/02/2006 00:00</td>\n",
       "      <td>NaN</td>\n",
       "      <td>ug/m3</td>\n",
       "      <td>R</td>\n",
       "    </tr>\n",
       "    <tr>\n",
       "      <td>48</td>\n",
       "      <td>CT3</td>\n",
       "      <td>PM10</td>\n",
       "      <td>18/02/2006 00:00</td>\n",
       "      <td>NaN</td>\n",
       "      <td>ug/m3</td>\n",
       "      <td>R</td>\n",
       "    </tr>\n",
       "    <tr>\n",
       "      <td>49</td>\n",
       "      <td>CT3</td>\n",
       "      <td>PM10</td>\n",
       "      <td>19/02/2006 00:00</td>\n",
       "      <td>NaN</td>\n",
       "      <td>ug/m3</td>\n",
       "      <td>R</td>\n",
       "    </tr>\n",
       "    <tr>\n",
       "      <td>50</td>\n",
       "      <td>CT3</td>\n",
       "      <td>PM10</td>\n",
       "      <td>20/02/2006 00:00</td>\n",
       "      <td>NaN</td>\n",
       "      <td>ug/m3</td>\n",
       "      <td>R</td>\n",
       "    </tr>\n",
       "    <tr>\n",
       "      <td>...</td>\n",
       "      <td>...</td>\n",
       "      <td>...</td>\n",
       "      <td>...</td>\n",
       "      <td>...</td>\n",
       "      <td>...</td>\n",
       "      <td>...</td>\n",
       "    </tr>\n",
       "    <tr>\n",
       "      <td>30307</td>\n",
       "      <td>EN4</td>\n",
       "      <td>PM10</td>\n",
       "      <td>27/10/2019 00:00</td>\n",
       "      <td>NaN</td>\n",
       "      <td>ug/m3</td>\n",
       "      <td>P</td>\n",
       "    </tr>\n",
       "    <tr>\n",
       "      <td>30308</td>\n",
       "      <td>EN4</td>\n",
       "      <td>PM10</td>\n",
       "      <td>28/10/2019 00:00</td>\n",
       "      <td>NaN</td>\n",
       "      <td>ug/m3</td>\n",
       "      <td>P</td>\n",
       "    </tr>\n",
       "    <tr>\n",
       "      <td>30309</td>\n",
       "      <td>EN4</td>\n",
       "      <td>PM10</td>\n",
       "      <td>29/10/2019 00:00</td>\n",
       "      <td>NaN</td>\n",
       "      <td>ug/m3</td>\n",
       "      <td>P</td>\n",
       "    </tr>\n",
       "    <tr>\n",
       "      <td>30310</td>\n",
       "      <td>EN4</td>\n",
       "      <td>PM10</td>\n",
       "      <td>30/10/2019 00:00</td>\n",
       "      <td>NaN</td>\n",
       "      <td>ug/m3</td>\n",
       "      <td>P</td>\n",
       "    </tr>\n",
       "    <tr>\n",
       "      <td>30311</td>\n",
       "      <td>EN4</td>\n",
       "      <td>PM10</td>\n",
       "      <td>31/10/2019 00:00</td>\n",
       "      <td>NaN</td>\n",
       "      <td>ug/m3</td>\n",
       "      <td>P</td>\n",
       "    </tr>\n",
       "  </tbody>\n",
       "</table>\n",
       "<p>4748 rows × 6 columns</p>\n",
       "</div>"
      ],
      "text/plain": [
       "      Site Species   ReadingDateTime  Value  Units Provisional or Ratified\n",
       "46     CT3    PM10  16/02/2006 00:00    NaN  ug/m3                       R\n",
       "47     CT3    PM10  17/02/2006 00:00    NaN  ug/m3                       R\n",
       "48     CT3    PM10  18/02/2006 00:00    NaN  ug/m3                       R\n",
       "49     CT3    PM10  19/02/2006 00:00    NaN  ug/m3                       R\n",
       "50     CT3    PM10  20/02/2006 00:00    NaN  ug/m3                       R\n",
       "...    ...     ...               ...    ...    ...                     ...\n",
       "30307  EN4    PM10  27/10/2019 00:00    NaN  ug/m3                       P\n",
       "30308  EN4    PM10  28/10/2019 00:00    NaN  ug/m3                       P\n",
       "30309  EN4    PM10  29/10/2019 00:00    NaN  ug/m3                       P\n",
       "30310  EN4    PM10  30/10/2019 00:00    NaN  ug/m3                       P\n",
       "30311  EN4    PM10  31/10/2019 00:00    NaN  ug/m3                       P\n",
       "\n",
       "[4748 rows x 6 columns]"
      ]
     },
     "execution_count": 17,
     "metadata": {},
     "output_type": "execute_result"
    }
   ],
   "source": [
    "df_pm10.loc[df_pm10.Value.isna()]\n",
    "# given that we have ~4600 NaN values amongst nearly 30k values, we can drop them"
   ]
  },
  {
   "cell_type": "code",
   "execution_count": 18,
   "metadata": {},
   "outputs": [],
   "source": [
    "df_pm10 = df_pm10.dropna()"
   ]
  },
  {
   "cell_type": "code",
   "execution_count": 19,
   "metadata": {},
   "outputs": [
    {
     "data": {
      "text/html": [
       "<div>\n",
       "<style scoped>\n",
       "    .dataframe tbody tr th:only-of-type {\n",
       "        vertical-align: middle;\n",
       "    }\n",
       "\n",
       "    .dataframe tbody tr th {\n",
       "        vertical-align: top;\n",
       "    }\n",
       "\n",
       "    .dataframe thead th {\n",
       "        text-align: right;\n",
       "    }\n",
       "</style>\n",
       "<table border=\"1\" class=\"dataframe\">\n",
       "  <thead>\n",
       "    <tr style=\"text-align: right;\">\n",
       "      <th></th>\n",
       "      <th>Site</th>\n",
       "      <th>Species</th>\n",
       "      <th>ReadingDateTime</th>\n",
       "      <th>Value</th>\n",
       "      <th>Units</th>\n",
       "      <th>Provisional or Ratified</th>\n",
       "    </tr>\n",
       "  </thead>\n",
       "  <tbody>\n",
       "  </tbody>\n",
       "</table>\n",
       "</div>"
      ],
      "text/plain": [
       "Empty DataFrame\n",
       "Columns: [Site, Species, ReadingDateTime, Value, Units, Provisional or Ratified]\n",
       "Index: []"
      ]
     },
     "execution_count": 19,
     "metadata": {},
     "output_type": "execute_result"
    }
   ],
   "source": [
    "df_pm10.loc[df_pm10.Value.isna()]\n"
   ]
  },
  {
   "cell_type": "code",
   "execution_count": 20,
   "metadata": {},
   "outputs": [
    {
     "data": {
      "text/html": [
       "<div>\n",
       "<style scoped>\n",
       "    .dataframe tbody tr th:only-of-type {\n",
       "        vertical-align: middle;\n",
       "    }\n",
       "\n",
       "    .dataframe tbody tr th {\n",
       "        vertical-align: top;\n",
       "    }\n",
       "\n",
       "    .dataframe thead th {\n",
       "        text-align: right;\n",
       "    }\n",
       "</style>\n",
       "<table border=\"1\" class=\"dataframe\">\n",
       "  <thead>\n",
       "    <tr style=\"text-align: right;\">\n",
       "      <th></th>\n",
       "      <th>Site</th>\n",
       "      <th>Species</th>\n",
       "      <th>ReadingDateTime</th>\n",
       "      <th>Value</th>\n",
       "      <th>Units</th>\n",
       "      <th>Provisional or Ratified</th>\n",
       "    </tr>\n",
       "  </thead>\n",
       "  <tbody>\n",
       "    <tr>\n",
       "      <td>0</td>\n",
       "      <td>CT3</td>\n",
       "      <td>PM10</td>\n",
       "      <td>2006-01-01</td>\n",
       "      <td>7.0</td>\n",
       "      <td>ug/m3</td>\n",
       "      <td>R</td>\n",
       "    </tr>\n",
       "    <tr>\n",
       "      <td>1</td>\n",
       "      <td>CT3</td>\n",
       "      <td>PM10</td>\n",
       "      <td>2006-02-01</td>\n",
       "      <td>14.0</td>\n",
       "      <td>ug/m3</td>\n",
       "      <td>R</td>\n",
       "    </tr>\n",
       "    <tr>\n",
       "      <td>2</td>\n",
       "      <td>CT3</td>\n",
       "      <td>PM10</td>\n",
       "      <td>2006-03-01</td>\n",
       "      <td>19.0</td>\n",
       "      <td>ug/m3</td>\n",
       "      <td>R</td>\n",
       "    </tr>\n",
       "    <tr>\n",
       "      <td>3</td>\n",
       "      <td>CT3</td>\n",
       "      <td>PM10</td>\n",
       "      <td>2006-04-01</td>\n",
       "      <td>18.0</td>\n",
       "      <td>ug/m3</td>\n",
       "      <td>R</td>\n",
       "    </tr>\n",
       "    <tr>\n",
       "      <td>4</td>\n",
       "      <td>CT3</td>\n",
       "      <td>PM10</td>\n",
       "      <td>2006-05-01</td>\n",
       "      <td>20.0</td>\n",
       "      <td>ug/m3</td>\n",
       "      <td>R</td>\n",
       "    </tr>\n",
       "  </tbody>\n",
       "</table>\n",
       "</div>"
      ],
      "text/plain": [
       "  Site Species ReadingDateTime  Value  Units Provisional or Ratified\n",
       "0  CT3    PM10      2006-01-01    7.0  ug/m3                       R\n",
       "1  CT3    PM10      2006-02-01   14.0  ug/m3                       R\n",
       "2  CT3    PM10      2006-03-01   19.0  ug/m3                       R\n",
       "3  CT3    PM10      2006-04-01   18.0  ug/m3                       R\n",
       "4  CT3    PM10      2006-05-01   20.0  ug/m3                       R"
      ]
     },
     "execution_count": 20,
     "metadata": {},
     "output_type": "execute_result"
    }
   ],
   "source": [
    "df_pm10.ReadingDateTime = pd.to_datetime(df_pm10.ReadingDateTime)\n",
    "df_pm10.head()"
   ]
  },
  {
   "cell_type": "code",
   "execution_count": 21,
   "metadata": {},
   "outputs": [
    {
     "data": {
      "text/html": [
       "<div>\n",
       "<style scoped>\n",
       "    .dataframe tbody tr th:only-of-type {\n",
       "        vertical-align: middle;\n",
       "    }\n",
       "\n",
       "    .dataframe tbody tr th {\n",
       "        vertical-align: top;\n",
       "    }\n",
       "\n",
       "    .dataframe thead th {\n",
       "        text-align: right;\n",
       "    }\n",
       "</style>\n",
       "<table border=\"1\" class=\"dataframe\">\n",
       "  <thead>\n",
       "    <tr style=\"text-align: right;\">\n",
       "      <th></th>\n",
       "      <th>Site</th>\n",
       "      <th>Species</th>\n",
       "      <th>ReadingDateTime</th>\n",
       "      <th>Value</th>\n",
       "      <th>Units</th>\n",
       "      <th>Provisional or Ratified</th>\n",
       "      <th>Year</th>\n",
       "    </tr>\n",
       "  </thead>\n",
       "  <tbody>\n",
       "    <tr>\n",
       "      <td>0</td>\n",
       "      <td>CT3</td>\n",
       "      <td>PM10</td>\n",
       "      <td>2006-01-01</td>\n",
       "      <td>7.0</td>\n",
       "      <td>ug/m3</td>\n",
       "      <td>R</td>\n",
       "      <td>2006</td>\n",
       "    </tr>\n",
       "    <tr>\n",
       "      <td>1</td>\n",
       "      <td>CT3</td>\n",
       "      <td>PM10</td>\n",
       "      <td>2006-02-01</td>\n",
       "      <td>14.0</td>\n",
       "      <td>ug/m3</td>\n",
       "      <td>R</td>\n",
       "      <td>2006</td>\n",
       "    </tr>\n",
       "    <tr>\n",
       "      <td>2</td>\n",
       "      <td>CT3</td>\n",
       "      <td>PM10</td>\n",
       "      <td>2006-03-01</td>\n",
       "      <td>19.0</td>\n",
       "      <td>ug/m3</td>\n",
       "      <td>R</td>\n",
       "      <td>2006</td>\n",
       "    </tr>\n",
       "    <tr>\n",
       "      <td>3</td>\n",
       "      <td>CT3</td>\n",
       "      <td>PM10</td>\n",
       "      <td>2006-04-01</td>\n",
       "      <td>18.0</td>\n",
       "      <td>ug/m3</td>\n",
       "      <td>R</td>\n",
       "      <td>2006</td>\n",
       "    </tr>\n",
       "    <tr>\n",
       "      <td>4</td>\n",
       "      <td>CT3</td>\n",
       "      <td>PM10</td>\n",
       "      <td>2006-05-01</td>\n",
       "      <td>20.0</td>\n",
       "      <td>ug/m3</td>\n",
       "      <td>R</td>\n",
       "      <td>2006</td>\n",
       "    </tr>\n",
       "  </tbody>\n",
       "</table>\n",
       "</div>"
      ],
      "text/plain": [
       "  Site Species ReadingDateTime  Value  Units Provisional or Ratified  Year\n",
       "0  CT3    PM10      2006-01-01    7.0  ug/m3                       R  2006\n",
       "1  CT3    PM10      2006-02-01   14.0  ug/m3                       R  2006\n",
       "2  CT3    PM10      2006-03-01   19.0  ug/m3                       R  2006\n",
       "3  CT3    PM10      2006-04-01   18.0  ug/m3                       R  2006\n",
       "4  CT3    PM10      2006-05-01   20.0  ug/m3                       R  2006"
      ]
     },
     "execution_count": 21,
     "metadata": {},
     "output_type": "execute_result"
    }
   ],
   "source": [
    "df_pm10['Year'] = df_pm10.ReadingDateTime.dt.year\n",
    "df_pm10.head()"
   ]
  },
  {
   "cell_type": "code",
   "execution_count": 22,
   "metadata": {},
   "outputs": [
    {
     "data": {
      "text/html": [
       "<div>\n",
       "<style scoped>\n",
       "    .dataframe tbody tr th:only-of-type {\n",
       "        vertical-align: middle;\n",
       "    }\n",
       "\n",
       "    .dataframe tbody tr th {\n",
       "        vertical-align: top;\n",
       "    }\n",
       "\n",
       "    .dataframe thead th {\n",
       "        text-align: right;\n",
       "    }\n",
       "</style>\n",
       "<table border=\"1\" class=\"dataframe\">\n",
       "  <thead>\n",
       "    <tr style=\"text-align: right;\">\n",
       "      <th></th>\n",
       "      <th>Value</th>\n",
       "      <th>Year</th>\n",
       "    </tr>\n",
       "  </thead>\n",
       "  <tbody>\n",
       "    <tr>\n",
       "      <td>0</td>\n",
       "      <td>7.0</td>\n",
       "      <td>2006</td>\n",
       "    </tr>\n",
       "    <tr>\n",
       "      <td>1</td>\n",
       "      <td>14.0</td>\n",
       "      <td>2006</td>\n",
       "    </tr>\n",
       "    <tr>\n",
       "      <td>2</td>\n",
       "      <td>19.0</td>\n",
       "      <td>2006</td>\n",
       "    </tr>\n",
       "    <tr>\n",
       "      <td>3</td>\n",
       "      <td>18.0</td>\n",
       "      <td>2006</td>\n",
       "    </tr>\n",
       "    <tr>\n",
       "      <td>4</td>\n",
       "      <td>20.0</td>\n",
       "      <td>2006</td>\n",
       "    </tr>\n",
       "  </tbody>\n",
       "</table>\n",
       "</div>"
      ],
      "text/plain": [
       "   Value  Year\n",
       "0    7.0  2006\n",
       "1   14.0  2006\n",
       "2   19.0  2006\n",
       "3   18.0  2006\n",
       "4   20.0  2006"
      ]
     },
     "execution_count": 22,
     "metadata": {},
     "output_type": "execute_result"
    }
   ],
   "source": [
    "# create new dataframe with only the value and year columns\n",
    "\n",
    "df_pm10_new = df_pm10.drop(['Site','Species','ReadingDateTime','Units','Provisional or Ratified'],axis=1)\n",
    "df_pm10_new.head()"
   ]
  },
  {
   "cell_type": "code",
   "execution_count": 23,
   "metadata": {},
   "outputs": [
    {
     "data": {
      "text/plain": [
       "<matplotlib.axes._subplots.AxesSubplot at 0x1a1859d4a8>"
      ]
     },
     "execution_count": 23,
     "metadata": {},
     "output_type": "execute_result"
    },
    {
     "data": {
      "image/png": "[encoded data removed]",
      "text/plain": [
       "<Figure size 432x288 with 1 Axes>"
      ]
     },
     "metadata": {
      "needs_background": "light"
     },
     "output_type": "display_data"
    }
   ],
   "source": [
    "df_pm10_new['Year'].plot.hist()\n",
    "# given that the data across time is non-uniform, for unknown reasons, we'll be trying to select pre- and post-ULEZ \n",
    "# data from 2006,2010,2014 and 2018"
   ]
  },
  {
   "cell_type": "code",
   "execution_count": 24,
   "metadata": {},
   "outputs": [
    {
     "data": {
      "text/plain": [
       "<matplotlib.legend.Legend at 0x1a17dd9ba8>"
      ]
     },
     "execution_count": 24,
     "metadata": {},
     "output_type": "execute_result"
    },
    {
     "data": {
      "image/png": "[encoded data removed]",
      "text/plain": [
       "<Figure size 720x504 with 1 Axes>"
      ]
     },
     "metadata": {},
     "output_type": "display_data"
    }
   ],
   "source": [
    "sns.set_color_codes('dark')\n",
    "sns.set(rc={'figure.figsize':(10,7)})\n",
    "sns.distplot(df_pm10_new.loc[df_pm10_new['Year']==2006]['Value'], color='magenta')\n",
    "sns.distplot(df_pm10_new.loc[df_pm10_new['Year']==2012]['Value'], color='cyan')\n",
    "sns.distplot(df_pm10_new.loc[df_pm10_new['Year']==2018]['Value'], color='grey')\n",
    "plt.legend(labels=['2006', '2012', '2018'])"
   ]
  },
  {
   "cell_type": "code",
   "execution_count": 25,
   "metadata": {},
   "outputs": [
    {
     "data": {
      "text/plain": [
       "<matplotlib.axes._subplots.AxesSubplot at 0x1a17fe0be0>"
      ]
     },
     "execution_count": 25,
     "metadata": {},
     "output_type": "execute_result"
    },
    {
     "data": {
      "image/png": "[encoded data removed]",
      "text/plain": [
       "<Figure size 720x504 with 1 Axes>"
      ]
     },
     "metadata": {},
     "output_type": "display_data"
    }
   ],
   "source": [
    "sns.distplot(df_pm10_new.loc[df_pm10_new['Year']==2019]['Value'])"
   ]
  },
  {
   "cell_type": "code",
   "execution_count": 26,
   "metadata": {},
   "outputs": [
    {
     "data": {
      "text/html": [
       "<div>\n",
       "<style scoped>\n",
       "    .dataframe tbody tr th:only-of-type {\n",
       "        vertical-align: middle;\n",
       "    }\n",
       "\n",
       "    .dataframe tbody tr th {\n",
       "        vertical-align: top;\n",
       "    }\n",
       "\n",
       "    .dataframe thead th {\n",
       "        text-align: right;\n",
       "    }\n",
       "</style>\n",
       "<table border=\"1\" class=\"dataframe\">\n",
       "  <thead>\n",
       "    <tr style=\"text-align: right;\">\n",
       "      <th></th>\n",
       "      <th>Site</th>\n",
       "      <th>Species</th>\n",
       "      <th>ReadingDateTime</th>\n",
       "      <th>Value</th>\n",
       "      <th>Units</th>\n",
       "      <th>Provisional or Ratified</th>\n",
       "      <th>Year</th>\n",
       "    </tr>\n",
       "  </thead>\n",
       "  <tbody>\n",
       "    <tr>\n",
       "      <td>0</td>\n",
       "      <td>CT3</td>\n",
       "      <td>PM10</td>\n",
       "      <td>2006-01-01</td>\n",
       "      <td>7.0</td>\n",
       "      <td>ug/m3</td>\n",
       "      <td>R</td>\n",
       "      <td>2006</td>\n",
       "    </tr>\n",
       "    <tr>\n",
       "      <td>1</td>\n",
       "      <td>CT3</td>\n",
       "      <td>PM10</td>\n",
       "      <td>2006-02-01</td>\n",
       "      <td>14.0</td>\n",
       "      <td>ug/m3</td>\n",
       "      <td>R</td>\n",
       "      <td>2006</td>\n",
       "    </tr>\n",
       "    <tr>\n",
       "      <td>2</td>\n",
       "      <td>CT3</td>\n",
       "      <td>PM10</td>\n",
       "      <td>2006-03-01</td>\n",
       "      <td>19.0</td>\n",
       "      <td>ug/m3</td>\n",
       "      <td>R</td>\n",
       "      <td>2006</td>\n",
       "    </tr>\n",
       "    <tr>\n",
       "      <td>3</td>\n",
       "      <td>CT3</td>\n",
       "      <td>PM10</td>\n",
       "      <td>2006-04-01</td>\n",
       "      <td>18.0</td>\n",
       "      <td>ug/m3</td>\n",
       "      <td>R</td>\n",
       "      <td>2006</td>\n",
       "    </tr>\n",
       "    <tr>\n",
       "      <td>4</td>\n",
       "      <td>CT3</td>\n",
       "      <td>PM10</td>\n",
       "      <td>2006-05-01</td>\n",
       "      <td>20.0</td>\n",
       "      <td>ug/m3</td>\n",
       "      <td>R</td>\n",
       "      <td>2006</td>\n",
       "    </tr>\n",
       "    <tr>\n",
       "      <td>5</td>\n",
       "      <td>CT3</td>\n",
       "      <td>PM10</td>\n",
       "      <td>2006-06-01</td>\n",
       "      <td>28.0</td>\n",
       "      <td>ug/m3</td>\n",
       "      <td>R</td>\n",
       "      <td>2006</td>\n",
       "    </tr>\n",
       "    <tr>\n",
       "      <td>6</td>\n",
       "      <td>CT3</td>\n",
       "      <td>PM10</td>\n",
       "      <td>2006-07-01</td>\n",
       "      <td>33.0</td>\n",
       "      <td>ug/m3</td>\n",
       "      <td>R</td>\n",
       "      <td>2006</td>\n",
       "    </tr>\n",
       "    <tr>\n",
       "      <td>7</td>\n",
       "      <td>CT3</td>\n",
       "      <td>PM10</td>\n",
       "      <td>2006-08-01</td>\n",
       "      <td>34.0</td>\n",
       "      <td>ug/m3</td>\n",
       "      <td>R</td>\n",
       "      <td>2006</td>\n",
       "    </tr>\n",
       "    <tr>\n",
       "      <td>8</td>\n",
       "      <td>CT3</td>\n",
       "      <td>PM10</td>\n",
       "      <td>2006-09-01</td>\n",
       "      <td>36.0</td>\n",
       "      <td>ug/m3</td>\n",
       "      <td>R</td>\n",
       "      <td>2006</td>\n",
       "    </tr>\n",
       "    <tr>\n",
       "      <td>9</td>\n",
       "      <td>CT3</td>\n",
       "      <td>PM10</td>\n",
       "      <td>2006-10-01</td>\n",
       "      <td>21.0</td>\n",
       "      <td>ug/m3</td>\n",
       "      <td>R</td>\n",
       "      <td>2006</td>\n",
       "    </tr>\n",
       "    <tr>\n",
       "      <td>10</td>\n",
       "      <td>CT3</td>\n",
       "      <td>PM10</td>\n",
       "      <td>2006-11-01</td>\n",
       "      <td>20.0</td>\n",
       "      <td>ug/m3</td>\n",
       "      <td>R</td>\n",
       "      <td>2006</td>\n",
       "    </tr>\n",
       "    <tr>\n",
       "      <td>11</td>\n",
       "      <td>CT3</td>\n",
       "      <td>PM10</td>\n",
       "      <td>2006-12-01</td>\n",
       "      <td>25.0</td>\n",
       "      <td>ug/m3</td>\n",
       "      <td>R</td>\n",
       "      <td>2006</td>\n",
       "    </tr>\n",
       "    <tr>\n",
       "      <td>12</td>\n",
       "      <td>CT3</td>\n",
       "      <td>PM10</td>\n",
       "      <td>2006-01-13</td>\n",
       "      <td>20.0</td>\n",
       "      <td>ug/m3</td>\n",
       "      <td>R</td>\n",
       "      <td>2006</td>\n",
       "    </tr>\n",
       "    <tr>\n",
       "      <td>13</td>\n",
       "      <td>CT3</td>\n",
       "      <td>PM10</td>\n",
       "      <td>2006-01-14</td>\n",
       "      <td>31.0</td>\n",
       "      <td>ug/m3</td>\n",
       "      <td>R</td>\n",
       "      <td>2006</td>\n",
       "    </tr>\n",
       "    <tr>\n",
       "      <td>14</td>\n",
       "      <td>CT3</td>\n",
       "      <td>PM10</td>\n",
       "      <td>2006-01-15</td>\n",
       "      <td>28.0</td>\n",
       "      <td>ug/m3</td>\n",
       "      <td>R</td>\n",
       "      <td>2006</td>\n",
       "    </tr>\n",
       "    <tr>\n",
       "      <td>15</td>\n",
       "      <td>CT3</td>\n",
       "      <td>PM10</td>\n",
       "      <td>2006-01-16</td>\n",
       "      <td>22.0</td>\n",
       "      <td>ug/m3</td>\n",
       "      <td>R</td>\n",
       "      <td>2006</td>\n",
       "    </tr>\n",
       "    <tr>\n",
       "      <td>16</td>\n",
       "      <td>CT3</td>\n",
       "      <td>PM10</td>\n",
       "      <td>2006-01-17</td>\n",
       "      <td>14.0</td>\n",
       "      <td>ug/m3</td>\n",
       "      <td>R</td>\n",
       "      <td>2006</td>\n",
       "    </tr>\n",
       "    <tr>\n",
       "      <td>17</td>\n",
       "      <td>CT3</td>\n",
       "      <td>PM10</td>\n",
       "      <td>2006-01-18</td>\n",
       "      <td>15.0</td>\n",
       "      <td>ug/m3</td>\n",
       "      <td>R</td>\n",
       "      <td>2006</td>\n",
       "    </tr>\n",
       "    <tr>\n",
       "      <td>18</td>\n",
       "      <td>CT3</td>\n",
       "      <td>PM10</td>\n",
       "      <td>2006-01-19</td>\n",
       "      <td>19.0</td>\n",
       "      <td>ug/m3</td>\n",
       "      <td>R</td>\n",
       "      <td>2006</td>\n",
       "    </tr>\n",
       "    <tr>\n",
       "      <td>19</td>\n",
       "      <td>CT3</td>\n",
       "      <td>PM10</td>\n",
       "      <td>2006-01-20</td>\n",
       "      <td>14.0</td>\n",
       "      <td>ug/m3</td>\n",
       "      <td>R</td>\n",
       "      <td>2006</td>\n",
       "    </tr>\n",
       "  </tbody>\n",
       "</table>\n",
       "</div>"
      ],
      "text/plain": [
       "   Site Species ReadingDateTime  Value  Units Provisional or Ratified  Year\n",
       "0   CT3    PM10      2006-01-01    7.0  ug/m3                       R  2006\n",
       "1   CT3    PM10      2006-02-01   14.0  ug/m3                       R  2006\n",
       "2   CT3    PM10      2006-03-01   19.0  ug/m3                       R  2006\n",
       "3   CT3    PM10      2006-04-01   18.0  ug/m3                       R  2006\n",
       "4   CT3    PM10      2006-05-01   20.0  ug/m3                       R  2006\n",
       "5   CT3    PM10      2006-06-01   28.0  ug/m3                       R  2006\n",
       "6   CT3    PM10      2006-07-01   33.0  ug/m3                       R  2006\n",
       "7   CT3    PM10      2006-08-01   34.0  ug/m3                       R  2006\n",
       "8   CT3    PM10      2006-09-01   36.0  ug/m3                       R  2006\n",
       "9   CT3    PM10      2006-10-01   21.0  ug/m3                       R  2006\n",
       "10  CT3    PM10      2006-11-01   20.0  ug/m3                       R  2006\n",
       "11  CT3    PM10      2006-12-01   25.0  ug/m3                       R  2006\n",
       "12  CT3    PM10      2006-01-13   20.0  ug/m3                       R  2006\n",
       "13  CT3    PM10      2006-01-14   31.0  ug/m3                       R  2006\n",
       "14  CT3    PM10      2006-01-15   28.0  ug/m3                       R  2006\n",
       "15  CT3    PM10      2006-01-16   22.0  ug/m3                       R  2006\n",
       "16  CT3    PM10      2006-01-17   14.0  ug/m3                       R  2006\n",
       "17  CT3    PM10      2006-01-18   15.0  ug/m3                       R  2006\n",
       "18  CT3    PM10      2006-01-19   19.0  ug/m3                       R  2006\n",
       "19  CT3    PM10      2006-01-20   14.0  ug/m3                       R  2006"
      ]
     },
     "execution_count": 26,
     "metadata": {},
     "output_type": "execute_result"
    }
   ],
   "source": [
    "df_pm10.head(20)"
   ]
  },
  {
   "cell_type": "code",
   "execution_count": 27,
   "metadata": {},
   "outputs": [
    {
     "data": {
      "text/html": [
       "<div>\n",
       "<style scoped>\n",
       "    .dataframe tbody tr th:only-of-type {\n",
       "        vertical-align: middle;\n",
       "    }\n",
       "\n",
       "    .dataframe tbody tr th {\n",
       "        vertical-align: top;\n",
       "    }\n",
       "\n",
       "    .dataframe thead th {\n",
       "        text-align: right;\n",
       "    }\n",
       "</style>\n",
       "<table border=\"1\" class=\"dataframe\">\n",
       "  <thead>\n",
       "    <tr style=\"text-align: right;\">\n",
       "      <th></th>\n",
       "      <th>Site</th>\n",
       "      <th>Species</th>\n",
       "      <th>ReadingDateTime</th>\n",
       "      <th>Value</th>\n",
       "      <th>Units</th>\n",
       "      <th>Provisional or Ratified</th>\n",
       "      <th>Year</th>\n",
       "      <th>Month</th>\n",
       "    </tr>\n",
       "  </thead>\n",
       "  <tbody>\n",
       "    <tr>\n",
       "      <td>0</td>\n",
       "      <td>CT3</td>\n",
       "      <td>PM10</td>\n",
       "      <td>2006-01-01</td>\n",
       "      <td>7.0</td>\n",
       "      <td>ug/m3</td>\n",
       "      <td>R</td>\n",
       "      <td>2006</td>\n",
       "      <td>1</td>\n",
       "    </tr>\n",
       "    <tr>\n",
       "      <td>1</td>\n",
       "      <td>CT3</td>\n",
       "      <td>PM10</td>\n",
       "      <td>2006-02-01</td>\n",
       "      <td>14.0</td>\n",
       "      <td>ug/m3</td>\n",
       "      <td>R</td>\n",
       "      <td>2006</td>\n",
       "      <td>2</td>\n",
       "    </tr>\n",
       "    <tr>\n",
       "      <td>2</td>\n",
       "      <td>CT3</td>\n",
       "      <td>PM10</td>\n",
       "      <td>2006-03-01</td>\n",
       "      <td>19.0</td>\n",
       "      <td>ug/m3</td>\n",
       "      <td>R</td>\n",
       "      <td>2006</td>\n",
       "      <td>3</td>\n",
       "    </tr>\n",
       "    <tr>\n",
       "      <td>3</td>\n",
       "      <td>CT3</td>\n",
       "      <td>PM10</td>\n",
       "      <td>2006-04-01</td>\n",
       "      <td>18.0</td>\n",
       "      <td>ug/m3</td>\n",
       "      <td>R</td>\n",
       "      <td>2006</td>\n",
       "      <td>4</td>\n",
       "    </tr>\n",
       "    <tr>\n",
       "      <td>4</td>\n",
       "      <td>CT3</td>\n",
       "      <td>PM10</td>\n",
       "      <td>2006-05-01</td>\n",
       "      <td>20.0</td>\n",
       "      <td>ug/m3</td>\n",
       "      <td>R</td>\n",
       "      <td>2006</td>\n",
       "      <td>5</td>\n",
       "    </tr>\n",
       "    <tr>\n",
       "      <td>...</td>\n",
       "      <td>...</td>\n",
       "      <td>...</td>\n",
       "      <td>...</td>\n",
       "      <td>...</td>\n",
       "      <td>...</td>\n",
       "      <td>...</td>\n",
       "      <td>...</td>\n",
       "      <td>...</td>\n",
       "    </tr>\n",
       "    <tr>\n",
       "      <td>28976</td>\n",
       "      <td>EN4</td>\n",
       "      <td>PM10</td>\n",
       "      <td>2016-05-03</td>\n",
       "      <td>25.8</td>\n",
       "      <td>ug/m3</td>\n",
       "      <td>R</td>\n",
       "      <td>2016</td>\n",
       "      <td>5</td>\n",
       "    </tr>\n",
       "    <tr>\n",
       "      <td>28977</td>\n",
       "      <td>EN4</td>\n",
       "      <td>PM10</td>\n",
       "      <td>2016-06-03</td>\n",
       "      <td>26.4</td>\n",
       "      <td>ug/m3</td>\n",
       "      <td>R</td>\n",
       "      <td>2016</td>\n",
       "      <td>6</td>\n",
       "    </tr>\n",
       "    <tr>\n",
       "      <td>28978</td>\n",
       "      <td>EN4</td>\n",
       "      <td>PM10</td>\n",
       "      <td>2016-07-03</td>\n",
       "      <td>30.2</td>\n",
       "      <td>ug/m3</td>\n",
       "      <td>R</td>\n",
       "      <td>2016</td>\n",
       "      <td>7</td>\n",
       "    </tr>\n",
       "    <tr>\n",
       "      <td>28979</td>\n",
       "      <td>EN4</td>\n",
       "      <td>PM10</td>\n",
       "      <td>2016-08-03</td>\n",
       "      <td>34.9</td>\n",
       "      <td>ug/m3</td>\n",
       "      <td>R</td>\n",
       "      <td>2016</td>\n",
       "      <td>8</td>\n",
       "    </tr>\n",
       "    <tr>\n",
       "      <td>28980</td>\n",
       "      <td>EN4</td>\n",
       "      <td>PM10</td>\n",
       "      <td>2016-09-03</td>\n",
       "      <td>30.6</td>\n",
       "      <td>ug/m3</td>\n",
       "      <td>R</td>\n",
       "      <td>2016</td>\n",
       "      <td>9</td>\n",
       "    </tr>\n",
       "  </tbody>\n",
       "</table>\n",
       "<p>25564 rows × 8 columns</p>\n",
       "</div>"
      ],
      "text/plain": [
       "      Site Species ReadingDateTime  Value  Units Provisional or Ratified  \\\n",
       "0      CT3    PM10      2006-01-01    7.0  ug/m3                       R   \n",
       "1      CT3    PM10      2006-02-01   14.0  ug/m3                       R   \n",
       "2      CT3    PM10      2006-03-01   19.0  ug/m3                       R   \n",
       "3      CT3    PM10      2006-04-01   18.0  ug/m3                       R   \n",
       "4      CT3    PM10      2006-05-01   20.0  ug/m3                       R   \n",
       "...    ...     ...             ...    ...    ...                     ...   \n",
       "28976  EN4    PM10      2016-05-03   25.8  ug/m3                       R   \n",
       "28977  EN4    PM10      2016-06-03   26.4  ug/m3                       R   \n",
       "28978  EN4    PM10      2016-07-03   30.2  ug/m3                       R   \n",
       "28979  EN4    PM10      2016-08-03   34.9  ug/m3                       R   \n",
       "28980  EN4    PM10      2016-09-03   30.6  ug/m3                       R   \n",
       "\n",
       "       Year  Month  \n",
       "0      2006      1  \n",
       "1      2006      2  \n",
       "2      2006      3  \n",
       "3      2006      4  \n",
       "4      2006      5  \n",
       "...     ...    ...  \n",
       "28976  2016      5  \n",
       "28977  2016      6  \n",
       "28978  2016      7  \n",
       "28979  2016      8  \n",
       "28980  2016      9  \n",
       "\n",
       "[25564 rows x 8 columns]"
      ]
     },
     "execution_count": 27,
     "metadata": {},
     "output_type": "execute_result"
    }
   ],
   "source": [
    "df_pm10['Month'] = df_pm10.ReadingDateTime.dt.month\n",
    "df_pm10"
   ]
  },
  {
   "cell_type": "code",
   "execution_count": 28,
   "metadata": {},
   "outputs": [
    {
     "data": {
      "text/html": [
       "<div>\n",
       "<style scoped>\n",
       "    .dataframe tbody tr th:only-of-type {\n",
       "        vertical-align: middle;\n",
       "    }\n",
       "\n",
       "    .dataframe tbody tr th {\n",
       "        vertical-align: top;\n",
       "    }\n",
       "\n",
       "    .dataframe thead th {\n",
       "        text-align: right;\n",
       "    }\n",
       "</style>\n",
       "<table border=\"1\" class=\"dataframe\">\n",
       "  <thead>\n",
       "    <tr style=\"text-align: right;\">\n",
       "      <th></th>\n",
       "      <th>Site</th>\n",
       "      <th>Species</th>\n",
       "      <th>ReadingDateTime</th>\n",
       "      <th>Value</th>\n",
       "      <th>Units</th>\n",
       "      <th>Provisional or Ratified</th>\n",
       "      <th>Year</th>\n",
       "      <th>Month</th>\n",
       "    </tr>\n",
       "  </thead>\n",
       "  <tbody>\n",
       "    <tr>\n",
       "      <td>0</td>\n",
       "      <td>CT3</td>\n",
       "      <td>NO2</td>\n",
       "      <td>2006-01-01</td>\n",
       "      <td>37.4</td>\n",
       "      <td>ug m-3</td>\n",
       "      <td>R</td>\n",
       "      <td>2006</td>\n",
       "      <td>1</td>\n",
       "    </tr>\n",
       "    <tr>\n",
       "      <td>1</td>\n",
       "      <td>CT3</td>\n",
       "      <td>NO2</td>\n",
       "      <td>2006-02-01</td>\n",
       "      <td>39.8</td>\n",
       "      <td>ug m-3</td>\n",
       "      <td>R</td>\n",
       "      <td>2006</td>\n",
       "      <td>2</td>\n",
       "    </tr>\n",
       "    <tr>\n",
       "      <td>2</td>\n",
       "      <td>CT3</td>\n",
       "      <td>NO2</td>\n",
       "      <td>2006-03-01</td>\n",
       "      <td>57.5</td>\n",
       "      <td>ug m-3</td>\n",
       "      <td>R</td>\n",
       "      <td>2006</td>\n",
       "      <td>3</td>\n",
       "    </tr>\n",
       "    <tr>\n",
       "      <td>3</td>\n",
       "      <td>CT3</td>\n",
       "      <td>NO2</td>\n",
       "      <td>2006-04-01</td>\n",
       "      <td>51.0</td>\n",
       "      <td>ug m-3</td>\n",
       "      <td>R</td>\n",
       "      <td>2006</td>\n",
       "      <td>4</td>\n",
       "    </tr>\n",
       "    <tr>\n",
       "      <td>4</td>\n",
       "      <td>CT3</td>\n",
       "      <td>NO2</td>\n",
       "      <td>2006-05-01</td>\n",
       "      <td>50.7</td>\n",
       "      <td>ug m-3</td>\n",
       "      <td>R</td>\n",
       "      <td>2006</td>\n",
       "      <td>5</td>\n",
       "    </tr>\n",
       "    <tr>\n",
       "      <td>...</td>\n",
       "      <td>...</td>\n",
       "      <td>...</td>\n",
       "      <td>...</td>\n",
       "      <td>...</td>\n",
       "      <td>...</td>\n",
       "      <td>...</td>\n",
       "      <td>...</td>\n",
       "      <td>...</td>\n",
       "    </tr>\n",
       "    <tr>\n",
       "      <td>30307</td>\n",
       "      <td>EN4</td>\n",
       "      <td>NO2</td>\n",
       "      <td>2019-10-27</td>\n",
       "      <td>31.7</td>\n",
       "      <td>ug m-3</td>\n",
       "      <td>P</td>\n",
       "      <td>2019</td>\n",
       "      <td>10</td>\n",
       "    </tr>\n",
       "    <tr>\n",
       "      <td>30308</td>\n",
       "      <td>EN4</td>\n",
       "      <td>NO2</td>\n",
       "      <td>2019-10-28</td>\n",
       "      <td>41.1</td>\n",
       "      <td>ug m-3</td>\n",
       "      <td>P</td>\n",
       "      <td>2019</td>\n",
       "      <td>10</td>\n",
       "    </tr>\n",
       "    <tr>\n",
       "      <td>30309</td>\n",
       "      <td>EN4</td>\n",
       "      <td>NO2</td>\n",
       "      <td>2019-10-29</td>\n",
       "      <td>39.8</td>\n",
       "      <td>ug m-3</td>\n",
       "      <td>P</td>\n",
       "      <td>2019</td>\n",
       "      <td>10</td>\n",
       "    </tr>\n",
       "    <tr>\n",
       "      <td>30310</td>\n",
       "      <td>EN4</td>\n",
       "      <td>NO2</td>\n",
       "      <td>2019-10-30</td>\n",
       "      <td>38.3</td>\n",
       "      <td>ug m-3</td>\n",
       "      <td>P</td>\n",
       "      <td>2019</td>\n",
       "      <td>10</td>\n",
       "    </tr>\n",
       "    <tr>\n",
       "      <td>30311</td>\n",
       "      <td>EN4</td>\n",
       "      <td>NO2</td>\n",
       "      <td>2019-10-31</td>\n",
       "      <td>38.9</td>\n",
       "      <td>ug m-3</td>\n",
       "      <td>P</td>\n",
       "      <td>2019</td>\n",
       "      <td>10</td>\n",
       "    </tr>\n",
       "  </tbody>\n",
       "</table>\n",
       "<p>28078 rows × 8 columns</p>\n",
       "</div>"
      ],
      "text/plain": [
       "      Site Species ReadingDateTime  Value   Units Provisional or Ratified  \\\n",
       "0      CT3     NO2      2006-01-01   37.4  ug m-3                       R   \n",
       "1      CT3     NO2      2006-02-01   39.8  ug m-3                       R   \n",
       "2      CT3     NO2      2006-03-01   57.5  ug m-3                       R   \n",
       "3      CT3     NO2      2006-04-01   51.0  ug m-3                       R   \n",
       "4      CT3     NO2      2006-05-01   50.7  ug m-3                       R   \n",
       "...    ...     ...             ...    ...     ...                     ...   \n",
       "30307  EN4     NO2      2019-10-27   31.7  ug m-3                       P   \n",
       "30308  EN4     NO2      2019-10-28   41.1  ug m-3                       P   \n",
       "30309  EN4     NO2      2019-10-29   39.8  ug m-3                       P   \n",
       "30310  EN4     NO2      2019-10-30   38.3  ug m-3                       P   \n",
       "30311  EN4     NO2      2019-10-31   38.9  ug m-3                       P   \n",
       "\n",
       "       Year  Month  \n",
       "0      2006      1  \n",
       "1      2006      2  \n",
       "2      2006      3  \n",
       "3      2006      4  \n",
       "4      2006      5  \n",
       "...     ...    ...  \n",
       "30307  2019     10  \n",
       "30308  2019     10  \n",
       "30309  2019     10  \n",
       "30310  2019     10  \n",
       "30311  2019     10  \n",
       "\n",
       "[28078 rows x 8 columns]"
      ]
     },
     "execution_count": 28,
     "metadata": {},
     "output_type": "execute_result"
    }
   ],
   "source": [
    "df_no2['Month'] = df_no2.ReadingDateTime.dt.month\n",
    "df_no2"
   ]
  },
  {
   "cell_type": "code",
   "execution_count": 29,
   "metadata": {},
   "outputs": [
    {
     "data": {
      "text/html": [
       "<div>\n",
       "<style scoped>\n",
       "    .dataframe tbody tr th:only-of-type {\n",
       "        vertical-align: middle;\n",
       "    }\n",
       "\n",
       "    .dataframe tbody tr th {\n",
       "        vertical-align: top;\n",
       "    }\n",
       "\n",
       "    .dataframe thead th {\n",
       "        text-align: right;\n",
       "    }\n",
       "</style>\n",
       "<table border=\"1\" class=\"dataframe\">\n",
       "  <thead>\n",
       "    <tr style=\"text-align: right;\">\n",
       "      <th></th>\n",
       "      <th>Site</th>\n",
       "      <th>Species</th>\n",
       "      <th>Value</th>\n",
       "      <th>Units</th>\n",
       "      <th>Year</th>\n",
       "      <th>Month</th>\n",
       "    </tr>\n",
       "  </thead>\n",
       "  <tbody>\n",
       "    <tr>\n",
       "      <td>4</td>\n",
       "      <td>CT3</td>\n",
       "      <td>NO2</td>\n",
       "      <td>50.7</td>\n",
       "      <td>ug m-3</td>\n",
       "      <td>2006</td>\n",
       "      <td>5</td>\n",
       "    </tr>\n",
       "    <tr>\n",
       "      <td>9</td>\n",
       "      <td>CT3</td>\n",
       "      <td>NO2</td>\n",
       "      <td>31.0</td>\n",
       "      <td>ug m-3</td>\n",
       "      <td>2006</td>\n",
       "      <td>10</td>\n",
       "    </tr>\n",
       "    <tr>\n",
       "      <td>35</td>\n",
       "      <td>CT3</td>\n",
       "      <td>NO2</td>\n",
       "      <td>71.1</td>\n",
       "      <td>ug m-3</td>\n",
       "      <td>2006</td>\n",
       "      <td>5</td>\n",
       "    </tr>\n",
       "    <tr>\n",
       "      <td>40</td>\n",
       "      <td>CT3</td>\n",
       "      <td>NO2</td>\n",
       "      <td>71.1</td>\n",
       "      <td>ug m-3</td>\n",
       "      <td>2006</td>\n",
       "      <td>10</td>\n",
       "    </tr>\n",
       "    <tr>\n",
       "      <td>63</td>\n",
       "      <td>CT3</td>\n",
       "      <td>NO2</td>\n",
       "      <td>68.0</td>\n",
       "      <td>ug m-3</td>\n",
       "      <td>2006</td>\n",
       "      <td>5</td>\n",
       "    </tr>\n",
       "  </tbody>\n",
       "</table>\n",
       "</div>"
      ],
      "text/plain": [
       "   Site Species  Value   Units  Year  Month\n",
       "4   CT3     NO2   50.7  ug m-3  2006      5\n",
       "9   CT3     NO2   31.0  ug m-3  2006     10\n",
       "35  CT3     NO2   71.1  ug m-3  2006      5\n",
       "40  CT3     NO2   71.1  ug m-3  2006     10\n",
       "63  CT3     NO2   68.0  ug m-3  2006      5"
      ]
     },
     "execution_count": 29,
     "metadata": {},
     "output_type": "execute_result"
    }
   ],
   "source": [
    "# For our comparison groups we will be selecting Sites, Species, Value, Units, Year and Month for May and Oct 2006 & 2009\n",
    "test_df_no2 = df_no2.loc[(df_no2.Month == 5)|(df_no2.Month == 10)].drop(columns=['ReadingDateTime','Provisional or Ratified'])\n",
    "test_df_pm10 = df_pm10.loc[(df_pm10.Month == 5)|(df_pm10.Month == 10)].drop(columns=['ReadingDateTime','Provisional or Ratified'])\n",
    "\n",
    "test_df_no2.head()"
   ]
  },
  {
   "cell_type": "code",
   "execution_count": 30,
   "metadata": {},
   "outputs": [
    {
     "data": {
      "text/plain": [
       "<matplotlib.axes._subplots.AxesSubplot at 0x1a171c59e8>"
      ]
     },
     "execution_count": 30,
     "metadata": {},
     "output_type": "execute_result"
    },
    {
     "data": {
      "image/png": "[encoded data removed]",
      "text/plain": [
       "<Figure size 720x504 with 1 Axes>"
      ]
     },
     "metadata": {},
     "output_type": "display_data"
    }
   ],
   "source": [
    "sns.distplot(test_df_pm10.Value)"
   ]
  },
  {
   "cell_type": "code",
   "execution_count": 31,
   "metadata": {},
   "outputs": [
    {
     "data": {
      "text/plain": [
       "<matplotlib.axes._subplots.AxesSubplot at 0x1a16e3f4a8>"
      ]
     },
     "execution_count": 31,
     "metadata": {},
     "output_type": "execute_result"
    },
    {
     "data": {
      "image/png": "[encoded data removed]",
      "text/plain": [
       "<Figure size 720x504 with 1 Axes>"
      ]
     },
     "metadata": {},
     "output_type": "display_data"
    }
   ],
   "source": [
    "sns.distplot(test_df_no2.Value)"
   ]
  },
  {
   "cell_type": "code",
   "execution_count": 32,
   "metadata": {},
   "outputs": [
    {
     "data": {
      "text/plain": [
       "4383"
      ]
     },
     "execution_count": 32,
     "metadata": {},
     "output_type": "execute_result"
    }
   ],
   "source": [
    "len(test_df_pm10)"
   ]
  },
  {
   "cell_type": "code",
   "execution_count": 33,
   "metadata": {},
   "outputs": [
    {
     "data": {
      "text/plain": [
       "4798"
      ]
     },
     "execution_count": 33,
     "metadata": {},
     "output_type": "execute_result"
    }
   ],
   "source": [
    "len(test_df_no2)"
   ]
  },
  {
   "cell_type": "code",
   "execution_count": 34,
   "metadata": {},
   "outputs": [
    {
     "data": {
      "text/plain": [
       "350"
      ]
     },
     "execution_count": 34,
     "metadata": {},
     "output_type": "execute_result"
    }
   ],
   "source": [
    "len(test_df_no2.loc[test_df_no2['Year']==2006])"
   ]
  },
  {
   "cell_type": "code",
   "execution_count": 35,
   "metadata": {},
   "outputs": [
    {
     "data": {
      "text/plain": [
       "340"
      ]
     },
     "execution_count": 35,
     "metadata": {},
     "output_type": "execute_result"
    }
   ],
   "source": [
    "len(test_df_no2.loc[test_df_no2['Year']==2009])"
   ]
  },
  {
   "cell_type": "code",
   "execution_count": 36,
   "metadata": {},
   "outputs": [],
   "source": [
    "# Now we make our testing samples below, for May and Oct 2006, 2009, for both the PM10 and the NO2 values. \n",
    "pre_lez_no2 = test_df_no2.loc[test_df_no2['Year']==2006]\n",
    "post_lez_no2 = test_df_no2.loc[test_df_no2['Year']==2009]\n",
    "\n",
    "pre_lez_pm10 = test_df_pm10.loc[test_df_pm10['Year']==2006]\n",
    "post_lez_pm10 = test_df_pm10.loc[test_df_pm10['Year']==2009]"
   ]
  },
  {
   "cell_type": "code",
   "execution_count": 48,
   "metadata": {},
   "outputs": [
    {
     "data": {
      "text/plain": [
       "RI1    62\n",
       "EN4    62\n",
       "LH0    60\n",
       "BL0    59\n",
       "CT3    59\n",
       "ZR2    48\n",
       "Name: Site, dtype: int64"
      ]
     },
     "execution_count": 48,
     "metadata": {},
     "output_type": "execute_result"
    }
   ],
   "source": [
    "pre_lez_no2.Site.value_counts()"
   ]
  },
  {
   "cell_type": "markdown",
   "metadata": {},
   "source": [
    "Testing for normality of our samples using stats.shapiro"
   ]
  },
  {
   "cell_type": "code",
   "execution_count": 50,
   "metadata": {},
   "outputs": [
    {
     "data": {
      "text/plain": [
       "(0.9797401428222656, 7.775388075970113e-05)"
      ]
     },
     "execution_count": 50,
     "metadata": {},
     "output_type": "execute_result"
    }
   ],
   "source": [
    "stats.shapiro(pre_lez_no2.Value)"
   ]
  },
  {
   "cell_type": "code",
   "execution_count": 55,
   "metadata": {},
   "outputs": [
    {
     "name": "stdout",
     "output_type": "stream",
     "text": [
      "(0.9797401428222656, 7.775388075970113e-05)\n",
      "(0.988274335861206, 0.007663216907531023)\n",
      "(0.8767014741897583, 7.2833848505335125e-16)\n",
      "(0.8969574570655823, 2.2006795528679152e-13)\n"
     ]
    }
   ],
   "source": [
    "samples = [pre_lez_no2.Value, post_lez_no2.Value, pre_lez_pm10.Value, post_lez_pm10.Value]\n",
    "\n",
    "for sample in samples:\n",
    "    print(stats.shapiro(sample))\n",
    "\n"
   ]
  },
  {
   "cell_type": "code",
   "execution_count": 57,
   "metadata": {},
   "outputs": [
    {
     "data": {
      "text/plain": [
       "<matplotlib.axes._subplots.AxesSubplot at 0x1a1dd30c18>"
      ]
     },
     "execution_count": 57,
     "metadata": {},
     "output_type": "execute_result"
    },
    {
     "data": {
      "image/png": "[encoded data removed]",
      "text/plain": [
       "<Figure size 720x504 with 1 Axes>"
      ]
     },
     "metadata": {},
     "output_type": "display_data"
    }
   ],
   "source": [
    "sns.distplot(pre_lez_no2.Value,bins=20)"
   ]
  },
  {
   "cell_type": "code",
   "execution_count": 58,
   "metadata": {},
   "outputs": [
    {
     "data": {
      "text/plain": [
       "<matplotlib.axes._subplots.AxesSubplot at 0x1a1ef9fa58>"
      ]
     },
     "execution_count": 58,
     "metadata": {},
     "output_type": "execute_result"
    },
    {
     "data": {
      "image/png": "[encoded data removed]",
      "text/plain": [
       "<Figure size 720x504 with 1 Axes>"
      ]
     },
     "metadata": {},
     "output_type": "display_data"
    }
   ],
   "source": [
    "sns.distplot(pre_lez_pm10.Value,bins=20)"
   ]
  },
  {
   "cell_type": "markdown",
   "metadata": {},
   "source": [
    "## Statistical Testing"
   ]
  },
  {
   "cell_type": "markdown",
   "metadata": {},
   "source": [
    "(Mina)\n",
    "\n",
    "1. The introducton of ULEZ (8th April 2019) decreased the amount of NOx in Zone 1 of Central London by at least 42%. \n",
    "[H0] - ULEZ reduced the amount of NOx in Zone 1 by less than 42%.\n",
    "2. The introduction of ULEZ was at least 25% more effective than the introduction of LEZ (4th February 2008) in reducing NOx levels in Central London.\n",
    "[H0] - The effect of ULEZ on NOx levels was less than 25% more than the impact of LEZ. \n",
    "\n",
    "(Ioana) \n",
    "3. The introducton of ULEZ decreased the amount of PM10 in Zone 1 of Central London by at least 33%. \n",
    "[H0] - ULEZ reduced the amount of PM10 in Zone 1 by less than 33%.\n",
    "4. The introduction of ULEZ was at least 25% more effective than the introduction of LEZ in reducing PM10 levels in Central London. \n",
    "[H0] - The effect of ULEZ on PM10 levels was less than 25% more than the impact of LEZ. \n",
    "\n",
    "Our alpha values are set at 0.05."
   ]
  },
  {
   "cell_type": "code",
   "execution_count": 37,
   "metadata": {},
   "outputs": [],
   "source": [
    "def sample_variance(sample):\n",
    "    return np.sum([(x - np.mean(sample))**2 for x in sample])/(len(sample)-1)\n",
    "\n",
    "def pooled_variance(sample1, sample2):\n",
    "    return ((len(sample1)-1)*sample_variance(sample1) + (len(sample2)-1)*sample_variance(sample2))/(len(sample1) + len(sample2) - 2)\n",
    "\n",
    "\n",
    "def visualize_t(t_stat, n_control, n_experimental):\n",
    "    df = len(n_experimental)-1\n",
    "    # initialize a matplotlib \"figure\"\n",
    "    fig = plt.figure(figsize=(15,10))\n",
    "    ax = fig.gca()\n",
    "    # generate points on the x axis between -4 and 4:\n",
    "    xs = np.linspace(-4,4,200)\n",
    "    # use stats.t.pdf to get values on the probability density function for the t-distribution\n",
    "    ys = stats.t.pdf(xs, df, 0, 1)\n",
    "    ax.plot(xs, ys, linewidth=3, color='darkblue')\n",
    "\n",
    "    # Draw two sided boundary for critical-t\n",
    "    ax.axvline(x=+t_stat, color='red', linestyle='--', lw=3,label='t-statistic_lower_bound')\n",
    "    ax.axvline(x=-t_stat, color='purple', linestyle='--', lw=3,label='t-statistic_upper_bound')\n",
    "    ax.legend()\n",
    "    plt.show()\n",
    "    return \n",
    "\n",
    "def Cohen_d(group1, group2):\n",
    "\n",
    "    diff = group1.mean() - group2.mean()\n",
    "    # Calculate the pooled threshold as shown earlier\n",
    "    pooled_var = pooled_variance(group1, group2)\n",
    "    \n",
    "    # Calculate Cohen's d statistic\n",
    "    d = diff / np.sqrt(pooled_var)\n",
    "    \n",
    "    return d\n",
    "\n",
    "\n",
    "def welch_t_test(sample1,sample2):\n",
    "    num = np.mean(sample1)-np.mean(sample2)\n",
    "    denom = np.sqrt((sample_variance(sample1)**2/len(sample1)) + (sample_variance(sample2)**2/len(sample2)))\n",
    "    return num/denom\n",
    " \n",
    "def welch_t(sample1, sample2):\n",
    "    numerator = np.mean(sample1) - np.mean(sample2)   \n",
    "    denominator = np.sqrt(np.var(sample1)/len(sample1) + np.var(sample2)/len(sample2))\n",
    "    return np.abs(numerator/denominator)    \n",
    "\n",
    "def welch_dof(sample1,sample2):\n",
    "    s1 = np.var(sample1)\n",
    "    s2 = np.var(sample2)\n",
    "    n1 = len(sample1)\n",
    "    n2 = len(sample2)\n",
    "    \n",
    "    num = (s1/n1 + s2/n2)**2\n",
    "    denom = (s1/n1)**2/(n1-1) + (s2/n2)**2/(n2-1)\n",
    "    return num/denom\n",
    "              \n",
    "def p_val(t_stat, df):\n",
    "    return 1-stats.t.cdf(t_stat,df)"
   ]
  },
  {
   "cell_type": "code",
   "execution_count": 38,
   "metadata": {},
   "outputs": [
    {
     "data": {
      "text/plain": [
       "1.274178082932842e-05"
      ]
     },
     "execution_count": 38,
     "metadata": {},
     "output_type": "execute_result"
    }
   ],
   "source": [
    "p_val(welch_t(pre_lez_no2.Value, post_lez_no2.Value), welch_dof(pre_lez_no2.Value, post_lez_no2.Value))"
   ]
  },
  {
   "cell_type": "code",
   "execution_count": 39,
   "metadata": {},
   "outputs": [
    {
     "data": {
      "text/plain": [
       "0.05187223585945344"
      ]
     },
     "execution_count": 39,
     "metadata": {},
     "output_type": "execute_result"
    }
   ],
   "source": [
    "p_val(welch_t(pre_lez_pm10.Value, post_lez_pm10.Value), welch_dof(pre_lez_pm10.Value, post_lez_pm10.Value))"
   ]
  },
  {
   "cell_type": "code",
   "execution_count": 54,
   "metadata": {},
   "outputs": [
    {
     "data": {
      "text/plain": [
       "Ttest_indResult(statistic=-4.233553917274355, pvalue=2.6173449672710944e-05)"
      ]
     },
     "execution_count": 54,
     "metadata": {},
     "output_type": "execute_result"
    }
   ],
   "source": [
    "stats.ttest_ind(pre_lez_no2.Value, post_lez_no2.Value, equal_var=False)"
   ]
  },
  {
   "cell_type": "code",
   "execution_count": 53,
   "metadata": {},
   "outputs": [
    {
     "data": {
      "text/plain": [
       "Ttest_indResult(statistic=1.6270160572384869, pvalue=0.10427480261752126)"
      ]
     },
     "execution_count": 53,
     "metadata": {},
     "output_type": "execute_result"
    }
   ],
   "source": [
    "stats.ttest_ind(pre_lez_pm10.Value, post_lez_pm10.Value, equal_var=False)"
   ]
  },
  {
   "cell_type": "code",
   "execution_count": 42,
   "metadata": {},
   "outputs": [
    {
     "name": "stdout",
     "output_type": "stream",
     "text": [
      "The effect of LEZ on the levels of NO2 in the City of London:  -0.3227949581974283\n"
     ]
    }
   ],
   "source": [
    "print(\"The effect of LEZ on the levels of NO2 in the City of London: \", Cohen_d(pre_lez_no2.Value, post_lez_no2.Value))"
   ]
  },
  {
   "cell_type": "markdown",
   "metadata": {},
   "source": [
    "Having conducted our statistical significance test for LEZ, we conclude that there was a significant impact on NO2 levels due to LEZ, but our p-value for the PM10 levels was so large that we cannot reject the null hypothesis that LEZ had no impact on PM10. Given that we're trying to compare ULEZ to LEZ impact, we will return to the PM10 levels once we have conducted our tests on the ULEZ dates"
   ]
  },
  {
   "cell_type": "code",
   "execution_count": 43,
   "metadata": {},
   "outputs": [],
   "source": []
  },
  {
   "cell_type": "code",
   "execution_count": 44,
   "metadata": {},
   "outputs": [
    {
     "data": {
      "text/plain": [
       "366"
      ]
     },
     "execution_count": 44,
     "metadata": {},
     "output_type": "execute_result"
    }
   ],
   "source": [
    "len(pre_ulez_no2)"
   ]
  },
  {
   "cell_type": "code",
   "execution_count": 45,
   "metadata": {},
   "outputs": [
    {
     "data": {
      "text/plain": [
       "273"
      ]
     },
     "execution_count": 45,
     "metadata": {},
     "output_type": "execute_result"
    }
   ],
   "source": [
    "len(post_ulez_no2)"
   ]
  },
  {
   "cell_type": "code",
   "execution_count": 46,
   "metadata": {},
   "outputs": [
    {
     "data": {
      "text/plain": [
       "302"
      ]
     },
     "execution_count": 46,
     "metadata": {},
     "output_type": "execute_result"
    }
   ],
   "source": [
    "len(pre_ulez_pm10)"
   ]
  },
  {
   "cell_type": "code",
   "execution_count": 47,
   "metadata": {},
   "outputs": [
    {
     "data": {
      "text/plain": [
       "215"
      ]
     },
     "execution_count": 47,
     "metadata": {},
     "output_type": "execute_result"
    }
   ],
   "source": [
    "len(post_ulez_pm10)"
   ]
  },
  {
   "cell_type": "code",
   "execution_count": 59,
   "metadata": {},
   "outputs": [
    {
     "data": {
      "text/plain": [
       "BL0    62\n",
       "RI1    62\n",
       "LH0    62\n",
       "EN4    62\n",
       "CT3    60\n",
       "ZR2    58\n",
       "Name: Site, dtype: int64"
      ]
     },
     "execution_count": 59,
     "metadata": {},
     "output_type": "execute_result"
    }
   ],
   "source": [
    "pre_ulez_no2.Site.value_counts()"
   ]
  },
  {
   "cell_type": "markdown",
   "metadata": {},
   "source": [
    "For our pre- and post-ULEZ comparisons we'll be using a different batch of data. "
   ]
  },
  {
   "cell_type": "code",
   "execution_count": 61,
   "metadata": {},
   "outputs": [],
   "source": [
    "city_df_pm10 = pd.read_csv('city_pm10.csv')\n",
    "city_df_no2 = pd.read_csv('city_no2.csv')"
   ]
  },
  {
   "cell_type": "code",
   "execution_count": 91,
   "metadata": {},
   "outputs": [
    {
     "data": {
      "text/plain": [
       "CT8    8588\n",
       "HK6    4716\n",
       "CT3    4702\n",
       "MY7    4261\n",
       "WM6    1566\n",
       "Name: Site, dtype: int64"
      ]
     },
     "execution_count": 91,
     "metadata": {},
     "output_type": "execute_result"
    }
   ],
   "source": [
    "city_df_pm10.Site.value_counts()"
   ]
  },
  {
   "cell_type": "code",
   "execution_count": 92,
   "metadata": {},
   "outputs": [
    {
     "data": {
      "text/plain": [
       "KC1    9658\n",
       "CT3    4840\n",
       "HK6    4762\n",
       "CT6    4339\n",
       "WM6    2204\n",
       "Name: Site, dtype: int64"
      ]
     },
     "execution_count": 92,
     "metadata": {},
     "output_type": "execute_result"
    }
   ],
   "source": [
    "city_df_no2.Site.value_counts()"
   ]
  },
  {
   "cell_type": "code",
   "execution_count": 90,
   "metadata": {},
   "outputs": [
    {
     "data": {
      "text/html": [
       "<div>\n",
       "<style scoped>\n",
       "    .dataframe tbody tr th:only-of-type {\n",
       "        vertical-align: middle;\n",
       "    }\n",
       "\n",
       "    .dataframe tbody tr th {\n",
       "        vertical-align: top;\n",
       "    }\n",
       "\n",
       "    .dataframe thead th {\n",
       "        text-align: right;\n",
       "    }\n",
       "</style>\n",
       "<table border=\"1\" class=\"dataframe\">\n",
       "  <thead>\n",
       "    <tr style=\"text-align: right;\">\n",
       "      <th></th>\n",
       "      <th>Site</th>\n",
       "      <th>Species</th>\n",
       "      <th>ReadingDateTime</th>\n",
       "      <th>Value</th>\n",
       "      <th>Units</th>\n",
       "      <th>Provisional or Ratified</th>\n",
       "      <th>Month</th>\n",
       "      <th>Year</th>\n",
       "    </tr>\n",
       "  </thead>\n",
       "  <tbody>\n",
       "    <tr>\n",
       "      <td>1</td>\n",
       "      <td>CT3</td>\n",
       "      <td>PM10</td>\n",
       "      <td>2006-02-01</td>\n",
       "      <td>14.0</td>\n",
       "      <td>ug/m3</td>\n",
       "      <td>R</td>\n",
       "      <td>2</td>\n",
       "      <td>2006</td>\n",
       "    </tr>\n",
       "    <tr>\n",
       "      <td>2</td>\n",
       "      <td>CT3</td>\n",
       "      <td>PM10</td>\n",
       "      <td>2006-03-01</td>\n",
       "      <td>19.0</td>\n",
       "      <td>ug/m3</td>\n",
       "      <td>R</td>\n",
       "      <td>3</td>\n",
       "      <td>2006</td>\n",
       "    </tr>\n",
       "    <tr>\n",
       "      <td>3</td>\n",
       "      <td>CT3</td>\n",
       "      <td>PM10</td>\n",
       "      <td>2006-04-01</td>\n",
       "      <td>18.0</td>\n",
       "      <td>ug/m3</td>\n",
       "      <td>R</td>\n",
       "      <td>4</td>\n",
       "      <td>2006</td>\n",
       "    </tr>\n",
       "    <tr>\n",
       "      <td>4</td>\n",
       "      <td>CT3</td>\n",
       "      <td>PM10</td>\n",
       "      <td>2006-05-01</td>\n",
       "      <td>20.0</td>\n",
       "      <td>ug/m3</td>\n",
       "      <td>R</td>\n",
       "      <td>5</td>\n",
       "      <td>2006</td>\n",
       "    </tr>\n",
       "    <tr>\n",
       "      <td>5</td>\n",
       "      <td>CT3</td>\n",
       "      <td>PM10</td>\n",
       "      <td>2006-06-01</td>\n",
       "      <td>28.0</td>\n",
       "      <td>ug/m3</td>\n",
       "      <td>R</td>\n",
       "      <td>6</td>\n",
       "      <td>2006</td>\n",
       "    </tr>\n",
       "    <tr>\n",
       "      <td>...</td>\n",
       "      <td>...</td>\n",
       "      <td>...</td>\n",
       "      <td>...</td>\n",
       "      <td>...</td>\n",
       "      <td>...</td>\n",
       "      <td>...</td>\n",
       "      <td>...</td>\n",
       "      <td>...</td>\n",
       "    </tr>\n",
       "    <tr>\n",
       "      <td>30307</td>\n",
       "      <td>WM6</td>\n",
       "      <td>PM10</td>\n",
       "      <td>2019-10-27</td>\n",
       "      <td>20.0</td>\n",
       "      <td>ug/m3</td>\n",
       "      <td>P</td>\n",
       "      <td>10</td>\n",
       "      <td>2019</td>\n",
       "    </tr>\n",
       "    <tr>\n",
       "      <td>30308</td>\n",
       "      <td>WM6</td>\n",
       "      <td>PM10</td>\n",
       "      <td>2019-10-28</td>\n",
       "      <td>27.0</td>\n",
       "      <td>ug/m3</td>\n",
       "      <td>P</td>\n",
       "      <td>10</td>\n",
       "      <td>2019</td>\n",
       "    </tr>\n",
       "    <tr>\n",
       "      <td>30309</td>\n",
       "      <td>WM6</td>\n",
       "      <td>PM10</td>\n",
       "      <td>2019-10-29</td>\n",
       "      <td>18.0</td>\n",
       "      <td>ug/m3</td>\n",
       "      <td>P</td>\n",
       "      <td>10</td>\n",
       "      <td>2019</td>\n",
       "    </tr>\n",
       "    <tr>\n",
       "      <td>30310</td>\n",
       "      <td>WM6</td>\n",
       "      <td>PM10</td>\n",
       "      <td>2019-10-30</td>\n",
       "      <td>30.0</td>\n",
       "      <td>ug/m3</td>\n",
       "      <td>P</td>\n",
       "      <td>10</td>\n",
       "      <td>2019</td>\n",
       "    </tr>\n",
       "    <tr>\n",
       "      <td>30311</td>\n",
       "      <td>WM6</td>\n",
       "      <td>PM10</td>\n",
       "      <td>2019-10-31</td>\n",
       "      <td>41.0</td>\n",
       "      <td>ug/m3</td>\n",
       "      <td>P</td>\n",
       "      <td>10</td>\n",
       "      <td>2019</td>\n",
       "    </tr>\n",
       "  </tbody>\n",
       "</table>\n",
       "<p>23828 rows × 8 columns</p>\n",
       "</div>"
      ],
      "text/plain": [
       "      Site Species ReadingDateTime  Value  Units Provisional or Ratified  \\\n",
       "1      CT3    PM10      2006-02-01   14.0  ug/m3                       R   \n",
       "2      CT3    PM10      2006-03-01   19.0  ug/m3                       R   \n",
       "3      CT3    PM10      2006-04-01   18.0  ug/m3                       R   \n",
       "4      CT3    PM10      2006-05-01   20.0  ug/m3                       R   \n",
       "5      CT3    PM10      2006-06-01   28.0  ug/m3                       R   \n",
       "...    ...     ...             ...    ...    ...                     ...   \n",
       "30307  WM6    PM10      2019-10-27   20.0  ug/m3                       P   \n",
       "30308  WM6    PM10      2019-10-28   27.0  ug/m3                       P   \n",
       "30309  WM6    PM10      2019-10-29   18.0  ug/m3                       P   \n",
       "30310  WM6    PM10      2019-10-30   30.0  ug/m3                       P   \n",
       "30311  WM6    PM10      2019-10-31   41.0  ug/m3                       P   \n",
       "\n",
       "       Month  Year  \n",
       "1          2  2006  \n",
       "2          3  2006  \n",
       "3          4  2006  \n",
       "4          5  2006  \n",
       "5          6  2006  \n",
       "...      ...   ...  \n",
       "30307     10  2019  \n",
       "30308     10  2019  \n",
       "30309     10  2019  \n",
       "30310     10  2019  \n",
       "30311     10  2019  \n",
       "\n",
       "[23828 rows x 8 columns]"
      ]
     },
     "execution_count": 90,
     "metadata": {},
     "output_type": "execute_result"
    }
   ],
   "source": [
    "city_df_pm10.loc[city_df_pm10.duplicated(subset=['Site'])]"
   ]
  },
  {
   "cell_type": "code",
   "execution_count": 85,
   "metadata": {},
   "outputs": [
    {
     "data": {
      "text/html": [
       "<div>\n",
       "<style scoped>\n",
       "    .dataframe tbody tr th:only-of-type {\n",
       "        vertical-align: middle;\n",
       "    }\n",
       "\n",
       "    .dataframe tbody tr th {\n",
       "        vertical-align: top;\n",
       "    }\n",
       "\n",
       "    .dataframe thead th {\n",
       "        text-align: right;\n",
       "    }\n",
       "</style>\n",
       "<table border=\"1\" class=\"dataframe\">\n",
       "  <thead>\n",
       "    <tr style=\"text-align: right;\">\n",
       "      <th></th>\n",
       "      <th>Site</th>\n",
       "      <th>Species</th>\n",
       "      <th>ReadingDateTime</th>\n",
       "      <th>Value</th>\n",
       "      <th>Units</th>\n",
       "      <th>Provisional or Ratified</th>\n",
       "      <th>Month</th>\n",
       "      <th>Year</th>\n",
       "    </tr>\n",
       "  </thead>\n",
       "  <tbody>\n",
       "    <tr>\n",
       "      <td>25260</td>\n",
       "      <td>KC1</td>\n",
       "      <td>NO</td>\n",
       "      <td>2006-01-01</td>\n",
       "      <td>4.5</td>\n",
       "      <td>ug m-3</td>\n",
       "      <td>R</td>\n",
       "      <td>1</td>\n",
       "      <td>2006</td>\n",
       "    </tr>\n",
       "    <tr>\n",
       "      <td>25261</td>\n",
       "      <td>KC1</td>\n",
       "      <td>NO</td>\n",
       "      <td>2006-02-01</td>\n",
       "      <td>21.9</td>\n",
       "      <td>ug m-3</td>\n",
       "      <td>R</td>\n",
       "      <td>2</td>\n",
       "      <td>2006</td>\n",
       "    </tr>\n",
       "    <tr>\n",
       "      <td>25262</td>\n",
       "      <td>KC1</td>\n",
       "      <td>NO</td>\n",
       "      <td>2006-03-01</td>\n",
       "      <td>28.9</td>\n",
       "      <td>ug m-3</td>\n",
       "      <td>R</td>\n",
       "      <td>3</td>\n",
       "      <td>2006</td>\n",
       "    </tr>\n",
       "    <tr>\n",
       "      <td>25263</td>\n",
       "      <td>KC1</td>\n",
       "      <td>NO</td>\n",
       "      <td>2006-04-01</td>\n",
       "      <td>22.3</td>\n",
       "      <td>ug m-3</td>\n",
       "      <td>R</td>\n",
       "      <td>4</td>\n",
       "      <td>2006</td>\n",
       "    </tr>\n",
       "    <tr>\n",
       "      <td>25264</td>\n",
       "      <td>KC1</td>\n",
       "      <td>NO</td>\n",
       "      <td>2006-05-01</td>\n",
       "      <td>20.7</td>\n",
       "      <td>ug m-3</td>\n",
       "      <td>R</td>\n",
       "      <td>5</td>\n",
       "      <td>2006</td>\n",
       "    </tr>\n",
       "    <tr>\n",
       "      <td>...</td>\n",
       "      <td>...</td>\n",
       "      <td>...</td>\n",
       "      <td>...</td>\n",
       "      <td>...</td>\n",
       "      <td>...</td>\n",
       "      <td>...</td>\n",
       "      <td>...</td>\n",
       "      <td>...</td>\n",
       "    </tr>\n",
       "    <tr>\n",
       "      <td>30307</td>\n",
       "      <td>KC1</td>\n",
       "      <td>NO</td>\n",
       "      <td>2019-10-27</td>\n",
       "      <td>12.1</td>\n",
       "      <td>ug m-3</td>\n",
       "      <td>P</td>\n",
       "      <td>10</td>\n",
       "      <td>2019</td>\n",
       "    </tr>\n",
       "    <tr>\n",
       "      <td>30308</td>\n",
       "      <td>KC1</td>\n",
       "      <td>NO</td>\n",
       "      <td>2019-10-28</td>\n",
       "      <td>49.9</td>\n",
       "      <td>ug m-3</td>\n",
       "      <td>P</td>\n",
       "      <td>10</td>\n",
       "      <td>2019</td>\n",
       "    </tr>\n",
       "    <tr>\n",
       "      <td>30309</td>\n",
       "      <td>KC1</td>\n",
       "      <td>NO</td>\n",
       "      <td>2019-10-29</td>\n",
       "      <td>4.0</td>\n",
       "      <td>ug m-3</td>\n",
       "      <td>P</td>\n",
       "      <td>10</td>\n",
       "      <td>2019</td>\n",
       "    </tr>\n",
       "    <tr>\n",
       "      <td>30310</td>\n",
       "      <td>KC1</td>\n",
       "      <td>NO</td>\n",
       "      <td>2019-10-30</td>\n",
       "      <td>7.4</td>\n",
       "      <td>ug m-3</td>\n",
       "      <td>P</td>\n",
       "      <td>10</td>\n",
       "      <td>2019</td>\n",
       "    </tr>\n",
       "    <tr>\n",
       "      <td>30311</td>\n",
       "      <td>KC1</td>\n",
       "      <td>NO</td>\n",
       "      <td>2019-10-31</td>\n",
       "      <td>17.9</td>\n",
       "      <td>ug m-3</td>\n",
       "      <td>P</td>\n",
       "      <td>10</td>\n",
       "      <td>2019</td>\n",
       "    </tr>\n",
       "  </tbody>\n",
       "</table>\n",
       "<p>4829 rows × 8 columns</p>\n",
       "</div>"
      ],
      "text/plain": [
       "      Site Species ReadingDateTime  Value   Units Provisional or Ratified  \\\n",
       "25260  KC1      NO      2006-01-01    4.5  ug m-3                       R   \n",
       "25261  KC1      NO      2006-02-01   21.9  ug m-3                       R   \n",
       "25262  KC1      NO      2006-03-01   28.9  ug m-3                       R   \n",
       "25263  KC1      NO      2006-04-01   22.3  ug m-3                       R   \n",
       "25264  KC1      NO      2006-05-01   20.7  ug m-3                       R   \n",
       "...    ...     ...             ...    ...     ...                     ...   \n",
       "30307  KC1      NO      2019-10-27   12.1  ug m-3                       P   \n",
       "30308  KC1      NO      2019-10-28   49.9  ug m-3                       P   \n",
       "30309  KC1      NO      2019-10-29    4.0  ug m-3                       P   \n",
       "30310  KC1      NO      2019-10-30    7.4  ug m-3                       P   \n",
       "30311  KC1      NO      2019-10-31   17.9  ug m-3                       P   \n",
       "\n",
       "       Month  Year  \n",
       "25260      1  2006  \n",
       "25261      2  2006  \n",
       "25262      3  2006  \n",
       "25263      4  2006  \n",
       "25264      5  2006  \n",
       "...      ...   ...  \n",
       "30307     10  2019  \n",
       "30308     10  2019  \n",
       "30309     10  2019  \n",
       "30310     10  2019  \n",
       "30311     10  2019  \n",
       "\n",
       "[4829 rows x 8 columns]"
      ]
     },
     "execution_count": 85,
     "metadata": {},
     "output_type": "execute_result"
    }
   ],
   "source": [
    "city_df_no2.loc[city_df_no2.duplicated()]"
   ]
  },
  {
   "cell_type": "code",
   "execution_count": 63,
   "metadata": {},
   "outputs": [
    {
     "data": {
      "text/html": [
       "<div>\n",
       "<style scoped>\n",
       "    .dataframe tbody tr th:only-of-type {\n",
       "        vertical-align: middle;\n",
       "    }\n",
       "\n",
       "    .dataframe tbody tr th {\n",
       "        vertical-align: top;\n",
       "    }\n",
       "\n",
       "    .dataframe thead th {\n",
       "        text-align: right;\n",
       "    }\n",
       "</style>\n",
       "<table border=\"1\" class=\"dataframe\">\n",
       "  <thead>\n",
       "    <tr style=\"text-align: right;\">\n",
       "      <th></th>\n",
       "      <th>Site</th>\n",
       "      <th>Species</th>\n",
       "      <th>ReadingDateTime</th>\n",
       "      <th>Value</th>\n",
       "      <th>Units</th>\n",
       "      <th>Provisional or Ratified</th>\n",
       "    </tr>\n",
       "  </thead>\n",
       "  <tbody>\n",
       "    <tr>\n",
       "      <td>30307</td>\n",
       "      <td>WM6</td>\n",
       "      <td>PM10</td>\n",
       "      <td>27/10/2019 00:00</td>\n",
       "      <td>20.0</td>\n",
       "      <td>ug/m3</td>\n",
       "      <td>P</td>\n",
       "    </tr>\n",
       "    <tr>\n",
       "      <td>30308</td>\n",
       "      <td>WM6</td>\n",
       "      <td>PM10</td>\n",
       "      <td>28/10/2019 00:00</td>\n",
       "      <td>27.0</td>\n",
       "      <td>ug/m3</td>\n",
       "      <td>P</td>\n",
       "    </tr>\n",
       "    <tr>\n",
       "      <td>30309</td>\n",
       "      <td>WM6</td>\n",
       "      <td>PM10</td>\n",
       "      <td>29/10/2019 00:00</td>\n",
       "      <td>18.0</td>\n",
       "      <td>ug/m3</td>\n",
       "      <td>P</td>\n",
       "    </tr>\n",
       "    <tr>\n",
       "      <td>30310</td>\n",
       "      <td>WM6</td>\n",
       "      <td>PM10</td>\n",
       "      <td>30/10/2019 00:00</td>\n",
       "      <td>30.0</td>\n",
       "      <td>ug/m3</td>\n",
       "      <td>P</td>\n",
       "    </tr>\n",
       "    <tr>\n",
       "      <td>30311</td>\n",
       "      <td>WM6</td>\n",
       "      <td>PM10</td>\n",
       "      <td>31/10/2019 00:00</td>\n",
       "      <td>41.0</td>\n",
       "      <td>ug/m3</td>\n",
       "      <td>P</td>\n",
       "    </tr>\n",
       "  </tbody>\n",
       "</table>\n",
       "</div>"
      ],
      "text/plain": [
       "      Site Species   ReadingDateTime  Value  Units Provisional or Ratified\n",
       "30307  WM6    PM10  27/10/2019 00:00   20.0  ug/m3                       P\n",
       "30308  WM6    PM10  28/10/2019 00:00   27.0  ug/m3                       P\n",
       "30309  WM6    PM10  29/10/2019 00:00   18.0  ug/m3                       P\n",
       "30310  WM6    PM10  30/10/2019 00:00   30.0  ug/m3                       P\n",
       "30311  WM6    PM10  31/10/2019 00:00   41.0  ug/m3                       P"
      ]
     },
     "execution_count": 63,
     "metadata": {},
     "output_type": "execute_result"
    }
   ],
   "source": [
    "# cleaning the data as before\n",
    "city_df_pm10.tail()"
   ]
  },
  {
   "cell_type": "code",
   "execution_count": 69,
   "metadata": {},
   "outputs": [
    {
     "data": {
      "text/plain": [
       "30312"
      ]
     },
     "execution_count": 69,
     "metadata": {},
     "output_type": "execute_result"
    }
   ],
   "source": [
    "len(city_df_pm10)"
   ]
  },
  {
   "cell_type": "code",
   "execution_count": 70,
   "metadata": {},
   "outputs": [
    {
     "data": {
      "text/plain": [
       "30312"
      ]
     },
     "execution_count": 70,
     "metadata": {},
     "output_type": "execute_result"
    }
   ],
   "source": [
    "len(city_df_no2)"
   ]
  },
  {
   "cell_type": "code",
   "execution_count": 68,
   "metadata": {},
   "outputs": [
    {
     "name": "stdout",
     "output_type": "stream",
     "text": [
      "6479\n",
      "4509\n"
     ]
    }
   ],
   "source": [
    "print(len(city_df_pm10.loc[city_df_pm10.Value.isna()]))\n",
    "print(len(city_df_no2.loc[city_df_no2.Value.isna()]))"
   ]
  },
  {
   "cell_type": "code",
   "execution_count": 76,
   "metadata": {},
   "outputs": [],
   "source": [
    "city_df_pm10 = city_df_pm10.dropna()\n",
    "city_df_no2 = city_df_no2.dropna()\n",
    "\n",
    "# city_df_pm10 = city_df_pm10.\n",
    "\n",
    "city_df_pm10.ReadingDateTime = pd.to_datetime(city_df_pm10.ReadingDateTime)\n",
    "city_df_no2.ReadingDateTime = pd.to_datetime(city_df_no2.ReadingDateTime)\n",
    "\n",
    "city_df_pm10['Year'] = city_df_pm10.ReadingDateTime.dt.year\n",
    "city_df_no2['Year'] = city_df_no2.ReadingDateTime.dt.year\n",
    "\n",
    "city_df_pm10['Month'] = city_df_pm10.ReadingDateTime.dt.month\n",
    "city_df_no2['Month'] = city_df_no2.ReadingDateTime.dt.month\n"
   ]
  },
  {
   "cell_type": "code",
   "execution_count": 77,
   "metadata": {},
   "outputs": [
    {
     "data": {
      "text/html": [
       "<div>\n",
       "<style scoped>\n",
       "    .dataframe tbody tr th:only-of-type {\n",
       "        vertical-align: middle;\n",
       "    }\n",
       "\n",
       "    .dataframe tbody tr th {\n",
       "        vertical-align: top;\n",
       "    }\n",
       "\n",
       "    .dataframe thead th {\n",
       "        text-align: right;\n",
       "    }\n",
       "</style>\n",
       "<table border=\"1\" class=\"dataframe\">\n",
       "  <thead>\n",
       "    <tr style=\"text-align: right;\">\n",
       "      <th></th>\n",
       "      <th>Site</th>\n",
       "      <th>Species</th>\n",
       "      <th>Value</th>\n",
       "      <th>Units</th>\n",
       "      <th>Month</th>\n",
       "      <th>Year</th>\n",
       "    </tr>\n",
       "  </thead>\n",
       "  <tbody>\n",
       "    <tr>\n",
       "      <td>30307</td>\n",
       "      <td>KC1</td>\n",
       "      <td>NO</td>\n",
       "      <td>12.1</td>\n",
       "      <td>ug m-3</td>\n",
       "      <td>10</td>\n",
       "      <td>2019</td>\n",
       "    </tr>\n",
       "    <tr>\n",
       "      <td>30308</td>\n",
       "      <td>KC1</td>\n",
       "      <td>NO</td>\n",
       "      <td>49.9</td>\n",
       "      <td>ug m-3</td>\n",
       "      <td>10</td>\n",
       "      <td>2019</td>\n",
       "    </tr>\n",
       "    <tr>\n",
       "      <td>30309</td>\n",
       "      <td>KC1</td>\n",
       "      <td>NO</td>\n",
       "      <td>4.0</td>\n",
       "      <td>ug m-3</td>\n",
       "      <td>10</td>\n",
       "      <td>2019</td>\n",
       "    </tr>\n",
       "    <tr>\n",
       "      <td>30310</td>\n",
       "      <td>KC1</td>\n",
       "      <td>NO</td>\n",
       "      <td>7.4</td>\n",
       "      <td>ug m-3</td>\n",
       "      <td>10</td>\n",
       "      <td>2019</td>\n",
       "    </tr>\n",
       "    <tr>\n",
       "      <td>30311</td>\n",
       "      <td>KC1</td>\n",
       "      <td>NO</td>\n",
       "      <td>17.9</td>\n",
       "      <td>ug m-3</td>\n",
       "      <td>10</td>\n",
       "      <td>2019</td>\n",
       "    </tr>\n",
       "  </tbody>\n",
       "</table>\n",
       "</div>"
      ],
      "text/plain": [
       "      Site Species  Value   Units  Month  Year\n",
       "30307  KC1      NO   12.1  ug m-3     10  2019\n",
       "30308  KC1      NO   49.9  ug m-3     10  2019\n",
       "30309  KC1      NO    4.0  ug m-3     10  2019\n",
       "30310  KC1      NO    7.4  ug m-3     10  2019\n",
       "30311  KC1      NO   17.9  ug m-3     10  2019"
      ]
     },
     "execution_count": 77,
     "metadata": {},
     "output_type": "execute_result"
    }
   ],
   "source": [
    "ulez_test_df_no2 = city_df_no2.loc[(city_df_no2.Month == 5)|(city_df_no2.Month == 10)].drop(columns=['ReadingDateTime','Provisional or Ratified'])\n",
    "ulez_test_df_pm10 = city_df_pm10.loc[(city_df_pm10.Month == 5)|(city_df_pm10.Month == 10)].drop(columns=['ReadingDateTime','Provisional or Ratified'])\n",
    "\n",
    "ulez_test_df_no2.tail()"
   ]
  },
  {
   "cell_type": "code",
   "execution_count": 78,
   "metadata": {},
   "outputs": [],
   "source": [
    "pre_ulez_no2 = ulez_test_df_no2.loc[ulez_test_df_no2['Year']==2018]\n",
    "post_ulez_no2 = ulez_test_df_no2.loc[ulez_test_df_no2['Year']==2019]\n",
    "\n",
    "pre_ulez_pm10 = ulez_test_df_pm10.loc[ulez_test_df_pm10['Year']==2018]\n",
    "post_ulez_pm10 = ulez_test_df_pm10.loc[ulez_test_df_pm10['Year']==2019]"
   ]
  },
  {
   "cell_type": "code",
   "execution_count": 79,
   "metadata": {},
   "outputs": [
    {
     "data": {
      "text/plain": [
       "Ttest_indResult(statistic=4.231541338133171, pvalue=2.6649469955547735e-05)"
      ]
     },
     "execution_count": 79,
     "metadata": {},
     "output_type": "execute_result"
    }
   ],
   "source": [
    "stats.ttest_ind(pre_ulez_no2.Value, post_ulez_no2.Value, equal_var=False)"
   ]
  },
  {
   "cell_type": "code",
   "execution_count": 80,
   "metadata": {},
   "outputs": [
    {
     "data": {
      "text/plain": [
       "Ttest_indResult(statistic=8.483597601594548, pvalue=2.2246100032624727e-16)"
      ]
     },
     "execution_count": 80,
     "metadata": {},
     "output_type": "execute_result"
    }
   ],
   "source": [
    "stats.ttest_ind(pre_ulez_pm10.Value, post_ulez_pm10.Value, equal_var=False)"
   ]
  },
  {
   "cell_type": "code",
   "execution_count": 81,
   "metadata": {},
   "outputs": [
    {
     "name": "stdout",
     "output_type": "stream",
     "text": [
      "The effect of ULEZ on the levels of NO2 in the City of London:  0.31888741475790605\n"
     ]
    }
   ],
   "source": [
    "print(\"The effect of ULEZ on the levels of NO2 in the City of London: \", Cohen_d(pre_ulez_no2.Value, post_ulez_no2.Value))"
   ]
  },
  {
   "cell_type": "code",
   "execution_count": 82,
   "metadata": {},
   "outputs": [
    {
     "name": "stdout",
     "output_type": "stream",
     "text": [
      "The effect of ULEZ on the levels of PM10 in the City of London:  0.6937046100406896\n"
     ]
    }
   ],
   "source": [
    "print(\"The effect of ULEZ on the levels of PM10 in the City of London: \", Cohen_d(pre_ulez_pm10.Value, post_ulez_pm10.Value))"
   ]
  },
  {
   "cell_type": "code",
   "execution_count": null,
   "metadata": {},
   "outputs": [],
   "source": []
  }
 ],
 "metadata": {
  "kernelspec": {
   "display_name": "Python 3",
   "language": "python",
   "name": "python3"
  },
  "language_info": {
   "codemirror_mode": {
    "name": "ipython",
    "version": 3
   },
   "file_extension": ".py",
   "mimetype": "text/x-python",
   "name": "python",
   "nbconvert_exporter": "python",
   "pygments_lexer": "ipython3",
   "version": "3.6.9"
  }
 },
 "nbformat": 4,
 "nbformat_minor": 2
}
