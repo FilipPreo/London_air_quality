{
 "cells": [
  {
   "cell_type": "markdown",
   "metadata": {},
   "source": [
    "# Module 3 Project - London Air Quality analysis\n",
    "\n",
    "1. [Introduction](#intro)\n",
    "2. [Exploratory Data Analysis](#EDA)\n",
    "3. [Cleaning](#Cleaning)\n",
    "4. [Statistical Analysis](#stats)\n",
    "5. [Discussion](#disc)\n",
    "\n"
   ]
  },
  {
   "cell_type": "markdown",
   "metadata": {},
   "source": [
    "<a id='intro'></a>\n",
    "\n",
    "1. Introduction\n",
    "\n",
    "    - background about project\n",
    "    - motivation\n",
    "    - hypotheses"
   ]
  },
  {
   "cell_type": "code",
   "execution_count": 7,
   "metadata": {},
   "outputs": [],
   "source": [
    "import pandas as pd\n",
    "import numpy as np\n",
    "import statsmodels.stats as sms\n",
    "from functions import APICaller\n",
    "import seaborn as sns\n",
    "import matplotlib.pyplot as plt\n",
    "import requests as req\n",
    "import time\n",
    "import scipy.stats as stats\n",
    "sns.set_style('darkgrid')"
   ]
  },
  {
   "cell_type": "code",
   "execution_count": 8,
   "metadata": {},
   "outputs": [
    {
     "data": {
      "text/plain": [
       "{'DailyAirQualityIndex': {'@MonitoringIndexDate': '2008-06-01',\n",
       "  '@TimeToLive': '59',\n",
       "  'LocalAuthority': {'@LocalAuthorityCode': '17',\n",
       "   '@LocalAuthorityName': 'Hillingdon',\n",
       "   '@LaCentreLatitude': '51.533411',\n",
       "   '@LaCentreLongitude': '-0.452568',\n",
       "   '@LaCentreLatitudeWGS84': '6716195.906043',\n",
       "   '@LaCentreLongitudeWGS84': '-50379.639309',\n",
       "   'Site': {'@BulletinDate': '2008-06-01 00:00:00',\n",
       "    '@SiteCode': 'LH0',\n",
       "    '@SiteName': 'Hillingdon - Harlington',\n",
       "    '@SiteType': 'Urban Background',\n",
       "    '@Latitude': '51.48878',\n",
       "    '@Longitude': '-0.441627',\n",
       "    '@LatitudeWGS84': '6708212.94408',\n",
       "    '@LongitudeWGS84': '-49161.6927606',\n",
       "    'Species': [{'@SpeciesCode': 'NO2',\n",
       "      '@SpeciesDescription': 'Nitrogen Dioxide',\n",
       "      '@AirQualityIndex': '1',\n",
       "      '@AirQualityBand': 'Low',\n",
       "      '@IndexSource': 'Measurement'},\n",
       "     {'@SpeciesCode': 'O3',\n",
       "      '@SpeciesDescription': 'Ozone',\n",
       "      '@AirQualityIndex': '3',\n",
       "      '@AirQualityBand': 'Low',\n",
       "      '@IndexSource': 'Measurement'}]}}}}"
      ]
     },
     "execution_count": 8,
     "metadata": {},
     "output_type": "execute_result"
    }
   ],
   "source": [
    "# first testing of data retrieval from 1st API\n",
    "location1 = 'LH0'\n",
    "date = '2008-06-01'\n",
    "url_extension = '/Daily/MonitoringIndex/SiteCode='\n",
    "openaq_caller = APICaller(base_url='http://api.erg.kcl.ac.uk/AirQuality', ignore_token=True)\n",
    "\n",
    "test_resp = openaq_caller.retrieve_one(url_extension,location=location1, date=date)\n",
    "\n",
    "test_resp"
   ]
  },
  {
   "cell_type": "code",
   "execution_count": 100,
   "metadata": {},
   "outputs": [
    {
     "name": "stdout",
     "output_type": "stream",
     "text": [
      "http://api.erg.kcl.ac.uk/AirQuality/Information/Species/Json\n"
     ]
    },
    {
     "data": {
      "text/plain": [
       "{'AirQualitySpecies': {'Species': [{'@SpeciesCode': 'CO',\n",
       "    '@SpeciesName': 'Carbon Monoxide',\n",
       "    '@Description': \"Carbon Monoxide is a colourless, odourless poisonous gas produced by incomplete, or inefficient, combustion of fuel including 'cold' or badly tuned engines.\",\n",
       "    '@HealthEffect': 'The gas affects the transport of oxygen around the body by the blood. At very high levels, this can lead to a significant reduction in the supply of oxygen to the heart, particularly in people suffering from heart disease.',\n",
       "    '@Link': 'http://www.londonair.org.uk/LondonAir/guide/WhatIsCO.aspx'},\n",
       "   {'@SpeciesCode': 'NO2',\n",
       "    '@SpeciesName': 'Nitrogen Dioxide',\n",
       "    '@Description': 'Nitrogen oxides are formed during high temperature combustion processes from the oxidation of nitrogen in the air or fuel.',\n",
       "    '@HealthEffect': 'Nitrogen Dioxide has several health impacts and includes general irritation to the eyes, irritation of the respiratory system and shortness of breath.',\n",
       "    '@Link': 'http://www.londonair.org.uk/LondonAir/guide/WhatIsNO2.aspx'},\n",
       "   {'@SpeciesCode': 'O3',\n",
       "    '@SpeciesName': 'Ozone',\n",
       "    '@Description': 'Ozone is not directly emitted, but is formed by a complex set of reactions involving nitrogen oxides and hydrocarbons in the presence of sunlight.',\n",
       "    '@HealthEffect': 'Like nitrogen dioxide, high levels of ozone can irritate and inflame the lungs. It can also cause eye irritation, migraine and coughing.',\n",
       "    '@Link': 'http://www.londonair.org.uk/LondonAir/guide/WhatIsO3.aspx'},\n",
       "   {'@SpeciesCode': 'PM10',\n",
       "    '@SpeciesName': 'PM10 Particulate',\n",
       "    '@Description': 'Larger particles in the atmosphere are generally filtered in the nose and throat and do not cause problems, but particulate matter smaller than about 10 micrometers, referred to as PM10, can settle in the bronchi and lungs and cause health problems.',\n",
       "    '@HealthEffect': 'The effects of inhaling particulate matter have been widely studied in humans and animals and include asthma, respiratory problems and cardiovascular issues.',\n",
       "    '@Link': 'http://www.londonair.org.uk/LondonAir/guide/WhatIsPM.aspx'},\n",
       "   {'@SpeciesCode': 'PM25',\n",
       "    '@SpeciesName': 'PM2.5 Particulate',\n",
       "    '@Description': 'These are particles which are less than 2.5 micrometers (a thousandth of a millimetre) in diameter. Particles are made up of many different chemicals, including toxic metals and organic compounds, some of which are highly chemically reactive and researchers consider these to be involved in the toxicological effects of particles.',\n",
       "    '@HealthEffect': 'They are thought to have a greater effect on health than larger particles as they can be carried deeper into the lungs where they can cause inflammation and worsen heart and lung diseases.',\n",
       "    '@Link': 'http://www.londonair.org.uk/LondonAir/guide/WhatIsPM.aspx'},\n",
       "   {'@SpeciesCode': 'SO2',\n",
       "    '@SpeciesName': 'Sulphur Dioxide',\n",
       "    '@Description': 'Sulphur Dioxide is produced when a material or fuel containing sulphur is burned. Pollution episodes only generally occur where there is widespread domestic use of coal or in the vicinity of coal or oil-fired power stations.',\n",
       "    '@HealthEffect': 'Short-term exposure to high levels of sulphur dioxide may cause coughing, tightening of the chest and irritation of the lungs.',\n",
       "    '@Link': 'http://www.londonair.org.uk/LondonAir/guide/WhatIsSO2.aspx'}]}}"
      ]
     },
     "execution_count": 100,
     "metadata": {},
     "output_type": "execute_result"
    }
   ],
   "source": [
    "#  retrieve name of species (pollutants);\n",
    "url_for_species = '/Information/Species/Json'\n",
    "# species_list = openaq_caller.retrieve_one(url_extension=url_for_species)\n",
    "#  http://api.erg.kcl.ac.uk/AirQuality/Information/Species/Json\n",
    "base_url='http://api.erg.kcl.ac.uk/AirQuality'\n",
    "def retrieve_one(main_url,url_extension,location=None, date=None, date1=None):  \n",
    "        if date1!=None:\n",
    "            response = req.get(main_url+url_extension+f'{location}/StartDate={date}/EndDate={date1}/Json').json()\n",
    "        elif (date!=None and date1==None):\n",
    "            response = req.get(main_url+url_extension+f'{location}/Date={date}/Json').json()\n",
    "        else:\n",
    "            print(base_url+url_extension)\n",
    "            response = req.get(main_url+url_extension).json()\n",
    "        return response\n",
    "    \n",
    "    \n",
    "retrieve_one(main_url=base_url, url_extension=url_for_species)"
   ]
  },
  {
   "cell_type": "code",
   "execution_count": 101,
   "metadata": {},
   "outputs": [
    {
     "name": "stdout",
     "output_type": "stream",
     "text": [
      "<Response [404]>\n"
     ]
    }
   ],
   "source": [
    "url_for_sites = '/MonitoringIndex/GroupName={GroupName}/Json'\n",
    "url_for_daily_1_date = '/Daily/MonitoringIndex/GroupName={GroupName}/Date=2018/06/03/Json'\n",
    "# retrieve_one(main_url=base_url, url_extension=url_for_daily_1_date, )\n",
    "\n",
    "print(req.get(base_url + url_for_sites))"
   ]
  },
  {
   "cell_type": "code",
   "execution_count": 102,
   "metadata": {},
   "outputs": [],
   "source": [
    "def retrieve_many(main_url,url_ext,location_list,species, start_date_list, end_date_list):\n",
    "        data = []\n",
    "        counter=0\n",
    "        for i in range(len(start_date_list)):\n",
    "            for location in location_list:\n",
    "                response = req.get(f'{main_url}{url_ext}/SiteCode={location}/SpeciesCode={species}/StartDate={start_date_list[i]}/EndDate={end_date_list[i]}/Json').json()\n",
    "                data.append(response)\n",
    "                counter+=1\n",
    "            data_df = pd.read_json(data)    \n",
    "            return data_df\n",
    "    \n"
   ]
  },
  {
   "cell_type": "code",
   "execution_count": 103,
   "metadata": {},
   "outputs": [
    {
     "name": "stdout",
     "output_type": "stream",
     "text": [
      "<Response [404]>\n"
     ]
    }
   ],
   "source": [
    "response = req.get('http://api.erg.kcl.ac.uk/AirQuality/Data/SiteSpecies/SiteCode=CT3/SpeciesCode=NO2/StartDate=2006/05/01/EndDate=2006/05/02/csv')\n",
    "\n",
    "print(response)"
   ]
  },
  {
   "cell_type": "code",
   "execution_count": 104,
   "metadata": {
    "scrolled": true
   },
   "outputs": [
    {
     "ename": "JSONDecodeError",
     "evalue": "Unexpected UTF-8 BOM (decode using utf-8-sig): line 1 column 1 (char 0)",
     "output_type": "error",
     "traceback": [
      "\u001b[0;31m---------------------------------------------------------------------------\u001b[0m",
      "\u001b[0;31mJSONDecodeError\u001b[0m                           Traceback (most recent call last)",
      "\u001b[0;32m<ipython-input-104-51c2380484b4>\u001b[0m in \u001b[0;36m<module>\u001b[0;34m\u001b[0m\n\u001b[1;32m      7\u001b[0m \u001b[0mend_dates\u001b[0m \u001b[0;34m=\u001b[0m \u001b[0;34m[\u001b[0m\u001b[0;34m'2006/06/01'\u001b[0m\u001b[0;34m,\u001b[0m \u001b[0;34m'2006/11/01'\u001b[0m\u001b[0;34m]\u001b[0m\u001b[0;34m\u001b[0m\u001b[0;34m\u001b[0m\u001b[0m\n\u001b[1;32m      8\u001b[0m \u001b[0;34m\u001b[0m\u001b[0m\n\u001b[0;32m----> 9\u001b[0;31m \u001b[0mNO2_LEZ\u001b[0m \u001b[0;34m=\u001b[0m \u001b[0mretrieve_many\u001b[0m\u001b[0;34m(\u001b[0m\u001b[0mmain_url\u001b[0m\u001b[0;34m=\u001b[0m\u001b[0mbase_url\u001b[0m\u001b[0;34m,\u001b[0m \u001b[0murl_ext\u001b[0m \u001b[0;34m=\u001b[0m \u001b[0murl_data\u001b[0m\u001b[0;34m,\u001b[0m \u001b[0mlocation_list\u001b[0m\u001b[0;34m=\u001b[0m\u001b[0mlocation_list0\u001b[0m\u001b[0;34m,\u001b[0m \u001b[0mspecies\u001b[0m\u001b[0;34m=\u001b[0m\u001b[0mspecies_code\u001b[0m\u001b[0;34m,\u001b[0m \u001b[0mstart_date_list\u001b[0m \u001b[0;34m=\u001b[0m \u001b[0mstart_dates\u001b[0m\u001b[0;34m,\u001b[0m \u001b[0mend_date_list\u001b[0m \u001b[0;34m=\u001b[0m \u001b[0mend_dates\u001b[0m\u001b[0;34m)\u001b[0m\u001b[0;34m\u001b[0m\u001b[0;34m\u001b[0m\u001b[0m\n\u001b[0m",
      "\u001b[0;32m<ipython-input-102-1d29c6f29a65>\u001b[0m in \u001b[0;36mretrieve_many\u001b[0;34m(main_url, url_ext, location_list, species, start_date_list, end_date_list)\u001b[0m\n\u001b[1;32m      4\u001b[0m         \u001b[0;32mfor\u001b[0m \u001b[0mi\u001b[0m \u001b[0;32min\u001b[0m \u001b[0mrange\u001b[0m\u001b[0;34m(\u001b[0m\u001b[0mlen\u001b[0m\u001b[0;34m(\u001b[0m\u001b[0mstart_date_list\u001b[0m\u001b[0;34m)\u001b[0m\u001b[0;34m)\u001b[0m\u001b[0;34m:\u001b[0m\u001b[0;34m\u001b[0m\u001b[0;34m\u001b[0m\u001b[0m\n\u001b[1;32m      5\u001b[0m             \u001b[0;32mfor\u001b[0m \u001b[0mlocation\u001b[0m \u001b[0;32min\u001b[0m \u001b[0mlocation_list\u001b[0m\u001b[0;34m:\u001b[0m\u001b[0;34m\u001b[0m\u001b[0;34m\u001b[0m\u001b[0m\n\u001b[0;32m----> 6\u001b[0;31m                 \u001b[0mresponse\u001b[0m \u001b[0;34m=\u001b[0m \u001b[0mreq\u001b[0m\u001b[0;34m.\u001b[0m\u001b[0mget\u001b[0m\u001b[0;34m(\u001b[0m\u001b[0;34mf'{main_url}{url_ext}/SiteCode={location}/SpeciesCode={species}/StartDate={start_date_list[i]}/EndDate={end_date_list[i]}/Json'\u001b[0m\u001b[0;34m)\u001b[0m\u001b[0;34m.\u001b[0m\u001b[0mjson\u001b[0m\u001b[0;34m(\u001b[0m\u001b[0;34m)\u001b[0m\u001b[0;34m\u001b[0m\u001b[0;34m\u001b[0m\u001b[0m\n\u001b[0m\u001b[1;32m      7\u001b[0m                 \u001b[0mdata\u001b[0m\u001b[0;34m.\u001b[0m\u001b[0mappend\u001b[0m\u001b[0;34m(\u001b[0m\u001b[0mresponse\u001b[0m\u001b[0;34m)\u001b[0m\u001b[0;34m\u001b[0m\u001b[0;34m\u001b[0m\u001b[0m\n\u001b[1;32m      8\u001b[0m                 \u001b[0mcounter\u001b[0m\u001b[0;34m+=\u001b[0m\u001b[0;36m1\u001b[0m\u001b[0;34m\u001b[0m\u001b[0;34m\u001b[0m\u001b[0m\n",
      "\u001b[0;32m~/anaconda3/envs/learn-env/lib/python3.6/site-packages/requests/models.py\u001b[0m in \u001b[0;36mjson\u001b[0;34m(self, **kwargs)\u001b[0m\n\u001b[1;32m    895\u001b[0m                     \u001b[0;31m# used.\u001b[0m\u001b[0;34m\u001b[0m\u001b[0;34m\u001b[0m\u001b[0;34m\u001b[0m\u001b[0m\n\u001b[1;32m    896\u001b[0m                     \u001b[0;32mpass\u001b[0m\u001b[0;34m\u001b[0m\u001b[0;34m\u001b[0m\u001b[0m\n\u001b[0;32m--> 897\u001b[0;31m         \u001b[0;32mreturn\u001b[0m \u001b[0mcomplexjson\u001b[0m\u001b[0;34m.\u001b[0m\u001b[0mloads\u001b[0m\u001b[0;34m(\u001b[0m\u001b[0mself\u001b[0m\u001b[0;34m.\u001b[0m\u001b[0mtext\u001b[0m\u001b[0;34m,\u001b[0m \u001b[0;34m**\u001b[0m\u001b[0mkwargs\u001b[0m\u001b[0;34m)\u001b[0m\u001b[0;34m\u001b[0m\u001b[0;34m\u001b[0m\u001b[0m\n\u001b[0m\u001b[1;32m    898\u001b[0m \u001b[0;34m\u001b[0m\u001b[0m\n\u001b[1;32m    899\u001b[0m     \u001b[0;34m@\u001b[0m\u001b[0mproperty\u001b[0m\u001b[0;34m\u001b[0m\u001b[0;34m\u001b[0m\u001b[0m\n",
      "\u001b[0;32m~/anaconda3/envs/learn-env/lib/python3.6/json/__init__.py\u001b[0m in \u001b[0;36mloads\u001b[0;34m(s, encoding, cls, object_hook, parse_float, parse_int, parse_constant, object_pairs_hook, **kw)\u001b[0m\n\u001b[1;32m    342\u001b[0m         \u001b[0;32mif\u001b[0m \u001b[0ms\u001b[0m\u001b[0;34m.\u001b[0m\u001b[0mstartswith\u001b[0m\u001b[0;34m(\u001b[0m\u001b[0;34m'\\ufeff'\u001b[0m\u001b[0;34m)\u001b[0m\u001b[0;34m:\u001b[0m\u001b[0;34m\u001b[0m\u001b[0;34m\u001b[0m\u001b[0m\n\u001b[1;32m    343\u001b[0m             raise JSONDecodeError(\"Unexpected UTF-8 BOM (decode using utf-8-sig)\",\n\u001b[0;32m--> 344\u001b[0;31m                                   s, 0)\n\u001b[0m\u001b[1;32m    345\u001b[0m     \u001b[0;32melse\u001b[0m\u001b[0;34m:\u001b[0m\u001b[0;34m\u001b[0m\u001b[0;34m\u001b[0m\u001b[0m\n\u001b[1;32m    346\u001b[0m         \u001b[0;32mif\u001b[0m \u001b[0;32mnot\u001b[0m \u001b[0misinstance\u001b[0m\u001b[0;34m(\u001b[0m\u001b[0ms\u001b[0m\u001b[0;34m,\u001b[0m \u001b[0;34m(\u001b[0m\u001b[0mbytes\u001b[0m\u001b[0;34m,\u001b[0m \u001b[0mbytearray\u001b[0m\u001b[0;34m)\u001b[0m\u001b[0;34m)\u001b[0m\u001b[0;34m:\u001b[0m\u001b[0;34m\u001b[0m\u001b[0;34m\u001b[0m\u001b[0m\n",
      "\u001b[0;31mJSONDecodeError\u001b[0m: Unexpected UTF-8 BOM (decode using utf-8-sig): line 1 column 1 (char 0)"
     ]
    }
   ],
   "source": [
    "# will set loop to run over multiple dates\n",
    "base_url='http://api.erg.kcl.ac.uk/AirQuality'\n",
    "location_list0 = ['LH0','ZR2', 'BL0', 'EN4', 'CT3', 'RI1']\n",
    "species_code='NO2'\n",
    "url_data = '/Data/SiteSpecies'\n",
    "start_dates = ['2006/05/01', '2006/10/01']\n",
    "end_dates = ['2006/06/01', '2006/11/01']\n",
    "\n",
    "NO2_LEZ = retrieve_many(main_url=base_url, url_ext = url_data, location_list=location_list0, species=species_code, start_date_list = start_dates, end_date_list = end_dates)"
   ]
  },
  {
   "cell_type": "code",
   "execution_count": null,
   "metadata": {},
   "outputs": [],
   "source": [
    "# API failed to work after many attempts. Might go back to this. Will just use CSV downloaded data for now. "
   ]
  },
  {
   "cell_type": "markdown",
   "metadata": {},
   "source": [
    "### Data cleaning\n",
    "\n",
    "We've downloaded and have processed our data. We've initially selected data for six sites across Inner London for the LEZ testing (hypotheses 2 and 4). "
   ]
  },
  {
   "cell_type": "code",
   "execution_count": 9,
   "metadata": {},
   "outputs": [
    {
     "name": "stdout",
     "output_type": "stream",
     "text": [
      "(25260, 6)\n"
     ]
    },
    {
     "data": {
      "text/html": [
       "<div>\n",
       "<style scoped>\n",
       "    .dataframe tbody tr th:only-of-type {\n",
       "        vertical-align: middle;\n",
       "    }\n",
       "\n",
       "    .dataframe tbody tr th {\n",
       "        vertical-align: top;\n",
       "    }\n",
       "\n",
       "    .dataframe thead th {\n",
       "        text-align: right;\n",
       "    }\n",
       "</style>\n",
       "<table border=\"1\" class=\"dataframe\">\n",
       "  <thead>\n",
       "    <tr style=\"text-align: right;\">\n",
       "      <th></th>\n",
       "      <th>Site</th>\n",
       "      <th>Species</th>\n",
       "      <th>ReadingDateTime</th>\n",
       "      <th>Value</th>\n",
       "      <th>Units</th>\n",
       "      <th>Provisional or Ratified</th>\n",
       "    </tr>\n",
       "  </thead>\n",
       "  <tbody>\n",
       "    <tr>\n",
       "      <td>0</td>\n",
       "      <td>CT3</td>\n",
       "      <td>NO2</td>\n",
       "      <td>01/01/2006 00:00</td>\n",
       "      <td>37.4</td>\n",
       "      <td>ug m-3</td>\n",
       "      <td>R</td>\n",
       "    </tr>\n",
       "    <tr>\n",
       "      <td>1</td>\n",
       "      <td>CT3</td>\n",
       "      <td>NO2</td>\n",
       "      <td>02/01/2006 00:00</td>\n",
       "      <td>39.8</td>\n",
       "      <td>ug m-3</td>\n",
       "      <td>R</td>\n",
       "    </tr>\n",
       "    <tr>\n",
       "      <td>2</td>\n",
       "      <td>CT3</td>\n",
       "      <td>NO2</td>\n",
       "      <td>03/01/2006 00:00</td>\n",
       "      <td>57.5</td>\n",
       "      <td>ug m-3</td>\n",
       "      <td>R</td>\n",
       "    </tr>\n",
       "    <tr>\n",
       "      <td>3</td>\n",
       "      <td>CT3</td>\n",
       "      <td>NO2</td>\n",
       "      <td>04/01/2006 00:00</td>\n",
       "      <td>51.0</td>\n",
       "      <td>ug m-3</td>\n",
       "      <td>R</td>\n",
       "    </tr>\n",
       "    <tr>\n",
       "      <td>4</td>\n",
       "      <td>CT3</td>\n",
       "      <td>NO2</td>\n",
       "      <td>05/01/2006 00:00</td>\n",
       "      <td>50.7</td>\n",
       "      <td>ug m-3</td>\n",
       "      <td>R</td>\n",
       "    </tr>\n",
       "  </tbody>\n",
       "</table>\n",
       "</div>"
      ],
      "text/plain": [
       "  Site Species   ReadingDateTime  Value   Units Provisional or Ratified\n",
       "0  CT3     NO2  01/01/2006 00:00   37.4  ug m-3                       R\n",
       "1  CT3     NO2  02/01/2006 00:00   39.8  ug m-3                       R\n",
       "2  CT3     NO2  03/01/2006 00:00   57.5  ug m-3                       R\n",
       "3  CT3     NO2  04/01/2006 00:00   51.0  ug m-3                       R\n",
       "4  CT3     NO2  05/01/2006 00:00   50.7  ug m-3                       R"
      ]
     },
     "execution_count": 9,
     "metadata": {},
     "output_type": "execute_result"
    }
   ],
   "source": [
    "df_no2 = pd.read_csv('city_no2.csv')\n",
    "print(df_no2.shape)\n",
    "df_no2.head()"
   ]
  },
  {
   "cell_type": "code",
   "execution_count": 10,
   "metadata": {},
   "outputs": [
    {
     "ename": "IndentationError",
     "evalue": "expected an indented block (data_cleaning.py, line 28)",
     "output_type": "error",
     "traceback": [
      "Traceback \u001b[0;36m(most recent call last)\u001b[0m:\n",
      "  File \u001b[1;32m\"/Users/flatironschool/anaconda3/envs/learn-env/lib/python3.6/site-packages/IPython/core/interactiveshell.py\"\u001b[0m, line \u001b[1;32m3326\u001b[0m, in \u001b[1;35mrun_code\u001b[0m\n    exec(code_obj, self.user_global_ns, self.user_ns)\n",
      "\u001b[0;36m  File \u001b[0;32m\"<ipython-input-10-1a2f4375774e>\"\u001b[0;36m, line \u001b[0;32m1\u001b[0;36m, in \u001b[0;35m<module>\u001b[0;36m\u001b[0m\n\u001b[0;31m    import data_cleaning\u001b[0m\n",
      "\u001b[0;36m  File \u001b[0;32m\"/Users/flatironschool/Desktop/Io/mod3proj/London_air_quality/data_cleaning.py\"\u001b[0;36m, line \u001b[0;32m28\u001b[0m\n\u001b[0;31m    \"\"\"\u001b[0m\n\u001b[0m       \n^\u001b[0m\n\u001b[0;31mIndentationError\u001b[0m\u001b[0;31m:\u001b[0m expected an indented block\n"
     ]
    }
   ],
   "source": [
    "import data_cleaning"
   ]
  },
  {
   "cell_type": "code",
   "execution_count": 11,
   "metadata": {},
   "outputs": [
    {
     "data": {
      "text/html": [
       "<div>\n",
       "<style scoped>\n",
       "    .dataframe tbody tr th:only-of-type {\n",
       "        vertical-align: middle;\n",
       "    }\n",
       "\n",
       "    .dataframe tbody tr th {\n",
       "        vertical-align: top;\n",
       "    }\n",
       "\n",
       "    .dataframe thead th {\n",
       "        text-align: right;\n",
       "    }\n",
       "</style>\n",
       "<table border=\"1\" class=\"dataframe\">\n",
       "  <thead>\n",
       "    <tr style=\"text-align: right;\">\n",
       "      <th></th>\n",
       "      <th>Value</th>\n",
       "    </tr>\n",
       "  </thead>\n",
       "  <tbody>\n",
       "    <tr>\n",
       "      <td>count</td>\n",
       "      <td>20967.000000</td>\n",
       "    </tr>\n",
       "    <tr>\n",
       "      <td>mean</td>\n",
       "      <td>64.836586</td>\n",
       "    </tr>\n",
       "    <tr>\n",
       "      <td>std</td>\n",
       "      <td>38.581488</td>\n",
       "    </tr>\n",
       "    <tr>\n",
       "      <td>min</td>\n",
       "      <td>2.800000</td>\n",
       "    </tr>\n",
       "    <tr>\n",
       "      <td>25%</td>\n",
       "      <td>37.600000</td>\n",
       "    </tr>\n",
       "    <tr>\n",
       "      <td>50%</td>\n",
       "      <td>56.000000</td>\n",
       "    </tr>\n",
       "    <tr>\n",
       "      <td>75%</td>\n",
       "      <td>80.900000</td>\n",
       "    </tr>\n",
       "    <tr>\n",
       "      <td>max</td>\n",
       "      <td>289.600010</td>\n",
       "    </tr>\n",
       "  </tbody>\n",
       "</table>\n",
       "</div>"
      ],
      "text/plain": [
       "              Value\n",
       "count  20967.000000\n",
       "mean      64.836586\n",
       "std       38.581488\n",
       "min        2.800000\n",
       "25%       37.600000\n",
       "50%       56.000000\n",
       "75%       80.900000\n",
       "max      289.600010"
      ]
     },
     "execution_count": 11,
     "metadata": {},
     "output_type": "execute_result"
    }
   ],
   "source": [
    "df_no2.describe()"
   ]
  },
  {
   "cell_type": "code",
   "execution_count": 12,
   "metadata": {},
   "outputs": [
    {
     "data": {
      "text/plain": [
       "CT6    5052\n",
       "WM6    5052\n",
       "KC1    5052\n",
       "CT3    5052\n",
       "HK6    5052\n",
       "Name: Site, dtype: int64"
      ]
     },
     "execution_count": 12,
     "metadata": {},
     "output_type": "execute_result"
    }
   ],
   "source": [
    "df_no2.Site.value_counts(dropna=False)"
   ]
  },
  {
   "cell_type": "code",
   "execution_count": 13,
   "metadata": {},
   "outputs": [
    {
     "data": {
      "text/html": [
       "<div>\n",
       "<style scoped>\n",
       "    .dataframe tbody tr th:only-of-type {\n",
       "        vertical-align: middle;\n",
       "    }\n",
       "\n",
       "    .dataframe tbody tr th {\n",
       "        vertical-align: top;\n",
       "    }\n",
       "\n",
       "    .dataframe thead th {\n",
       "        text-align: right;\n",
       "    }\n",
       "</style>\n",
       "<table border=\"1\" class=\"dataframe\">\n",
       "  <thead>\n",
       "    <tr style=\"text-align: right;\">\n",
       "      <th></th>\n",
       "      <th>Site</th>\n",
       "      <th>Species</th>\n",
       "      <th>ReadingDateTime</th>\n",
       "      <th>Value</th>\n",
       "      <th>Units</th>\n",
       "      <th>Provisional or Ratified</th>\n",
       "    </tr>\n",
       "  </thead>\n",
       "  <tbody>\n",
       "    <tr>\n",
       "      <td>0</td>\n",
       "      <td>CT3</td>\n",
       "      <td>NO2</td>\n",
       "      <td>2006-01-01</td>\n",
       "      <td>37.4</td>\n",
       "      <td>ug m-3</td>\n",
       "      <td>R</td>\n",
       "    </tr>\n",
       "    <tr>\n",
       "      <td>1</td>\n",
       "      <td>CT3</td>\n",
       "      <td>NO2</td>\n",
       "      <td>2006-02-01</td>\n",
       "      <td>39.8</td>\n",
       "      <td>ug m-3</td>\n",
       "      <td>R</td>\n",
       "    </tr>\n",
       "    <tr>\n",
       "      <td>2</td>\n",
       "      <td>CT3</td>\n",
       "      <td>NO2</td>\n",
       "      <td>2006-03-01</td>\n",
       "      <td>57.5</td>\n",
       "      <td>ug m-3</td>\n",
       "      <td>R</td>\n",
       "    </tr>\n",
       "    <tr>\n",
       "      <td>3</td>\n",
       "      <td>CT3</td>\n",
       "      <td>NO2</td>\n",
       "      <td>2006-04-01</td>\n",
       "      <td>51.0</td>\n",
       "      <td>ug m-3</td>\n",
       "      <td>R</td>\n",
       "    </tr>\n",
       "    <tr>\n",
       "      <td>4</td>\n",
       "      <td>CT3</td>\n",
       "      <td>NO2</td>\n",
       "      <td>2006-05-01</td>\n",
       "      <td>50.7</td>\n",
       "      <td>ug m-3</td>\n",
       "      <td>R</td>\n",
       "    </tr>\n",
       "  </tbody>\n",
       "</table>\n",
       "</div>"
      ],
      "text/plain": [
       "  Site Species ReadingDateTime  Value   Units Provisional or Ratified\n",
       "0  CT3     NO2      2006-01-01   37.4  ug m-3                       R\n",
       "1  CT3     NO2      2006-02-01   39.8  ug m-3                       R\n",
       "2  CT3     NO2      2006-03-01   57.5  ug m-3                       R\n",
       "3  CT3     NO2      2006-04-01   51.0  ug m-3                       R\n",
       "4  CT3     NO2      2006-05-01   50.7  ug m-3                       R"
      ]
     },
     "execution_count": 13,
     "metadata": {},
     "output_type": "execute_result"
    }
   ],
   "source": [
    "# convert strings to datetime objects\n",
    "\n",
    "df_no2.ReadingDateTime = pd.to_datetime(df_no2.ReadingDateTime)\n",
    "df_no2.head()"
   ]
  },
  {
   "cell_type": "code",
   "execution_count": 14,
   "metadata": {},
   "outputs": [
    {
     "data": {
      "text/plain": [
       "Site                          0\n",
       "Species                       0\n",
       "ReadingDateTime               0\n",
       "Value                      4293\n",
       "Units                         0\n",
       "Provisional or Ratified       0\n",
       "dtype: int64"
      ]
     },
     "execution_count": 14,
     "metadata": {},
     "output_type": "execute_result"
    }
   ],
   "source": [
    "# check number of missing values\n",
    "\n",
    "df_no2.isna().sum()"
   ]
  },
  {
   "cell_type": "code",
   "execution_count": 15,
   "metadata": {},
   "outputs": [
    {
     "data": {
      "text/html": [
       "<div>\n",
       "<style scoped>\n",
       "    .dataframe tbody tr th:only-of-type {\n",
       "        vertical-align: middle;\n",
       "    }\n",
       "\n",
       "    .dataframe tbody tr th {\n",
       "        vertical-align: top;\n",
       "    }\n",
       "\n",
       "    .dataframe thead th {\n",
       "        text-align: right;\n",
       "    }\n",
       "</style>\n",
       "<table border=\"1\" class=\"dataframe\">\n",
       "  <thead>\n",
       "    <tr style=\"text-align: right;\">\n",
       "      <th></th>\n",
       "      <th>Site</th>\n",
       "      <th>Species</th>\n",
       "      <th>ReadingDateTime</th>\n",
       "      <th>Value</th>\n",
       "      <th>Units</th>\n",
       "      <th>Provisional or Ratified</th>\n",
       "    </tr>\n",
       "  </thead>\n",
       "  <tbody>\n",
       "    <tr>\n",
       "      <td>46</td>\n",
       "      <td>CT3</td>\n",
       "      <td>NO2</td>\n",
       "      <td>2006-02-16</td>\n",
       "      <td>NaN</td>\n",
       "      <td>ug m-3</td>\n",
       "      <td>R</td>\n",
       "    </tr>\n",
       "    <tr>\n",
       "      <td>47</td>\n",
       "      <td>CT3</td>\n",
       "      <td>NO2</td>\n",
       "      <td>2006-02-17</td>\n",
       "      <td>NaN</td>\n",
       "      <td>ug m-3</td>\n",
       "      <td>R</td>\n",
       "    </tr>\n",
       "    <tr>\n",
       "      <td>204</td>\n",
       "      <td>CT3</td>\n",
       "      <td>NO2</td>\n",
       "      <td>2006-07-24</td>\n",
       "      <td>NaN</td>\n",
       "      <td>ug m-3</td>\n",
       "      <td>R</td>\n",
       "    </tr>\n",
       "    <tr>\n",
       "      <td>205</td>\n",
       "      <td>CT3</td>\n",
       "      <td>NO2</td>\n",
       "      <td>2006-07-25</td>\n",
       "      <td>NaN</td>\n",
       "      <td>ug m-3</td>\n",
       "      <td>R</td>\n",
       "    </tr>\n",
       "    <tr>\n",
       "      <td>206</td>\n",
       "      <td>CT3</td>\n",
       "      <td>NO2</td>\n",
       "      <td>2006-07-26</td>\n",
       "      <td>NaN</td>\n",
       "      <td>ug m-3</td>\n",
       "      <td>R</td>\n",
       "    </tr>\n",
       "  </tbody>\n",
       "</table>\n",
       "</div>"
      ],
      "text/plain": [
       "    Site Species ReadingDateTime  Value   Units Provisional or Ratified\n",
       "46   CT3     NO2      2006-02-16    NaN  ug m-3                       R\n",
       "47   CT3     NO2      2006-02-17    NaN  ug m-3                       R\n",
       "204  CT3     NO2      2006-07-24    NaN  ug m-3                       R\n",
       "205  CT3     NO2      2006-07-25    NaN  ug m-3                       R\n",
       "206  CT3     NO2      2006-07-26    NaN  ug m-3                       R"
      ]
     },
     "execution_count": 15,
     "metadata": {},
     "output_type": "execute_result"
    }
   ],
   "source": [
    "df_no2.loc[(df_no2).Value.isnull()].head()"
   ]
  },
  {
   "cell_type": "code",
   "execution_count": 16,
   "metadata": {},
   "outputs": [
    {
     "name": "stdout",
     "output_type": "stream",
     "text": [
      "(20967, 6)\n"
     ]
    },
    {
     "data": {
      "text/html": [
       "<div>\n",
       "<style scoped>\n",
       "    .dataframe tbody tr th:only-of-type {\n",
       "        vertical-align: middle;\n",
       "    }\n",
       "\n",
       "    .dataframe tbody tr th {\n",
       "        vertical-align: top;\n",
       "    }\n",
       "\n",
       "    .dataframe thead th {\n",
       "        text-align: right;\n",
       "    }\n",
       "</style>\n",
       "<table border=\"1\" class=\"dataframe\">\n",
       "  <thead>\n",
       "    <tr style=\"text-align: right;\">\n",
       "      <th></th>\n",
       "      <th>Site</th>\n",
       "      <th>Species</th>\n",
       "      <th>ReadingDateTime</th>\n",
       "      <th>Value</th>\n",
       "      <th>Units</th>\n",
       "      <th>Provisional or Ratified</th>\n",
       "    </tr>\n",
       "  </thead>\n",
       "  <tbody>\n",
       "    <tr>\n",
       "      <td>25255</td>\n",
       "      <td>WM6</td>\n",
       "      <td>NO2</td>\n",
       "      <td>2019-10-27</td>\n",
       "      <td>53.3</td>\n",
       "      <td>ug m-3</td>\n",
       "      <td>P</td>\n",
       "    </tr>\n",
       "    <tr>\n",
       "      <td>25256</td>\n",
       "      <td>WM6</td>\n",
       "      <td>NO2</td>\n",
       "      <td>2019-10-28</td>\n",
       "      <td>47.5</td>\n",
       "      <td>ug m-3</td>\n",
       "      <td>P</td>\n",
       "    </tr>\n",
       "    <tr>\n",
       "      <td>25257</td>\n",
       "      <td>WM6</td>\n",
       "      <td>NO2</td>\n",
       "      <td>2019-10-29</td>\n",
       "      <td>48.7</td>\n",
       "      <td>ug m-3</td>\n",
       "      <td>P</td>\n",
       "    </tr>\n",
       "    <tr>\n",
       "      <td>25258</td>\n",
       "      <td>WM6</td>\n",
       "      <td>NO2</td>\n",
       "      <td>2019-10-30</td>\n",
       "      <td>60.3</td>\n",
       "      <td>ug m-3</td>\n",
       "      <td>P</td>\n",
       "    </tr>\n",
       "    <tr>\n",
       "      <td>25259</td>\n",
       "      <td>WM6</td>\n",
       "      <td>NO2</td>\n",
       "      <td>2019-10-31</td>\n",
       "      <td>59.4</td>\n",
       "      <td>ug m-3</td>\n",
       "      <td>P</td>\n",
       "    </tr>\n",
       "  </tbody>\n",
       "</table>\n",
       "</div>"
      ],
      "text/plain": [
       "      Site Species ReadingDateTime  Value   Units Provisional or Ratified\n",
       "25255  WM6     NO2      2019-10-27   53.3  ug m-3                       P\n",
       "25256  WM6     NO2      2019-10-28   47.5  ug m-3                       P\n",
       "25257  WM6     NO2      2019-10-29   48.7  ug m-3                       P\n",
       "25258  WM6     NO2      2019-10-30   60.3  ug m-3                       P\n",
       "25259  WM6     NO2      2019-10-31   59.4  ug m-3                       P"
      ]
     },
     "execution_count": 16,
     "metadata": {},
     "output_type": "execute_result"
    }
   ],
   "source": [
    "# delete the rows with Nan value for the df_no2 DataFrame\n",
    "\n",
    "df_no2.dropna(inplace=True)\n",
    "print(df_no2.shape)\n",
    "df_no2.tail()"
   ]
  },
  {
   "cell_type": "code",
   "execution_count": 17,
   "metadata": {},
   "outputs": [
    {
     "data": {
      "text/html": [
       "<div>\n",
       "<style scoped>\n",
       "    .dataframe tbody tr th:only-of-type {\n",
       "        vertical-align: middle;\n",
       "    }\n",
       "\n",
       "    .dataframe tbody tr th {\n",
       "        vertical-align: top;\n",
       "    }\n",
       "\n",
       "    .dataframe thead th {\n",
       "        text-align: right;\n",
       "    }\n",
       "</style>\n",
       "<table border=\"1\" class=\"dataframe\">\n",
       "  <thead>\n",
       "    <tr style=\"text-align: right;\">\n",
       "      <th></th>\n",
       "      <th>Site</th>\n",
       "      <th>Species</th>\n",
       "      <th>ReadingDateTime</th>\n",
       "      <th>Value</th>\n",
       "      <th>Units</th>\n",
       "      <th>Provisional or Ratified</th>\n",
       "      <th>Year</th>\n",
       "    </tr>\n",
       "  </thead>\n",
       "  <tbody>\n",
       "    <tr>\n",
       "      <td>0</td>\n",
       "      <td>CT3</td>\n",
       "      <td>NO2</td>\n",
       "      <td>2006-01-01</td>\n",
       "      <td>37.4</td>\n",
       "      <td>ug m-3</td>\n",
       "      <td>R</td>\n",
       "      <td>2006</td>\n",
       "    </tr>\n",
       "    <tr>\n",
       "      <td>1</td>\n",
       "      <td>CT3</td>\n",
       "      <td>NO2</td>\n",
       "      <td>2006-02-01</td>\n",
       "      <td>39.8</td>\n",
       "      <td>ug m-3</td>\n",
       "      <td>R</td>\n",
       "      <td>2006</td>\n",
       "    </tr>\n",
       "    <tr>\n",
       "      <td>2</td>\n",
       "      <td>CT3</td>\n",
       "      <td>NO2</td>\n",
       "      <td>2006-03-01</td>\n",
       "      <td>57.5</td>\n",
       "      <td>ug m-3</td>\n",
       "      <td>R</td>\n",
       "      <td>2006</td>\n",
       "    </tr>\n",
       "    <tr>\n",
       "      <td>3</td>\n",
       "      <td>CT3</td>\n",
       "      <td>NO2</td>\n",
       "      <td>2006-04-01</td>\n",
       "      <td>51.0</td>\n",
       "      <td>ug m-3</td>\n",
       "      <td>R</td>\n",
       "      <td>2006</td>\n",
       "    </tr>\n",
       "    <tr>\n",
       "      <td>4</td>\n",
       "      <td>CT3</td>\n",
       "      <td>NO2</td>\n",
       "      <td>2006-05-01</td>\n",
       "      <td>50.7</td>\n",
       "      <td>ug m-3</td>\n",
       "      <td>R</td>\n",
       "      <td>2006</td>\n",
       "    </tr>\n",
       "  </tbody>\n",
       "</table>\n",
       "</div>"
      ],
      "text/plain": [
       "  Site Species ReadingDateTime  Value   Units Provisional or Ratified  Year\n",
       "0  CT3     NO2      2006-01-01   37.4  ug m-3                       R  2006\n",
       "1  CT3     NO2      2006-02-01   39.8  ug m-3                       R  2006\n",
       "2  CT3     NO2      2006-03-01   57.5  ug m-3                       R  2006\n",
       "3  CT3     NO2      2006-04-01   51.0  ug m-3                       R  2006\n",
       "4  CT3     NO2      2006-05-01   50.7  ug m-3                       R  2006"
      ]
     },
     "execution_count": 17,
     "metadata": {},
     "output_type": "execute_result"
    }
   ],
   "source": [
    "# create year column\n",
    "\n",
    "df_no2['Year'] = df_no2.ReadingDateTime.dt.year\n",
    "df_no2.head()"
   ]
  },
  {
   "cell_type": "code",
   "execution_count": 18,
   "metadata": {},
   "outputs": [
    {
     "data": {
      "text/plain": [
       "R    19635\n",
       "P     1332\n",
       "Name: Provisional or Ratified, dtype: int64"
      ]
     },
     "execution_count": 18,
     "metadata": {},
     "output_type": "execute_result"
    }
   ],
   "source": [
    "df_no2['Provisional or Ratified'].value_counts()"
   ]
  },
  {
   "cell_type": "code",
   "execution_count": 19,
   "metadata": {},
   "outputs": [
    {
     "data": {
      "text/html": [
       "<div>\n",
       "<style scoped>\n",
       "    .dataframe tbody tr th:only-of-type {\n",
       "        vertical-align: middle;\n",
       "    }\n",
       "\n",
       "    .dataframe tbody tr th {\n",
       "        vertical-align: top;\n",
       "    }\n",
       "\n",
       "    .dataframe thead th {\n",
       "        text-align: right;\n",
       "    }\n",
       "</style>\n",
       "<table border=\"1\" class=\"dataframe\">\n",
       "  <thead>\n",
       "    <tr style=\"text-align: right;\">\n",
       "      <th></th>\n",
       "      <th>Value</th>\n",
       "      <th>Year</th>\n",
       "    </tr>\n",
       "  </thead>\n",
       "  <tbody>\n",
       "    <tr>\n",
       "      <td>0</td>\n",
       "      <td>37.4</td>\n",
       "      <td>2006</td>\n",
       "    </tr>\n",
       "    <tr>\n",
       "      <td>1</td>\n",
       "      <td>39.8</td>\n",
       "      <td>2006</td>\n",
       "    </tr>\n",
       "    <tr>\n",
       "      <td>2</td>\n",
       "      <td>57.5</td>\n",
       "      <td>2006</td>\n",
       "    </tr>\n",
       "    <tr>\n",
       "      <td>3</td>\n",
       "      <td>51.0</td>\n",
       "      <td>2006</td>\n",
       "    </tr>\n",
       "    <tr>\n",
       "      <td>4</td>\n",
       "      <td>50.7</td>\n",
       "      <td>2006</td>\n",
       "    </tr>\n",
       "  </tbody>\n",
       "</table>\n",
       "</div>"
      ],
      "text/plain": [
       "   Value  Year\n",
       "0   37.4  2006\n",
       "1   39.8  2006\n",
       "2   57.5  2006\n",
       "3   51.0  2006\n",
       "4   50.7  2006"
      ]
     },
     "execution_count": 19,
     "metadata": {},
     "output_type": "execute_result"
    }
   ],
   "source": [
    "# create new dataframe with only the value and year columns\n",
    "\n",
    "df_no2_new = df_no2.drop(['Site','Species','ReadingDateTime','Units','Provisional or Ratified'],axis=1)\n",
    "df_no2_new.head()"
   ]
  },
  {
   "cell_type": "code",
   "execution_count": 20,
   "metadata": {},
   "outputs": [
    {
     "data": {
      "image/png": "[encoded data removed]",
      "text/plain": [
       "<Figure size 432x288 with 1 Axes>"
      ]
     },
     "metadata": {
      "needs_background": "light"
     },
     "output_type": "display_data"
    }
   ],
   "source": [
    "# make a frequency barplot\n",
    "\n",
    "df_no2.Value.plot.hist(range=(1, 200), bins=25, color='grey')\n",
    "plt.title('NO2 Values', color = 'grey')\n",
    "plt.show()"
   ]
  },
  {
   "cell_type": "code",
   "execution_count": 21,
   "metadata": {},
   "outputs": [
    {
     "name": "stdout",
     "output_type": "stream",
     "text": [
      "(25260, 6)\n"
     ]
    },
    {
     "data": {
      "text/html": [
       "<div>\n",
       "<style scoped>\n",
       "    .dataframe tbody tr th:only-of-type {\n",
       "        vertical-align: middle;\n",
       "    }\n",
       "\n",
       "    .dataframe tbody tr th {\n",
       "        vertical-align: top;\n",
       "    }\n",
       "\n",
       "    .dataframe thead th {\n",
       "        text-align: right;\n",
       "    }\n",
       "</style>\n",
       "<table border=\"1\" class=\"dataframe\">\n",
       "  <thead>\n",
       "    <tr style=\"text-align: right;\">\n",
       "      <th></th>\n",
       "      <th>Site</th>\n",
       "      <th>Species</th>\n",
       "      <th>ReadingDateTime</th>\n",
       "      <th>Value</th>\n",
       "      <th>Units</th>\n",
       "      <th>Provisional or Ratified</th>\n",
       "    </tr>\n",
       "  </thead>\n",
       "  <tbody>\n",
       "    <tr>\n",
       "      <td>0</td>\n",
       "      <td>CT3</td>\n",
       "      <td>PM10</td>\n",
       "      <td>01/01/2006 00:00</td>\n",
       "      <td>7.0</td>\n",
       "      <td>ug/m3</td>\n",
       "      <td>R</td>\n",
       "    </tr>\n",
       "    <tr>\n",
       "      <td>1</td>\n",
       "      <td>CT3</td>\n",
       "      <td>PM10</td>\n",
       "      <td>02/01/2006 00:00</td>\n",
       "      <td>14.0</td>\n",
       "      <td>ug/m3</td>\n",
       "      <td>R</td>\n",
       "    </tr>\n",
       "    <tr>\n",
       "      <td>2</td>\n",
       "      <td>CT3</td>\n",
       "      <td>PM10</td>\n",
       "      <td>03/01/2006 00:00</td>\n",
       "      <td>19.0</td>\n",
       "      <td>ug/m3</td>\n",
       "      <td>R</td>\n",
       "    </tr>\n",
       "    <tr>\n",
       "      <td>3</td>\n",
       "      <td>CT3</td>\n",
       "      <td>PM10</td>\n",
       "      <td>04/01/2006 00:00</td>\n",
       "      <td>18.0</td>\n",
       "      <td>ug/m3</td>\n",
       "      <td>R</td>\n",
       "    </tr>\n",
       "    <tr>\n",
       "      <td>4</td>\n",
       "      <td>CT3</td>\n",
       "      <td>PM10</td>\n",
       "      <td>05/01/2006 00:00</td>\n",
       "      <td>20.0</td>\n",
       "      <td>ug/m3</td>\n",
       "      <td>R</td>\n",
       "    </tr>\n",
       "  </tbody>\n",
       "</table>\n",
       "</div>"
      ],
      "text/plain": [
       "  Site Species   ReadingDateTime  Value  Units Provisional or Ratified\n",
       "0  CT3    PM10  01/01/2006 00:00    7.0  ug/m3                       R\n",
       "1  CT3    PM10  02/01/2006 00:00   14.0  ug/m3                       R\n",
       "2  CT3    PM10  03/01/2006 00:00   19.0  ug/m3                       R\n",
       "3  CT3    PM10  04/01/2006 00:00   18.0  ug/m3                       R\n",
       "4  CT3    PM10  05/01/2006 00:00   20.0  ug/m3                       R"
      ]
     },
     "execution_count": 21,
     "metadata": {},
     "output_type": "execute_result"
    }
   ],
   "source": [
    "# create PM10 particulates DataFrame\n",
    "\n",
    "df_pm10 = pd.read_csv('city_pm10.csv')\n",
    "print(df_pm10.shape)\n",
    "df_pm10.head()"
   ]
  },
  {
   "cell_type": "code",
   "execution_count": 22,
   "metadata": {},
   "outputs": [
    {
     "data": {
      "text/plain": [
       "CT8    5052\n",
       "WM6    5052\n",
       "MY7    5052\n",
       "CT3    5052\n",
       "HK6    5052\n",
       "Name: Site, dtype: int64"
      ]
     },
     "execution_count": 22,
     "metadata": {},
     "output_type": "execute_result"
    }
   ],
   "source": [
    "# check number of sites \n",
    "\n",
    "df_pm10.Site.value_counts(dropna=False)"
   ]
  },
  {
   "cell_type": "code",
   "execution_count": 23,
   "metadata": {},
   "outputs": [
    {
     "data": {
      "text/plain": [
       "25260"
      ]
     },
     "execution_count": 23,
     "metadata": {},
     "output_type": "execute_result"
    }
   ],
   "source": [
    "len(df_pm10)"
   ]
  },
  {
   "cell_type": "code",
   "execution_count": 24,
   "metadata": {},
   "outputs": [
    {
     "data": {
      "text/html": [
       "<div>\n",
       "<style scoped>\n",
       "    .dataframe tbody tr th:only-of-type {\n",
       "        vertical-align: middle;\n",
       "    }\n",
       "\n",
       "    .dataframe tbody tr th {\n",
       "        vertical-align: top;\n",
       "    }\n",
       "\n",
       "    .dataframe thead th {\n",
       "        text-align: right;\n",
       "    }\n",
       "</style>\n",
       "<table border=\"1\" class=\"dataframe\">\n",
       "  <thead>\n",
       "    <tr style=\"text-align: right;\">\n",
       "      <th></th>\n",
       "      <th>Site</th>\n",
       "      <th>Species</th>\n",
       "      <th>ReadingDateTime</th>\n",
       "      <th>Value</th>\n",
       "      <th>Units</th>\n",
       "      <th>Provisional or Ratified</th>\n",
       "    </tr>\n",
       "  </thead>\n",
       "  <tbody>\n",
       "    <tr>\n",
       "      <td>46</td>\n",
       "      <td>CT3</td>\n",
       "      <td>PM10</td>\n",
       "      <td>16/02/2006 00:00</td>\n",
       "      <td>NaN</td>\n",
       "      <td>ug/m3</td>\n",
       "      <td>R</td>\n",
       "    </tr>\n",
       "    <tr>\n",
       "      <td>47</td>\n",
       "      <td>CT3</td>\n",
       "      <td>PM10</td>\n",
       "      <td>17/02/2006 00:00</td>\n",
       "      <td>NaN</td>\n",
       "      <td>ug/m3</td>\n",
       "      <td>R</td>\n",
       "    </tr>\n",
       "    <tr>\n",
       "      <td>48</td>\n",
       "      <td>CT3</td>\n",
       "      <td>PM10</td>\n",
       "      <td>18/02/2006 00:00</td>\n",
       "      <td>NaN</td>\n",
       "      <td>ug/m3</td>\n",
       "      <td>R</td>\n",
       "    </tr>\n",
       "    <tr>\n",
       "      <td>49</td>\n",
       "      <td>CT3</td>\n",
       "      <td>PM10</td>\n",
       "      <td>19/02/2006 00:00</td>\n",
       "      <td>NaN</td>\n",
       "      <td>ug/m3</td>\n",
       "      <td>R</td>\n",
       "    </tr>\n",
       "    <tr>\n",
       "      <td>50</td>\n",
       "      <td>CT3</td>\n",
       "      <td>PM10</td>\n",
       "      <td>20/02/2006 00:00</td>\n",
       "      <td>NaN</td>\n",
       "      <td>ug/m3</td>\n",
       "      <td>R</td>\n",
       "    </tr>\n",
       "    <tr>\n",
       "      <td>...</td>\n",
       "      <td>...</td>\n",
       "      <td>...</td>\n",
       "      <td>...</td>\n",
       "      <td>...</td>\n",
       "      <td>...</td>\n",
       "      <td>...</td>\n",
       "    </tr>\n",
       "    <tr>\n",
       "      <td>25171</td>\n",
       "      <td>WM6</td>\n",
       "      <td>PM10</td>\n",
       "      <td>04/08/2019 00:00</td>\n",
       "      <td>NaN</td>\n",
       "      <td>ug/m3</td>\n",
       "      <td>P</td>\n",
       "    </tr>\n",
       "    <tr>\n",
       "      <td>25172</td>\n",
       "      <td>WM6</td>\n",
       "      <td>PM10</td>\n",
       "      <td>05/08/2019 00:00</td>\n",
       "      <td>NaN</td>\n",
       "      <td>ug/m3</td>\n",
       "      <td>P</td>\n",
       "    </tr>\n",
       "    <tr>\n",
       "      <td>25232</td>\n",
       "      <td>WM6</td>\n",
       "      <td>PM10</td>\n",
       "      <td>04/10/2019 00:00</td>\n",
       "      <td>NaN</td>\n",
       "      <td>ug/m3</td>\n",
       "      <td>P</td>\n",
       "    </tr>\n",
       "    <tr>\n",
       "      <td>25233</td>\n",
       "      <td>WM6</td>\n",
       "      <td>PM10</td>\n",
       "      <td>05/10/2019 00:00</td>\n",
       "      <td>NaN</td>\n",
       "      <td>ug/m3</td>\n",
       "      <td>P</td>\n",
       "    </tr>\n",
       "    <tr>\n",
       "      <td>25234</td>\n",
       "      <td>WM6</td>\n",
       "      <td>PM10</td>\n",
       "      <td>06/10/2019 00:00</td>\n",
       "      <td>NaN</td>\n",
       "      <td>ug/m3</td>\n",
       "      <td>P</td>\n",
       "    </tr>\n",
       "  </tbody>\n",
       "</table>\n",
       "<p>5721 rows × 6 columns</p>\n",
       "</div>"
      ],
      "text/plain": [
       "      Site Species   ReadingDateTime  Value  Units Provisional or Ratified\n",
       "46     CT3    PM10  16/02/2006 00:00    NaN  ug/m3                       R\n",
       "47     CT3    PM10  17/02/2006 00:00    NaN  ug/m3                       R\n",
       "48     CT3    PM10  18/02/2006 00:00    NaN  ug/m3                       R\n",
       "49     CT3    PM10  19/02/2006 00:00    NaN  ug/m3                       R\n",
       "50     CT3    PM10  20/02/2006 00:00    NaN  ug/m3                       R\n",
       "...    ...     ...               ...    ...    ...                     ...\n",
       "25171  WM6    PM10  04/08/2019 00:00    NaN  ug/m3                       P\n",
       "25172  WM6    PM10  05/08/2019 00:00    NaN  ug/m3                       P\n",
       "25232  WM6    PM10  04/10/2019 00:00    NaN  ug/m3                       P\n",
       "25233  WM6    PM10  05/10/2019 00:00    NaN  ug/m3                       P\n",
       "25234  WM6    PM10  06/10/2019 00:00    NaN  ug/m3                       P\n",
       "\n",
       "[5721 rows x 6 columns]"
      ]
     },
     "execution_count": 24,
     "metadata": {},
     "output_type": "execute_result"
    }
   ],
   "source": [
    "df_pm10.loc[df_pm10.Value.isna()]\n",
    "# given that we have ~4600 NaN values amongst nearly 30k values, we can drop them"
   ]
  },
  {
   "cell_type": "code",
   "execution_count": 25,
   "metadata": {},
   "outputs": [],
   "source": [
    "df_pm10.Value = df_pm10.Value.dropna()"
   ]
  },
  {
   "cell_type": "code",
   "execution_count": 26,
   "metadata": {},
   "outputs": [
    {
     "data": {
      "text/html": [
       "<div>\n",
       "<style scoped>\n",
       "    .dataframe tbody tr th:only-of-type {\n",
       "        vertical-align: middle;\n",
       "    }\n",
       "\n",
       "    .dataframe tbody tr th {\n",
       "        vertical-align: top;\n",
       "    }\n",
       "\n",
       "    .dataframe thead th {\n",
       "        text-align: right;\n",
       "    }\n",
       "</style>\n",
       "<table border=\"1\" class=\"dataframe\">\n",
       "  <thead>\n",
       "    <tr style=\"text-align: right;\">\n",
       "      <th></th>\n",
       "      <th>Site</th>\n",
       "      <th>Species</th>\n",
       "      <th>ReadingDateTime</th>\n",
       "      <th>Value</th>\n",
       "      <th>Units</th>\n",
       "      <th>Provisional or Ratified</th>\n",
       "    </tr>\n",
       "  </thead>\n",
       "  <tbody>\n",
       "    <tr>\n",
       "      <td>46</td>\n",
       "      <td>CT3</td>\n",
       "      <td>PM10</td>\n",
       "      <td>16/02/2006 00:00</td>\n",
       "      <td>NaN</td>\n",
       "      <td>ug/m3</td>\n",
       "      <td>R</td>\n",
       "    </tr>\n",
       "    <tr>\n",
       "      <td>47</td>\n",
       "      <td>CT3</td>\n",
       "      <td>PM10</td>\n",
       "      <td>17/02/2006 00:00</td>\n",
       "      <td>NaN</td>\n",
       "      <td>ug/m3</td>\n",
       "      <td>R</td>\n",
       "    </tr>\n",
       "    <tr>\n",
       "      <td>48</td>\n",
       "      <td>CT3</td>\n",
       "      <td>PM10</td>\n",
       "      <td>18/02/2006 00:00</td>\n",
       "      <td>NaN</td>\n",
       "      <td>ug/m3</td>\n",
       "      <td>R</td>\n",
       "    </tr>\n",
       "    <tr>\n",
       "      <td>49</td>\n",
       "      <td>CT3</td>\n",
       "      <td>PM10</td>\n",
       "      <td>19/02/2006 00:00</td>\n",
       "      <td>NaN</td>\n",
       "      <td>ug/m3</td>\n",
       "      <td>R</td>\n",
       "    </tr>\n",
       "    <tr>\n",
       "      <td>50</td>\n",
       "      <td>CT3</td>\n",
       "      <td>PM10</td>\n",
       "      <td>20/02/2006 00:00</td>\n",
       "      <td>NaN</td>\n",
       "      <td>ug/m3</td>\n",
       "      <td>R</td>\n",
       "    </tr>\n",
       "    <tr>\n",
       "      <td>...</td>\n",
       "      <td>...</td>\n",
       "      <td>...</td>\n",
       "      <td>...</td>\n",
       "      <td>...</td>\n",
       "      <td>...</td>\n",
       "      <td>...</td>\n",
       "    </tr>\n",
       "    <tr>\n",
       "      <td>25171</td>\n",
       "      <td>WM6</td>\n",
       "      <td>PM10</td>\n",
       "      <td>04/08/2019 00:00</td>\n",
       "      <td>NaN</td>\n",
       "      <td>ug/m3</td>\n",
       "      <td>P</td>\n",
       "    </tr>\n",
       "    <tr>\n",
       "      <td>25172</td>\n",
       "      <td>WM6</td>\n",
       "      <td>PM10</td>\n",
       "      <td>05/08/2019 00:00</td>\n",
       "      <td>NaN</td>\n",
       "      <td>ug/m3</td>\n",
       "      <td>P</td>\n",
       "    </tr>\n",
       "    <tr>\n",
       "      <td>25232</td>\n",
       "      <td>WM6</td>\n",
       "      <td>PM10</td>\n",
       "      <td>04/10/2019 00:00</td>\n",
       "      <td>NaN</td>\n",
       "      <td>ug/m3</td>\n",
       "      <td>P</td>\n",
       "    </tr>\n",
       "    <tr>\n",
       "      <td>25233</td>\n",
       "      <td>WM6</td>\n",
       "      <td>PM10</td>\n",
       "      <td>05/10/2019 00:00</td>\n",
       "      <td>NaN</td>\n",
       "      <td>ug/m3</td>\n",
       "      <td>P</td>\n",
       "    </tr>\n",
       "    <tr>\n",
       "      <td>25234</td>\n",
       "      <td>WM6</td>\n",
       "      <td>PM10</td>\n",
       "      <td>06/10/2019 00:00</td>\n",
       "      <td>NaN</td>\n",
       "      <td>ug/m3</td>\n",
       "      <td>P</td>\n",
       "    </tr>\n",
       "  </tbody>\n",
       "</table>\n",
       "<p>5721 rows × 6 columns</p>\n",
       "</div>"
      ],
      "text/plain": [
       "      Site Species   ReadingDateTime  Value  Units Provisional or Ratified\n",
       "46     CT3    PM10  16/02/2006 00:00    NaN  ug/m3                       R\n",
       "47     CT3    PM10  17/02/2006 00:00    NaN  ug/m3                       R\n",
       "48     CT3    PM10  18/02/2006 00:00    NaN  ug/m3                       R\n",
       "49     CT3    PM10  19/02/2006 00:00    NaN  ug/m3                       R\n",
       "50     CT3    PM10  20/02/2006 00:00    NaN  ug/m3                       R\n",
       "...    ...     ...               ...    ...    ...                     ...\n",
       "25171  WM6    PM10  04/08/2019 00:00    NaN  ug/m3                       P\n",
       "25172  WM6    PM10  05/08/2019 00:00    NaN  ug/m3                       P\n",
       "25232  WM6    PM10  04/10/2019 00:00    NaN  ug/m3                       P\n",
       "25233  WM6    PM10  05/10/2019 00:00    NaN  ug/m3                       P\n",
       "25234  WM6    PM10  06/10/2019 00:00    NaN  ug/m3                       P\n",
       "\n",
       "[5721 rows x 6 columns]"
      ]
     },
     "execution_count": 26,
     "metadata": {},
     "output_type": "execute_result"
    }
   ],
   "source": [
    "df_pm10.loc[df_pm10.Value.isna()]\n"
   ]
  },
  {
   "cell_type": "code",
   "execution_count": 39,
   "metadata": {},
   "outputs": [],
   "source": [
    "df_pm10 = df_pm10.loc[df_pm10.Value.isna()==False]\n"
   ]
  },
  {
   "cell_type": "code",
   "execution_count": 40,
   "metadata": {},
   "outputs": [
    {
     "data": {
      "text/html": [
       "<div>\n",
       "<style scoped>\n",
       "    .dataframe tbody tr th:only-of-type {\n",
       "        vertical-align: middle;\n",
       "    }\n",
       "\n",
       "    .dataframe tbody tr th {\n",
       "        vertical-align: top;\n",
       "    }\n",
       "\n",
       "    .dataframe thead th {\n",
       "        text-align: right;\n",
       "    }\n",
       "</style>\n",
       "<table border=\"1\" class=\"dataframe\">\n",
       "  <thead>\n",
       "    <tr style=\"text-align: right;\">\n",
       "      <th></th>\n",
       "      <th>Site</th>\n",
       "      <th>Species</th>\n",
       "      <th>ReadingDateTime</th>\n",
       "      <th>Value</th>\n",
       "      <th>Units</th>\n",
       "      <th>Provisional or Ratified</th>\n",
       "    </tr>\n",
       "  </thead>\n",
       "  <tbody>\n",
       "    <tr>\n",
       "      <td>0</td>\n",
       "      <td>CT3</td>\n",
       "      <td>PM10</td>\n",
       "      <td>01/01/2006 00:00</td>\n",
       "      <td>7.0</td>\n",
       "      <td>ug/m3</td>\n",
       "      <td>R</td>\n",
       "    </tr>\n",
       "    <tr>\n",
       "      <td>1</td>\n",
       "      <td>CT3</td>\n",
       "      <td>PM10</td>\n",
       "      <td>02/01/2006 00:00</td>\n",
       "      <td>14.0</td>\n",
       "      <td>ug/m3</td>\n",
       "      <td>R</td>\n",
       "    </tr>\n",
       "    <tr>\n",
       "      <td>2</td>\n",
       "      <td>CT3</td>\n",
       "      <td>PM10</td>\n",
       "      <td>03/01/2006 00:00</td>\n",
       "      <td>19.0</td>\n",
       "      <td>ug/m3</td>\n",
       "      <td>R</td>\n",
       "    </tr>\n",
       "    <tr>\n",
       "      <td>3</td>\n",
       "      <td>CT3</td>\n",
       "      <td>PM10</td>\n",
       "      <td>04/01/2006 00:00</td>\n",
       "      <td>18.0</td>\n",
       "      <td>ug/m3</td>\n",
       "      <td>R</td>\n",
       "    </tr>\n",
       "    <tr>\n",
       "      <td>4</td>\n",
       "      <td>CT3</td>\n",
       "      <td>PM10</td>\n",
       "      <td>05/01/2006 00:00</td>\n",
       "      <td>20.0</td>\n",
       "      <td>ug/m3</td>\n",
       "      <td>R</td>\n",
       "    </tr>\n",
       "    <tr>\n",
       "      <td>5</td>\n",
       "      <td>CT3</td>\n",
       "      <td>PM10</td>\n",
       "      <td>06/01/2006 00:00</td>\n",
       "      <td>28.0</td>\n",
       "      <td>ug/m3</td>\n",
       "      <td>R</td>\n",
       "    </tr>\n",
       "    <tr>\n",
       "      <td>6</td>\n",
       "      <td>CT3</td>\n",
       "      <td>PM10</td>\n",
       "      <td>07/01/2006 00:00</td>\n",
       "      <td>33.0</td>\n",
       "      <td>ug/m3</td>\n",
       "      <td>R</td>\n",
       "    </tr>\n",
       "    <tr>\n",
       "      <td>7</td>\n",
       "      <td>CT3</td>\n",
       "      <td>PM10</td>\n",
       "      <td>08/01/2006 00:00</td>\n",
       "      <td>34.0</td>\n",
       "      <td>ug/m3</td>\n",
       "      <td>R</td>\n",
       "    </tr>\n",
       "    <tr>\n",
       "      <td>8</td>\n",
       "      <td>CT3</td>\n",
       "      <td>PM10</td>\n",
       "      <td>09/01/2006 00:00</td>\n",
       "      <td>36.0</td>\n",
       "      <td>ug/m3</td>\n",
       "      <td>R</td>\n",
       "    </tr>\n",
       "    <tr>\n",
       "      <td>9</td>\n",
       "      <td>CT3</td>\n",
       "      <td>PM10</td>\n",
       "      <td>10/01/2006 00:00</td>\n",
       "      <td>21.0</td>\n",
       "      <td>ug/m3</td>\n",
       "      <td>R</td>\n",
       "    </tr>\n",
       "    <tr>\n",
       "      <td>10</td>\n",
       "      <td>CT3</td>\n",
       "      <td>PM10</td>\n",
       "      <td>11/01/2006 00:00</td>\n",
       "      <td>20.0</td>\n",
       "      <td>ug/m3</td>\n",
       "      <td>R</td>\n",
       "    </tr>\n",
       "    <tr>\n",
       "      <td>11</td>\n",
       "      <td>CT3</td>\n",
       "      <td>PM10</td>\n",
       "      <td>12/01/2006 00:00</td>\n",
       "      <td>25.0</td>\n",
       "      <td>ug/m3</td>\n",
       "      <td>R</td>\n",
       "    </tr>\n",
       "    <tr>\n",
       "      <td>12</td>\n",
       "      <td>CT3</td>\n",
       "      <td>PM10</td>\n",
       "      <td>13/01/2006 00:00</td>\n",
       "      <td>20.0</td>\n",
       "      <td>ug/m3</td>\n",
       "      <td>R</td>\n",
       "    </tr>\n",
       "    <tr>\n",
       "      <td>13</td>\n",
       "      <td>CT3</td>\n",
       "      <td>PM10</td>\n",
       "      <td>14/01/2006 00:00</td>\n",
       "      <td>31.0</td>\n",
       "      <td>ug/m3</td>\n",
       "      <td>R</td>\n",
       "    </tr>\n",
       "    <tr>\n",
       "      <td>14</td>\n",
       "      <td>CT3</td>\n",
       "      <td>PM10</td>\n",
       "      <td>15/01/2006 00:00</td>\n",
       "      <td>28.0</td>\n",
       "      <td>ug/m3</td>\n",
       "      <td>R</td>\n",
       "    </tr>\n",
       "    <tr>\n",
       "      <td>15</td>\n",
       "      <td>CT3</td>\n",
       "      <td>PM10</td>\n",
       "      <td>16/01/2006 00:00</td>\n",
       "      <td>22.0</td>\n",
       "      <td>ug/m3</td>\n",
       "      <td>R</td>\n",
       "    </tr>\n",
       "    <tr>\n",
       "      <td>16</td>\n",
       "      <td>CT3</td>\n",
       "      <td>PM10</td>\n",
       "      <td>17/01/2006 00:00</td>\n",
       "      <td>14.0</td>\n",
       "      <td>ug/m3</td>\n",
       "      <td>R</td>\n",
       "    </tr>\n",
       "    <tr>\n",
       "      <td>17</td>\n",
       "      <td>CT3</td>\n",
       "      <td>PM10</td>\n",
       "      <td>18/01/2006 00:00</td>\n",
       "      <td>15.0</td>\n",
       "      <td>ug/m3</td>\n",
       "      <td>R</td>\n",
       "    </tr>\n",
       "    <tr>\n",
       "      <td>18</td>\n",
       "      <td>CT3</td>\n",
       "      <td>PM10</td>\n",
       "      <td>19/01/2006 00:00</td>\n",
       "      <td>19.0</td>\n",
       "      <td>ug/m3</td>\n",
       "      <td>R</td>\n",
       "    </tr>\n",
       "    <tr>\n",
       "      <td>19</td>\n",
       "      <td>CT3</td>\n",
       "      <td>PM10</td>\n",
       "      <td>20/01/2006 00:00</td>\n",
       "      <td>14.0</td>\n",
       "      <td>ug/m3</td>\n",
       "      <td>R</td>\n",
       "    </tr>\n",
       "  </tbody>\n",
       "</table>\n",
       "</div>"
      ],
      "text/plain": [
       "   Site Species   ReadingDateTime  Value  Units Provisional or Ratified\n",
       "0   CT3    PM10  01/01/2006 00:00    7.0  ug/m3                       R\n",
       "1   CT3    PM10  02/01/2006 00:00   14.0  ug/m3                       R\n",
       "2   CT3    PM10  03/01/2006 00:00   19.0  ug/m3                       R\n",
       "3   CT3    PM10  04/01/2006 00:00   18.0  ug/m3                       R\n",
       "4   CT3    PM10  05/01/2006 00:00   20.0  ug/m3                       R\n",
       "5   CT3    PM10  06/01/2006 00:00   28.0  ug/m3                       R\n",
       "6   CT3    PM10  07/01/2006 00:00   33.0  ug/m3                       R\n",
       "7   CT3    PM10  08/01/2006 00:00   34.0  ug/m3                       R\n",
       "8   CT3    PM10  09/01/2006 00:00   36.0  ug/m3                       R\n",
       "9   CT3    PM10  10/01/2006 00:00   21.0  ug/m3                       R\n",
       "10  CT3    PM10  11/01/2006 00:00   20.0  ug/m3                       R\n",
       "11  CT3    PM10  12/01/2006 00:00   25.0  ug/m3                       R\n",
       "12  CT3    PM10  13/01/2006 00:00   20.0  ug/m3                       R\n",
       "13  CT3    PM10  14/01/2006 00:00   31.0  ug/m3                       R\n",
       "14  CT3    PM10  15/01/2006 00:00   28.0  ug/m3                       R\n",
       "15  CT3    PM10  16/01/2006 00:00   22.0  ug/m3                       R\n",
       "16  CT3    PM10  17/01/2006 00:00   14.0  ug/m3                       R\n",
       "17  CT3    PM10  18/01/2006 00:00   15.0  ug/m3                       R\n",
       "18  CT3    PM10  19/01/2006 00:00   19.0  ug/m3                       R\n",
       "19  CT3    PM10  20/01/2006 00:00   14.0  ug/m3                       R"
      ]
     },
     "execution_count": 40,
     "metadata": {},
     "output_type": "execute_result"
    }
   ],
   "source": [
    "df_pm10.head(20)"
   ]
  },
  {
   "cell_type": "code",
   "execution_count": 41,
   "metadata": {},
   "outputs": [
    {
     "data": {
      "text/html": [
       "<div>\n",
       "<style scoped>\n",
       "    .dataframe tbody tr th:only-of-type {\n",
       "        vertical-align: middle;\n",
       "    }\n",
       "\n",
       "    .dataframe tbody tr th {\n",
       "        vertical-align: top;\n",
       "    }\n",
       "\n",
       "    .dataframe thead th {\n",
       "        text-align: right;\n",
       "    }\n",
       "</style>\n",
       "<table border=\"1\" class=\"dataframe\">\n",
       "  <thead>\n",
       "    <tr style=\"text-align: right;\">\n",
       "      <th></th>\n",
       "      <th>Site</th>\n",
       "      <th>Species</th>\n",
       "      <th>ReadingDateTime</th>\n",
       "      <th>Value</th>\n",
       "      <th>Units</th>\n",
       "      <th>Provisional or Ratified</th>\n",
       "    </tr>\n",
       "  </thead>\n",
       "  <tbody>\n",
       "    <tr>\n",
       "      <td>0</td>\n",
       "      <td>CT3</td>\n",
       "      <td>PM10</td>\n",
       "      <td>2006-01-01</td>\n",
       "      <td>7.0</td>\n",
       "      <td>ug/m3</td>\n",
       "      <td>R</td>\n",
       "    </tr>\n",
       "    <tr>\n",
       "      <td>1</td>\n",
       "      <td>CT3</td>\n",
       "      <td>PM10</td>\n",
       "      <td>2006-02-01</td>\n",
       "      <td>14.0</td>\n",
       "      <td>ug/m3</td>\n",
       "      <td>R</td>\n",
       "    </tr>\n",
       "    <tr>\n",
       "      <td>2</td>\n",
       "      <td>CT3</td>\n",
       "      <td>PM10</td>\n",
       "      <td>2006-03-01</td>\n",
       "      <td>19.0</td>\n",
       "      <td>ug/m3</td>\n",
       "      <td>R</td>\n",
       "    </tr>\n",
       "    <tr>\n",
       "      <td>3</td>\n",
       "      <td>CT3</td>\n",
       "      <td>PM10</td>\n",
       "      <td>2006-04-01</td>\n",
       "      <td>18.0</td>\n",
       "      <td>ug/m3</td>\n",
       "      <td>R</td>\n",
       "    </tr>\n",
       "    <tr>\n",
       "      <td>4</td>\n",
       "      <td>CT3</td>\n",
       "      <td>PM10</td>\n",
       "      <td>2006-05-01</td>\n",
       "      <td>20.0</td>\n",
       "      <td>ug/m3</td>\n",
       "      <td>R</td>\n",
       "    </tr>\n",
       "  </tbody>\n",
       "</table>\n",
       "</div>"
      ],
      "text/plain": [
       "  Site Species ReadingDateTime  Value  Units Provisional or Ratified\n",
       "0  CT3    PM10      2006-01-01    7.0  ug/m3                       R\n",
       "1  CT3    PM10      2006-02-01   14.0  ug/m3                       R\n",
       "2  CT3    PM10      2006-03-01   19.0  ug/m3                       R\n",
       "3  CT3    PM10      2006-04-01   18.0  ug/m3                       R\n",
       "4  CT3    PM10      2006-05-01   20.0  ug/m3                       R"
      ]
     },
     "execution_count": 41,
     "metadata": {},
     "output_type": "execute_result"
    }
   ],
   "source": [
    "df_pm10.ReadingDateTime = pd.to_datetime(df_pm10.ReadingDateTime)\n",
    "df_pm10.head()"
   ]
  },
  {
   "cell_type": "code",
   "execution_count": 42,
   "metadata": {},
   "outputs": [
    {
     "data": {
      "text/html": [
       "<div>\n",
       "<style scoped>\n",
       "    .dataframe tbody tr th:only-of-type {\n",
       "        vertical-align: middle;\n",
       "    }\n",
       "\n",
       "    .dataframe tbody tr th {\n",
       "        vertical-align: top;\n",
       "    }\n",
       "\n",
       "    .dataframe thead th {\n",
       "        text-align: right;\n",
       "    }\n",
       "</style>\n",
       "<table border=\"1\" class=\"dataframe\">\n",
       "  <thead>\n",
       "    <tr style=\"text-align: right;\">\n",
       "      <th></th>\n",
       "      <th>Site</th>\n",
       "      <th>Species</th>\n",
       "      <th>ReadingDateTime</th>\n",
       "      <th>Value</th>\n",
       "      <th>Units</th>\n",
       "      <th>Provisional or Ratified</th>\n",
       "      <th>Year</th>\n",
       "    </tr>\n",
       "  </thead>\n",
       "  <tbody>\n",
       "    <tr>\n",
       "      <td>0</td>\n",
       "      <td>CT3</td>\n",
       "      <td>PM10</td>\n",
       "      <td>2006-01-01</td>\n",
       "      <td>7.0</td>\n",
       "      <td>ug/m3</td>\n",
       "      <td>R</td>\n",
       "      <td>2006</td>\n",
       "    </tr>\n",
       "    <tr>\n",
       "      <td>1</td>\n",
       "      <td>CT3</td>\n",
       "      <td>PM10</td>\n",
       "      <td>2006-02-01</td>\n",
       "      <td>14.0</td>\n",
       "      <td>ug/m3</td>\n",
       "      <td>R</td>\n",
       "      <td>2006</td>\n",
       "    </tr>\n",
       "    <tr>\n",
       "      <td>2</td>\n",
       "      <td>CT3</td>\n",
       "      <td>PM10</td>\n",
       "      <td>2006-03-01</td>\n",
       "      <td>19.0</td>\n",
       "      <td>ug/m3</td>\n",
       "      <td>R</td>\n",
       "      <td>2006</td>\n",
       "    </tr>\n",
       "    <tr>\n",
       "      <td>3</td>\n",
       "      <td>CT3</td>\n",
       "      <td>PM10</td>\n",
       "      <td>2006-04-01</td>\n",
       "      <td>18.0</td>\n",
       "      <td>ug/m3</td>\n",
       "      <td>R</td>\n",
       "      <td>2006</td>\n",
       "    </tr>\n",
       "    <tr>\n",
       "      <td>4</td>\n",
       "      <td>CT3</td>\n",
       "      <td>PM10</td>\n",
       "      <td>2006-05-01</td>\n",
       "      <td>20.0</td>\n",
       "      <td>ug/m3</td>\n",
       "      <td>R</td>\n",
       "      <td>2006</td>\n",
       "    </tr>\n",
       "  </tbody>\n",
       "</table>\n",
       "</div>"
      ],
      "text/plain": [
       "  Site Species ReadingDateTime  Value  Units Provisional or Ratified  Year\n",
       "0  CT3    PM10      2006-01-01    7.0  ug/m3                       R  2006\n",
       "1  CT3    PM10      2006-02-01   14.0  ug/m3                       R  2006\n",
       "2  CT3    PM10      2006-03-01   19.0  ug/m3                       R  2006\n",
       "3  CT3    PM10      2006-04-01   18.0  ug/m3                       R  2006\n",
       "4  CT3    PM10      2006-05-01   20.0  ug/m3                       R  2006"
      ]
     },
     "execution_count": 42,
     "metadata": {},
     "output_type": "execute_result"
    }
   ],
   "source": [
    "df_pm10['Year'] = df_pm10.ReadingDateTime.dt.year\n",
    "df_pm10.head()"
   ]
  },
  {
   "cell_type": "code",
   "execution_count": 43,
   "metadata": {},
   "outputs": [
    {
     "data": {
      "text/html": [
       "<div>\n",
       "<style scoped>\n",
       "    .dataframe tbody tr th:only-of-type {\n",
       "        vertical-align: middle;\n",
       "    }\n",
       "\n",
       "    .dataframe tbody tr th {\n",
       "        vertical-align: top;\n",
       "    }\n",
       "\n",
       "    .dataframe thead th {\n",
       "        text-align: right;\n",
       "    }\n",
       "</style>\n",
       "<table border=\"1\" class=\"dataframe\">\n",
       "  <thead>\n",
       "    <tr style=\"text-align: right;\">\n",
       "      <th></th>\n",
       "      <th>Value</th>\n",
       "      <th>Year</th>\n",
       "    </tr>\n",
       "  </thead>\n",
       "  <tbody>\n",
       "    <tr>\n",
       "      <td>0</td>\n",
       "      <td>7.0</td>\n",
       "      <td>2006</td>\n",
       "    </tr>\n",
       "    <tr>\n",
       "      <td>1</td>\n",
       "      <td>14.0</td>\n",
       "      <td>2006</td>\n",
       "    </tr>\n",
       "    <tr>\n",
       "      <td>2</td>\n",
       "      <td>19.0</td>\n",
       "      <td>2006</td>\n",
       "    </tr>\n",
       "    <tr>\n",
       "      <td>3</td>\n",
       "      <td>18.0</td>\n",
       "      <td>2006</td>\n",
       "    </tr>\n",
       "    <tr>\n",
       "      <td>4</td>\n",
       "      <td>20.0</td>\n",
       "      <td>2006</td>\n",
       "    </tr>\n",
       "  </tbody>\n",
       "</table>\n",
       "</div>"
      ],
      "text/plain": [
       "   Value  Year\n",
       "0    7.0  2006\n",
       "1   14.0  2006\n",
       "2   19.0  2006\n",
       "3   18.0  2006\n",
       "4   20.0  2006"
      ]
     },
     "execution_count": 43,
     "metadata": {},
     "output_type": "execute_result"
    }
   ],
   "source": [
    "# create new dataframe with only the value and year columns\n",
    "\n",
    "df_pm10_new = df_pm10.drop(['Site','Species','ReadingDateTime','Units','Provisional or Ratified'],axis=1)\n",
    "df_pm10_new.head()"
   ]
  },
  {
   "cell_type": "code",
   "execution_count": 44,
   "metadata": {},
   "outputs": [
    {
     "data": {
      "text/plain": [
       "<matplotlib.axes._subplots.AxesSubplot at 0x1a1d4c3d68>"
      ]
     },
     "execution_count": 44,
     "metadata": {},
     "output_type": "execute_result"
    },
    {
     "data": {
      "image/png": "[encoded data removed]",
      "text/plain": [
       "<Figure size 432x288 with 1 Axes>"
      ]
     },
     "metadata": {
      "needs_background": "light"
     },
     "output_type": "display_data"
    }
   ],
   "source": [
    "df_pm10_new['Year'].plot.hist()\n",
    "# given that the data across time is non-uniform, for unknown reasons, we'll be trying to select pre- and post-ULEZ \n",
    "# data from 2006,2010,2014 and 2018"
   ]
  },
  {
   "cell_type": "code",
   "execution_count": 45,
   "metadata": {},
   "outputs": [
    {
     "data": {
      "text/plain": [
       "<matplotlib.legend.Legend at 0x1a1c1a2eb8>"
      ]
     },
     "execution_count": 45,
     "metadata": {},
     "output_type": "execute_result"
    },
    {
     "data": {
      "image/png": "[encoded data removed]",
      "text/plain": [
       "<Figure size 720x504 with 1 Axes>"
      ]
     },
     "metadata": {},
     "output_type": "display_data"
    }
   ],
   "source": [
    "sns.set_color_codes('dark')\n",
    "sns.set(rc={'figure.figsize':(10,7)})\n",
    "sns.distplot(df_pm10_new.loc[df_pm10_new['Year']==2006]['Value'], color='magenta')\n",
    "sns.distplot(df_pm10_new.loc[df_pm10_new['Year']==2012]['Value'], color='cyan')\n",
    "sns.distplot(df_pm10_new.loc[df_pm10_new['Year']==2018]['Value'], color='grey')\n",
    "plt.legend(labels=['2006', '2012', '2018'])"
   ]
  },
  {
   "cell_type": "code",
   "execution_count": 46,
   "metadata": {},
   "outputs": [
    {
     "data": {
      "text/plain": [
       "<matplotlib.axes._subplots.AxesSubplot at 0x1a1d757e48>"
      ]
     },
     "execution_count": 46,
     "metadata": {},
     "output_type": "execute_result"
    },
    {
     "data": {
      "image/png": "[encoded data removed]",
      "text/plain": [
       "<Figure size 720x504 with 1 Axes>"
      ]
     },
     "metadata": {},
     "output_type": "display_data"
    }
   ],
   "source": [
    "sns.distplot(df_pm10_new.loc[df_pm10_new['Year']==2019]['Value'])"
   ]
  },
  {
   "cell_type": "code",
   "execution_count": 47,
   "metadata": {},
   "outputs": [
    {
     "data": {
      "text/html": [
       "<div>\n",
       "<style scoped>\n",
       "    .dataframe tbody tr th:only-of-type {\n",
       "        vertical-align: middle;\n",
       "    }\n",
       "\n",
       "    .dataframe tbody tr th {\n",
       "        vertical-align: top;\n",
       "    }\n",
       "\n",
       "    .dataframe thead th {\n",
       "        text-align: right;\n",
       "    }\n",
       "</style>\n",
       "<table border=\"1\" class=\"dataframe\">\n",
       "  <thead>\n",
       "    <tr style=\"text-align: right;\">\n",
       "      <th></th>\n",
       "      <th>Site</th>\n",
       "      <th>Species</th>\n",
       "      <th>ReadingDateTime</th>\n",
       "      <th>Value</th>\n",
       "      <th>Units</th>\n",
       "      <th>Provisional or Ratified</th>\n",
       "      <th>Year</th>\n",
       "    </tr>\n",
       "  </thead>\n",
       "  <tbody>\n",
       "    <tr>\n",
       "      <td>0</td>\n",
       "      <td>CT3</td>\n",
       "      <td>PM10</td>\n",
       "      <td>2006-01-01</td>\n",
       "      <td>7.0</td>\n",
       "      <td>ug/m3</td>\n",
       "      <td>R</td>\n",
       "      <td>2006</td>\n",
       "    </tr>\n",
       "    <tr>\n",
       "      <td>1</td>\n",
       "      <td>CT3</td>\n",
       "      <td>PM10</td>\n",
       "      <td>2006-02-01</td>\n",
       "      <td>14.0</td>\n",
       "      <td>ug/m3</td>\n",
       "      <td>R</td>\n",
       "      <td>2006</td>\n",
       "    </tr>\n",
       "    <tr>\n",
       "      <td>2</td>\n",
       "      <td>CT3</td>\n",
       "      <td>PM10</td>\n",
       "      <td>2006-03-01</td>\n",
       "      <td>19.0</td>\n",
       "      <td>ug/m3</td>\n",
       "      <td>R</td>\n",
       "      <td>2006</td>\n",
       "    </tr>\n",
       "    <tr>\n",
       "      <td>3</td>\n",
       "      <td>CT3</td>\n",
       "      <td>PM10</td>\n",
       "      <td>2006-04-01</td>\n",
       "      <td>18.0</td>\n",
       "      <td>ug/m3</td>\n",
       "      <td>R</td>\n",
       "      <td>2006</td>\n",
       "    </tr>\n",
       "    <tr>\n",
       "      <td>4</td>\n",
       "      <td>CT3</td>\n",
       "      <td>PM10</td>\n",
       "      <td>2006-05-01</td>\n",
       "      <td>20.0</td>\n",
       "      <td>ug/m3</td>\n",
       "      <td>R</td>\n",
       "      <td>2006</td>\n",
       "    </tr>\n",
       "    <tr>\n",
       "      <td>5</td>\n",
       "      <td>CT3</td>\n",
       "      <td>PM10</td>\n",
       "      <td>2006-06-01</td>\n",
       "      <td>28.0</td>\n",
       "      <td>ug/m3</td>\n",
       "      <td>R</td>\n",
       "      <td>2006</td>\n",
       "    </tr>\n",
       "    <tr>\n",
       "      <td>6</td>\n",
       "      <td>CT3</td>\n",
       "      <td>PM10</td>\n",
       "      <td>2006-07-01</td>\n",
       "      <td>33.0</td>\n",
       "      <td>ug/m3</td>\n",
       "      <td>R</td>\n",
       "      <td>2006</td>\n",
       "    </tr>\n",
       "    <tr>\n",
       "      <td>7</td>\n",
       "      <td>CT3</td>\n",
       "      <td>PM10</td>\n",
       "      <td>2006-08-01</td>\n",
       "      <td>34.0</td>\n",
       "      <td>ug/m3</td>\n",
       "      <td>R</td>\n",
       "      <td>2006</td>\n",
       "    </tr>\n",
       "    <tr>\n",
       "      <td>8</td>\n",
       "      <td>CT3</td>\n",
       "      <td>PM10</td>\n",
       "      <td>2006-09-01</td>\n",
       "      <td>36.0</td>\n",
       "      <td>ug/m3</td>\n",
       "      <td>R</td>\n",
       "      <td>2006</td>\n",
       "    </tr>\n",
       "    <tr>\n",
       "      <td>9</td>\n",
       "      <td>CT3</td>\n",
       "      <td>PM10</td>\n",
       "      <td>2006-10-01</td>\n",
       "      <td>21.0</td>\n",
       "      <td>ug/m3</td>\n",
       "      <td>R</td>\n",
       "      <td>2006</td>\n",
       "    </tr>\n",
       "    <tr>\n",
       "      <td>10</td>\n",
       "      <td>CT3</td>\n",
       "      <td>PM10</td>\n",
       "      <td>2006-11-01</td>\n",
       "      <td>20.0</td>\n",
       "      <td>ug/m3</td>\n",
       "      <td>R</td>\n",
       "      <td>2006</td>\n",
       "    </tr>\n",
       "    <tr>\n",
       "      <td>11</td>\n",
       "      <td>CT3</td>\n",
       "      <td>PM10</td>\n",
       "      <td>2006-12-01</td>\n",
       "      <td>25.0</td>\n",
       "      <td>ug/m3</td>\n",
       "      <td>R</td>\n",
       "      <td>2006</td>\n",
       "    </tr>\n",
       "    <tr>\n",
       "      <td>12</td>\n",
       "      <td>CT3</td>\n",
       "      <td>PM10</td>\n",
       "      <td>2006-01-13</td>\n",
       "      <td>20.0</td>\n",
       "      <td>ug/m3</td>\n",
       "      <td>R</td>\n",
       "      <td>2006</td>\n",
       "    </tr>\n",
       "    <tr>\n",
       "      <td>13</td>\n",
       "      <td>CT3</td>\n",
       "      <td>PM10</td>\n",
       "      <td>2006-01-14</td>\n",
       "      <td>31.0</td>\n",
       "      <td>ug/m3</td>\n",
       "      <td>R</td>\n",
       "      <td>2006</td>\n",
       "    </tr>\n",
       "    <tr>\n",
       "      <td>14</td>\n",
       "      <td>CT3</td>\n",
       "      <td>PM10</td>\n",
       "      <td>2006-01-15</td>\n",
       "      <td>28.0</td>\n",
       "      <td>ug/m3</td>\n",
       "      <td>R</td>\n",
       "      <td>2006</td>\n",
       "    </tr>\n",
       "    <tr>\n",
       "      <td>15</td>\n",
       "      <td>CT3</td>\n",
       "      <td>PM10</td>\n",
       "      <td>2006-01-16</td>\n",
       "      <td>22.0</td>\n",
       "      <td>ug/m3</td>\n",
       "      <td>R</td>\n",
       "      <td>2006</td>\n",
       "    </tr>\n",
       "    <tr>\n",
       "      <td>16</td>\n",
       "      <td>CT3</td>\n",
       "      <td>PM10</td>\n",
       "      <td>2006-01-17</td>\n",
       "      <td>14.0</td>\n",
       "      <td>ug/m3</td>\n",
       "      <td>R</td>\n",
       "      <td>2006</td>\n",
       "    </tr>\n",
       "    <tr>\n",
       "      <td>17</td>\n",
       "      <td>CT3</td>\n",
       "      <td>PM10</td>\n",
       "      <td>2006-01-18</td>\n",
       "      <td>15.0</td>\n",
       "      <td>ug/m3</td>\n",
       "      <td>R</td>\n",
       "      <td>2006</td>\n",
       "    </tr>\n",
       "    <tr>\n",
       "      <td>18</td>\n",
       "      <td>CT3</td>\n",
       "      <td>PM10</td>\n",
       "      <td>2006-01-19</td>\n",
       "      <td>19.0</td>\n",
       "      <td>ug/m3</td>\n",
       "      <td>R</td>\n",
       "      <td>2006</td>\n",
       "    </tr>\n",
       "    <tr>\n",
       "      <td>19</td>\n",
       "      <td>CT3</td>\n",
       "      <td>PM10</td>\n",
       "      <td>2006-01-20</td>\n",
       "      <td>14.0</td>\n",
       "      <td>ug/m3</td>\n",
       "      <td>R</td>\n",
       "      <td>2006</td>\n",
       "    </tr>\n",
       "  </tbody>\n",
       "</table>\n",
       "</div>"
      ],
      "text/plain": [
       "   Site Species ReadingDateTime  Value  Units Provisional or Ratified  Year\n",
       "0   CT3    PM10      2006-01-01    7.0  ug/m3                       R  2006\n",
       "1   CT3    PM10      2006-02-01   14.0  ug/m3                       R  2006\n",
       "2   CT3    PM10      2006-03-01   19.0  ug/m3                       R  2006\n",
       "3   CT3    PM10      2006-04-01   18.0  ug/m3                       R  2006\n",
       "4   CT3    PM10      2006-05-01   20.0  ug/m3                       R  2006\n",
       "5   CT3    PM10      2006-06-01   28.0  ug/m3                       R  2006\n",
       "6   CT3    PM10      2006-07-01   33.0  ug/m3                       R  2006\n",
       "7   CT3    PM10      2006-08-01   34.0  ug/m3                       R  2006\n",
       "8   CT3    PM10      2006-09-01   36.0  ug/m3                       R  2006\n",
       "9   CT3    PM10      2006-10-01   21.0  ug/m3                       R  2006\n",
       "10  CT3    PM10      2006-11-01   20.0  ug/m3                       R  2006\n",
       "11  CT3    PM10      2006-12-01   25.0  ug/m3                       R  2006\n",
       "12  CT3    PM10      2006-01-13   20.0  ug/m3                       R  2006\n",
       "13  CT3    PM10      2006-01-14   31.0  ug/m3                       R  2006\n",
       "14  CT3    PM10      2006-01-15   28.0  ug/m3                       R  2006\n",
       "15  CT3    PM10      2006-01-16   22.0  ug/m3                       R  2006\n",
       "16  CT3    PM10      2006-01-17   14.0  ug/m3                       R  2006\n",
       "17  CT3    PM10      2006-01-18   15.0  ug/m3                       R  2006\n",
       "18  CT3    PM10      2006-01-19   19.0  ug/m3                       R  2006\n",
       "19  CT3    PM10      2006-01-20   14.0  ug/m3                       R  2006"
      ]
     },
     "execution_count": 47,
     "metadata": {},
     "output_type": "execute_result"
    }
   ],
   "source": [
    "df_pm10.head(20)"
   ]
  },
  {
   "cell_type": "code",
   "execution_count": 48,
   "metadata": {},
   "outputs": [
    {
     "data": {
      "text/html": [
       "<div>\n",
       "<style scoped>\n",
       "    .dataframe tbody tr th:only-of-type {\n",
       "        vertical-align: middle;\n",
       "    }\n",
       "\n",
       "    .dataframe tbody tr th {\n",
       "        vertical-align: top;\n",
       "    }\n",
       "\n",
       "    .dataframe thead th {\n",
       "        text-align: right;\n",
       "    }\n",
       "</style>\n",
       "<table border=\"1\" class=\"dataframe\">\n",
       "  <thead>\n",
       "    <tr style=\"text-align: right;\">\n",
       "      <th></th>\n",
       "      <th>Site</th>\n",
       "      <th>Species</th>\n",
       "      <th>ReadingDateTime</th>\n",
       "      <th>Value</th>\n",
       "      <th>Units</th>\n",
       "      <th>Provisional or Ratified</th>\n",
       "      <th>Year</th>\n",
       "      <th>Month</th>\n",
       "    </tr>\n",
       "  </thead>\n",
       "  <tbody>\n",
       "    <tr>\n",
       "      <td>0</td>\n",
       "      <td>CT3</td>\n",
       "      <td>PM10</td>\n",
       "      <td>2006-01-01</td>\n",
       "      <td>7.0</td>\n",
       "      <td>ug/m3</td>\n",
       "      <td>R</td>\n",
       "      <td>2006</td>\n",
       "      <td>1</td>\n",
       "    </tr>\n",
       "    <tr>\n",
       "      <td>1</td>\n",
       "      <td>CT3</td>\n",
       "      <td>PM10</td>\n",
       "      <td>2006-02-01</td>\n",
       "      <td>14.0</td>\n",
       "      <td>ug/m3</td>\n",
       "      <td>R</td>\n",
       "      <td>2006</td>\n",
       "      <td>2</td>\n",
       "    </tr>\n",
       "    <tr>\n",
       "      <td>2</td>\n",
       "      <td>CT3</td>\n",
       "      <td>PM10</td>\n",
       "      <td>2006-03-01</td>\n",
       "      <td>19.0</td>\n",
       "      <td>ug/m3</td>\n",
       "      <td>R</td>\n",
       "      <td>2006</td>\n",
       "      <td>3</td>\n",
       "    </tr>\n",
       "    <tr>\n",
       "      <td>3</td>\n",
       "      <td>CT3</td>\n",
       "      <td>PM10</td>\n",
       "      <td>2006-04-01</td>\n",
       "      <td>18.0</td>\n",
       "      <td>ug/m3</td>\n",
       "      <td>R</td>\n",
       "      <td>2006</td>\n",
       "      <td>4</td>\n",
       "    </tr>\n",
       "    <tr>\n",
       "      <td>4</td>\n",
       "      <td>CT3</td>\n",
       "      <td>PM10</td>\n",
       "      <td>2006-05-01</td>\n",
       "      <td>20.0</td>\n",
       "      <td>ug/m3</td>\n",
       "      <td>R</td>\n",
       "      <td>2006</td>\n",
       "      <td>5</td>\n",
       "    </tr>\n",
       "    <tr>\n",
       "      <td>...</td>\n",
       "      <td>...</td>\n",
       "      <td>...</td>\n",
       "      <td>...</td>\n",
       "      <td>...</td>\n",
       "      <td>...</td>\n",
       "      <td>...</td>\n",
       "      <td>...</td>\n",
       "      <td>...</td>\n",
       "    </tr>\n",
       "    <tr>\n",
       "      <td>25255</td>\n",
       "      <td>WM6</td>\n",
       "      <td>PM10</td>\n",
       "      <td>2019-10-27</td>\n",
       "      <td>20.0</td>\n",
       "      <td>ug/m3</td>\n",
       "      <td>P</td>\n",
       "      <td>2019</td>\n",
       "      <td>10</td>\n",
       "    </tr>\n",
       "    <tr>\n",
       "      <td>25256</td>\n",
       "      <td>WM6</td>\n",
       "      <td>PM10</td>\n",
       "      <td>2019-10-28</td>\n",
       "      <td>27.0</td>\n",
       "      <td>ug/m3</td>\n",
       "      <td>P</td>\n",
       "      <td>2019</td>\n",
       "      <td>10</td>\n",
       "    </tr>\n",
       "    <tr>\n",
       "      <td>25257</td>\n",
       "      <td>WM6</td>\n",
       "      <td>PM10</td>\n",
       "      <td>2019-10-29</td>\n",
       "      <td>18.0</td>\n",
       "      <td>ug/m3</td>\n",
       "      <td>P</td>\n",
       "      <td>2019</td>\n",
       "      <td>10</td>\n",
       "    </tr>\n",
       "    <tr>\n",
       "      <td>25258</td>\n",
       "      <td>WM6</td>\n",
       "      <td>PM10</td>\n",
       "      <td>2019-10-30</td>\n",
       "      <td>30.0</td>\n",
       "      <td>ug/m3</td>\n",
       "      <td>P</td>\n",
       "      <td>2019</td>\n",
       "      <td>10</td>\n",
       "    </tr>\n",
       "    <tr>\n",
       "      <td>25259</td>\n",
       "      <td>WM6</td>\n",
       "      <td>PM10</td>\n",
       "      <td>2019-10-31</td>\n",
       "      <td>41.0</td>\n",
       "      <td>ug/m3</td>\n",
       "      <td>P</td>\n",
       "      <td>2019</td>\n",
       "      <td>10</td>\n",
       "    </tr>\n",
       "  </tbody>\n",
       "</table>\n",
       "<p>19539 rows × 8 columns</p>\n",
       "</div>"
      ],
      "text/plain": [
       "      Site Species ReadingDateTime  Value  Units Provisional or Ratified  \\\n",
       "0      CT3    PM10      2006-01-01    7.0  ug/m3                       R   \n",
       "1      CT3    PM10      2006-02-01   14.0  ug/m3                       R   \n",
       "2      CT3    PM10      2006-03-01   19.0  ug/m3                       R   \n",
       "3      CT3    PM10      2006-04-01   18.0  ug/m3                       R   \n",
       "4      CT3    PM10      2006-05-01   20.0  ug/m3                       R   \n",
       "...    ...     ...             ...    ...    ...                     ...   \n",
       "25255  WM6    PM10      2019-10-27   20.0  ug/m3                       P   \n",
       "25256  WM6    PM10      2019-10-28   27.0  ug/m3                       P   \n",
       "25257  WM6    PM10      2019-10-29   18.0  ug/m3                       P   \n",
       "25258  WM6    PM10      2019-10-30   30.0  ug/m3                       P   \n",
       "25259  WM6    PM10      2019-10-31   41.0  ug/m3                       P   \n",
       "\n",
       "       Year  Month  \n",
       "0      2006      1  \n",
       "1      2006      2  \n",
       "2      2006      3  \n",
       "3      2006      4  \n",
       "4      2006      5  \n",
       "...     ...    ...  \n",
       "25255  2019     10  \n",
       "25256  2019     10  \n",
       "25257  2019     10  \n",
       "25258  2019     10  \n",
       "25259  2019     10  \n",
       "\n",
       "[19539 rows x 8 columns]"
      ]
     },
     "execution_count": 48,
     "metadata": {},
     "output_type": "execute_result"
    }
   ],
   "source": [
    "df_pm10['Month'] = df_pm10.ReadingDateTime.dt.month\n",
    "df_pm10"
   ]
  },
  {
   "cell_type": "code",
   "execution_count": 49,
   "metadata": {},
   "outputs": [
    {
     "data": {
      "text/html": [
       "<div>\n",
       "<style scoped>\n",
       "    .dataframe tbody tr th:only-of-type {\n",
       "        vertical-align: middle;\n",
       "    }\n",
       "\n",
       "    .dataframe tbody tr th {\n",
       "        vertical-align: top;\n",
       "    }\n",
       "\n",
       "    .dataframe thead th {\n",
       "        text-align: right;\n",
       "    }\n",
       "</style>\n",
       "<table border=\"1\" class=\"dataframe\">\n",
       "  <thead>\n",
       "    <tr style=\"text-align: right;\">\n",
       "      <th></th>\n",
       "      <th>Site</th>\n",
       "      <th>Species</th>\n",
       "      <th>ReadingDateTime</th>\n",
       "      <th>Value</th>\n",
       "      <th>Units</th>\n",
       "      <th>Provisional or Ratified</th>\n",
       "      <th>Year</th>\n",
       "      <th>Month</th>\n",
       "    </tr>\n",
       "  </thead>\n",
       "  <tbody>\n",
       "    <tr>\n",
       "      <td>0</td>\n",
       "      <td>CT3</td>\n",
       "      <td>NO2</td>\n",
       "      <td>2006-01-01</td>\n",
       "      <td>37.4</td>\n",
       "      <td>ug m-3</td>\n",
       "      <td>R</td>\n",
       "      <td>2006</td>\n",
       "      <td>1</td>\n",
       "    </tr>\n",
       "    <tr>\n",
       "      <td>1</td>\n",
       "      <td>CT3</td>\n",
       "      <td>NO2</td>\n",
       "      <td>2006-02-01</td>\n",
       "      <td>39.8</td>\n",
       "      <td>ug m-3</td>\n",
       "      <td>R</td>\n",
       "      <td>2006</td>\n",
       "      <td>2</td>\n",
       "    </tr>\n",
       "    <tr>\n",
       "      <td>2</td>\n",
       "      <td>CT3</td>\n",
       "      <td>NO2</td>\n",
       "      <td>2006-03-01</td>\n",
       "      <td>57.5</td>\n",
       "      <td>ug m-3</td>\n",
       "      <td>R</td>\n",
       "      <td>2006</td>\n",
       "      <td>3</td>\n",
       "    </tr>\n",
       "    <tr>\n",
       "      <td>3</td>\n",
       "      <td>CT3</td>\n",
       "      <td>NO2</td>\n",
       "      <td>2006-04-01</td>\n",
       "      <td>51.0</td>\n",
       "      <td>ug m-3</td>\n",
       "      <td>R</td>\n",
       "      <td>2006</td>\n",
       "      <td>4</td>\n",
       "    </tr>\n",
       "    <tr>\n",
       "      <td>4</td>\n",
       "      <td>CT3</td>\n",
       "      <td>NO2</td>\n",
       "      <td>2006-05-01</td>\n",
       "      <td>50.7</td>\n",
       "      <td>ug m-3</td>\n",
       "      <td>R</td>\n",
       "      <td>2006</td>\n",
       "      <td>5</td>\n",
       "    </tr>\n",
       "    <tr>\n",
       "      <td>...</td>\n",
       "      <td>...</td>\n",
       "      <td>...</td>\n",
       "      <td>...</td>\n",
       "      <td>...</td>\n",
       "      <td>...</td>\n",
       "      <td>...</td>\n",
       "      <td>...</td>\n",
       "      <td>...</td>\n",
       "    </tr>\n",
       "    <tr>\n",
       "      <td>25255</td>\n",
       "      <td>WM6</td>\n",
       "      <td>NO2</td>\n",
       "      <td>2019-10-27</td>\n",
       "      <td>53.3</td>\n",
       "      <td>ug m-3</td>\n",
       "      <td>P</td>\n",
       "      <td>2019</td>\n",
       "      <td>10</td>\n",
       "    </tr>\n",
       "    <tr>\n",
       "      <td>25256</td>\n",
       "      <td>WM6</td>\n",
       "      <td>NO2</td>\n",
       "      <td>2019-10-28</td>\n",
       "      <td>47.5</td>\n",
       "      <td>ug m-3</td>\n",
       "      <td>P</td>\n",
       "      <td>2019</td>\n",
       "      <td>10</td>\n",
       "    </tr>\n",
       "    <tr>\n",
       "      <td>25257</td>\n",
       "      <td>WM6</td>\n",
       "      <td>NO2</td>\n",
       "      <td>2019-10-29</td>\n",
       "      <td>48.7</td>\n",
       "      <td>ug m-3</td>\n",
       "      <td>P</td>\n",
       "      <td>2019</td>\n",
       "      <td>10</td>\n",
       "    </tr>\n",
       "    <tr>\n",
       "      <td>25258</td>\n",
       "      <td>WM6</td>\n",
       "      <td>NO2</td>\n",
       "      <td>2019-10-30</td>\n",
       "      <td>60.3</td>\n",
       "      <td>ug m-3</td>\n",
       "      <td>P</td>\n",
       "      <td>2019</td>\n",
       "      <td>10</td>\n",
       "    </tr>\n",
       "    <tr>\n",
       "      <td>25259</td>\n",
       "      <td>WM6</td>\n",
       "      <td>NO2</td>\n",
       "      <td>2019-10-31</td>\n",
       "      <td>59.4</td>\n",
       "      <td>ug m-3</td>\n",
       "      <td>P</td>\n",
       "      <td>2019</td>\n",
       "      <td>10</td>\n",
       "    </tr>\n",
       "  </tbody>\n",
       "</table>\n",
       "<p>20967 rows × 8 columns</p>\n",
       "</div>"
      ],
      "text/plain": [
       "      Site Species ReadingDateTime  Value   Units Provisional or Ratified  \\\n",
       "0      CT3     NO2      2006-01-01   37.4  ug m-3                       R   \n",
       "1      CT3     NO2      2006-02-01   39.8  ug m-3                       R   \n",
       "2      CT3     NO2      2006-03-01   57.5  ug m-3                       R   \n",
       "3      CT3     NO2      2006-04-01   51.0  ug m-3                       R   \n",
       "4      CT3     NO2      2006-05-01   50.7  ug m-3                       R   \n",
       "...    ...     ...             ...    ...     ...                     ...   \n",
       "25255  WM6     NO2      2019-10-27   53.3  ug m-3                       P   \n",
       "25256  WM6     NO2      2019-10-28   47.5  ug m-3                       P   \n",
       "25257  WM6     NO2      2019-10-29   48.7  ug m-3                       P   \n",
       "25258  WM6     NO2      2019-10-30   60.3  ug m-3                       P   \n",
       "25259  WM6     NO2      2019-10-31   59.4  ug m-3                       P   \n",
       "\n",
       "       Year  Month  \n",
       "0      2006      1  \n",
       "1      2006      2  \n",
       "2      2006      3  \n",
       "3      2006      4  \n",
       "4      2006      5  \n",
       "...     ...    ...  \n",
       "25255  2019     10  \n",
       "25256  2019     10  \n",
       "25257  2019     10  \n",
       "25258  2019     10  \n",
       "25259  2019     10  \n",
       "\n",
       "[20967 rows x 8 columns]"
      ]
     },
     "execution_count": 49,
     "metadata": {},
     "output_type": "execute_result"
    }
   ],
   "source": [
    "df_no2['Month'] = df_no2.ReadingDateTime.dt.month\n",
    "df_no2"
   ]
  },
  {
   "cell_type": "code",
   "execution_count": 69,
   "metadata": {},
   "outputs": [
    {
     "data": {
      "text/html": [
       "<div>\n",
       "<style scoped>\n",
       "    .dataframe tbody tr th:only-of-type {\n",
       "        vertical-align: middle;\n",
       "    }\n",
       "\n",
       "    .dataframe tbody tr th {\n",
       "        vertical-align: top;\n",
       "    }\n",
       "\n",
       "    .dataframe thead th {\n",
       "        text-align: right;\n",
       "    }\n",
       "</style>\n",
       "<table border=\"1\" class=\"dataframe\">\n",
       "  <thead>\n",
       "    <tr style=\"text-align: right;\">\n",
       "      <th></th>\n",
       "      <th>Site</th>\n",
       "      <th>Species</th>\n",
       "      <th>Value</th>\n",
       "      <th>Units</th>\n",
       "      <th>Year</th>\n",
       "      <th>Month</th>\n",
       "    </tr>\n",
       "  </thead>\n",
       "  <tbody>\n",
       "    <tr>\n",
       "      <td>4</td>\n",
       "      <td>CT3</td>\n",
       "      <td>NO2</td>\n",
       "      <td>50.7</td>\n",
       "      <td>ug m-3</td>\n",
       "      <td>2006</td>\n",
       "      <td>5</td>\n",
       "    </tr>\n",
       "    <tr>\n",
       "      <td>9</td>\n",
       "      <td>CT3</td>\n",
       "      <td>NO2</td>\n",
       "      <td>31.0</td>\n",
       "      <td>ug m-3</td>\n",
       "      <td>2006</td>\n",
       "      <td>10</td>\n",
       "    </tr>\n",
       "    <tr>\n",
       "      <td>35</td>\n",
       "      <td>CT3</td>\n",
       "      <td>NO2</td>\n",
       "      <td>71.1</td>\n",
       "      <td>ug m-3</td>\n",
       "      <td>2006</td>\n",
       "      <td>5</td>\n",
       "    </tr>\n",
       "    <tr>\n",
       "      <td>40</td>\n",
       "      <td>CT3</td>\n",
       "      <td>NO2</td>\n",
       "      <td>71.1</td>\n",
       "      <td>ug m-3</td>\n",
       "      <td>2006</td>\n",
       "      <td>10</td>\n",
       "    </tr>\n",
       "    <tr>\n",
       "      <td>63</td>\n",
       "      <td>CT3</td>\n",
       "      <td>NO2</td>\n",
       "      <td>68.0</td>\n",
       "      <td>ug m-3</td>\n",
       "      <td>2006</td>\n",
       "      <td>5</td>\n",
       "    </tr>\n",
       "  </tbody>\n",
       "</table>\n",
       "</div>"
      ],
      "text/plain": [
       "   Site Species  Value   Units  Year  Month\n",
       "4   CT3     NO2   50.7  ug m-3  2006      5\n",
       "9   CT3     NO2   31.0  ug m-3  2006     10\n",
       "35  CT3     NO2   71.1  ug m-3  2006      5\n",
       "40  CT3     NO2   71.1  ug m-3  2006     10\n",
       "63  CT3     NO2   68.0  ug m-3  2006      5"
      ]
     },
     "execution_count": 69,
     "metadata": {},
     "output_type": "execute_result"
    }
   ],
   "source": [
    "# For our comparison groups we will be selecting Sites, Species, Value, Units, Year and Month for May and Oct 2006 & 2009\n",
    "test_df_no2 = df_no2.loc[(df_no2.Month == 5)|(df_no2.Month == 10)].drop(columns=['ReadingDateTime','Provisional or Ratified'])\n",
    "test_df_pm10 = df_pm10.loc[(df_pm10.Month == 5)|(df_pm10.Month == 10)].drop(columns=['ReadingDateTime','Provisional or Ratified'])\n",
    "\n",
    "test_df_no2.head()"
   ]
  },
  {
   "cell_type": "code",
   "execution_count": 70,
   "metadata": {},
   "outputs": [
    {
     "data": {
      "text/plain": [
       "<matplotlib.axes._subplots.AxesSubplot at 0x1a1dce6710>"
      ]
     },
     "execution_count": 70,
     "metadata": {},
     "output_type": "execute_result"
    },
    {
     "data": {
      "image/png": "[encoded data removed]",
      "text/plain": [
       "<Figure size 720x504 with 1 Axes>"
      ]
     },
     "metadata": {},
     "output_type": "display_data"
    }
   ],
   "source": [
    "sns.distplot(test_df_pm10.Value)"
   ]
  },
  {
   "cell_type": "code",
   "execution_count": 71,
   "metadata": {},
   "outputs": [
    {
     "data": {
      "text/plain": [
       "<matplotlib.axes._subplots.AxesSubplot at 0x1a1dee6b38>"
      ]
     },
     "execution_count": 71,
     "metadata": {},
     "output_type": "execute_result"
    },
    {
     "data": {
      "image/png": "[encoded data removed]",
      "text/plain": [
       "<Figure size 720x504 with 1 Axes>"
      ]
     },
     "metadata": {},
     "output_type": "display_data"
    }
   ],
   "source": [
    "sns.distplot(test_df_no2.Value)"
   ]
  },
  {
   "cell_type": "code",
   "execution_count": 72,
   "metadata": {},
   "outputs": [
    {
     "data": {
      "text/plain": [
       "3332"
      ]
     },
     "execution_count": 72,
     "metadata": {},
     "output_type": "execute_result"
    }
   ],
   "source": [
    "len(test_df_pm10)"
   ]
  },
  {
   "cell_type": "code",
   "execution_count": 73,
   "metadata": {},
   "outputs": [
    {
     "data": {
      "text/plain": [
       "3560"
      ]
     },
     "execution_count": 73,
     "metadata": {},
     "output_type": "execute_result"
    }
   ],
   "source": [
    "len(test_df_no2)"
   ]
  },
  {
   "cell_type": "code",
   "execution_count": 74,
   "metadata": {},
   "outputs": [
    {
     "data": {
      "text/plain": [
       "160"
      ]
     },
     "execution_count": 74,
     "metadata": {},
     "output_type": "execute_result"
    }
   ],
   "source": [
    "len(test_df_no2.loc[test_df_no2['Year']==2006])"
   ]
  },
  {
   "cell_type": "code",
   "execution_count": 75,
   "metadata": {},
   "outputs": [
    {
     "data": {
      "text/plain": [
       "241"
      ]
     },
     "execution_count": 75,
     "metadata": {},
     "output_type": "execute_result"
    }
   ],
   "source": [
    "len(test_df_no2.loc[test_df_no2['Year']==2009])"
   ]
  },
  {
   "cell_type": "code",
   "execution_count": 63,
   "metadata": {},
   "outputs": [],
   "source": [
    "# Now we make our testing samples below, for May and Oct 2006, 2009, for both the PM10 and the NO2 values. \n",
    "pre_lez_no2 = test_df_no2.loc[test_df_no2['Year']==2006]\n",
    "post_lez_no2 = test_df_no2.loc[test_df_no2['Year']==2009]\n",
    "\n",
    "pre_lez_pm10 = test_df_pm10.loc[test_df_pm10['Year']==2006]\n",
    "post_lez_pm10 = test_df_pm10.loc[test_df_pm10['Year']==2009]"
   ]
  },
  {
   "cell_type": "code",
   "execution_count": 76,
   "metadata": {},
   "outputs": [],
   "source": [
    "pre_ulez_no2 = test_df_no2.loc[test_df_no2['Year']==2017]\n",
    "post_ulez_no2 = test_df_no2.loc[test_df_no2['Year']==2019]\n",
    "\n",
    "pre_ulez_pm10 = test_df_pm10.loc[test_df_pm10['Year']==2017]\n",
    "post_ulez_pm10 = test_df_pm10.loc[test_df_pm10['Year']==2019]"
   ]
  },
  {
   "cell_type": "code",
   "execution_count": 77,
   "metadata": {},
   "outputs": [
    {
     "data": {
      "text/plain": [
       "KC1    62\n",
       "CT3    59\n",
       "HK6    39\n",
       "Name: Site, dtype: int64"
      ]
     },
     "execution_count": 77,
     "metadata": {},
     "output_type": "execute_result"
    }
   ],
   "source": [
    "pre_lez_no2.Site.value_counts()"
   ]
  },
  {
   "cell_type": "code",
   "execution_count": 78,
   "metadata": {},
   "outputs": [
    {
     "data": {
      "text/plain": [
       "HK6    61\n",
       "CT3    56\n",
       "MY7    29\n",
       "Name: Site, dtype: int64"
      ]
     },
     "execution_count": 78,
     "metadata": {},
     "output_type": "execute_result"
    }
   ],
   "source": [
    "pre_lez_pm10.Site.value_counts()"
   ]
  },
  {
   "cell_type": "markdown",
   "metadata": {},
   "source": [
    "## Statistical Testing"
   ]
  },
  {
   "cell_type": "markdown",
   "metadata": {},
   "source": [
    "(Mina)\n",
    "\n",
    "1. The introducton of ULEZ (8th April 2019) decreased the amount of NOx in Zone 1 of Central London by at least 42%. \n",
    "[H0] - ULEZ reduced the amount of NOx in Zone 1 by less than 42%.\n",
    "2. The introduction of ULEZ was at least 25% more effective than the introduction of LEZ (4th February 2008) in reducing NOx levels in Central London.\n",
    "[H0] - The effect of ULEZ on NOx levels was less than 25% more than the impact of LEZ. \n",
    "\n",
    "(Ioana) \n",
    "3. The introducton of ULEZ decreased the amount of PM10 in Zone 1 of Central London by at least 33%. \n",
    "[H0] - ULEZ reduced the amount of PM10 in Zone 1 by less than 33%.\n",
    "4. The introduction of ULEZ was at least 25% more effective than the introduction of LEZ in reducing PM10 levels in Central London. \n",
    "[H0] - The effect of ULEZ on PM10 levels was less than 25% more than the impact of LEZ. \n",
    "\n",
    "Our alpha values are set at 0.05."
   ]
  },
  {
   "cell_type": "code",
   "execution_count": 37,
   "metadata": {},
   "outputs": [],
   "source": [
    "def sample_variance(sample):\n",
    "    return np.sum([(x - np.mean(sample))**2 for x in sample])/(len(sample)-1)\n",
    "\n",
    "def pooled_variance(sample1, sample2):\n",
    "    return ((len(sample1)-1)*sample_variance(sample1) + (len(sample2)-1)*sample_variance(sample2))/(len(sample1) + len(sample2) - 2)\n",
    "\n",
    "\n",
    "def visualize_t(t_stat, n_control, n_experimental):\n",
    "    df = len(n_experimental)-1\n",
    "    # initialize a matplotlib \"figure\"\n",
    "    fig = plt.figure(figsize=(15,10))\n",
    "    ax = fig.gca()\n",
    "    # generate points on the x axis between -4 and 4:\n",
    "    xs = np.linspace(-4,4,200)\n",
    "    # use stats.t.pdf to get values on the probability density function for the t-distribution\n",
    "    ys = stats.t.pdf(xs, df, 0, 1)\n",
    "    ax.plot(xs, ys, linewidth=3, color='darkblue')\n",
    "\n",
    "    # Draw two sided boundary for critical-t\n",
    "    ax.axvline(x=+t_stat, color='red', linestyle='--', lw=3,label='t-statistic_lower_bound')\n",
    "    ax.axvline(x=-t_stat, color='purple', linestyle='--', lw=3,label='t-statistic_upper_bound')\n",
    "    ax.legend()\n",
    "    plt.show()\n",
    "    return \n",
    "\n",
    "def Cohen_d(group1, group2):\n",
    "\n",
    "    diff = group1.mean() - group2.mean()\n",
    "    # Calculate the pooled threshold as shown earlier\n",
    "    pooled_var = pooled_variance(group1, group2)\n",
    "    \n",
    "    # Calculate Cohen's d statistic\n",
    "    d = diff / np.sqrt(pooled_var)\n",
    "    \n",
    "    return d\n",
    "\n",
    "\n",
    "def welch_t_test(sample1,sample2):\n",
    "    num = np.mean(sample1)-np.mean(sample2)\n",
    "    denom = np.sqrt((sample_variance(sample1)**2/len(sample1)) + (sample_variance(sample2)**2/len(sample2)))\n",
    "    return num/denom\n",
    " \n",
    "\n",
    "    \n",
    "    \n",
    "              \n",
    "def p_val(t_stat, df):\n",
    "    return 1-stats.t.cdf(t_stat,df)"
   ]
  },
  {
   "cell_type": "code",
   "execution_count": 36,
   "metadata": {},
   "outputs": [
    {
     "ename": "NameError",
     "evalue": "name 'p_val' is not defined",
     "output_type": "error",
     "traceback": [
      "\u001b[0;31m---------------------------------------------------------------------------\u001b[0m",
      "\u001b[0;31mNameError\u001b[0m                                 Traceback (most recent call last)",
      "\u001b[0;32m<ipython-input-36-255531f69830>\u001b[0m in \u001b[0;36m<module>\u001b[0;34m\u001b[0m\n\u001b[0;32m----> 1\u001b[0;31m \u001b[0mp_val\u001b[0m\u001b[0;34m(\u001b[0m\u001b[0mwelch_t\u001b[0m\u001b[0;34m(\u001b[0m\u001b[0mpre_lez_no2\u001b[0m\u001b[0;34m.\u001b[0m\u001b[0mValue\u001b[0m\u001b[0;34m,\u001b[0m \u001b[0mpost_lez_no2\u001b[0m\u001b[0;34m.\u001b[0m\u001b[0mValue\u001b[0m\u001b[0;34m)\u001b[0m\u001b[0;34m,\u001b[0m \u001b[0mwelch_dof\u001b[0m\u001b[0;34m(\u001b[0m\u001b[0mpre_lez_no2\u001b[0m\u001b[0;34m.\u001b[0m\u001b[0mValue\u001b[0m\u001b[0;34m,\u001b[0m \u001b[0mpost_lez_no2\u001b[0m\u001b[0;34m.\u001b[0m\u001b[0mValue\u001b[0m\u001b[0;34m)\u001b[0m\u001b[0;34m)\u001b[0m\u001b[0;34m\u001b[0m\u001b[0;34m\u001b[0m\u001b[0m\n\u001b[0m",
      "\u001b[0;31mNameError\u001b[0m: name 'p_val' is not defined"
     ]
    }
   ],
   "source": [
    "p_val(welch_t(pre_lez_no2.Value, post_lez_no2.Value), welch_dof(pre_lez_no2.Value, post_lez_no2.Value))"
   ]
  },
  {
   "cell_type": "code",
   "execution_count": 174,
   "metadata": {},
   "outputs": [
    {
     "data": {
      "text/plain": [
       "0.001084656181371657"
      ]
     },
     "execution_count": 174,
     "metadata": {},
     "output_type": "execute_result"
    }
   ],
   "source": [
    "p_val(welch_t(pre_lez_pm10.Value, post_lez_pm10.Value), welch_dof(pre_lez_pm10.Value, post_lez_pm10.Value))"
   ]
  },
  {
   "cell_type": "code",
   "execution_count": 179,
   "metadata": {},
   "outputs": [
    {
     "data": {
      "text/plain": [
       "Ttest_indResult(statistic=-8.012063019754985, pvalue=1.6679765872394386e-14)"
      ]
     },
     "execution_count": 179,
     "metadata": {},
     "output_type": "execute_result"
    }
   ],
   "source": [
    "stats.ttest_ind(pre_lez_no2.Value, post_lez_no2.Value, equal_var=False)"
   ]
  },
  {
   "cell_type": "code",
   "execution_count": 180,
   "metadata": {},
   "outputs": [
    {
     "data": {
      "text/plain": [
       "Ttest_indResult(statistic=-3.085567543887115, pvalue=0.0022366123527511423)"
      ]
     },
     "execution_count": 180,
     "metadata": {},
     "output_type": "execute_result"
    }
   ],
   "source": [
    "stats.ttest_ind(pre_lez_pm10.Value, post_lez_pm10.Value, equal_var=False)"
   ]
  },
  {
   "cell_type": "code",
   "execution_count": 182,
   "metadata": {},
   "outputs": [
    {
     "name": "stdout",
     "output_type": "stream",
     "text": [
      "The effect of LEZ on the levels of NO2 in the Central London:  -0.7107865332000353\n"
     ]
    }
   ],
   "source": [
    "lez_d_no2 = Cohen_d(pre_lez_no2.Value, post_lez_no2.Value)\n",
    "print(\"The effect of LEZ on the levels of NO2 in the Central London: \", lez_d_no2)"
   ]
  },
  {
   "cell_type": "code",
   "execution_count": 183,
   "metadata": {},
   "outputs": [
    {
     "name": "stdout",
     "output_type": "stream",
     "text": [
      "The effect of LEZ on the levels of PM10 in the Central London:  -0.33689341622282065\n"
     ]
    }
   ],
   "source": [
    "lez_d_pm10 = Cohen_d(pre_lez_pm10.Value, post_lez_pm10.Value)\n",
    "print(\"The effect of LEZ on the levels of PM10 in the Central London: \", lez_d_pm10)"
   ]
  },
  {
   "cell_type": "markdown",
   "metadata": {},
   "source": [
    "Having conducted our statistical significance test for LEZ, we conclude that there was a significant impact on NO2 levels due to LEZ, but our p-value for the PM10 levels was so large that we cannot reject the null hypothesis that LEZ had no impact on PM10. Given that we're trying to compare ULEZ to LEZ impact, we will return to the PM10 levels once we have conducted our tests on the ULEZ dates"
   ]
  },
  {
   "cell_type": "code",
   "execution_count": 43,
   "metadata": {},
   "outputs": [],
   "source": []
  },
  {
   "cell_type": "code",
   "execution_count": 79,
   "metadata": {},
   "outputs": [
    {
     "data": {
      "text/plain": [
       "160"
      ]
     },
     "execution_count": 79,
     "metadata": {},
     "output_type": "execute_result"
    }
   ],
   "source": [
    "len(pre_lez_no2)"
   ]
  },
  {
   "cell_type": "code",
   "execution_count": 80,
   "metadata": {},
   "outputs": [
    {
     "data": {
      "text/plain": [
       "280"
      ]
     },
     "execution_count": 80,
     "metadata": {},
     "output_type": "execute_result"
    }
   ],
   "source": [
    "len(post_ulez_no2)"
   ]
  },
  {
   "cell_type": "code",
   "execution_count": 81,
   "metadata": {},
   "outputs": [
    {
     "data": {
      "text/plain": [
       "245"
      ]
     },
     "execution_count": 81,
     "metadata": {},
     "output_type": "execute_result"
    }
   ],
   "source": [
    "len(pre_ulez_pm10)"
   ]
  },
  {
   "cell_type": "code",
   "execution_count": 82,
   "metadata": {},
   "outputs": [
    {
     "data": {
      "text/plain": [
       "261"
      ]
     },
     "execution_count": 82,
     "metadata": {},
     "output_type": "execute_result"
    }
   ],
   "source": [
    "len(post_ulez_pm10)"
   ]
  },
  {
   "cell_type": "code",
   "execution_count": 83,
   "metadata": {},
   "outputs": [
    {
     "data": {
      "text/plain": [
       "WM6    62\n",
       "HK6    62\n",
       "KC1    62\n",
       "CT6    61\n",
       "CT3    60\n",
       "Name: Site, dtype: int64"
      ]
     },
     "execution_count": 83,
     "metadata": {},
     "output_type": "execute_result"
    }
   ],
   "source": [
    "pre_ulez_no2.Site.value_counts()"
   ]
  },
  {
   "cell_type": "markdown",
   "metadata": {},
   "source": [
    "For our pre- and post-ULEZ comparisons we'll be using a different batch of data. "
   ]
  },
  {
   "cell_type": "code",
   "execution_count": 85,
   "metadata": {},
   "outputs": [],
   "source": [
    "city_df_pm10 = pd.read_csv('city_pm10.csv')\n",
    "city_df_no2 = pd.read_csv('city_no2.csv')"
   ]
  },
  {
   "cell_type": "code",
   "execution_count": 86,
   "metadata": {},
   "outputs": [
    {
     "data": {
      "text/plain": [
       "CT8    5052\n",
       "WM6    5052\n",
       "MY7    5052\n",
       "CT3    5052\n",
       "HK6    5052\n",
       "Name: Site, dtype: int64"
      ]
     },
     "execution_count": 86,
     "metadata": {},
     "output_type": "execute_result"
    }
   ],
   "source": [
    "city_df_pm10.Site.value_counts()"
   ]
  },
  {
   "cell_type": "code",
   "execution_count": 87,
   "metadata": {},
   "outputs": [
    {
     "data": {
      "text/plain": [
       "CT6    5052\n",
       "WM6    5052\n",
       "KC1    5052\n",
       "CT3    5052\n",
       "HK6    5052\n",
       "Name: Site, dtype: int64"
      ]
     },
     "execution_count": 87,
     "metadata": {},
     "output_type": "execute_result"
    }
   ],
   "source": [
    "city_df_no2.Site.value_counts()"
   ]
  },
  {
   "cell_type": "code",
   "execution_count": 88,
   "metadata": {},
   "outputs": [
    {
     "data": {
      "text/html": [
       "<div>\n",
       "<style scoped>\n",
       "    .dataframe tbody tr th:only-of-type {\n",
       "        vertical-align: middle;\n",
       "    }\n",
       "\n",
       "    .dataframe tbody tr th {\n",
       "        vertical-align: top;\n",
       "    }\n",
       "\n",
       "    .dataframe thead th {\n",
       "        text-align: right;\n",
       "    }\n",
       "</style>\n",
       "<table border=\"1\" class=\"dataframe\">\n",
       "  <thead>\n",
       "    <tr style=\"text-align: right;\">\n",
       "      <th></th>\n",
       "      <th>Site</th>\n",
       "      <th>Species</th>\n",
       "      <th>ReadingDateTime</th>\n",
       "      <th>Value</th>\n",
       "      <th>Units</th>\n",
       "      <th>Provisional or Ratified</th>\n",
       "    </tr>\n",
       "  </thead>\n",
       "  <tbody>\n",
       "    <tr>\n",
       "      <td>25255</td>\n",
       "      <td>WM6</td>\n",
       "      <td>PM10</td>\n",
       "      <td>27/10/2019 00:00</td>\n",
       "      <td>20.0</td>\n",
       "      <td>ug/m3</td>\n",
       "      <td>P</td>\n",
       "    </tr>\n",
       "    <tr>\n",
       "      <td>25256</td>\n",
       "      <td>WM6</td>\n",
       "      <td>PM10</td>\n",
       "      <td>28/10/2019 00:00</td>\n",
       "      <td>27.0</td>\n",
       "      <td>ug/m3</td>\n",
       "      <td>P</td>\n",
       "    </tr>\n",
       "    <tr>\n",
       "      <td>25257</td>\n",
       "      <td>WM6</td>\n",
       "      <td>PM10</td>\n",
       "      <td>29/10/2019 00:00</td>\n",
       "      <td>18.0</td>\n",
       "      <td>ug/m3</td>\n",
       "      <td>P</td>\n",
       "    </tr>\n",
       "    <tr>\n",
       "      <td>25258</td>\n",
       "      <td>WM6</td>\n",
       "      <td>PM10</td>\n",
       "      <td>30/10/2019 00:00</td>\n",
       "      <td>30.0</td>\n",
       "      <td>ug/m3</td>\n",
       "      <td>P</td>\n",
       "    </tr>\n",
       "    <tr>\n",
       "      <td>25259</td>\n",
       "      <td>WM6</td>\n",
       "      <td>PM10</td>\n",
       "      <td>31/10/2019 00:00</td>\n",
       "      <td>41.0</td>\n",
       "      <td>ug/m3</td>\n",
       "      <td>P</td>\n",
       "    </tr>\n",
       "  </tbody>\n",
       "</table>\n",
       "</div>"
      ],
      "text/plain": [
       "      Site Species   ReadingDateTime  Value  Units Provisional or Ratified\n",
       "25255  WM6    PM10  27/10/2019 00:00   20.0  ug/m3                       P\n",
       "25256  WM6    PM10  28/10/2019 00:00   27.0  ug/m3                       P\n",
       "25257  WM6    PM10  29/10/2019 00:00   18.0  ug/m3                       P\n",
       "25258  WM6    PM10  30/10/2019 00:00   30.0  ug/m3                       P\n",
       "25259  WM6    PM10  31/10/2019 00:00   41.0  ug/m3                       P"
      ]
     },
     "execution_count": 88,
     "metadata": {},
     "output_type": "execute_result"
    }
   ],
   "source": [
    "# cleaning the data as before\n",
    "city_df_pm10.tail()"
   ]
  },
  {
   "cell_type": "code",
   "execution_count": 89,
   "metadata": {},
   "outputs": [
    {
     "data": {
      "text/plain": [
       "25260"
      ]
     },
     "execution_count": 89,
     "metadata": {},
     "output_type": "execute_result"
    }
   ],
   "source": [
    "len(city_df_pm10)"
   ]
  },
  {
   "cell_type": "code",
   "execution_count": 90,
   "metadata": {},
   "outputs": [
    {
     "data": {
      "text/plain": [
       "25260"
      ]
     },
     "execution_count": 90,
     "metadata": {},
     "output_type": "execute_result"
    }
   ],
   "source": [
    "len(city_df_no2)"
   ]
  },
  {
   "cell_type": "code",
   "execution_count": 91,
   "metadata": {},
   "outputs": [
    {
     "name": "stdout",
     "output_type": "stream",
     "text": [
      "5721\n",
      "4293\n"
     ]
    }
   ],
   "source": [
    "print(len(city_df_pm10.loc[city_df_pm10.Value.isna()]))\n",
    "print(len(city_df_no2.loc[city_df_no2.Value.isna()]))"
   ]
  },
  {
   "cell_type": "code",
   "execution_count": 92,
   "metadata": {},
   "outputs": [],
   "source": [
    "city_df_pm10 = city_df_pm10.dropna()\n",
    "city_df_no2 = city_df_no2.dropna()\n",
    "\n",
    "# city_df_pm10 = city_df_pm10.\n",
    "\n",
    "city_df_pm10.ReadingDateTime = pd.to_datetime(city_df_pm10.ReadingDateTime)\n",
    "city_df_no2.ReadingDateTime = pd.to_datetime(city_df_no2.ReadingDateTime)\n",
    "\n",
    "city_df_pm10['Year'] = city_df_pm10.ReadingDateTime.dt.year\n",
    "city_df_no2['Year'] = city_df_no2.ReadingDateTime.dt.year\n",
    "\n",
    "city_df_pm10['Month'] = city_df_pm10.ReadingDateTime.dt.month\n",
    "city_df_no2['Month'] = city_df_no2.ReadingDateTime.dt.month\n"
   ]
  },
  {
   "cell_type": "code",
   "execution_count": 93,
   "metadata": {},
   "outputs": [
    {
     "data": {
      "text/html": [
       "<div>\n",
       "<style scoped>\n",
       "    .dataframe tbody tr th:only-of-type {\n",
       "        vertical-align: middle;\n",
       "    }\n",
       "\n",
       "    .dataframe tbody tr th {\n",
       "        vertical-align: top;\n",
       "    }\n",
       "\n",
       "    .dataframe thead th {\n",
       "        text-align: right;\n",
       "    }\n",
       "</style>\n",
       "<table border=\"1\" class=\"dataframe\">\n",
       "  <thead>\n",
       "    <tr style=\"text-align: right;\">\n",
       "      <th></th>\n",
       "      <th>Site</th>\n",
       "      <th>Species</th>\n",
       "      <th>Value</th>\n",
       "      <th>Units</th>\n",
       "      <th>Year</th>\n",
       "      <th>Month</th>\n",
       "    </tr>\n",
       "  </thead>\n",
       "  <tbody>\n",
       "    <tr>\n",
       "      <td>25255</td>\n",
       "      <td>WM6</td>\n",
       "      <td>NO2</td>\n",
       "      <td>53.3</td>\n",
       "      <td>ug m-3</td>\n",
       "      <td>2019</td>\n",
       "      <td>10</td>\n",
       "    </tr>\n",
       "    <tr>\n",
       "      <td>25256</td>\n",
       "      <td>WM6</td>\n",
       "      <td>NO2</td>\n",
       "      <td>47.5</td>\n",
       "      <td>ug m-3</td>\n",
       "      <td>2019</td>\n",
       "      <td>10</td>\n",
       "    </tr>\n",
       "    <tr>\n",
       "      <td>25257</td>\n",
       "      <td>WM6</td>\n",
       "      <td>NO2</td>\n",
       "      <td>48.7</td>\n",
       "      <td>ug m-3</td>\n",
       "      <td>2019</td>\n",
       "      <td>10</td>\n",
       "    </tr>\n",
       "    <tr>\n",
       "      <td>25258</td>\n",
       "      <td>WM6</td>\n",
       "      <td>NO2</td>\n",
       "      <td>60.3</td>\n",
       "      <td>ug m-3</td>\n",
       "      <td>2019</td>\n",
       "      <td>10</td>\n",
       "    </tr>\n",
       "    <tr>\n",
       "      <td>25259</td>\n",
       "      <td>WM6</td>\n",
       "      <td>NO2</td>\n",
       "      <td>59.4</td>\n",
       "      <td>ug m-3</td>\n",
       "      <td>2019</td>\n",
       "      <td>10</td>\n",
       "    </tr>\n",
       "  </tbody>\n",
       "</table>\n",
       "</div>"
      ],
      "text/plain": [
       "      Site Species  Value   Units  Year  Month\n",
       "25255  WM6     NO2   53.3  ug m-3  2019     10\n",
       "25256  WM6     NO2   47.5  ug m-3  2019     10\n",
       "25257  WM6     NO2   48.7  ug m-3  2019     10\n",
       "25258  WM6     NO2   60.3  ug m-3  2019     10\n",
       "25259  WM6     NO2   59.4  ug m-3  2019     10"
      ]
     },
     "execution_count": 93,
     "metadata": {},
     "output_type": "execute_result"
    }
   ],
   "source": [
    "ulez_test_df_no2 = city_df_no2.loc[(city_df_no2.Month == 5)|(city_df_no2.Month == 10)].drop(columns=['ReadingDateTime','Provisional or Ratified'])\n",
    "ulez_test_df_pm10 = city_df_pm10.loc[(city_df_pm10.Month == 5)|(city_df_pm10.Month == 10)].drop(columns=['ReadingDateTime','Provisional or Ratified'])\n",
    "\n",
    "ulez_test_df_no2.tail()"
   ]
  },
  {
   "cell_type": "code",
   "execution_count": 94,
   "metadata": {},
   "outputs": [],
   "source": [
    "pre_ulez_no2 = ulez_test_df_no2.loc[ulez_test_df_no2['Year']==2018]\n",
    "post_ulez_no2 = ulez_test_df_no2.loc[ulez_test_df_no2['Year']==2019]\n",
    "\n",
    "pre_ulez_pm10 = ulez_test_df_pm10.loc[ulez_test_df_pm10['Year']==2018]\n",
    "post_ulez_pm10 = ulez_test_df_pm10.loc[ulez_test_df_pm10['Year']==2019]"
   ]
  },
  {
   "cell_type": "code",
   "execution_count": 95,
   "metadata": {},
   "outputs": [
    {
     "data": {
      "text/plain": [
       "Ttest_indResult(statistic=4.049535449640252, pvalue=5.839985706019674e-05)"
      ]
     },
     "execution_count": 95,
     "metadata": {},
     "output_type": "execute_result"
    }
   ],
   "source": [
    "stats.ttest_ind(pre_ulez_no2.Value, post_ulez_no2.Value, equal_var=False)"
   ]
  },
  {
   "cell_type": "code",
   "execution_count": 96,
   "metadata": {},
   "outputs": [
    {
     "data": {
      "text/plain": [
       "Ttest_indResult(statistic=7.387635966553068, pvalue=7.689918805869116e-13)"
      ]
     },
     "execution_count": 96,
     "metadata": {},
     "output_type": "execute_result"
    }
   ],
   "source": [
    "stats.ttest_ind(pre_ulez_pm10.Value, post_ulez_pm10.Value, equal_var=False)"
   ]
  },
  {
   "cell_type": "code",
   "execution_count": 130,
   "metadata": {},
   "outputs": [
    {
     "name": "stdout",
     "output_type": "stream",
     "text": [
      "The effect of ULEZ on the levels of NO2 in the City of London:  -0.3349861633156012\n"
     ]
    }
   ],
   "source": [
    "ulez_d_no2 = Cohen_d(post_ulez_no2.Value, pre_ulez_no2.Value)\n",
    "print(\"The effect of ULEZ on the levels of NO2 in the City of London: \", ulez_d_no2)"
   ]
  },
  {
   "cell_type": "code",
   "execution_count": 131,
   "metadata": {},
   "outputs": [
    {
     "name": "stdout",
     "output_type": "stream",
     "text": [
      "The effect of ULEZ on the levels of PM10 in the City of London:  -0.6590225517547698\n"
     ]
    }
   ],
   "source": [
    "ulez_d_pm10 = Cohen_d(post_ulez_pm10.Value, pre_ulez_pm10.Value)\n",
    "print(\"The effect of ULEZ on the levels of PM10 in the City of London: \", ulez_d_pm10)"
   ]
  },
  {
   "cell_type": "code",
   "execution_count": 97,
   "metadata": {},
   "outputs": [
    {
     "data": {
      "text/plain": [
       "<matplotlib.axes._subplots.AxesSubplot at 0x1a1e0c0b70>"
      ]
     },
     "execution_count": 97,
     "metadata": {},
     "output_type": "execute_result"
    },
    {
     "data": {
      "image/png": "[encoded data removed]",
      "text/plain": [
       "<Figure size 720x504 with 1 Axes>"
      ]
     },
     "metadata": {},
     "output_type": "display_data"
    }
   ],
   "source": [
    "sns.distplot(pre_ulez_no2.Value,color='r')\n",
    "sns.distplot(post_ulez_no2.Value,color='b')"
   ]
  },
  {
   "cell_type": "code",
   "execution_count": 98,
   "metadata": {},
   "outputs": [
    {
     "data": {
      "text/plain": [
       "<matplotlib.axes._subplots.AxesSubplot at 0x1a1e231b70>"
      ]
     },
     "execution_count": 98,
     "metadata": {},
     "output_type": "execute_result"
    },
    {
     "data": {
      "image/png": "[encoded data removed]",
      "text/plain": [
       "<Figure size 720x504 with 1 Axes>"
      ]
     },
     "metadata": {},
     "output_type": "display_data"
    }
   ],
   "source": [
    "sns.distplot(pre_ulez_pm10.Value,color='r')\n",
    "sns.distplot(post_ulez_pm10.Value,color='b')"
   ]
  },
  {
   "cell_type": "code",
   "execution_count": 190,
   "metadata": {},
   "outputs": [
    {
     "name": "stdout",
     "output_type": "stream",
     "text": [
      "The impact of ULEZ on NO2 was  47.1 % more significant than LEZ.\n"
     ]
    }
   ],
   "source": [
    "# Testing hypothesis nr 2:\n",
    "print('The impact of ULEZ on NO2 was ', round((ulez_d_no2/lez_d_no2)*100,1),'% more significant than LEZ.')"
   ]
  },
  {
   "cell_type": "code",
   "execution_count": 191,
   "metadata": {},
   "outputs": [
    {
     "name": "stdout",
     "output_type": "stream",
     "text": [
      "The impact of ULEZ on PM10 was  195.6 % more significant than LEZ.\n"
     ]
    }
   ],
   "source": [
    "# Testing hypothesis nr 4:\n",
    "print('The impact of ULEZ on PM10 was ', round((ulez_d_pm10/lez_d_pm10)*100,1),'% more significant than LEZ.')"
   ]
  },
  {
   "cell_type": "markdown",
   "metadata": {},
   "source": [
    "Checkpoint: at the moment, given the data that we have used, we have managed to reject all four null hypotheses and go and to test the alternative hypotheses. \n",
    "HOWEVER, we have realized now that our data is not adequate for the Welch's T-test, so we will be re-running our sampling to achieve a more normal distribution."
   ]
  },
  {
   "cell_type": "code",
   "execution_count": 192,
   "metadata": {},
   "outputs": [
    {
     "name": "stdout",
     "output_type": "stream",
     "text": [
      "-0.7107865332000353\n"
     ]
    }
   ],
   "source": [
    "print(lez_d_no2)"
   ]
  },
  {
   "cell_type": "code",
   "execution_count": 195,
   "metadata": {},
   "outputs": [
    {
     "name": "stdout",
     "output_type": "stream",
     "text": [
      "0.5348771591839976\n"
     ]
    }
   ],
   "source": [
    "print((post_lez_no2.Value.mean()-pre_lez_no2.Value.mean())/ pre_lez_no2.Value.mean())"
   ]
  },
  {
   "cell_type": "code",
   "execution_count": 196,
   "metadata": {},
   "outputs": [
    {
     "name": "stdout",
     "output_type": "stream",
     "text": [
      "0.1787045811661949\n"
     ]
    }
   ],
   "source": [
    "print((post_lez_pm10.Value.mean()-pre_lez_pm10.Value.mean())/ pre_lez_pm10.Value.mean())"
   ]
  },
  {
   "cell_type": "code",
   "execution_count": 197,
   "metadata": {},
   "outputs": [
    {
     "name": "stdout",
     "output_type": "stream",
     "text": [
      "-0.16088582573534785\n"
     ]
    }
   ],
   "source": [
    "print((post_ulez_no2.Value.mean()-pre_ulez_no2.Value.mean())/ pre_ulez_no2.Value.mean())"
   ]
  },
  {
   "cell_type": "code",
   "execution_count": 198,
   "metadata": {},
   "outputs": [
    {
     "name": "stdout",
     "output_type": "stream",
     "text": [
      "-0.22714602333501452\n"
     ]
    }
   ],
   "source": [
    "print((post_ulez_pm10.Value.mean()-pre_ulez_pm10.Value.mean())/ pre_ulez_pm10.Value.mean())"
   ]
  },
  {
   "cell_type": "code",
   "execution_count": 199,
   "metadata": {},
   "outputs": [
    {
     "data": {
      "text/plain": [
       "280"
      ]
     },
     "execution_count": 199,
     "metadata": {},
     "output_type": "execute_result"
    }
   ],
   "source": [
    "len(post_ulez_no2.Value)"
   ]
  },
  {
   "cell_type": "code",
   "execution_count": 243,
   "metadata": {},
   "outputs": [
    {
     "data": {
      "text/html": [
       "<div>\n",
       "<style scoped>\n",
       "    .dataframe tbody tr th:only-of-type {\n",
       "        vertical-align: middle;\n",
       "    }\n",
       "\n",
       "    .dataframe tbody tr th {\n",
       "        vertical-align: top;\n",
       "    }\n",
       "\n",
       "    .dataframe thead th {\n",
       "        text-align: right;\n",
       "    }\n",
       "</style>\n",
       "<table border=\"1\" class=\"dataframe\">\n",
       "  <thead>\n",
       "    <tr style=\"text-align: right;\">\n",
       "      <th></th>\n",
       "      <th>Site</th>\n",
       "      <th>Species</th>\n",
       "      <th>Value</th>\n",
       "      <th>Units</th>\n",
       "      <th>Year</th>\n",
       "      <th>Month</th>\n",
       "    </tr>\n",
       "  </thead>\n",
       "  <tbody>\n",
       "    <tr>\n",
       "      <td>4387</td>\n",
       "      <td>CT3</td>\n",
       "      <td>NO2</td>\n",
       "      <td>45.3</td>\n",
       "      <td>ug m-3</td>\n",
       "      <td>2018</td>\n",
       "      <td>5</td>\n",
       "    </tr>\n",
       "    <tr>\n",
       "      <td>4392</td>\n",
       "      <td>CT3</td>\n",
       "      <td>NO2</td>\n",
       "      <td>56.5</td>\n",
       "      <td>ug m-3</td>\n",
       "      <td>2018</td>\n",
       "      <td>10</td>\n",
       "    </tr>\n",
       "    <tr>\n",
       "      <td>4418</td>\n",
       "      <td>CT3</td>\n",
       "      <td>NO2</td>\n",
       "      <td>24.5</td>\n",
       "      <td>ug m-3</td>\n",
       "      <td>2018</td>\n",
       "      <td>5</td>\n",
       "    </tr>\n",
       "    <tr>\n",
       "      <td>4423</td>\n",
       "      <td>CT3</td>\n",
       "      <td>NO2</td>\n",
       "      <td>32.2</td>\n",
       "      <td>ug m-3</td>\n",
       "      <td>2018</td>\n",
       "      <td>10</td>\n",
       "    </tr>\n",
       "    <tr>\n",
       "      <td>4446</td>\n",
       "      <td>CT3</td>\n",
       "      <td>NO2</td>\n",
       "      <td>35.3</td>\n",
       "      <td>ug m-3</td>\n",
       "      <td>2018</td>\n",
       "      <td>5</td>\n",
       "    </tr>\n",
       "  </tbody>\n",
       "</table>\n",
       "</div>"
      ],
      "text/plain": [
       "     Site Species  Value   Units  Year  Month\n",
       "4387  CT3     NO2   45.3  ug m-3  2018      5\n",
       "4392  CT3     NO2   56.5  ug m-3  2018     10\n",
       "4418  CT3     NO2   24.5  ug m-3  2018      5\n",
       "4423  CT3     NO2   32.2  ug m-3  2018     10\n",
       "4446  CT3     NO2   35.3  ug m-3  2018      5"
      ]
     },
     "execution_count": 243,
     "metadata": {},
     "output_type": "execute_result"
    }
   ],
   "source": [
    "pre_ulez_no2.head()"
   ]
  },
  {
   "cell_type": "code",
   "execution_count": 244,
   "metadata": {},
   "outputs": [
    {
     "data": {
      "text/html": [
       "<div>\n",
       "<style scoped>\n",
       "    .dataframe tbody tr th:only-of-type {\n",
       "        vertical-align: middle;\n",
       "    }\n",
       "\n",
       "    .dataframe tbody tr th {\n",
       "        vertical-align: top;\n",
       "    }\n",
       "\n",
       "    .dataframe thead th {\n",
       "        text-align: right;\n",
       "    }\n",
       "</style>\n",
       "<table border=\"1\" class=\"dataframe\">\n",
       "  <thead>\n",
       "    <tr style=\"text-align: right;\">\n",
       "      <th></th>\n",
       "      <th>Site</th>\n",
       "      <th>Species</th>\n",
       "      <th>Value</th>\n",
       "      <th>Units</th>\n",
       "      <th>Year</th>\n",
       "      <th>Month</th>\n",
       "    </tr>\n",
       "  </thead>\n",
       "  <tbody>\n",
       "    <tr>\n",
       "      <td>4783</td>\n",
       "      <td>CT3</td>\n",
       "      <td>NO2</td>\n",
       "      <td>37.1</td>\n",
       "      <td>ug m-3</td>\n",
       "      <td>2019</td>\n",
       "      <td>5</td>\n",
       "    </tr>\n",
       "    <tr>\n",
       "      <td>4788</td>\n",
       "      <td>CT3</td>\n",
       "      <td>NO2</td>\n",
       "      <td>27.8</td>\n",
       "      <td>ug m-3</td>\n",
       "      <td>2019</td>\n",
       "      <td>10</td>\n",
       "    </tr>\n",
       "    <tr>\n",
       "      <td>4811</td>\n",
       "      <td>CT3</td>\n",
       "      <td>NO2</td>\n",
       "      <td>37.5</td>\n",
       "      <td>ug m-3</td>\n",
       "      <td>2019</td>\n",
       "      <td>5</td>\n",
       "    </tr>\n",
       "    <tr>\n",
       "      <td>4816</td>\n",
       "      <td>CT3</td>\n",
       "      <td>NO2</td>\n",
       "      <td>27.7</td>\n",
       "      <td>ug m-3</td>\n",
       "      <td>2019</td>\n",
       "      <td>10</td>\n",
       "    </tr>\n",
       "    <tr>\n",
       "      <td>4842</td>\n",
       "      <td>CT3</td>\n",
       "      <td>NO2</td>\n",
       "      <td>38.1</td>\n",
       "      <td>ug m-3</td>\n",
       "      <td>2019</td>\n",
       "      <td>5</td>\n",
       "    </tr>\n",
       "  </tbody>\n",
       "</table>\n",
       "</div>"
      ],
      "text/plain": [
       "     Site Species  Value   Units  Year  Month\n",
       "4783  CT3     NO2   37.1  ug m-3  2019      5\n",
       "4788  CT3     NO2   27.8  ug m-3  2019     10\n",
       "4811  CT3     NO2   37.5  ug m-3  2019      5\n",
       "4816  CT3     NO2   27.7  ug m-3  2019     10\n",
       "4842  CT3     NO2   38.1  ug m-3  2019      5"
      ]
     },
     "execution_count": 244,
     "metadata": {},
     "output_type": "execute_result"
    }
   ],
   "source": [
    "post_ulez_no2.head()"
   ]
  },
  {
   "cell_type": "code",
   "execution_count": 99,
   "metadata": {},
   "outputs": [
    {
     "name": "stdout",
     "output_type": "stream",
     "text": [
      "The autoreload extension is already loaded. To reload it, use:\n",
      "  %reload_ext autoreload\n"
     ]
    }
   ],
   "source": [
    "import hypothesis_tests as hyp\n",
    "%load_ext autoreload\n",
    "%autoreload 2"
   ]
  },
  {
   "cell_type": "code",
   "execution_count": 100,
   "metadata": {},
   "outputs": [],
   "source": [
    "pre_ulez_no2 = pre_ulez_no2.loc[pre_ulez_no2.Month == 5]\n",
    "post_ulez_no2 = post_ulez_no2.loc[post_ulez_no2.Month == 5]\n"
   ]
  },
  {
   "cell_type": "code",
   "execution_count": 101,
   "metadata": {},
   "outputs": [
    {
     "data": {
      "text/plain": [
       "149"
      ]
     },
     "execution_count": 101,
     "metadata": {},
     "output_type": "execute_result"
    }
   ],
   "source": [
    "len(pre_ulez_no2)"
   ]
  },
  {
   "cell_type": "code",
   "execution_count": 102,
   "metadata": {},
   "outputs": [
    {
     "data": {
      "text/plain": [
       "141"
      ]
     },
     "execution_count": 102,
     "metadata": {},
     "output_type": "execute_result"
    }
   ],
   "source": [
    "len(post_ulez_no2)"
   ]
  },
  {
   "cell_type": "code",
   "execution_count": 126,
   "metadata": {},
   "outputs": [
    {
     "data": {
      "text/plain": [
       "<matplotlib.axes._subplots.AxesSubplot at 0x1a1efa5278>"
      ]
     },
     "execution_count": 126,
     "metadata": {},
     "output_type": "execute_result"
    },
    {
     "data": {
      "image/png": "[encoded data removed]",
      "text/plain": [
       "<Figure size 720x504 with 1 Axes>"
      ]
     },
     "metadata": {},
     "output_type": "display_data"
    }
   ],
   "source": [
    "sns.distplot(hyp.create_sample_dists(pre_ulez_no2, 'Value', 1000, 200),bins=20)"
   ]
  },
  {
   "cell_type": "code",
   "execution_count": 127,
   "metadata": {},
   "outputs": [
    {
     "data": {
      "text/plain": [
       "<matplotlib.axes._subplots.AxesSubplot at 0x1a1f173e10>"
      ]
     },
     "execution_count": 127,
     "metadata": {},
     "output_type": "execute_result"
    },
    {
     "data": {
      "image/png": "[encoded data removed]",
      "text/plain": [
       "<Figure size 720x504 with 1 Axes>"
      ]
     },
     "metadata": {},
     "output_type": "display_data"
    }
   ],
   "source": [
    "sns.distplot(hyp.create_sample_dists(post_ulez_no2, 'Value', 1000, 200), bins=20)"
   ]
  },
  {
   "cell_type": "code",
   "execution_count": 106,
   "metadata": {},
   "outputs": [
    {
     "data": {
      "text/plain": [
       "'Reject'"
      ]
     },
     "execution_count": 106,
     "metadata": {},
     "output_type": "execute_result"
    }
   ],
   "source": [
    "pre_ulez_test_code = hyp.create_sample_dists(pre_ulez_no2, 'Value', 100, 50)\n",
    "post_ulez_test_code = hyp.create_sample_dists(post_ulez_no2, 'Value', 100, 50)\n",
    "\n",
    "w = hyp.welch_t(post_ulez_test_code, pre_ulez_test_code)\n",
    "dof = hyp.welch_dof(post_ulez_test_code, pre_ulez_test_code)\n",
    "\n",
    "p_value = hyp.p_val(w, dof)\n",
    "pool_var = hyp.pool_var(post_ulez_test_code, pre_ulez_test_code)\n",
    "coh_d = hyp.Cohen_d(post_ulez_test_code, pre_ulez_test_code)\n",
    "coh_d\n",
    "\n",
    "hyp.compare_pval_alpha(p_value, 0.05)\n"
   ]
  },
  {
   "cell_type": "code",
   "execution_count": 122,
   "metadata": {
    "scrolled": true
   },
   "outputs": [
    {
     "name": "stdout",
     "output_type": "stream",
     "text": [
      "Based on the p value of 0.0 and our alpha of 0.05 we reject  the null hypothesis.\n",
      " Due to these results, we  can state that there is a difference between our samples \n",
      "with an effect size, Cohen's d, of -3.107 and power of 1.0.\n"
     ]
    }
   ],
   "source": [
    "hypothesis_NO2_ULEZ = hyp.hypothesis_test_one(post_ulez_no2, pre_ulez_no2, 'Value', 50, 100, alpha=0.05)"
   ]
  },
  {
   "cell_type": "code",
   "execution_count": 123,
   "metadata": {
    "scrolled": true
   },
   "outputs": [
    {
     "name": "stdout",
     "output_type": "stream",
     "text": [
      "Based on the p value of 0.0 and our alpha of 0.05 we reject  the null hypothesis.\n",
      " Due to these results, we  can state that there is a difference between our samples \n",
      "with an effect size, Cohen's d, of -6.759 and power of 1.0.\n"
     ]
    }
   ],
   "source": [
    "hypotesis_PM10_ULEZ = code_test2 = hyp.hypothesis_test_one(post_ulez_pm10, pre_ulez_pm10, 'Value', 50, 100, alpha=0.05)"
   ]
  },
  {
   "cell_type": "code",
   "execution_count": 124,
   "metadata": {},
   "outputs": [
    {
     "name": "stdout",
     "output_type": "stream",
     "text": [
      "Based on the p value of 0.0 and our alpha of 0.05 we reject  the null hypothesis.\n",
      " Due to these results, we  can state that there is a difference between our samples \n",
      "with an effect size, Cohen's d, of -3.257 and power of 1.0.\n",
      "Based on the p value of 0.0 and our alpha of 0.05 we reject  the null hypothesis.\n",
      " Due to these results, we  can state that there is a difference between our samples \n",
      "with an effect size, Cohen's d, of 7.51 and power of 1.0.\n",
      "Reject \n",
      "\n",
      "Reject \n",
      "\n"
     ]
    },
    {
     "data": {
      "text/plain": [
       "'The effect of ULEZ on the levels of NO2 was 0.433683608477852 times less than the effect of LEZ.'"
      ]
     },
     "execution_count": 124,
     "metadata": {},
     "output_type": "execute_result"
    }
   ],
   "source": [
    "\n",
    "hypothesis_NO2_LEZvsULEZ = hyp.hypothesis_test_two(post_ulez_no2, pre_ulez_no2, 'Value', 100, 100, post_lez_no2, pre_lez_no2, 'NO2',alpha = 0.05)"
   ]
  },
  {
   "cell_type": "code",
   "execution_count": 125,
   "metadata": {},
   "outputs": [
    {
     "name": "stdout",
     "output_type": "stream",
     "text": [
      "Based on the p value of 0.0 and our alpha of 0.05 we reject  the null hypothesis.\n",
      " Due to these results, we  can state that there is a difference between our samples \n",
      "with an effect size, Cohen's d, of -6.726 and power of 1.0.\n",
      "Based on the p value of 0.0 and our alpha of 0.05 we reject  the null hypothesis.\n",
      " Due to these results, we  can state that there is a difference between our samples \n",
      "with an effect size, Cohen's d, of 3.224 and power of 1.0.\n",
      "Reject \n",
      "\n",
      "Reject \n",
      "\n"
     ]
    },
    {
     "data": {
      "text/plain": [
       "'The effect of ULEZ on the levels of PM10 was 2.0861181539193936 times greater than the effect of LEZ.'"
      ]
     },
     "execution_count": 125,
     "metadata": {},
     "output_type": "execute_result"
    }
   ],
   "source": [
    "hypothesis_PM10_LEZvsULEZ = hyp.hypothesis_test_two(post_ulez_pm10, pre_ulez_pm10, 'Value', 100, 100, post_lez_pm10, pre_lez_pm10, 'PM10',alpha = 0.05)"
   ]
  },
  {
   "cell_type": "code",
   "execution_count": null,
   "metadata": {},
   "outputs": [],
   "source": []
  }
 ],
 "metadata": {
  "kernelspec": {
   "display_name": "Python 3",
   "language": "python",
   "name": "python3"
  },
  "language_info": {
   "codemirror_mode": {
    "name": "ipython",
    "version": 3
   },
   "file_extension": ".py",
   "mimetype": "text/x-python",
   "name": "python",
   "nbconvert_exporter": "python",
   "pygments_lexer": "ipython3",
   "version": "3.6.9"
  }
 },
 "nbformat": 4,
 "nbformat_minor": 2
}
