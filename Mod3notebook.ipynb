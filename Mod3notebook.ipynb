{
 "cells": [
  {
   "cell_type": "markdown",
   "metadata": {},
   "source": [
    "# Module 3 Project - London Air Quality analysis\n",
    "\n",
    "1. [Introduction](#intro)\n",
    "2. [Exploratory Data Analysis](#EDA)\n",
    "3. [Cleaning](#Cleaning)\n",
    "4. [Statistical Analysis](#stats)\n",
    "5. [Discussion](#disc)\n",
    "\n"
   ]
  },
  {
   "cell_type": "markdown",
   "metadata": {},
   "source": [
    "<a id='intro'></a>\n",
    "\n",
    "1. Introduction\n",
    "\n",
    "    - background about project\n",
    "    - motivation\n",
    "    - hypotheses"
   ]
  },
  {
   "cell_type": "code",
   "execution_count": 110,
   "metadata": {},
   "outputs": [],
   "source": [
    "import pandas as pd\n",
    "import numpy as np\n",
    "import statsmodels.stats as sms\n",
    "# from functions import APICaller\n",
    "import seaborn as sns\n",
    "import matplotlib.pyplot as plt\n",
    "import requests as req\n",
    "import time\n",
    "import scipy.stats as stats\n",
    "sns.set_style('darkgrid')"
   ]
  },
  {
   "cell_type": "code",
   "execution_count": 2,
   "metadata": {},
   "outputs": [
    {
     "data": {
      "text/plain": [
       "{'DailyAirQualityIndex': {'@MonitoringIndexDate': '2008-06-01',\n",
       "  '@TimeToLive': '11',\n",
       "  'LocalAuthority': {'@LocalAuthorityCode': '17',\n",
       "   '@LocalAuthorityName': 'Hillingdon',\n",
       "   '@LaCentreLatitude': '51.533411',\n",
       "   '@LaCentreLongitude': '-0.452568',\n",
       "   '@LaCentreLatitudeWGS84': '6716195.906043',\n",
       "   '@LaCentreLongitudeWGS84': '-50379.639309',\n",
       "   'Site': {'@BulletinDate': '2008-06-01 00:00:00',\n",
       "    '@SiteCode': 'LH0',\n",
       "    '@SiteName': 'Hillingdon - Harlington',\n",
       "    '@SiteType': 'Urban Background',\n",
       "    '@Latitude': '51.48878',\n",
       "    '@Longitude': '-0.441627',\n",
       "    '@LatitudeWGS84': '6708212.94408',\n",
       "    '@LongitudeWGS84': '-49161.6927606',\n",
       "    'Species': [{'@SpeciesCode': 'NO2',\n",
       "      '@SpeciesDescription': 'Nitrogen Dioxide',\n",
       "      '@AirQualityIndex': '1',\n",
       "      '@AirQualityBand': 'Low',\n",
       "      '@IndexSource': 'Measurement'},\n",
       "     {'@SpeciesCode': 'O3',\n",
       "      '@SpeciesDescription': 'Ozone',\n",
       "      '@AirQualityIndex': '3',\n",
       "      '@AirQualityBand': 'Low',\n",
       "      '@IndexSource': 'Measurement'}]}}}}"
      ]
     },
     "execution_count": 2,
     "metadata": {},
     "output_type": "execute_result"
    }
   ],
   "source": [
    "# first testing of data retrieval from 1st API\n",
    "location1 = 'LH0'\n",
    "date = '2008-06-01'\n",
    "url_extension = '/Daily/MonitoringIndex/SiteCode='\n",
    "openaq_caller = APICaller(base_url='http://api.erg.kcl.ac.uk/AirQuality', ignore_token=True)\n",
    "\n",
    "test_resp = openaq_caller.retrieve_one(url_extension,location=location1, date=date)\n",
    "\n",
    "test_resp"
   ]
  },
  {
   "cell_type": "code",
   "execution_count": 12,
   "metadata": {},
   "outputs": [
    {
     "name": "stdout",
     "output_type": "stream",
     "text": [
      "http://api.erg.kcl.ac.uk/AirQuality/Information/Species/Json\n"
     ]
    },
    {
     "data": {
      "text/plain": [
       "{'AirQualitySpecies': {'Species': [{'@SpeciesCode': 'CO',\n",
       "    '@SpeciesName': 'Carbon Monoxide',\n",
       "    '@Description': \"Carbon Monoxide is a colourless, odourless poisonous gas produced by incomplete, or inefficient, combustion of fuel including 'cold' or badly tuned engines.\",\n",
       "    '@HealthEffect': 'The gas affects the transport of oxygen around the body by the blood. At very high levels, this can lead to a significant reduction in the supply of oxygen to the heart, particularly in people suffering from heart disease.',\n",
       "    '@Link': 'http://www.londonair.org.uk/LondonAir/guide/WhatIsCO.aspx'},\n",
       "   {'@SpeciesCode': 'NO2',\n",
       "    '@SpeciesName': 'Nitrogen Dioxide',\n",
       "    '@Description': 'Nitrogen oxides are formed during high temperature combustion processes from the oxidation of nitrogen in the air or fuel.',\n",
       "    '@HealthEffect': 'Nitrogen Dioxide has several health impacts and includes general irritation to the eyes, irritation of the respiratory system and shortness of breath.',\n",
       "    '@Link': 'http://www.londonair.org.uk/LondonAir/guide/WhatIsNO2.aspx'},\n",
       "   {'@SpeciesCode': 'O3',\n",
       "    '@SpeciesName': 'Ozone',\n",
       "    '@Description': 'Ozone is not directly emitted, but is formed by a complex set of reactions involving nitrogen oxides and hydrocarbons in the presence of sunlight.',\n",
       "    '@HealthEffect': 'Like nitrogen dioxide, high levels of ozone can irritate and inflame the lungs. It can also cause eye irritation, migraine and coughing.',\n",
       "    '@Link': 'http://www.londonair.org.uk/LondonAir/guide/WhatIsO3.aspx'},\n",
       "   {'@SpeciesCode': 'PM10',\n",
       "    '@SpeciesName': 'PM10 Particulate',\n",
       "    '@Description': 'Larger particles in the atmosphere are generally filtered in the nose and throat and do not cause problems, but particulate matter smaller than about 10 micrometers, referred to as PM10, can settle in the bronchi and lungs and cause health problems.',\n",
       "    '@HealthEffect': 'The effects of inhaling particulate matter have been widely studied in humans and animals and include asthma, respiratory problems and cardiovascular issues.',\n",
       "    '@Link': 'http://www.londonair.org.uk/LondonAir/guide/WhatIsPM.aspx'},\n",
       "   {'@SpeciesCode': 'PM25',\n",
       "    '@SpeciesName': 'PM2.5 Particulate',\n",
       "    '@Description': 'These are particles which are less than 2.5 micrometers (a thousandth of a millimetre) in diameter. Particles are made up of many different chemicals, including toxic metals and organic compounds, some of which are highly chemically reactive and researchers consider these to be involved in the toxicological effects of particles.',\n",
       "    '@HealthEffect': 'They are thought to have a greater effect on health than larger particles as they can be carried deeper into the lungs where they can cause inflammation and worsen heart and lung diseases.',\n",
       "    '@Link': 'http://www.londonair.org.uk/LondonAir/guide/WhatIsPM.aspx'},\n",
       "   {'@SpeciesCode': 'SO2',\n",
       "    '@SpeciesName': 'Sulphur Dioxide',\n",
       "    '@Description': 'Sulphur Dioxide is produced when a material or fuel containing sulphur is burned. Pollution episodes only generally occur where there is widespread domestic use of coal or in the vicinity of coal or oil-fired power stations.',\n",
       "    '@HealthEffect': 'Short-term exposure to high levels of sulphur dioxide may cause coughing, tightening of the chest and irritation of the lungs.',\n",
       "    '@Link': 'http://www.londonair.org.uk/LondonAir/guide/WhatIsSO2.aspx'}]}}"
      ]
     },
     "execution_count": 12,
     "metadata": {},
     "output_type": "execute_result"
    }
   ],
   "source": [
    "#  retrieve name of species (pollutants);\n",
    "url_for_species = '/Information/Species/Json'\n",
    "# species_list = openaq_caller.retrieve_one(url_extension=url_for_species)\n",
    "#  http://api.erg.kcl.ac.uk/AirQuality/Information/Species/Json\n",
    "base_url='http://api.erg.kcl.ac.uk/AirQuality'\n",
    "def retrieve_one(main_url,url_extension,location=None, date=None, date1=None):  \n",
    "        if date1!=None:\n",
    "            response = req.get(main_url+url_extension+f'{location}/StartDate={date}/EndDate={date1}/Json').json()\n",
    "        elif (date!=None and date1==None):\n",
    "            response = req.get(main_url+url_extension+f'{location}/Date={date}/Json').json()\n",
    "        else:\n",
    "            print(base_url+url_extension)\n",
    "            response = req.get(main_url+url_extension).json()\n",
    "        return response\n",
    "    \n",
    "    \n",
    "retrieve_one(main_url=base_url, url_extension=url_for_species)"
   ]
  },
  {
   "cell_type": "code",
   "execution_count": 36,
   "metadata": {},
   "outputs": [
    {
     "name": "stdout",
     "output_type": "stream",
     "text": [
      "<Response [404]>\n"
     ]
    }
   ],
   "source": [
    "url_for_sites = '/MonitoringIndex/GroupName={GroupName}/Json'\n",
    "url_for_daily_1_date = '/Daily/MonitoringIndex/GroupName={GroupName}/Date=2018/06/03/Json'\n",
    "# retrieve_one(main_url=base_url, url_extension=url_for_daily_1_date, )\n",
    "\n",
    "print(req.get(base_url + url_for_sites))"
   ]
  },
  {
   "cell_type": "code",
   "execution_count": 55,
   "metadata": {},
   "outputs": [],
   "source": [
    "def retrieve_many(main_url,url_ext,location_list,species, start_date_list, end_date_list):\n",
    "        data = []\n",
    "        counter=0\n",
    "        for i in range(len(start_date_list)):\n",
    "            for location in location_list:\n",
    "                response = req.get(f'{main_url}{url_ext}/SiteCode={location}/SpeciesCode={species}/StartDate={start_date_list[i]}/EndDate={end_date_list[i]}/Json').json()\n",
    "                data.append(response)\n",
    "                counter+=1\n",
    "            data_df = pd.read_json(data)    \n",
    "            return data_df\n",
    "    \n"
   ]
  },
  {
   "cell_type": "code",
   "execution_count": 56,
   "metadata": {},
   "outputs": [
    {
     "name": "stdout",
     "output_type": "stream",
     "text": [
      "<Response [404]>\n"
     ]
    }
   ],
   "source": [
    "response = req.get('http://api.erg.kcl.ac.uk/AirQuality/Data/SiteSpecies/SiteCode=CT3/SpeciesCode=NO2/StartDate=2006/05/01/EndDate=2006/05/02/csv')\n",
    "\n",
    "print(response)"
   ]
  },
  {
   "cell_type": "code",
   "execution_count": 51,
   "metadata": {},
   "outputs": [
    {
     "ename": "JSONDecodeError",
     "evalue": "Unexpected UTF-8 BOM (decode using utf-8-sig): line 1 column 1 (char 0)",
     "output_type": "error",
     "traceback": [
      "\u001b[0;31m---------------------------------------------------------------------------\u001b[0m",
      "\u001b[0;31mJSONDecodeError\u001b[0m                           Traceback (most recent call last)",
      "\u001b[0;32m<ipython-input-51-51c2380484b4>\u001b[0m in \u001b[0;36m<module>\u001b[0;34m\u001b[0m\n\u001b[1;32m      7\u001b[0m \u001b[0mend_dates\u001b[0m \u001b[0;34m=\u001b[0m \u001b[0;34m[\u001b[0m\u001b[0;34m'2006/06/01'\u001b[0m\u001b[0;34m,\u001b[0m \u001b[0;34m'2006/11/01'\u001b[0m\u001b[0;34m]\u001b[0m\u001b[0;34m\u001b[0m\u001b[0;34m\u001b[0m\u001b[0m\n\u001b[1;32m      8\u001b[0m \u001b[0;34m\u001b[0m\u001b[0m\n\u001b[0;32m----> 9\u001b[0;31m \u001b[0mNO2_LEZ\u001b[0m \u001b[0;34m=\u001b[0m \u001b[0mretrieve_many\u001b[0m\u001b[0;34m(\u001b[0m\u001b[0mmain_url\u001b[0m\u001b[0;34m=\u001b[0m\u001b[0mbase_url\u001b[0m\u001b[0;34m,\u001b[0m \u001b[0murl_ext\u001b[0m \u001b[0;34m=\u001b[0m \u001b[0murl_data\u001b[0m\u001b[0;34m,\u001b[0m \u001b[0mlocation_list\u001b[0m\u001b[0;34m=\u001b[0m\u001b[0mlocation_list0\u001b[0m\u001b[0;34m,\u001b[0m \u001b[0mspecies\u001b[0m\u001b[0;34m=\u001b[0m\u001b[0mspecies_code\u001b[0m\u001b[0;34m,\u001b[0m \u001b[0mstart_date_list\u001b[0m \u001b[0;34m=\u001b[0m \u001b[0mstart_dates\u001b[0m\u001b[0;34m,\u001b[0m \u001b[0mend_date_list\u001b[0m \u001b[0;34m=\u001b[0m \u001b[0mend_dates\u001b[0m\u001b[0;34m)\u001b[0m\u001b[0;34m\u001b[0m\u001b[0;34m\u001b[0m\u001b[0m\n\u001b[0m",
      "\u001b[0;32m<ipython-input-50-1d29c6f29a65>\u001b[0m in \u001b[0;36mretrieve_many\u001b[0;34m(main_url, url_ext, location_list, species, start_date_list, end_date_list)\u001b[0m\n\u001b[1;32m      4\u001b[0m         \u001b[0;32mfor\u001b[0m \u001b[0mi\u001b[0m \u001b[0;32min\u001b[0m \u001b[0mrange\u001b[0m\u001b[0;34m(\u001b[0m\u001b[0mlen\u001b[0m\u001b[0;34m(\u001b[0m\u001b[0mstart_date_list\u001b[0m\u001b[0;34m)\u001b[0m\u001b[0;34m)\u001b[0m\u001b[0;34m:\u001b[0m\u001b[0;34m\u001b[0m\u001b[0;34m\u001b[0m\u001b[0m\n\u001b[1;32m      5\u001b[0m             \u001b[0;32mfor\u001b[0m \u001b[0mlocation\u001b[0m \u001b[0;32min\u001b[0m \u001b[0mlocation_list\u001b[0m\u001b[0;34m:\u001b[0m\u001b[0;34m\u001b[0m\u001b[0;34m\u001b[0m\u001b[0m\n\u001b[0;32m----> 6\u001b[0;31m                 \u001b[0mresponse\u001b[0m \u001b[0;34m=\u001b[0m \u001b[0mreq\u001b[0m\u001b[0;34m.\u001b[0m\u001b[0mget\u001b[0m\u001b[0;34m(\u001b[0m\u001b[0;34mf'{main_url}{url_ext}/SiteCode={location}/SpeciesCode={species}/StartDate={start_date_list[i]}/EndDate={end_date_list[i]}/Json'\u001b[0m\u001b[0;34m)\u001b[0m\u001b[0;34m.\u001b[0m\u001b[0mjson\u001b[0m\u001b[0;34m(\u001b[0m\u001b[0;34m)\u001b[0m\u001b[0;34m\u001b[0m\u001b[0;34m\u001b[0m\u001b[0m\n\u001b[0m\u001b[1;32m      7\u001b[0m                 \u001b[0mdata\u001b[0m\u001b[0;34m.\u001b[0m\u001b[0mappend\u001b[0m\u001b[0;34m(\u001b[0m\u001b[0mresponse\u001b[0m\u001b[0;34m)\u001b[0m\u001b[0;34m\u001b[0m\u001b[0;34m\u001b[0m\u001b[0m\n\u001b[1;32m      8\u001b[0m                 \u001b[0mcounter\u001b[0m\u001b[0;34m+=\u001b[0m\u001b[0;36m1\u001b[0m\u001b[0;34m\u001b[0m\u001b[0;34m\u001b[0m\u001b[0m\n",
      "\u001b[0;32m~/anaconda3/envs/learn-env/lib/python3.6/site-packages/requests/models.py\u001b[0m in \u001b[0;36mjson\u001b[0;34m(self, **kwargs)\u001b[0m\n\u001b[1;32m    895\u001b[0m                     \u001b[0;31m# used.\u001b[0m\u001b[0;34m\u001b[0m\u001b[0;34m\u001b[0m\u001b[0;34m\u001b[0m\u001b[0m\n\u001b[1;32m    896\u001b[0m                     \u001b[0;32mpass\u001b[0m\u001b[0;34m\u001b[0m\u001b[0;34m\u001b[0m\u001b[0m\n\u001b[0;32m--> 897\u001b[0;31m         \u001b[0;32mreturn\u001b[0m \u001b[0mcomplexjson\u001b[0m\u001b[0;34m.\u001b[0m\u001b[0mloads\u001b[0m\u001b[0;34m(\u001b[0m\u001b[0mself\u001b[0m\u001b[0;34m.\u001b[0m\u001b[0mtext\u001b[0m\u001b[0;34m,\u001b[0m \u001b[0;34m**\u001b[0m\u001b[0mkwargs\u001b[0m\u001b[0;34m)\u001b[0m\u001b[0;34m\u001b[0m\u001b[0;34m\u001b[0m\u001b[0m\n\u001b[0m\u001b[1;32m    898\u001b[0m \u001b[0;34m\u001b[0m\u001b[0m\n\u001b[1;32m    899\u001b[0m     \u001b[0;34m@\u001b[0m\u001b[0mproperty\u001b[0m\u001b[0;34m\u001b[0m\u001b[0;34m\u001b[0m\u001b[0m\n",
      "\u001b[0;32m~/anaconda3/envs/learn-env/lib/python3.6/json/__init__.py\u001b[0m in \u001b[0;36mloads\u001b[0;34m(s, encoding, cls, object_hook, parse_float, parse_int, parse_constant, object_pairs_hook, **kw)\u001b[0m\n\u001b[1;32m    342\u001b[0m         \u001b[0;32mif\u001b[0m \u001b[0ms\u001b[0m\u001b[0;34m.\u001b[0m\u001b[0mstartswith\u001b[0m\u001b[0;34m(\u001b[0m\u001b[0;34m'\\ufeff'\u001b[0m\u001b[0;34m)\u001b[0m\u001b[0;34m:\u001b[0m\u001b[0;34m\u001b[0m\u001b[0;34m\u001b[0m\u001b[0m\n\u001b[1;32m    343\u001b[0m             raise JSONDecodeError(\"Unexpected UTF-8 BOM (decode using utf-8-sig)\",\n\u001b[0;32m--> 344\u001b[0;31m                                   s, 0)\n\u001b[0m\u001b[1;32m    345\u001b[0m     \u001b[0;32melse\u001b[0m\u001b[0;34m:\u001b[0m\u001b[0;34m\u001b[0m\u001b[0;34m\u001b[0m\u001b[0m\n\u001b[1;32m    346\u001b[0m         \u001b[0;32mif\u001b[0m \u001b[0;32mnot\u001b[0m \u001b[0misinstance\u001b[0m\u001b[0;34m(\u001b[0m\u001b[0ms\u001b[0m\u001b[0;34m,\u001b[0m \u001b[0;34m(\u001b[0m\u001b[0mbytes\u001b[0m\u001b[0;34m,\u001b[0m \u001b[0mbytearray\u001b[0m\u001b[0;34m)\u001b[0m\u001b[0;34m)\u001b[0m\u001b[0;34m:\u001b[0m\u001b[0;34m\u001b[0m\u001b[0;34m\u001b[0m\u001b[0m\n",
      "\u001b[0;31mJSONDecodeError\u001b[0m: Unexpected UTF-8 BOM (decode using utf-8-sig): line 1 column 1 (char 0)"
     ]
    }
   ],
   "source": [
    "# will set loop to run over multiple dates\n",
    "base_url='http://api.erg.kcl.ac.uk/AirQuality'\n",
    "location_list0 = ['LH0','ZR2', 'BL0', 'EN4', 'CT3', 'RI1']\n",
    "species_code='NO2'\n",
    "url_data = '/Data/SiteSpecies'\n",
    "start_dates = ['2006/05/01', '2006/10/01']\n",
    "end_dates = ['2006/06/01', '2006/11/01']\n",
    "\n",
    "NO2_LEZ = retrieve_many(main_url=base_url, url_ext = url_data, location_list=location_list0, species=species_code, start_date_list = start_dates, end_date_list = end_dates)"
   ]
  },
  {
   "cell_type": "code",
   "execution_count": null,
   "metadata": {},
   "outputs": [],
   "source": [
    "# API failed to work after many attempts. Might go back to this. Will just use CSV downloaded data for now. "
   ]
  },
  {
   "cell_type": "code",
   "execution_count": null,
   "metadata": {},
   "outputs": [],
   "source": []
  },
  {
   "cell_type": "code",
   "execution_count": 57,
   "metadata": {},
   "outputs": [
    {
     "name": "stdout",
     "output_type": "stream",
     "text": [
      "(29946, 6)\n"
     ]
    },
    {
     "data": {
      "text/html": [
       "<div>\n",
       "<style scoped>\n",
       "    .dataframe tbody tr th:only-of-type {\n",
       "        vertical-align: middle;\n",
       "    }\n",
       "\n",
       "    .dataframe tbody tr th {\n",
       "        vertical-align: top;\n",
       "    }\n",
       "\n",
       "    .dataframe thead th {\n",
       "        text-align: right;\n",
       "    }\n",
       "</style>\n",
       "<table border=\"1\" class=\"dataframe\">\n",
       "  <thead>\n",
       "    <tr style=\"text-align: right;\">\n",
       "      <th></th>\n",
       "      <th>Site</th>\n",
       "      <th>Species</th>\n",
       "      <th>ReadingDateTime</th>\n",
       "      <th>Value</th>\n",
       "      <th>Units</th>\n",
       "      <th>Provisional or Ratified</th>\n",
       "    </tr>\n",
       "  </thead>\n",
       "  <tbody>\n",
       "    <tr>\n",
       "      <td>0</td>\n",
       "      <td>CT3</td>\n",
       "      <td>NO2</td>\n",
       "      <td>01/01/2006 00:00</td>\n",
       "      <td>37.4</td>\n",
       "      <td>ug m-3</td>\n",
       "      <td>R</td>\n",
       "    </tr>\n",
       "    <tr>\n",
       "      <td>1</td>\n",
       "      <td>CT3</td>\n",
       "      <td>NO2</td>\n",
       "      <td>02/01/2006 00:00</td>\n",
       "      <td>39.8</td>\n",
       "      <td>ug m-3</td>\n",
       "      <td>R</td>\n",
       "    </tr>\n",
       "    <tr>\n",
       "      <td>2</td>\n",
       "      <td>CT3</td>\n",
       "      <td>NO2</td>\n",
       "      <td>03/01/2006 00:00</td>\n",
       "      <td>57.5</td>\n",
       "      <td>ug m-3</td>\n",
       "      <td>R</td>\n",
       "    </tr>\n",
       "    <tr>\n",
       "      <td>3</td>\n",
       "      <td>CT3</td>\n",
       "      <td>NO2</td>\n",
       "      <td>04/01/2006 00:00</td>\n",
       "      <td>51.0</td>\n",
       "      <td>ug m-3</td>\n",
       "      <td>R</td>\n",
       "    </tr>\n",
       "    <tr>\n",
       "      <td>4</td>\n",
       "      <td>CT3</td>\n",
       "      <td>NO2</td>\n",
       "      <td>05/01/2006 00:00</td>\n",
       "      <td>50.7</td>\n",
       "      <td>ug m-3</td>\n",
       "      <td>R</td>\n",
       "    </tr>\n",
       "  </tbody>\n",
       "</table>\n",
       "</div>"
      ],
      "text/plain": [
       "  Site Species   ReadingDateTime  Value   Units Provisional or Ratified\n",
       "0  CT3     NO2  01/01/2006 00:00   37.4  ug m-3                       R\n",
       "1  CT3     NO2  02/01/2006 00:00   39.8  ug m-3                       R\n",
       "2  CT3     NO2  03/01/2006 00:00   57.5  ug m-3                       R\n",
       "3  CT3     NO2  04/01/2006 00:00   51.0  ug m-3                       R\n",
       "4  CT3     NO2  05/01/2006 00:00   50.7  ug m-3                       R"
      ]
     },
     "execution_count": 57,
     "metadata": {},
     "output_type": "execute_result"
    }
   ],
   "source": [
    "df_no2 = pd.read_csv('LaqnData_no2.csv')\n",
    "print(df_no2.shape)\n",
    "df_no2.head()"
   ]
  },
  {
   "cell_type": "code",
   "execution_count": 58,
   "metadata": {},
   "outputs": [
    {
     "data": {
      "text/html": [
       "<div>\n",
       "<style scoped>\n",
       "    .dataframe tbody tr th:only-of-type {\n",
       "        vertical-align: middle;\n",
       "    }\n",
       "\n",
       "    .dataframe tbody tr th {\n",
       "        vertical-align: top;\n",
       "    }\n",
       "\n",
       "    .dataframe thead th {\n",
       "        text-align: right;\n",
       "    }\n",
       "</style>\n",
       "<table border=\"1\" class=\"dataframe\">\n",
       "  <thead>\n",
       "    <tr style=\"text-align: right;\">\n",
       "      <th></th>\n",
       "      <th>Value</th>\n",
       "    </tr>\n",
       "  </thead>\n",
       "  <tbody>\n",
       "    <tr>\n",
       "      <td>count</td>\n",
       "      <td>27790.000000</td>\n",
       "    </tr>\n",
       "    <tr>\n",
       "      <td>mean</td>\n",
       "      <td>42.419770</td>\n",
       "    </tr>\n",
       "    <tr>\n",
       "      <td>std</td>\n",
       "      <td>17.978645</td>\n",
       "    </tr>\n",
       "    <tr>\n",
       "      <td>min</td>\n",
       "      <td>3.500000</td>\n",
       "    </tr>\n",
       "    <tr>\n",
       "      <td>25%</td>\n",
       "      <td>29.100000</td>\n",
       "    </tr>\n",
       "    <tr>\n",
       "      <td>50%</td>\n",
       "      <td>40.600000</td>\n",
       "    </tr>\n",
       "    <tr>\n",
       "      <td>75%</td>\n",
       "      <td>53.400000</td>\n",
       "    </tr>\n",
       "    <tr>\n",
       "      <td>max</td>\n",
       "      <td>168.899990</td>\n",
       "    </tr>\n",
       "  </tbody>\n",
       "</table>\n",
       "</div>"
      ],
      "text/plain": [
       "              Value\n",
       "count  27790.000000\n",
       "mean      42.419770\n",
       "std       17.978645\n",
       "min        3.500000\n",
       "25%       29.100000\n",
       "50%       40.600000\n",
       "75%       53.400000\n",
       "max      168.899990"
      ]
     },
     "execution_count": 58,
     "metadata": {},
     "output_type": "execute_result"
    }
   ],
   "source": [
    "df_no2.describe()"
   ]
  },
  {
   "cell_type": "code",
   "execution_count": 59,
   "metadata": {},
   "outputs": [
    {
     "data": {
      "text/plain": [
       "RI1    4991\n",
       "BL0    4991\n",
       "ZR2    4991\n",
       "CT3    4991\n",
       "LH0    4991\n",
       "EN4    4991\n",
       "Name: Site, dtype: int64"
      ]
     },
     "execution_count": 59,
     "metadata": {},
     "output_type": "execute_result"
    }
   ],
   "source": [
    "df_no2.Site.value_counts(dropna=False)"
   ]
  },
  {
   "cell_type": "code",
   "execution_count": 60,
   "metadata": {},
   "outputs": [
    {
     "data": {
      "text/html": [
       "<div>\n",
       "<style scoped>\n",
       "    .dataframe tbody tr th:only-of-type {\n",
       "        vertical-align: middle;\n",
       "    }\n",
       "\n",
       "    .dataframe tbody tr th {\n",
       "        vertical-align: top;\n",
       "    }\n",
       "\n",
       "    .dataframe thead th {\n",
       "        text-align: right;\n",
       "    }\n",
       "</style>\n",
       "<table border=\"1\" class=\"dataframe\">\n",
       "  <thead>\n",
       "    <tr style=\"text-align: right;\">\n",
       "      <th></th>\n",
       "      <th>Site</th>\n",
       "      <th>Species</th>\n",
       "      <th>ReadingDateTime</th>\n",
       "      <th>Value</th>\n",
       "      <th>Units</th>\n",
       "      <th>Provisional or Ratified</th>\n",
       "    </tr>\n",
       "  </thead>\n",
       "  <tbody>\n",
       "    <tr>\n",
       "      <td>0</td>\n",
       "      <td>CT3</td>\n",
       "      <td>NO2</td>\n",
       "      <td>2006-01-01</td>\n",
       "      <td>37.4</td>\n",
       "      <td>ug m-3</td>\n",
       "      <td>R</td>\n",
       "    </tr>\n",
       "    <tr>\n",
       "      <td>1</td>\n",
       "      <td>CT3</td>\n",
       "      <td>NO2</td>\n",
       "      <td>2006-02-01</td>\n",
       "      <td>39.8</td>\n",
       "      <td>ug m-3</td>\n",
       "      <td>R</td>\n",
       "    </tr>\n",
       "    <tr>\n",
       "      <td>2</td>\n",
       "      <td>CT3</td>\n",
       "      <td>NO2</td>\n",
       "      <td>2006-03-01</td>\n",
       "      <td>57.5</td>\n",
       "      <td>ug m-3</td>\n",
       "      <td>R</td>\n",
       "    </tr>\n",
       "    <tr>\n",
       "      <td>3</td>\n",
       "      <td>CT3</td>\n",
       "      <td>NO2</td>\n",
       "      <td>2006-04-01</td>\n",
       "      <td>51.0</td>\n",
       "      <td>ug m-3</td>\n",
       "      <td>R</td>\n",
       "    </tr>\n",
       "    <tr>\n",
       "      <td>4</td>\n",
       "      <td>CT3</td>\n",
       "      <td>NO2</td>\n",
       "      <td>2006-05-01</td>\n",
       "      <td>50.7</td>\n",
       "      <td>ug m-3</td>\n",
       "      <td>R</td>\n",
       "    </tr>\n",
       "  </tbody>\n",
       "</table>\n",
       "</div>"
      ],
      "text/plain": [
       "  Site Species ReadingDateTime  Value   Units Provisional or Ratified\n",
       "0  CT3     NO2      2006-01-01   37.4  ug m-3                       R\n",
       "1  CT3     NO2      2006-02-01   39.8  ug m-3                       R\n",
       "2  CT3     NO2      2006-03-01   57.5  ug m-3                       R\n",
       "3  CT3     NO2      2006-04-01   51.0  ug m-3                       R\n",
       "4  CT3     NO2      2006-05-01   50.7  ug m-3                       R"
      ]
     },
     "execution_count": 60,
     "metadata": {},
     "output_type": "execute_result"
    }
   ],
   "source": [
    "# convert strings to datetime objects\n",
    "\n",
    "df_no2.ReadingDateTime = pd.to_datetime(df_no2.ReadingDateTime)\n",
    "df_no2.head()"
   ]
  },
  {
   "cell_type": "code",
   "execution_count": 61,
   "metadata": {},
   "outputs": [
    {
     "data": {
      "text/plain": [
       "Site                          0\n",
       "Species                       0\n",
       "ReadingDateTime               0\n",
       "Value                      2156\n",
       "Units                         0\n",
       "Provisional or Ratified       0\n",
       "dtype: int64"
      ]
     },
     "execution_count": 61,
     "metadata": {},
     "output_type": "execute_result"
    }
   ],
   "source": [
    "# check number of missing values\n",
    "\n",
    "df_no2.isna().sum()"
   ]
  },
  {
   "cell_type": "code",
   "execution_count": 62,
   "metadata": {},
   "outputs": [
    {
     "data": {
      "text/html": [
       "<div>\n",
       "<style scoped>\n",
       "    .dataframe tbody tr th:only-of-type {\n",
       "        vertical-align: middle;\n",
       "    }\n",
       "\n",
       "    .dataframe tbody tr th {\n",
       "        vertical-align: top;\n",
       "    }\n",
       "\n",
       "    .dataframe thead th {\n",
       "        text-align: right;\n",
       "    }\n",
       "</style>\n",
       "<table border=\"1\" class=\"dataframe\">\n",
       "  <thead>\n",
       "    <tr style=\"text-align: right;\">\n",
       "      <th></th>\n",
       "      <th>Site</th>\n",
       "      <th>Species</th>\n",
       "      <th>ReadingDateTime</th>\n",
       "      <th>Value</th>\n",
       "      <th>Units</th>\n",
       "      <th>Provisional or Ratified</th>\n",
       "    </tr>\n",
       "  </thead>\n",
       "  <tbody>\n",
       "    <tr>\n",
       "      <td>46</td>\n",
       "      <td>CT3</td>\n",
       "      <td>NO2</td>\n",
       "      <td>2006-02-16</td>\n",
       "      <td>NaN</td>\n",
       "      <td>ug m-3</td>\n",
       "      <td>R</td>\n",
       "    </tr>\n",
       "    <tr>\n",
       "      <td>47</td>\n",
       "      <td>CT3</td>\n",
       "      <td>NO2</td>\n",
       "      <td>2006-02-17</td>\n",
       "      <td>NaN</td>\n",
       "      <td>ug m-3</td>\n",
       "      <td>R</td>\n",
       "    </tr>\n",
       "    <tr>\n",
       "      <td>204</td>\n",
       "      <td>CT3</td>\n",
       "      <td>NO2</td>\n",
       "      <td>2006-07-24</td>\n",
       "      <td>NaN</td>\n",
       "      <td>ug m-3</td>\n",
       "      <td>R</td>\n",
       "    </tr>\n",
       "    <tr>\n",
       "      <td>205</td>\n",
       "      <td>CT3</td>\n",
       "      <td>NO2</td>\n",
       "      <td>2006-07-25</td>\n",
       "      <td>NaN</td>\n",
       "      <td>ug m-3</td>\n",
       "      <td>R</td>\n",
       "    </tr>\n",
       "    <tr>\n",
       "      <td>206</td>\n",
       "      <td>CT3</td>\n",
       "      <td>NO2</td>\n",
       "      <td>2006-07-26</td>\n",
       "      <td>NaN</td>\n",
       "      <td>ug m-3</td>\n",
       "      <td>R</td>\n",
       "    </tr>\n",
       "  </tbody>\n",
       "</table>\n",
       "</div>"
      ],
      "text/plain": [
       "    Site Species ReadingDateTime  Value   Units Provisional or Ratified\n",
       "46   CT3     NO2      2006-02-16    NaN  ug m-3                       R\n",
       "47   CT3     NO2      2006-02-17    NaN  ug m-3                       R\n",
       "204  CT3     NO2      2006-07-24    NaN  ug m-3                       R\n",
       "205  CT3     NO2      2006-07-25    NaN  ug m-3                       R\n",
       "206  CT3     NO2      2006-07-26    NaN  ug m-3                       R"
      ]
     },
     "execution_count": 62,
     "metadata": {},
     "output_type": "execute_result"
    }
   ],
   "source": [
    "df_no2.loc[(df_no2).Value.isnull()].head()"
   ]
  },
  {
   "cell_type": "code",
   "execution_count": 63,
   "metadata": {},
   "outputs": [
    {
     "name": "stdout",
     "output_type": "stream",
     "text": [
      "(27790, 6)\n"
     ]
    },
    {
     "data": {
      "text/html": [
       "<div>\n",
       "<style scoped>\n",
       "    .dataframe tbody tr th:only-of-type {\n",
       "        vertical-align: middle;\n",
       "    }\n",
       "\n",
       "    .dataframe tbody tr th {\n",
       "        vertical-align: top;\n",
       "    }\n",
       "\n",
       "    .dataframe thead th {\n",
       "        text-align: right;\n",
       "    }\n",
       "</style>\n",
       "<table border=\"1\" class=\"dataframe\">\n",
       "  <thead>\n",
       "    <tr style=\"text-align: right;\">\n",
       "      <th></th>\n",
       "      <th>Site</th>\n",
       "      <th>Species</th>\n",
       "      <th>ReadingDateTime</th>\n",
       "      <th>Value</th>\n",
       "      <th>Units</th>\n",
       "      <th>Provisional or Ratified</th>\n",
       "    </tr>\n",
       "  </thead>\n",
       "  <tbody>\n",
       "    <tr>\n",
       "      <td>29941</td>\n",
       "      <td>EN4</td>\n",
       "      <td>NO2</td>\n",
       "      <td>2019-08-27</td>\n",
       "      <td>45.3</td>\n",
       "      <td>ug m-3</td>\n",
       "      <td>P</td>\n",
       "    </tr>\n",
       "    <tr>\n",
       "      <td>29942</td>\n",
       "      <td>EN4</td>\n",
       "      <td>NO2</td>\n",
       "      <td>2019-08-28</td>\n",
       "      <td>19.6</td>\n",
       "      <td>ug m-3</td>\n",
       "      <td>P</td>\n",
       "    </tr>\n",
       "    <tr>\n",
       "      <td>29943</td>\n",
       "      <td>EN4</td>\n",
       "      <td>NO2</td>\n",
       "      <td>2019-08-29</td>\n",
       "      <td>21.9</td>\n",
       "      <td>ug m-3</td>\n",
       "      <td>P</td>\n",
       "    </tr>\n",
       "    <tr>\n",
       "      <td>29944</td>\n",
       "      <td>EN4</td>\n",
       "      <td>NO2</td>\n",
       "      <td>2019-08-30</td>\n",
       "      <td>29.8</td>\n",
       "      <td>ug m-3</td>\n",
       "      <td>P</td>\n",
       "    </tr>\n",
       "    <tr>\n",
       "      <td>29945</td>\n",
       "      <td>EN4</td>\n",
       "      <td>NO2</td>\n",
       "      <td>2019-08-31</td>\n",
       "      <td>29.8</td>\n",
       "      <td>ug m-3</td>\n",
       "      <td>P</td>\n",
       "    </tr>\n",
       "  </tbody>\n",
       "</table>\n",
       "</div>"
      ],
      "text/plain": [
       "      Site Species ReadingDateTime  Value   Units Provisional or Ratified\n",
       "29941  EN4     NO2      2019-08-27   45.3  ug m-3                       P\n",
       "29942  EN4     NO2      2019-08-28   19.6  ug m-3                       P\n",
       "29943  EN4     NO2      2019-08-29   21.9  ug m-3                       P\n",
       "29944  EN4     NO2      2019-08-30   29.8  ug m-3                       P\n",
       "29945  EN4     NO2      2019-08-31   29.8  ug m-3                       P"
      ]
     },
     "execution_count": 63,
     "metadata": {},
     "output_type": "execute_result"
    }
   ],
   "source": [
    "# delete the rows with Nan value for the df_no2 DataFrame\n",
    "\n",
    "df_no2.dropna(inplace=True)\n",
    "print(df_no2.shape)\n",
    "df_no2.tail()"
   ]
  },
  {
   "cell_type": "code",
   "execution_count": 64,
   "metadata": {},
   "outputs": [
    {
     "data": {
      "text/html": [
       "<div>\n",
       "<style scoped>\n",
       "    .dataframe tbody tr th:only-of-type {\n",
       "        vertical-align: middle;\n",
       "    }\n",
       "\n",
       "    .dataframe tbody tr th {\n",
       "        vertical-align: top;\n",
       "    }\n",
       "\n",
       "    .dataframe thead th {\n",
       "        text-align: right;\n",
       "    }\n",
       "</style>\n",
       "<table border=\"1\" class=\"dataframe\">\n",
       "  <thead>\n",
       "    <tr style=\"text-align: right;\">\n",
       "      <th></th>\n",
       "      <th>Site</th>\n",
       "      <th>Species</th>\n",
       "      <th>ReadingDateTime</th>\n",
       "      <th>Value</th>\n",
       "      <th>Units</th>\n",
       "      <th>Provisional or Ratified</th>\n",
       "      <th>Year</th>\n",
       "    </tr>\n",
       "  </thead>\n",
       "  <tbody>\n",
       "    <tr>\n",
       "      <td>0</td>\n",
       "      <td>CT3</td>\n",
       "      <td>NO2</td>\n",
       "      <td>2006-01-01</td>\n",
       "      <td>37.4</td>\n",
       "      <td>ug m-3</td>\n",
       "      <td>R</td>\n",
       "      <td>2006</td>\n",
       "    </tr>\n",
       "    <tr>\n",
       "      <td>1</td>\n",
       "      <td>CT3</td>\n",
       "      <td>NO2</td>\n",
       "      <td>2006-02-01</td>\n",
       "      <td>39.8</td>\n",
       "      <td>ug m-3</td>\n",
       "      <td>R</td>\n",
       "      <td>2006</td>\n",
       "    </tr>\n",
       "    <tr>\n",
       "      <td>2</td>\n",
       "      <td>CT3</td>\n",
       "      <td>NO2</td>\n",
       "      <td>2006-03-01</td>\n",
       "      <td>57.5</td>\n",
       "      <td>ug m-3</td>\n",
       "      <td>R</td>\n",
       "      <td>2006</td>\n",
       "    </tr>\n",
       "    <tr>\n",
       "      <td>3</td>\n",
       "      <td>CT3</td>\n",
       "      <td>NO2</td>\n",
       "      <td>2006-04-01</td>\n",
       "      <td>51.0</td>\n",
       "      <td>ug m-3</td>\n",
       "      <td>R</td>\n",
       "      <td>2006</td>\n",
       "    </tr>\n",
       "    <tr>\n",
       "      <td>4</td>\n",
       "      <td>CT3</td>\n",
       "      <td>NO2</td>\n",
       "      <td>2006-05-01</td>\n",
       "      <td>50.7</td>\n",
       "      <td>ug m-3</td>\n",
       "      <td>R</td>\n",
       "      <td>2006</td>\n",
       "    </tr>\n",
       "  </tbody>\n",
       "</table>\n",
       "</div>"
      ],
      "text/plain": [
       "  Site Species ReadingDateTime  Value   Units Provisional or Ratified  Year\n",
       "0  CT3     NO2      2006-01-01   37.4  ug m-3                       R  2006\n",
       "1  CT3     NO2      2006-02-01   39.8  ug m-3                       R  2006\n",
       "2  CT3     NO2      2006-03-01   57.5  ug m-3                       R  2006\n",
       "3  CT3     NO2      2006-04-01   51.0  ug m-3                       R  2006\n",
       "4  CT3     NO2      2006-05-01   50.7  ug m-3                       R  2006"
      ]
     },
     "execution_count": 64,
     "metadata": {},
     "output_type": "execute_result"
    }
   ],
   "source": [
    "# create year column\n",
    "\n",
    "df_no2['Year'] = df_no2.ReadingDateTime.dt.year\n",
    "df_no2.head()"
   ]
  },
  {
   "cell_type": "code",
   "execution_count": 66,
   "metadata": {},
   "outputs": [
    {
     "data": {
      "text/plain": [
       "R    26702\n",
       "P     1088\n",
       "Name: Provisional or Ratified, dtype: int64"
      ]
     },
     "execution_count": 66,
     "metadata": {},
     "output_type": "execute_result"
    }
   ],
   "source": [
    "df_no2['Provisional or Ratified'].value_counts()"
   ]
  },
  {
   "cell_type": "code",
   "execution_count": 68,
   "metadata": {},
   "outputs": [
    {
     "data": {
      "text/html": [
       "<div>\n",
       "<style scoped>\n",
       "    .dataframe tbody tr th:only-of-type {\n",
       "        vertical-align: middle;\n",
       "    }\n",
       "\n",
       "    .dataframe tbody tr th {\n",
       "        vertical-align: top;\n",
       "    }\n",
       "\n",
       "    .dataframe thead th {\n",
       "        text-align: right;\n",
       "    }\n",
       "</style>\n",
       "<table border=\"1\" class=\"dataframe\">\n",
       "  <thead>\n",
       "    <tr style=\"text-align: right;\">\n",
       "      <th></th>\n",
       "      <th>Value</th>\n",
       "      <th>Year</th>\n",
       "    </tr>\n",
       "  </thead>\n",
       "  <tbody>\n",
       "    <tr>\n",
       "      <td>0</td>\n",
       "      <td>37.4</td>\n",
       "      <td>2006</td>\n",
       "    </tr>\n",
       "    <tr>\n",
       "      <td>1</td>\n",
       "      <td>39.8</td>\n",
       "      <td>2006</td>\n",
       "    </tr>\n",
       "    <tr>\n",
       "      <td>2</td>\n",
       "      <td>57.5</td>\n",
       "      <td>2006</td>\n",
       "    </tr>\n",
       "    <tr>\n",
       "      <td>3</td>\n",
       "      <td>51.0</td>\n",
       "      <td>2006</td>\n",
       "    </tr>\n",
       "    <tr>\n",
       "      <td>4</td>\n",
       "      <td>50.7</td>\n",
       "      <td>2006</td>\n",
       "    </tr>\n",
       "  </tbody>\n",
       "</table>\n",
       "</div>"
      ],
      "text/plain": [
       "   Value  Year\n",
       "0   37.4  2006\n",
       "1   39.8  2006\n",
       "2   57.5  2006\n",
       "3   51.0  2006\n",
       "4   50.7  2006"
      ]
     },
     "execution_count": 68,
     "metadata": {},
     "output_type": "execute_result"
    }
   ],
   "source": [
    "# create new dataframe with only the value and year columns\n",
    "\n",
    "df_no2_new = df_no2.drop(['Site','Species','ReadingDateTime','Units','Provisional or Ratified'],axis=1)\n",
    "df_no2_new.head()"
   ]
  },
  {
   "cell_type": "code",
   "execution_count": 72,
   "metadata": {},
   "outputs": [
    {
     "data": {
      "image/png": "[encoded data removed]",
      "text/plain": [
       "<Figure size 432x288 with 1 Axes>"
      ]
     },
     "metadata": {},
     "output_type": "display_data"
    }
   ],
   "source": [
    "# make a frequency barplot\n",
    "\n",
    "df_no2.Value.plot.hist(range=(1, 200), bins=25, color='grey')\n",
    "plt.title('NO2 Values', color = 'grey')\n",
    "plt.show()"
   ]
  },
  {
   "cell_type": "code",
   "execution_count": 73,
   "metadata": {},
   "outputs": [
    {
     "name": "stdout",
     "output_type": "stream",
     "text": [
      "(29946, 6)\n"
     ]
    },
    {
     "data": {
      "text/html": [
       "<div>\n",
       "<style scoped>\n",
       "    .dataframe tbody tr th:only-of-type {\n",
       "        vertical-align: middle;\n",
       "    }\n",
       "\n",
       "    .dataframe tbody tr th {\n",
       "        vertical-align: top;\n",
       "    }\n",
       "\n",
       "    .dataframe thead th {\n",
       "        text-align: right;\n",
       "    }\n",
       "</style>\n",
       "<table border=\"1\" class=\"dataframe\">\n",
       "  <thead>\n",
       "    <tr style=\"text-align: right;\">\n",
       "      <th></th>\n",
       "      <th>Site</th>\n",
       "      <th>Species</th>\n",
       "      <th>ReadingDateTime</th>\n",
       "      <th>Value</th>\n",
       "      <th>Units</th>\n",
       "      <th>Provisional or Ratified</th>\n",
       "    </tr>\n",
       "  </thead>\n",
       "  <tbody>\n",
       "    <tr>\n",
       "      <td>0</td>\n",
       "      <td>CT3</td>\n",
       "      <td>PM10</td>\n",
       "      <td>01/01/2006 00:00</td>\n",
       "      <td>7.0</td>\n",
       "      <td>ug/m3</td>\n",
       "      <td>R</td>\n",
       "    </tr>\n",
       "    <tr>\n",
       "      <td>1</td>\n",
       "      <td>CT3</td>\n",
       "      <td>PM10</td>\n",
       "      <td>02/01/2006 00:00</td>\n",
       "      <td>14.0</td>\n",
       "      <td>ug/m3</td>\n",
       "      <td>R</td>\n",
       "    </tr>\n",
       "    <tr>\n",
       "      <td>2</td>\n",
       "      <td>CT3</td>\n",
       "      <td>PM10</td>\n",
       "      <td>03/01/2006 00:00</td>\n",
       "      <td>19.0</td>\n",
       "      <td>ug/m3</td>\n",
       "      <td>R</td>\n",
       "    </tr>\n",
       "    <tr>\n",
       "      <td>3</td>\n",
       "      <td>CT3</td>\n",
       "      <td>PM10</td>\n",
       "      <td>04/01/2006 00:00</td>\n",
       "      <td>18.0</td>\n",
       "      <td>ug/m3</td>\n",
       "      <td>R</td>\n",
       "    </tr>\n",
       "    <tr>\n",
       "      <td>4</td>\n",
       "      <td>CT3</td>\n",
       "      <td>PM10</td>\n",
       "      <td>05/01/2006 00:00</td>\n",
       "      <td>20.0</td>\n",
       "      <td>ug/m3</td>\n",
       "      <td>R</td>\n",
       "    </tr>\n",
       "  </tbody>\n",
       "</table>\n",
       "</div>"
      ],
      "text/plain": [
       "  Site Species   ReadingDateTime  Value  Units Provisional or Ratified\n",
       "0  CT3    PM10  01/01/2006 00:00    7.0  ug/m3                       R\n",
       "1  CT3    PM10  02/01/2006 00:00   14.0  ug/m3                       R\n",
       "2  CT3    PM10  03/01/2006 00:00   19.0  ug/m3                       R\n",
       "3  CT3    PM10  04/01/2006 00:00   18.0  ug/m3                       R\n",
       "4  CT3    PM10  05/01/2006 00:00   20.0  ug/m3                       R"
      ]
     },
     "execution_count": 73,
     "metadata": {},
     "output_type": "execute_result"
    }
   ],
   "source": [
    "# create PM10 particulates DataFrame\n",
    "\n",
    "df_pm10 = pd.read_csv('LaqnData_pm10.csv')\n",
    "print(df_pm10.shape)\n",
    "df_pm10.head()"
   ]
  },
  {
   "cell_type": "code",
   "execution_count": 74,
   "metadata": {},
   "outputs": [
    {
     "data": {
      "text/plain": [
       "RI1    4991\n",
       "BL0    4991\n",
       "ZR2    4991\n",
       "CT3    4991\n",
       "LH0    4991\n",
       "EN4    4991\n",
       "Name: Site, dtype: int64"
      ]
     },
     "execution_count": 74,
     "metadata": {},
     "output_type": "execute_result"
    }
   ],
   "source": [
    "# check number of sites \n",
    "\n",
    "df_pm10.Site.value_counts(dropna=False)"
   ]
  },
  {
   "cell_type": "code",
   "execution_count": 77,
   "metadata": {},
   "outputs": [
    {
     "data": {
      "text/plain": [
       "29946"
      ]
     },
     "execution_count": 77,
     "metadata": {},
     "output_type": "execute_result"
    }
   ],
   "source": [
    "len(df_pm10)"
   ]
  },
  {
   "cell_type": "code",
   "execution_count": 76,
   "metadata": {},
   "outputs": [
    {
     "data": {
      "text/html": [
       "<div>\n",
       "<style scoped>\n",
       "    .dataframe tbody tr th:only-of-type {\n",
       "        vertical-align: middle;\n",
       "    }\n",
       "\n",
       "    .dataframe tbody tr th {\n",
       "        vertical-align: top;\n",
       "    }\n",
       "\n",
       "    .dataframe thead th {\n",
       "        text-align: right;\n",
       "    }\n",
       "</style>\n",
       "<table border=\"1\" class=\"dataframe\">\n",
       "  <thead>\n",
       "    <tr style=\"text-align: right;\">\n",
       "      <th></th>\n",
       "      <th>Site</th>\n",
       "      <th>Species</th>\n",
       "      <th>ReadingDateTime</th>\n",
       "      <th>Value</th>\n",
       "      <th>Units</th>\n",
       "      <th>Provisional or Ratified</th>\n",
       "    </tr>\n",
       "  </thead>\n",
       "  <tbody>\n",
       "    <tr>\n",
       "      <td>46</td>\n",
       "      <td>CT3</td>\n",
       "      <td>PM10</td>\n",
       "      <td>16/02/2006 00:00</td>\n",
       "      <td>NaN</td>\n",
       "      <td>ug/m3</td>\n",
       "      <td>R</td>\n",
       "    </tr>\n",
       "    <tr>\n",
       "      <td>47</td>\n",
       "      <td>CT3</td>\n",
       "      <td>PM10</td>\n",
       "      <td>17/02/2006 00:00</td>\n",
       "      <td>NaN</td>\n",
       "      <td>ug/m3</td>\n",
       "      <td>R</td>\n",
       "    </tr>\n",
       "    <tr>\n",
       "      <td>48</td>\n",
       "      <td>CT3</td>\n",
       "      <td>PM10</td>\n",
       "      <td>18/02/2006 00:00</td>\n",
       "      <td>NaN</td>\n",
       "      <td>ug/m3</td>\n",
       "      <td>R</td>\n",
       "    </tr>\n",
       "    <tr>\n",
       "      <td>49</td>\n",
       "      <td>CT3</td>\n",
       "      <td>PM10</td>\n",
       "      <td>19/02/2006 00:00</td>\n",
       "      <td>NaN</td>\n",
       "      <td>ug/m3</td>\n",
       "      <td>R</td>\n",
       "    </tr>\n",
       "    <tr>\n",
       "      <td>50</td>\n",
       "      <td>CT3</td>\n",
       "      <td>PM10</td>\n",
       "      <td>20/02/2006 00:00</td>\n",
       "      <td>NaN</td>\n",
       "      <td>ug/m3</td>\n",
       "      <td>R</td>\n",
       "    </tr>\n",
       "    <tr>\n",
       "      <td>...</td>\n",
       "      <td>...</td>\n",
       "      <td>...</td>\n",
       "      <td>...</td>\n",
       "      <td>...</td>\n",
       "      <td>...</td>\n",
       "      <td>...</td>\n",
       "    </tr>\n",
       "    <tr>\n",
       "      <td>29941</td>\n",
       "      <td>EN4</td>\n",
       "      <td>PM10</td>\n",
       "      <td>27/08/2019 00:00</td>\n",
       "      <td>NaN</td>\n",
       "      <td>ug/m3</td>\n",
       "      <td>P</td>\n",
       "    </tr>\n",
       "    <tr>\n",
       "      <td>29942</td>\n",
       "      <td>EN4</td>\n",
       "      <td>PM10</td>\n",
       "      <td>28/08/2019 00:00</td>\n",
       "      <td>NaN</td>\n",
       "      <td>ug/m3</td>\n",
       "      <td>P</td>\n",
       "    </tr>\n",
       "    <tr>\n",
       "      <td>29943</td>\n",
       "      <td>EN4</td>\n",
       "      <td>PM10</td>\n",
       "      <td>29/08/2019 00:00</td>\n",
       "      <td>NaN</td>\n",
       "      <td>ug/m3</td>\n",
       "      <td>P</td>\n",
       "    </tr>\n",
       "    <tr>\n",
       "      <td>29944</td>\n",
       "      <td>EN4</td>\n",
       "      <td>PM10</td>\n",
       "      <td>30/08/2019 00:00</td>\n",
       "      <td>NaN</td>\n",
       "      <td>ug/m3</td>\n",
       "      <td>P</td>\n",
       "    </tr>\n",
       "    <tr>\n",
       "      <td>29945</td>\n",
       "      <td>EN4</td>\n",
       "      <td>PM10</td>\n",
       "      <td>31/08/2019 00:00</td>\n",
       "      <td>NaN</td>\n",
       "      <td>ug/m3</td>\n",
       "      <td>P</td>\n",
       "    </tr>\n",
       "  </tbody>\n",
       "</table>\n",
       "<p>4622 rows × 6 columns</p>\n",
       "</div>"
      ],
      "text/plain": [
       "      Site Species   ReadingDateTime  Value  Units Provisional or Ratified\n",
       "46     CT3    PM10  16/02/2006 00:00    NaN  ug/m3                       R\n",
       "47     CT3    PM10  17/02/2006 00:00    NaN  ug/m3                       R\n",
       "48     CT3    PM10  18/02/2006 00:00    NaN  ug/m3                       R\n",
       "49     CT3    PM10  19/02/2006 00:00    NaN  ug/m3                       R\n",
       "50     CT3    PM10  20/02/2006 00:00    NaN  ug/m3                       R\n",
       "...    ...     ...               ...    ...    ...                     ...\n",
       "29941  EN4    PM10  27/08/2019 00:00    NaN  ug/m3                       P\n",
       "29942  EN4    PM10  28/08/2019 00:00    NaN  ug/m3                       P\n",
       "29943  EN4    PM10  29/08/2019 00:00    NaN  ug/m3                       P\n",
       "29944  EN4    PM10  30/08/2019 00:00    NaN  ug/m3                       P\n",
       "29945  EN4    PM10  31/08/2019 00:00    NaN  ug/m3                       P\n",
       "\n",
       "[4622 rows x 6 columns]"
      ]
     },
     "execution_count": 76,
     "metadata": {},
     "output_type": "execute_result"
    }
   ],
   "source": [
    "df_pm10.loc[df_pm10.Value.isna()]\n",
    "# given that we have ~4600 NaN values amongst nearly 30k values, we can drop them"
   ]
  },
  {
   "cell_type": "code",
   "execution_count": 78,
   "metadata": {},
   "outputs": [],
   "source": [
    "df_pm10 = df_pm10.dropna()"
   ]
  },
  {
   "cell_type": "code",
   "execution_count": 79,
   "metadata": {},
   "outputs": [
    {
     "data": {
      "text/html": [
       "<div>\n",
       "<style scoped>\n",
       "    .dataframe tbody tr th:only-of-type {\n",
       "        vertical-align: middle;\n",
       "    }\n",
       "\n",
       "    .dataframe tbody tr th {\n",
       "        vertical-align: top;\n",
       "    }\n",
       "\n",
       "    .dataframe thead th {\n",
       "        text-align: right;\n",
       "    }\n",
       "</style>\n",
       "<table border=\"1\" class=\"dataframe\">\n",
       "  <thead>\n",
       "    <tr style=\"text-align: right;\">\n",
       "      <th></th>\n",
       "      <th>Site</th>\n",
       "      <th>Species</th>\n",
       "      <th>ReadingDateTime</th>\n",
       "      <th>Value</th>\n",
       "      <th>Units</th>\n",
       "      <th>Provisional or Ratified</th>\n",
       "    </tr>\n",
       "  </thead>\n",
       "  <tbody>\n",
       "  </tbody>\n",
       "</table>\n",
       "</div>"
      ],
      "text/plain": [
       "Empty DataFrame\n",
       "Columns: [Site, Species, ReadingDateTime, Value, Units, Provisional or Ratified]\n",
       "Index: []"
      ]
     },
     "execution_count": 79,
     "metadata": {},
     "output_type": "execute_result"
    }
   ],
   "source": [
    "df_pm10.loc[df_pm10.Value.isna()]\n"
   ]
  },
  {
   "cell_type": "code",
   "execution_count": 80,
   "metadata": {},
   "outputs": [
    {
     "data": {
      "text/html": [
       "<div>\n",
       "<style scoped>\n",
       "    .dataframe tbody tr th:only-of-type {\n",
       "        vertical-align: middle;\n",
       "    }\n",
       "\n",
       "    .dataframe tbody tr th {\n",
       "        vertical-align: top;\n",
       "    }\n",
       "\n",
       "    .dataframe thead th {\n",
       "        text-align: right;\n",
       "    }\n",
       "</style>\n",
       "<table border=\"1\" class=\"dataframe\">\n",
       "  <thead>\n",
       "    <tr style=\"text-align: right;\">\n",
       "      <th></th>\n",
       "      <th>Site</th>\n",
       "      <th>Species</th>\n",
       "      <th>ReadingDateTime</th>\n",
       "      <th>Value</th>\n",
       "      <th>Units</th>\n",
       "      <th>Provisional or Ratified</th>\n",
       "    </tr>\n",
       "  </thead>\n",
       "  <tbody>\n",
       "    <tr>\n",
       "      <td>0</td>\n",
       "      <td>CT3</td>\n",
       "      <td>PM10</td>\n",
       "      <td>2006-01-01</td>\n",
       "      <td>7.0</td>\n",
       "      <td>ug/m3</td>\n",
       "      <td>R</td>\n",
       "    </tr>\n",
       "    <tr>\n",
       "      <td>1</td>\n",
       "      <td>CT3</td>\n",
       "      <td>PM10</td>\n",
       "      <td>2006-02-01</td>\n",
       "      <td>14.0</td>\n",
       "      <td>ug/m3</td>\n",
       "      <td>R</td>\n",
       "    </tr>\n",
       "    <tr>\n",
       "      <td>2</td>\n",
       "      <td>CT3</td>\n",
       "      <td>PM10</td>\n",
       "      <td>2006-03-01</td>\n",
       "      <td>19.0</td>\n",
       "      <td>ug/m3</td>\n",
       "      <td>R</td>\n",
       "    </tr>\n",
       "    <tr>\n",
       "      <td>3</td>\n",
       "      <td>CT3</td>\n",
       "      <td>PM10</td>\n",
       "      <td>2006-04-01</td>\n",
       "      <td>18.0</td>\n",
       "      <td>ug/m3</td>\n",
       "      <td>R</td>\n",
       "    </tr>\n",
       "    <tr>\n",
       "      <td>4</td>\n",
       "      <td>CT3</td>\n",
       "      <td>PM10</td>\n",
       "      <td>2006-05-01</td>\n",
       "      <td>20.0</td>\n",
       "      <td>ug/m3</td>\n",
       "      <td>R</td>\n",
       "    </tr>\n",
       "  </tbody>\n",
       "</table>\n",
       "</div>"
      ],
      "text/plain": [
       "  Site Species ReadingDateTime  Value  Units Provisional or Ratified\n",
       "0  CT3    PM10      2006-01-01    7.0  ug/m3                       R\n",
       "1  CT3    PM10      2006-02-01   14.0  ug/m3                       R\n",
       "2  CT3    PM10      2006-03-01   19.0  ug/m3                       R\n",
       "3  CT3    PM10      2006-04-01   18.0  ug/m3                       R\n",
       "4  CT3    PM10      2006-05-01   20.0  ug/m3                       R"
      ]
     },
     "execution_count": 80,
     "metadata": {},
     "output_type": "execute_result"
    }
   ],
   "source": [
    "df_pm10.ReadingDateTime = pd.to_datetime(df_pm10.ReadingDateTime)\n",
    "df_pm10.head()"
   ]
  },
  {
   "cell_type": "code",
   "execution_count": 81,
   "metadata": {},
   "outputs": [
    {
     "data": {
      "text/html": [
       "<div>\n",
       "<style scoped>\n",
       "    .dataframe tbody tr th:only-of-type {\n",
       "        vertical-align: middle;\n",
       "    }\n",
       "\n",
       "    .dataframe tbody tr th {\n",
       "        vertical-align: top;\n",
       "    }\n",
       "\n",
       "    .dataframe thead th {\n",
       "        text-align: right;\n",
       "    }\n",
       "</style>\n",
       "<table border=\"1\" class=\"dataframe\">\n",
       "  <thead>\n",
       "    <tr style=\"text-align: right;\">\n",
       "      <th></th>\n",
       "      <th>Site</th>\n",
       "      <th>Species</th>\n",
       "      <th>ReadingDateTime</th>\n",
       "      <th>Value</th>\n",
       "      <th>Units</th>\n",
       "      <th>Provisional or Ratified</th>\n",
       "      <th>Year</th>\n",
       "    </tr>\n",
       "  </thead>\n",
       "  <tbody>\n",
       "    <tr>\n",
       "      <td>0</td>\n",
       "      <td>CT3</td>\n",
       "      <td>PM10</td>\n",
       "      <td>2006-01-01</td>\n",
       "      <td>7.0</td>\n",
       "      <td>ug/m3</td>\n",
       "      <td>R</td>\n",
       "      <td>2006</td>\n",
       "    </tr>\n",
       "    <tr>\n",
       "      <td>1</td>\n",
       "      <td>CT3</td>\n",
       "      <td>PM10</td>\n",
       "      <td>2006-02-01</td>\n",
       "      <td>14.0</td>\n",
       "      <td>ug/m3</td>\n",
       "      <td>R</td>\n",
       "      <td>2006</td>\n",
       "    </tr>\n",
       "    <tr>\n",
       "      <td>2</td>\n",
       "      <td>CT3</td>\n",
       "      <td>PM10</td>\n",
       "      <td>2006-03-01</td>\n",
       "      <td>19.0</td>\n",
       "      <td>ug/m3</td>\n",
       "      <td>R</td>\n",
       "      <td>2006</td>\n",
       "    </tr>\n",
       "    <tr>\n",
       "      <td>3</td>\n",
       "      <td>CT3</td>\n",
       "      <td>PM10</td>\n",
       "      <td>2006-04-01</td>\n",
       "      <td>18.0</td>\n",
       "      <td>ug/m3</td>\n",
       "      <td>R</td>\n",
       "      <td>2006</td>\n",
       "    </tr>\n",
       "    <tr>\n",
       "      <td>4</td>\n",
       "      <td>CT3</td>\n",
       "      <td>PM10</td>\n",
       "      <td>2006-05-01</td>\n",
       "      <td>20.0</td>\n",
       "      <td>ug/m3</td>\n",
       "      <td>R</td>\n",
       "      <td>2006</td>\n",
       "    </tr>\n",
       "  </tbody>\n",
       "</table>\n",
       "</div>"
      ],
      "text/plain": [
       "  Site Species ReadingDateTime  Value  Units Provisional or Ratified  Year\n",
       "0  CT3    PM10      2006-01-01    7.0  ug/m3                       R  2006\n",
       "1  CT3    PM10      2006-02-01   14.0  ug/m3                       R  2006\n",
       "2  CT3    PM10      2006-03-01   19.0  ug/m3                       R  2006\n",
       "3  CT3    PM10      2006-04-01   18.0  ug/m3                       R  2006\n",
       "4  CT3    PM10      2006-05-01   20.0  ug/m3                       R  2006"
      ]
     },
     "execution_count": 81,
     "metadata": {},
     "output_type": "execute_result"
    }
   ],
   "source": [
    "df_pm10['Year'] = df_pm10.ReadingDateTime.dt.year\n",
    "df_pm10.head()"
   ]
  },
  {
   "cell_type": "code",
   "execution_count": 82,
   "metadata": {},
   "outputs": [
    {
     "data": {
      "text/html": [
       "<div>\n",
       "<style scoped>\n",
       "    .dataframe tbody tr th:only-of-type {\n",
       "        vertical-align: middle;\n",
       "    }\n",
       "\n",
       "    .dataframe tbody tr th {\n",
       "        vertical-align: top;\n",
       "    }\n",
       "\n",
       "    .dataframe thead th {\n",
       "        text-align: right;\n",
       "    }\n",
       "</style>\n",
       "<table border=\"1\" class=\"dataframe\">\n",
       "  <thead>\n",
       "    <tr style=\"text-align: right;\">\n",
       "      <th></th>\n",
       "      <th>Value</th>\n",
       "      <th>Year</th>\n",
       "    </tr>\n",
       "  </thead>\n",
       "  <tbody>\n",
       "    <tr>\n",
       "      <td>0</td>\n",
       "      <td>7.0</td>\n",
       "      <td>2006</td>\n",
       "    </tr>\n",
       "    <tr>\n",
       "      <td>1</td>\n",
       "      <td>14.0</td>\n",
       "      <td>2006</td>\n",
       "    </tr>\n",
       "    <tr>\n",
       "      <td>2</td>\n",
       "      <td>19.0</td>\n",
       "      <td>2006</td>\n",
       "    </tr>\n",
       "    <tr>\n",
       "      <td>3</td>\n",
       "      <td>18.0</td>\n",
       "      <td>2006</td>\n",
       "    </tr>\n",
       "    <tr>\n",
       "      <td>4</td>\n",
       "      <td>20.0</td>\n",
       "      <td>2006</td>\n",
       "    </tr>\n",
       "  </tbody>\n",
       "</table>\n",
       "</div>"
      ],
      "text/plain": [
       "   Value  Year\n",
       "0    7.0  2006\n",
       "1   14.0  2006\n",
       "2   19.0  2006\n",
       "3   18.0  2006\n",
       "4   20.0  2006"
      ]
     },
     "execution_count": 82,
     "metadata": {},
     "output_type": "execute_result"
    }
   ],
   "source": [
    "# create new dataframe with only the value and year columns\n",
    "\n",
    "df_pm10_new = df_pm10.drop(['Site','Species','ReadingDateTime','Units','Provisional or Ratified'],axis=1)\n",
    "df_pm10_new.head()"
   ]
  },
  {
   "cell_type": "code",
   "execution_count": 83,
   "metadata": {},
   "outputs": [
    {
     "data": {
      "text/plain": [
       "<matplotlib.axes._subplots.AxesSubplot at 0x1a290334e0>"
      ]
     },
     "execution_count": 83,
     "metadata": {},
     "output_type": "execute_result"
    },
    {
     "data": {
      "image/png": "[encoded data removed]",
      "text/plain": [
       "<Figure size 432x288 with 1 Axes>"
      ]
     },
     "metadata": {},
     "output_type": "display_data"
    }
   ],
   "source": [
    "df_pm10_new['Year'].plot.hist()\n",
    "# given that the data across time is non-uniform, for unknown reasons, we'll be trying to select pre- and post-ULEZ \n",
    "# data from 2006,2010,2014 and 2018"
   ]
  },
  {
   "cell_type": "code",
   "execution_count": 84,
   "metadata": {},
   "outputs": [
    {
     "data": {
      "text/plain": [
       "<matplotlib.legend.Legend at 0x1a28dda710>"
      ]
     },
     "execution_count": 84,
     "metadata": {},
     "output_type": "execute_result"
    },
    {
     "data": {
      "image/png": "[encoded data removed]",
      "text/plain": [
       "<Figure size 720x504 with 1 Axes>"
      ]
     },
     "metadata": {},
     "output_type": "display_data"
    }
   ],
   "source": [
    "sns.set_color_codes('dark')\n",
    "sns.set(rc={'figure.figsize':(10,7)})\n",
    "sns.distplot(df_pm10_new.loc[df_pm10_new['Year']==2006]['Value'], color='magenta')\n",
    "sns.distplot(df_pm10_new.loc[df_pm10_new['Year']==2012]['Value'], color='cyan')\n",
    "sns.distplot(df_pm10_new.loc[df_pm10_new['Year']==2018]['Value'], color='grey')\n",
    "plt.legend(labels=['2006', '2012', '2018'])"
   ]
  },
  {
   "cell_type": "code",
   "execution_count": 85,
   "metadata": {},
   "outputs": [
    {
     "data": {
      "text/plain": [
       "<matplotlib.axes._subplots.AxesSubplot at 0x1a29f17390>"
      ]
     },
     "execution_count": 85,
     "metadata": {},
     "output_type": "execute_result"
    },
    {
     "data": {
      "image/png": "[encoded data removed]",
      "text/plain": [
       "<Figure size 720x504 with 1 Axes>"
      ]
     },
     "metadata": {},
     "output_type": "display_data"
    }
   ],
   "source": [
    "sns.distplot(df_pm10_new.loc[df_pm10_new['Year']==2019]['Value'])"
   ]
  },
  {
   "cell_type": "code",
   "execution_count": 88,
   "metadata": {},
   "outputs": [
    {
     "data": {
      "text/html": [
       "<div>\n",
       "<style scoped>\n",
       "    .dataframe tbody tr th:only-of-type {\n",
       "        vertical-align: middle;\n",
       "    }\n",
       "\n",
       "    .dataframe tbody tr th {\n",
       "        vertical-align: top;\n",
       "    }\n",
       "\n",
       "    .dataframe thead th {\n",
       "        text-align: right;\n",
       "    }\n",
       "</style>\n",
       "<table border=\"1\" class=\"dataframe\">\n",
       "  <thead>\n",
       "    <tr style=\"text-align: right;\">\n",
       "      <th></th>\n",
       "      <th>Site</th>\n",
       "      <th>Species</th>\n",
       "      <th>ReadingDateTime</th>\n",
       "      <th>Value</th>\n",
       "      <th>Units</th>\n",
       "      <th>Provisional or Ratified</th>\n",
       "      <th>Year</th>\n",
       "    </tr>\n",
       "  </thead>\n",
       "  <tbody>\n",
       "    <tr>\n",
       "      <td>0</td>\n",
       "      <td>CT3</td>\n",
       "      <td>PM10</td>\n",
       "      <td>2006-01-01</td>\n",
       "      <td>7.0</td>\n",
       "      <td>ug/m3</td>\n",
       "      <td>R</td>\n",
       "      <td>2006</td>\n",
       "    </tr>\n",
       "    <tr>\n",
       "      <td>1</td>\n",
       "      <td>CT3</td>\n",
       "      <td>PM10</td>\n",
       "      <td>2006-02-01</td>\n",
       "      <td>14.0</td>\n",
       "      <td>ug/m3</td>\n",
       "      <td>R</td>\n",
       "      <td>2006</td>\n",
       "    </tr>\n",
       "    <tr>\n",
       "      <td>2</td>\n",
       "      <td>CT3</td>\n",
       "      <td>PM10</td>\n",
       "      <td>2006-03-01</td>\n",
       "      <td>19.0</td>\n",
       "      <td>ug/m3</td>\n",
       "      <td>R</td>\n",
       "      <td>2006</td>\n",
       "    </tr>\n",
       "    <tr>\n",
       "      <td>3</td>\n",
       "      <td>CT3</td>\n",
       "      <td>PM10</td>\n",
       "      <td>2006-04-01</td>\n",
       "      <td>18.0</td>\n",
       "      <td>ug/m3</td>\n",
       "      <td>R</td>\n",
       "      <td>2006</td>\n",
       "    </tr>\n",
       "    <tr>\n",
       "      <td>4</td>\n",
       "      <td>CT3</td>\n",
       "      <td>PM10</td>\n",
       "      <td>2006-05-01</td>\n",
       "      <td>20.0</td>\n",
       "      <td>ug/m3</td>\n",
       "      <td>R</td>\n",
       "      <td>2006</td>\n",
       "    </tr>\n",
       "    <tr>\n",
       "      <td>5</td>\n",
       "      <td>CT3</td>\n",
       "      <td>PM10</td>\n",
       "      <td>2006-06-01</td>\n",
       "      <td>28.0</td>\n",
       "      <td>ug/m3</td>\n",
       "      <td>R</td>\n",
       "      <td>2006</td>\n",
       "    </tr>\n",
       "    <tr>\n",
       "      <td>6</td>\n",
       "      <td>CT3</td>\n",
       "      <td>PM10</td>\n",
       "      <td>2006-07-01</td>\n",
       "      <td>33.0</td>\n",
       "      <td>ug/m3</td>\n",
       "      <td>R</td>\n",
       "      <td>2006</td>\n",
       "    </tr>\n",
       "    <tr>\n",
       "      <td>7</td>\n",
       "      <td>CT3</td>\n",
       "      <td>PM10</td>\n",
       "      <td>2006-08-01</td>\n",
       "      <td>34.0</td>\n",
       "      <td>ug/m3</td>\n",
       "      <td>R</td>\n",
       "      <td>2006</td>\n",
       "    </tr>\n",
       "    <tr>\n",
       "      <td>8</td>\n",
       "      <td>CT3</td>\n",
       "      <td>PM10</td>\n",
       "      <td>2006-09-01</td>\n",
       "      <td>36.0</td>\n",
       "      <td>ug/m3</td>\n",
       "      <td>R</td>\n",
       "      <td>2006</td>\n",
       "    </tr>\n",
       "    <tr>\n",
       "      <td>9</td>\n",
       "      <td>CT3</td>\n",
       "      <td>PM10</td>\n",
       "      <td>2006-10-01</td>\n",
       "      <td>21.0</td>\n",
       "      <td>ug/m3</td>\n",
       "      <td>R</td>\n",
       "      <td>2006</td>\n",
       "    </tr>\n",
       "    <tr>\n",
       "      <td>10</td>\n",
       "      <td>CT3</td>\n",
       "      <td>PM10</td>\n",
       "      <td>2006-11-01</td>\n",
       "      <td>20.0</td>\n",
       "      <td>ug/m3</td>\n",
       "      <td>R</td>\n",
       "      <td>2006</td>\n",
       "    </tr>\n",
       "    <tr>\n",
       "      <td>11</td>\n",
       "      <td>CT3</td>\n",
       "      <td>PM10</td>\n",
       "      <td>2006-12-01</td>\n",
       "      <td>25.0</td>\n",
       "      <td>ug/m3</td>\n",
       "      <td>R</td>\n",
       "      <td>2006</td>\n",
       "    </tr>\n",
       "    <tr>\n",
       "      <td>12</td>\n",
       "      <td>CT3</td>\n",
       "      <td>PM10</td>\n",
       "      <td>2006-01-13</td>\n",
       "      <td>20.0</td>\n",
       "      <td>ug/m3</td>\n",
       "      <td>R</td>\n",
       "      <td>2006</td>\n",
       "    </tr>\n",
       "    <tr>\n",
       "      <td>13</td>\n",
       "      <td>CT3</td>\n",
       "      <td>PM10</td>\n",
       "      <td>2006-01-14</td>\n",
       "      <td>31.0</td>\n",
       "      <td>ug/m3</td>\n",
       "      <td>R</td>\n",
       "      <td>2006</td>\n",
       "    </tr>\n",
       "    <tr>\n",
       "      <td>14</td>\n",
       "      <td>CT3</td>\n",
       "      <td>PM10</td>\n",
       "      <td>2006-01-15</td>\n",
       "      <td>28.0</td>\n",
       "      <td>ug/m3</td>\n",
       "      <td>R</td>\n",
       "      <td>2006</td>\n",
       "    </tr>\n",
       "    <tr>\n",
       "      <td>15</td>\n",
       "      <td>CT3</td>\n",
       "      <td>PM10</td>\n",
       "      <td>2006-01-16</td>\n",
       "      <td>22.0</td>\n",
       "      <td>ug/m3</td>\n",
       "      <td>R</td>\n",
       "      <td>2006</td>\n",
       "    </tr>\n",
       "    <tr>\n",
       "      <td>16</td>\n",
       "      <td>CT3</td>\n",
       "      <td>PM10</td>\n",
       "      <td>2006-01-17</td>\n",
       "      <td>14.0</td>\n",
       "      <td>ug/m3</td>\n",
       "      <td>R</td>\n",
       "      <td>2006</td>\n",
       "    </tr>\n",
       "    <tr>\n",
       "      <td>17</td>\n",
       "      <td>CT3</td>\n",
       "      <td>PM10</td>\n",
       "      <td>2006-01-18</td>\n",
       "      <td>15.0</td>\n",
       "      <td>ug/m3</td>\n",
       "      <td>R</td>\n",
       "      <td>2006</td>\n",
       "    </tr>\n",
       "    <tr>\n",
       "      <td>18</td>\n",
       "      <td>CT3</td>\n",
       "      <td>PM10</td>\n",
       "      <td>2006-01-19</td>\n",
       "      <td>19.0</td>\n",
       "      <td>ug/m3</td>\n",
       "      <td>R</td>\n",
       "      <td>2006</td>\n",
       "    </tr>\n",
       "    <tr>\n",
       "      <td>19</td>\n",
       "      <td>CT3</td>\n",
       "      <td>PM10</td>\n",
       "      <td>2006-01-20</td>\n",
       "      <td>14.0</td>\n",
       "      <td>ug/m3</td>\n",
       "      <td>R</td>\n",
       "      <td>2006</td>\n",
       "    </tr>\n",
       "  </tbody>\n",
       "</table>\n",
       "</div>"
      ],
      "text/plain": [
       "   Site Species ReadingDateTime  Value  Units Provisional or Ratified  Year\n",
       "0   CT3    PM10      2006-01-01    7.0  ug/m3                       R  2006\n",
       "1   CT3    PM10      2006-02-01   14.0  ug/m3                       R  2006\n",
       "2   CT3    PM10      2006-03-01   19.0  ug/m3                       R  2006\n",
       "3   CT3    PM10      2006-04-01   18.0  ug/m3                       R  2006\n",
       "4   CT3    PM10      2006-05-01   20.0  ug/m3                       R  2006\n",
       "5   CT3    PM10      2006-06-01   28.0  ug/m3                       R  2006\n",
       "6   CT3    PM10      2006-07-01   33.0  ug/m3                       R  2006\n",
       "7   CT3    PM10      2006-08-01   34.0  ug/m3                       R  2006\n",
       "8   CT3    PM10      2006-09-01   36.0  ug/m3                       R  2006\n",
       "9   CT3    PM10      2006-10-01   21.0  ug/m3                       R  2006\n",
       "10  CT3    PM10      2006-11-01   20.0  ug/m3                       R  2006\n",
       "11  CT3    PM10      2006-12-01   25.0  ug/m3                       R  2006\n",
       "12  CT3    PM10      2006-01-13   20.0  ug/m3                       R  2006\n",
       "13  CT3    PM10      2006-01-14   31.0  ug/m3                       R  2006\n",
       "14  CT3    PM10      2006-01-15   28.0  ug/m3                       R  2006\n",
       "15  CT3    PM10      2006-01-16   22.0  ug/m3                       R  2006\n",
       "16  CT3    PM10      2006-01-17   14.0  ug/m3                       R  2006\n",
       "17  CT3    PM10      2006-01-18   15.0  ug/m3                       R  2006\n",
       "18  CT3    PM10      2006-01-19   19.0  ug/m3                       R  2006\n",
       "19  CT3    PM10      2006-01-20   14.0  ug/m3                       R  2006"
      ]
     },
     "execution_count": 88,
     "metadata": {},
     "output_type": "execute_result"
    }
   ],
   "source": [
    "df_pm10.head(20)"
   ]
  },
  {
   "cell_type": "code",
   "execution_count": 90,
   "metadata": {},
   "outputs": [
    {
     "data": {
      "text/html": [
       "<div>\n",
       "<style scoped>\n",
       "    .dataframe tbody tr th:only-of-type {\n",
       "        vertical-align: middle;\n",
       "    }\n",
       "\n",
       "    .dataframe tbody tr th {\n",
       "        vertical-align: top;\n",
       "    }\n",
       "\n",
       "    .dataframe thead th {\n",
       "        text-align: right;\n",
       "    }\n",
       "</style>\n",
       "<table border=\"1\" class=\"dataframe\">\n",
       "  <thead>\n",
       "    <tr style=\"text-align: right;\">\n",
       "      <th></th>\n",
       "      <th>Site</th>\n",
       "      <th>Species</th>\n",
       "      <th>ReadingDateTime</th>\n",
       "      <th>Value</th>\n",
       "      <th>Units</th>\n",
       "      <th>Provisional or Ratified</th>\n",
       "      <th>Year</th>\n",
       "      <th>Month</th>\n",
       "    </tr>\n",
       "  </thead>\n",
       "  <tbody>\n",
       "    <tr>\n",
       "      <td>0</td>\n",
       "      <td>CT3</td>\n",
       "      <td>PM10</td>\n",
       "      <td>2006-01-01</td>\n",
       "      <td>7.0</td>\n",
       "      <td>ug/m3</td>\n",
       "      <td>R</td>\n",
       "      <td>2006</td>\n",
       "      <td>1</td>\n",
       "    </tr>\n",
       "    <tr>\n",
       "      <td>1</td>\n",
       "      <td>CT3</td>\n",
       "      <td>PM10</td>\n",
       "      <td>2006-02-01</td>\n",
       "      <td>14.0</td>\n",
       "      <td>ug/m3</td>\n",
       "      <td>R</td>\n",
       "      <td>2006</td>\n",
       "      <td>2</td>\n",
       "    </tr>\n",
       "    <tr>\n",
       "      <td>2</td>\n",
       "      <td>CT3</td>\n",
       "      <td>PM10</td>\n",
       "      <td>2006-03-01</td>\n",
       "      <td>19.0</td>\n",
       "      <td>ug/m3</td>\n",
       "      <td>R</td>\n",
       "      <td>2006</td>\n",
       "      <td>3</td>\n",
       "    </tr>\n",
       "    <tr>\n",
       "      <td>3</td>\n",
       "      <td>CT3</td>\n",
       "      <td>PM10</td>\n",
       "      <td>2006-04-01</td>\n",
       "      <td>18.0</td>\n",
       "      <td>ug/m3</td>\n",
       "      <td>R</td>\n",
       "      <td>2006</td>\n",
       "      <td>4</td>\n",
       "    </tr>\n",
       "    <tr>\n",
       "      <td>4</td>\n",
       "      <td>CT3</td>\n",
       "      <td>PM10</td>\n",
       "      <td>2006-05-01</td>\n",
       "      <td>20.0</td>\n",
       "      <td>ug/m3</td>\n",
       "      <td>R</td>\n",
       "      <td>2006</td>\n",
       "      <td>5</td>\n",
       "    </tr>\n",
       "    <tr>\n",
       "      <td>...</td>\n",
       "      <td>...</td>\n",
       "      <td>...</td>\n",
       "      <td>...</td>\n",
       "      <td>...</td>\n",
       "      <td>...</td>\n",
       "      <td>...</td>\n",
       "      <td>...</td>\n",
       "      <td>...</td>\n",
       "    </tr>\n",
       "    <tr>\n",
       "      <td>28671</td>\n",
       "      <td>EN4</td>\n",
       "      <td>PM10</td>\n",
       "      <td>2016-05-03</td>\n",
       "      <td>25.8</td>\n",
       "      <td>ug/m3</td>\n",
       "      <td>R</td>\n",
       "      <td>2016</td>\n",
       "      <td>5</td>\n",
       "    </tr>\n",
       "    <tr>\n",
       "      <td>28672</td>\n",
       "      <td>EN4</td>\n",
       "      <td>PM10</td>\n",
       "      <td>2016-06-03</td>\n",
       "      <td>26.4</td>\n",
       "      <td>ug/m3</td>\n",
       "      <td>R</td>\n",
       "      <td>2016</td>\n",
       "      <td>6</td>\n",
       "    </tr>\n",
       "    <tr>\n",
       "      <td>28673</td>\n",
       "      <td>EN4</td>\n",
       "      <td>PM10</td>\n",
       "      <td>2016-07-03</td>\n",
       "      <td>30.2</td>\n",
       "      <td>ug/m3</td>\n",
       "      <td>R</td>\n",
       "      <td>2016</td>\n",
       "      <td>7</td>\n",
       "    </tr>\n",
       "    <tr>\n",
       "      <td>28674</td>\n",
       "      <td>EN4</td>\n",
       "      <td>PM10</td>\n",
       "      <td>2016-08-03</td>\n",
       "      <td>34.9</td>\n",
       "      <td>ug/m3</td>\n",
       "      <td>R</td>\n",
       "      <td>2016</td>\n",
       "      <td>8</td>\n",
       "    </tr>\n",
       "    <tr>\n",
       "      <td>28675</td>\n",
       "      <td>EN4</td>\n",
       "      <td>PM10</td>\n",
       "      <td>2016-09-03</td>\n",
       "      <td>30.6</td>\n",
       "      <td>ug/m3</td>\n",
       "      <td>R</td>\n",
       "      <td>2016</td>\n",
       "      <td>9</td>\n",
       "    </tr>\n",
       "  </tbody>\n",
       "</table>\n",
       "<p>25324 rows × 8 columns</p>\n",
       "</div>"
      ],
      "text/plain": [
       "      Site Species ReadingDateTime  Value  Units Provisional or Ratified  \\\n",
       "0      CT3    PM10      2006-01-01    7.0  ug/m3                       R   \n",
       "1      CT3    PM10      2006-02-01   14.0  ug/m3                       R   \n",
       "2      CT3    PM10      2006-03-01   19.0  ug/m3                       R   \n",
       "3      CT3    PM10      2006-04-01   18.0  ug/m3                       R   \n",
       "4      CT3    PM10      2006-05-01   20.0  ug/m3                       R   \n",
       "...    ...     ...             ...    ...    ...                     ...   \n",
       "28671  EN4    PM10      2016-05-03   25.8  ug/m3                       R   \n",
       "28672  EN4    PM10      2016-06-03   26.4  ug/m3                       R   \n",
       "28673  EN4    PM10      2016-07-03   30.2  ug/m3                       R   \n",
       "28674  EN4    PM10      2016-08-03   34.9  ug/m3                       R   \n",
       "28675  EN4    PM10      2016-09-03   30.6  ug/m3                       R   \n",
       "\n",
       "       Year  Month  \n",
       "0      2006      1  \n",
       "1      2006      2  \n",
       "2      2006      3  \n",
       "3      2006      4  \n",
       "4      2006      5  \n",
       "...     ...    ...  \n",
       "28671  2016      5  \n",
       "28672  2016      6  \n",
       "28673  2016      7  \n",
       "28674  2016      8  \n",
       "28675  2016      9  \n",
       "\n",
       "[25324 rows x 8 columns]"
      ]
     },
     "execution_count": 90,
     "metadata": {},
     "output_type": "execute_result"
    }
   ],
   "source": [
    "df_pm10['Month'] = df_pm10.ReadingDateTime.dt.month\n",
    "df_pm10"
   ]
  },
  {
   "cell_type": "code",
   "execution_count": 91,
   "metadata": {},
   "outputs": [
    {
     "data": {
      "text/html": [
       "<div>\n",
       "<style scoped>\n",
       "    .dataframe tbody tr th:only-of-type {\n",
       "        vertical-align: middle;\n",
       "    }\n",
       "\n",
       "    .dataframe tbody tr th {\n",
       "        vertical-align: top;\n",
       "    }\n",
       "\n",
       "    .dataframe thead th {\n",
       "        text-align: right;\n",
       "    }\n",
       "</style>\n",
       "<table border=\"1\" class=\"dataframe\">\n",
       "  <thead>\n",
       "    <tr style=\"text-align: right;\">\n",
       "      <th></th>\n",
       "      <th>Site</th>\n",
       "      <th>Species</th>\n",
       "      <th>ReadingDateTime</th>\n",
       "      <th>Value</th>\n",
       "      <th>Units</th>\n",
       "      <th>Provisional or Ratified</th>\n",
       "      <th>Year</th>\n",
       "      <th>Month</th>\n",
       "    </tr>\n",
       "  </thead>\n",
       "  <tbody>\n",
       "    <tr>\n",
       "      <td>0</td>\n",
       "      <td>CT3</td>\n",
       "      <td>NO2</td>\n",
       "      <td>2006-01-01</td>\n",
       "      <td>37.4</td>\n",
       "      <td>ug m-3</td>\n",
       "      <td>R</td>\n",
       "      <td>2006</td>\n",
       "      <td>1</td>\n",
       "    </tr>\n",
       "    <tr>\n",
       "      <td>1</td>\n",
       "      <td>CT3</td>\n",
       "      <td>NO2</td>\n",
       "      <td>2006-02-01</td>\n",
       "      <td>39.8</td>\n",
       "      <td>ug m-3</td>\n",
       "      <td>R</td>\n",
       "      <td>2006</td>\n",
       "      <td>2</td>\n",
       "    </tr>\n",
       "    <tr>\n",
       "      <td>2</td>\n",
       "      <td>CT3</td>\n",
       "      <td>NO2</td>\n",
       "      <td>2006-03-01</td>\n",
       "      <td>57.5</td>\n",
       "      <td>ug m-3</td>\n",
       "      <td>R</td>\n",
       "      <td>2006</td>\n",
       "      <td>3</td>\n",
       "    </tr>\n",
       "    <tr>\n",
       "      <td>3</td>\n",
       "      <td>CT3</td>\n",
       "      <td>NO2</td>\n",
       "      <td>2006-04-01</td>\n",
       "      <td>51.0</td>\n",
       "      <td>ug m-3</td>\n",
       "      <td>R</td>\n",
       "      <td>2006</td>\n",
       "      <td>4</td>\n",
       "    </tr>\n",
       "    <tr>\n",
       "      <td>4</td>\n",
       "      <td>CT3</td>\n",
       "      <td>NO2</td>\n",
       "      <td>2006-05-01</td>\n",
       "      <td>50.7</td>\n",
       "      <td>ug m-3</td>\n",
       "      <td>R</td>\n",
       "      <td>2006</td>\n",
       "      <td>5</td>\n",
       "    </tr>\n",
       "    <tr>\n",
       "      <td>...</td>\n",
       "      <td>...</td>\n",
       "      <td>...</td>\n",
       "      <td>...</td>\n",
       "      <td>...</td>\n",
       "      <td>...</td>\n",
       "      <td>...</td>\n",
       "      <td>...</td>\n",
       "      <td>...</td>\n",
       "    </tr>\n",
       "    <tr>\n",
       "      <td>29941</td>\n",
       "      <td>EN4</td>\n",
       "      <td>NO2</td>\n",
       "      <td>2019-08-27</td>\n",
       "      <td>45.3</td>\n",
       "      <td>ug m-3</td>\n",
       "      <td>P</td>\n",
       "      <td>2019</td>\n",
       "      <td>8</td>\n",
       "    </tr>\n",
       "    <tr>\n",
       "      <td>29942</td>\n",
       "      <td>EN4</td>\n",
       "      <td>NO2</td>\n",
       "      <td>2019-08-28</td>\n",
       "      <td>19.6</td>\n",
       "      <td>ug m-3</td>\n",
       "      <td>P</td>\n",
       "      <td>2019</td>\n",
       "      <td>8</td>\n",
       "    </tr>\n",
       "    <tr>\n",
       "      <td>29943</td>\n",
       "      <td>EN4</td>\n",
       "      <td>NO2</td>\n",
       "      <td>2019-08-29</td>\n",
       "      <td>21.9</td>\n",
       "      <td>ug m-3</td>\n",
       "      <td>P</td>\n",
       "      <td>2019</td>\n",
       "      <td>8</td>\n",
       "    </tr>\n",
       "    <tr>\n",
       "      <td>29944</td>\n",
       "      <td>EN4</td>\n",
       "      <td>NO2</td>\n",
       "      <td>2019-08-30</td>\n",
       "      <td>29.8</td>\n",
       "      <td>ug m-3</td>\n",
       "      <td>P</td>\n",
       "      <td>2019</td>\n",
       "      <td>8</td>\n",
       "    </tr>\n",
       "    <tr>\n",
       "      <td>29945</td>\n",
       "      <td>EN4</td>\n",
       "      <td>NO2</td>\n",
       "      <td>2019-08-31</td>\n",
       "      <td>29.8</td>\n",
       "      <td>ug m-3</td>\n",
       "      <td>P</td>\n",
       "      <td>2019</td>\n",
       "      <td>8</td>\n",
       "    </tr>\n",
       "  </tbody>\n",
       "</table>\n",
       "<p>27790 rows × 8 columns</p>\n",
       "</div>"
      ],
      "text/plain": [
       "      Site Species ReadingDateTime  Value   Units Provisional or Ratified  \\\n",
       "0      CT3     NO2      2006-01-01   37.4  ug m-3                       R   \n",
       "1      CT3     NO2      2006-02-01   39.8  ug m-3                       R   \n",
       "2      CT3     NO2      2006-03-01   57.5  ug m-3                       R   \n",
       "3      CT3     NO2      2006-04-01   51.0  ug m-3                       R   \n",
       "4      CT3     NO2      2006-05-01   50.7  ug m-3                       R   \n",
       "...    ...     ...             ...    ...     ...                     ...   \n",
       "29941  EN4     NO2      2019-08-27   45.3  ug m-3                       P   \n",
       "29942  EN4     NO2      2019-08-28   19.6  ug m-3                       P   \n",
       "29943  EN4     NO2      2019-08-29   21.9  ug m-3                       P   \n",
       "29944  EN4     NO2      2019-08-30   29.8  ug m-3                       P   \n",
       "29945  EN4     NO2      2019-08-31   29.8  ug m-3                       P   \n",
       "\n",
       "       Year  Month  \n",
       "0      2006      1  \n",
       "1      2006      2  \n",
       "2      2006      3  \n",
       "3      2006      4  \n",
       "4      2006      5  \n",
       "...     ...    ...  \n",
       "29941  2019      8  \n",
       "29942  2019      8  \n",
       "29943  2019      8  \n",
       "29944  2019      8  \n",
       "29945  2019      8  \n",
       "\n",
       "[27790 rows x 8 columns]"
      ]
     },
     "execution_count": 91,
     "metadata": {},
     "output_type": "execute_result"
    }
   ],
   "source": [
    "df_no2['Month'] = df_no2.ReadingDateTime.dt.month\n",
    "df_no2"
   ]
  },
  {
   "cell_type": "code",
   "execution_count": 142,
   "metadata": {},
   "outputs": [
    {
     "data": {
      "text/html": [
       "<div>\n",
       "<style scoped>\n",
       "    .dataframe tbody tr th:only-of-type {\n",
       "        vertical-align: middle;\n",
       "    }\n",
       "\n",
       "    .dataframe tbody tr th {\n",
       "        vertical-align: top;\n",
       "    }\n",
       "\n",
       "    .dataframe thead th {\n",
       "        text-align: right;\n",
       "    }\n",
       "</style>\n",
       "<table border=\"1\" class=\"dataframe\">\n",
       "  <thead>\n",
       "    <tr style=\"text-align: right;\">\n",
       "      <th></th>\n",
       "      <th>Site</th>\n",
       "      <th>Species</th>\n",
       "      <th>Value</th>\n",
       "      <th>Units</th>\n",
       "      <th>Year</th>\n",
       "      <th>Month</th>\n",
       "    </tr>\n",
       "  </thead>\n",
       "  <tbody>\n",
       "    <tr>\n",
       "      <td>4</td>\n",
       "      <td>CT3</td>\n",
       "      <td>NO2</td>\n",
       "      <td>50.7</td>\n",
       "      <td>ug m-3</td>\n",
       "      <td>2006</td>\n",
       "      <td>5</td>\n",
       "    </tr>\n",
       "    <tr>\n",
       "      <td>8</td>\n",
       "      <td>CT3</td>\n",
       "      <td>NO2</td>\n",
       "      <td>48.9</td>\n",
       "      <td>ug m-3</td>\n",
       "      <td>2006</td>\n",
       "      <td>9</td>\n",
       "    </tr>\n",
       "    <tr>\n",
       "      <td>35</td>\n",
       "      <td>CT3</td>\n",
       "      <td>NO2</td>\n",
       "      <td>71.1</td>\n",
       "      <td>ug m-3</td>\n",
       "      <td>2006</td>\n",
       "      <td>5</td>\n",
       "    </tr>\n",
       "    <tr>\n",
       "      <td>39</td>\n",
       "      <td>CT3</td>\n",
       "      <td>NO2</td>\n",
       "      <td>62.2</td>\n",
       "      <td>ug m-3</td>\n",
       "      <td>2006</td>\n",
       "      <td>9</td>\n",
       "    </tr>\n",
       "    <tr>\n",
       "      <td>63</td>\n",
       "      <td>CT3</td>\n",
       "      <td>NO2</td>\n",
       "      <td>68.0</td>\n",
       "      <td>ug m-3</td>\n",
       "      <td>2006</td>\n",
       "      <td>5</td>\n",
       "    </tr>\n",
       "  </tbody>\n",
       "</table>\n",
       "</div>"
      ],
      "text/plain": [
       "   Site Species  Value   Units  Year  Month\n",
       "4   CT3     NO2   50.7  ug m-3  2006      5\n",
       "8   CT3     NO2   48.9  ug m-3  2006      9\n",
       "35  CT3     NO2   71.1  ug m-3  2006      5\n",
       "39  CT3     NO2   62.2  ug m-3  2006      9\n",
       "63  CT3     NO2   68.0  ug m-3  2006      5"
      ]
     },
     "execution_count": 142,
     "metadata": {},
     "output_type": "execute_result"
    }
   ],
   "source": [
    "# For our comparison groups we will be selecting Sites, Species, Value, Units, Year and Month for May and Sep 2006 & 2009\n",
    "test_df_no2 = df_no2.loc[(df_no2.Month == 5)|(df_no2.Month == 9)].drop(columns=['ReadingDateTime','Provisional or Ratified'])\n",
    "test_df_pm10 = df_pm10.loc[(df_pm10.Month == 5)|(df_pm10.Month == 9)].drop(columns=['ReadingDateTime','Provisional or Ratified'])\n",
    "\n",
    "test_df_no2.head()"
   ]
  },
  {
   "cell_type": "code",
   "execution_count": 143,
   "metadata": {},
   "outputs": [
    {
     "data": {
      "text/plain": [
       "<matplotlib.axes._subplots.AxesSubplot at 0x1a2ca354a8>"
      ]
     },
     "execution_count": 143,
     "metadata": {},
     "output_type": "execute_result"
    },
    {
     "data": {
      "image/png": "[encoded data removed]",
      "text/plain": [
       "<Figure size 720x504 with 1 Axes>"
      ]
     },
     "metadata": {},
     "output_type": "display_data"
    }
   ],
   "source": [
    "sns.distplot(test_df_pm10.Value)"
   ]
  },
  {
   "cell_type": "code",
   "execution_count": 144,
   "metadata": {},
   "outputs": [
    {
     "data": {
      "text/plain": [
       "<matplotlib.axes._subplots.AxesSubplot at 0x1a2cbb1828>"
      ]
     },
     "execution_count": 144,
     "metadata": {},
     "output_type": "execute_result"
    },
    {
     "data": {
      "image/png": "[encoded data removed]",
      "text/plain": [
       "<Figure size 720x504 with 1 Axes>"
      ]
     },
     "metadata": {},
     "output_type": "display_data"
    }
   ],
   "source": [
    "sns.distplot(test_df_no2.Value)"
   ]
  },
  {
   "cell_type": "code",
   "execution_count": 145,
   "metadata": {},
   "outputs": [
    {
     "data": {
      "text/plain": [
       "4229"
      ]
     },
     "execution_count": 145,
     "metadata": {},
     "output_type": "execute_result"
    }
   ],
   "source": [
    "len(test_df_pm10)"
   ]
  },
  {
   "cell_type": "code",
   "execution_count": 146,
   "metadata": {},
   "outputs": [
    {
     "data": {
      "text/plain": [
       "4623"
      ]
     },
     "execution_count": 146,
     "metadata": {},
     "output_type": "execute_result"
    }
   ],
   "source": [
    "len(test_df_no2)"
   ]
  },
  {
   "cell_type": "code",
   "execution_count": 147,
   "metadata": {},
   "outputs": [
    {
     "data": {
      "text/plain": [
       "349"
      ]
     },
     "execution_count": 147,
     "metadata": {},
     "output_type": "execute_result"
    }
   ],
   "source": [
    "len(test_df_no2.loc[test_df_no2['Year']==2006])"
   ]
  },
  {
   "cell_type": "code",
   "execution_count": 148,
   "metadata": {},
   "outputs": [
    {
     "data": {
      "text/plain": [
       "332"
      ]
     },
     "execution_count": 148,
     "metadata": {},
     "output_type": "execute_result"
    }
   ],
   "source": [
    "len(test_df_no2.loc[test_df_no2['Year']==2009])"
   ]
  },
  {
   "cell_type": "code",
   "execution_count": 149,
   "metadata": {},
   "outputs": [],
   "source": [
    "# Now we make our testing samples below, for May and Oct 2006, 2009, for both the PM10 and the NO2 values. \n",
    "pre_lez_no2 = test_df_no2.loc[test_df_no2['Year']==2006]\n",
    "post_lez_no2 = test_df_no2.loc[test_df_no2['Year']==2009]\n",
    "\n",
    "pre_lez_pm10 = test_df_pm10.loc[test_df_pm10['Year']==2006]\n",
    "post_lez_pm10 = test_df_pm10.loc[test_df_pm10['Year']==2009]"
   ]
  },
  {
   "cell_type": "markdown",
   "metadata": {},
   "source": [
    "## Statistical Testing"
   ]
  },
  {
   "cell_type": "markdown",
   "metadata": {},
   "source": [
    "(Mina)\n",
    "\n",
    "1. The introducton of ULEZ (8th April 2019) decreased the amount of NOx in Zone 1 of Central London by at least 42%. \n",
    "[H0] - ULEZ reduced the amount of NOx in Zone 1 by less than 42%.\n",
    "2. The introduction of ULEZ was at least 25% more effective than the introduction of LEZ (4th February 2008) in reducing NOx levels in Central London.\n",
    "[H0] - The effect of ULEZ on NOx levels was less than 25% more than the impact of LEZ. \n",
    "\n",
    "(Ioana) \n",
    "3. The introducton of ULEZ decreased the amount of PM10 in Zone 1 of Central London by at least 33%. \n",
    "[H0] - ULEZ reduced the amount of PM10 in Zone 1 by less than 33%.\n",
    "4. The introduction of ULEZ was at least 25% more effective than the introduction of LEZ in reducing PM10 levels in Central London. \n",
    "[H0] - The effect of ULEZ on PM10 levels was less than 25% more than the impact of LEZ. \n",
    "\n",
    "Our alpha values are set at 0.05."
   ]
  },
  {
   "cell_type": "code",
   "execution_count": 150,
   "metadata": {},
   "outputs": [],
   "source": [
    "def sample_variance(sample):\n",
    "    return np.sum([(x - np.mean(sample))**2 for x in sample])/(len(sample)-1)\n",
    "\n",
    "def pooled_variance(sample1, sample2):\n",
    "    return ((len(sample1)-1)*sample_variance(sample1) + (len(sample2)-1)*sample_variance(sample2))/(len(sample1) + len(sample2) - 2)\n",
    "\n",
    "\n",
    "def visualize_t(t_stat, n_control, n_experimental):\n",
    "    df = len(n_experimental)-1\n",
    "    # initialize a matplotlib \"figure\"\n",
    "    fig = plt.figure(figsize=(15,10))\n",
    "    ax = fig.gca()\n",
    "    # generate points on the x axis between -4 and 4:\n",
    "    xs = np.linspace(-4,4,200)\n",
    "    # use stats.t.pdf to get values on the probability density function for the t-distribution\n",
    "    ys = stats.t.pdf(xs, df, 0, 1)\n",
    "    ax.plot(xs, ys, linewidth=3, color='darkblue')\n",
    "\n",
    "    # Draw two sided boundary for critical-t\n",
    "    ax.axvline(x=+t_stat, color='red', linestyle='--', lw=3,label='t-statistic_lower_bound')\n",
    "    ax.axvline(x=-t_stat, color='purple', linestyle='--', lw=3,label='t-statistic_upper_bound')\n",
    "    ax.legend()\n",
    "    plt.show()\n",
    "    return \n",
    "\n",
    "def Cohen_d(group1, group2):\n",
    "\n",
    "    diff = group1.mean() - group2.mean()\n",
    "    # Calculate the pooled threshold as shown earlier\n",
    "    pooled_var = pooled_variance(group1, group2)\n",
    "    \n",
    "    # Calculate Cohen's d statistic\n",
    "    d = diff / np.sqrt(pooled_var)\n",
    "    \n",
    "    return d\n",
    "\n",
    "\n",
    "def welch_t_test(sample1,sample2):\n",
    "    num = np.mean(sample1)-np.mean(sample2)\n",
    "    denom = np.sqrt((sample_variance(sample1)**2/len(sample1)) + (sample_variance(sample2)**2/len(sample2)))\n",
    "    return num/denom\n",
    " \n",
    "def welch_t(sample1, sample2):\n",
    "    numerator = np.mean(sample1) - np.mean(sample2)   \n",
    "    denominator = np.sqrt(np.var(sample1)/len(sample1) + np.var(sample2)/len(sample2))\n",
    "    return np.abs(numerator/denominator)    \n",
    "    \n",
    "def deg_of_freedom(sample1,sample2):\n",
    "    num = ((sample_variance(sample1)**2/len(sample1)) + (sample_variance(sample2)**2/len(sample2)))**2\n",
    "    denom = sample_variance(sample1)**4/((len(sample1)**2)*(len(sample1)-1)) + sample_variance(sample2)**4/((len(sample2)**2)*(len(sample2)-1))\n",
    "    return num/denom\n",
    "\n",
    "\n",
    "def welch_dof(sample1,sample2):\n",
    "    \n",
    "    \n",
    "    return num/denom\n",
    "              \n",
    "def p_val(t_stat, df):\n",
    "    return 1-stats.t.cdf(t_stat,df)"
   ]
  },
  {
   "cell_type": "code",
   "execution_count": 151,
   "metadata": {},
   "outputs": [
    {
     "data": {
      "text/plain": [
       "0.05129247253374236"
      ]
     },
     "execution_count": 151,
     "metadata": {},
     "output_type": "execute_result"
    }
   ],
   "source": [
    "p_val(welch_t(pre_lez_no2.Value, post_lez_no2.Value), deg_of_freedom(pre_lez_no2.Value, post_lez_no2.Value))"
   ]
  },
  {
   "cell_type": "code",
   "execution_count": 152,
   "metadata": {},
   "outputs": [
    {
     "data": {
      "text/plain": [
       "0.32359196260048106"
      ]
     },
     "execution_count": 152,
     "metadata": {},
     "output_type": "execute_result"
    }
   ],
   "source": [
    "p_val(welch_t(pre_lez_pm10.Value, post_lez_pm10.Value), deg_of_freedom(pre_lez_pm10.Value, post_lez_pm10.Value))"
   ]
  },
  {
   "cell_type": "code",
   "execution_count": 153,
   "metadata": {},
   "outputs": [
    {
     "data": {
      "text/plain": [
       "Ttest_indResult(statistic=-1.6313860143190506, pvalue=0.10327258459111915)"
      ]
     },
     "execution_count": 153,
     "metadata": {},
     "output_type": "execute_result"
    }
   ],
   "source": [
    "stats.ttest_ind(pre_lez_no2.Value, post_lez_no2.Value)"
   ]
  },
  {
   "cell_type": "markdown",
   "metadata": {},
   "source": [
    "Having conducted our statistical significance test for LEZ, we conclude that there was a significant impact on NO2 levels due to LEZ, but our p-value for the PM10 levels was so large that we cannot reject the null hypothesis that LEZ had no impact on PM10. Given that we're trying to compare ULEZ to LEZ impact, we will return to the PM10 levels once we have conducted our tests on the ULEZ dates"
   ]
  },
  {
   "cell_type": "code",
   "execution_count": 124,
   "metadata": {},
   "outputs": [],
   "source": [
    "pre_ulez_no2 = test_df_no2.loc[test_df_no2['Year']==2017]\n",
    "post_ulez_no2 = test_df_no2.loc[test_df_no2['Year']==2019]\n",
    "\n",
    "pre_ulez_pm10 = test_df_pm10.loc[test_df_pm10['Year']==2017]\n",
    "post_ulez_pm10 = test_df_pm10.loc[test_df_pm10['Year']==2019]"
   ]
  },
  {
   "cell_type": "code",
   "execution_count": 125,
   "metadata": {},
   "outputs": [
    {
     "data": {
      "text/plain": [
       "366"
      ]
     },
     "execution_count": 125,
     "metadata": {},
     "output_type": "execute_result"
    }
   ],
   "source": [
    "len(pre_ulez_no2)"
   ]
  },
  {
   "cell_type": "code",
   "execution_count": 126,
   "metadata": {},
   "outputs": [
    {
     "data": {
      "text/plain": [
       "168"
      ]
     },
     "execution_count": 126,
     "metadata": {},
     "output_type": "execute_result"
    }
   ],
   "source": [
    "len(post_ulez_no2)"
   ]
  },
  {
   "cell_type": "code",
   "execution_count": 127,
   "metadata": {},
   "outputs": [
    {
     "data": {
      "text/plain": [
       "302"
      ]
     },
     "execution_count": 127,
     "metadata": {},
     "output_type": "execute_result"
    }
   ],
   "source": [
    "len(pre_ulez_pm10)"
   ]
  },
  {
   "cell_type": "code",
   "execution_count": 128,
   "metadata": {},
   "outputs": [
    {
     "data": {
      "text/plain": [
       "126"
      ]
     },
     "execution_count": 128,
     "metadata": {},
     "output_type": "execute_result"
    }
   ],
   "source": [
    "len(post_ulez_pm10)"
   ]
  },
  {
   "cell_type": "code",
   "execution_count": null,
   "metadata": {},
   "outputs": [],
   "source": []
  }
 ],
 "metadata": {
  "kernelspec": {
   "display_name": "Python 3",
   "language": "python",
   "name": "python3"
  },
  "language_info": {
   "codemirror_mode": {
    "name": "ipython",
    "version": 3
   },
   "file_extension": ".py",
   "mimetype": "text/x-python",
   "name": "python",
   "nbconvert_exporter": "python",
   "pygments_lexer": "ipython3",
   "version": "3.6.9"
  }
 },
 "nbformat": 4,
 "nbformat_minor": 2
}
